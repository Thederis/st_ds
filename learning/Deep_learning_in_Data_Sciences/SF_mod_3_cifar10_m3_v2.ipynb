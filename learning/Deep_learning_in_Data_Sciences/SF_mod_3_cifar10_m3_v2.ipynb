{
  "nbformat": 4,
  "nbformat_minor": 0,
  "metadata": {
    "colab": {
      "provenance": []
    },
    "kernelspec": {
      "name": "python3",
      "display_name": "Python 3"
    },
    "accelerator": "GPU"
  },
  "cells": [
    {
      "cell_type": "markdown",
      "metadata": {
        "ExecuteTime": {
          "end_time": "2017-09-03T21:05:26.096298Z",
          "start_time": "2017-09-03T21:05:26.092498Z"
        },
        "id": "QqUJpyiXeS6R"
      },
      "source": [
        "# CIFAR-10 с трюками\n",
        "\n",
        "В этом задании мы продолжим работать с CIFAR-10, опробовав трюки, про которые мы узнали в 4 модуле.\n",
        "\n",
        "Датасет CIFAR-10 состоит из цветных картинок 32x32, разделенных на 10 классов:\n",
        "\n",
        "__airplane, automobile, bird, cat, deer, dog, frog, horse, ship, truck__"
      ]
    },
    {
      "cell_type": "markdown",
      "metadata": {
        "id": "2J7GNImieS6S"
      },
      "source": [
        "# Импорты"
      ]
    },
    {
      "cell_type": "code",
      "metadata": {
        "id": "eRPloRJDGBZA",
        "colab": {
          "base_uri": "https://localhost:8080/"
        },
        "outputId": "59c5686b-bf8b-4039-f128-34e4350f2e9d"
      },
      "source": [
        "!pip install -q tensorflow==2.1"
      ],
      "execution_count": 1,
      "outputs": [
        {
          "output_type": "stream",
          "name": "stdout",
          "text": [
            "\u001b[31mERROR: Could not find a version that satisfies the requirement tensorflow==2.1 (from versions: 2.8.0rc0, 2.8.0rc1, 2.8.0, 2.8.1, 2.8.2, 2.8.3, 2.8.4, 2.9.0rc0, 2.9.0rc1, 2.9.0rc2, 2.9.0, 2.9.1, 2.9.2, 2.9.3, 2.10.0rc0, 2.10.0rc1, 2.10.0rc2, 2.10.0rc3, 2.10.0, 2.10.1, 2.11.0rc0, 2.11.0rc1, 2.11.0rc2, 2.11.0, 2.11.1, 2.12.0rc0, 2.12.0rc1, 2.12.0, 2.12.1, 2.13.0rc0, 2.13.0rc1, 2.13.0rc2, 2.13.0, 2.13.1, 2.14.0rc0, 2.14.0rc1, 2.14.0, 2.14.1, 2.15.0rc0, 2.15.0rc1, 2.15.0, 2.15.0.post1)\u001b[0m\u001b[31m\n",
            "\u001b[0m\u001b[31mERROR: No matching distribution found for tensorflow==2.1\u001b[0m\u001b[31m\n",
            "\u001b[0m"
          ]
        }
      ]
    },
    {
      "cell_type": "code",
      "metadata": {
        "ExecuteTime": {
          "end_time": "2017-10-29T18:51:58.907479Z",
          "start_time": "2017-10-29T18:51:42.206537Z"
        },
        "scrolled": true,
        "id": "LQIUU8LdeS6d",
        "colab": {
          "base_uri": "https://localhost:8080/"
        },
        "outputId": "017d68cb-83aa-4e35-cd00-8c5ebe0bca84"
      },
      "source": [
        "import tensorflow as tf\n",
        "import keras\n",
        "import keras.models as M\n",
        "import keras.layers as L\n",
        "import keras.backend as K\n",
        "import numpy as np\n",
        "%matplotlib inline\n",
        "import matplotlib.pyplot as plt\n",
        "print(tf.__version__)\n",
        "print(keras.__version__)"
      ],
      "execution_count": 2,
      "outputs": [
        {
          "output_type": "stream",
          "name": "stdout",
          "text": [
            "2.15.0\n",
            "2.15.0\n"
          ]
        }
      ]
    },
    {
      "cell_type": "markdown",
      "metadata": {
        "id": "sGYhZCO9eS6m"
      },
      "source": [
        "# Загружаем данные"
      ]
    },
    {
      "cell_type": "code",
      "metadata": {
        "ExecuteTime": {
          "end_time": "2017-09-03T23:44:40.870302Z",
          "start_time": "2017-09-03T23:44:39.221603Z"
        },
        "id": "PGXgRLxxeS6n",
        "colab": {
          "base_uri": "https://localhost:8080/"
        },
        "outputId": "31ac7e4c-3f1d-48fd-a4d1-2f9f217211dc"
      },
      "source": [
        "from keras.datasets import cifar10\n",
        "(x_train, y_train), (x_test, y_test) = cifar10.load_data()"
      ],
      "execution_count": 3,
      "outputs": [
        {
          "output_type": "stream",
          "name": "stdout",
          "text": [
            "Downloading data from https://www.cs.toronto.edu/~kriz/cifar-10-python.tar.gz\n",
            "170498071/170498071 [==============================] - 14s 0us/step\n"
          ]
        }
      ]
    },
    {
      "cell_type": "code",
      "metadata": {
        "ExecuteTime": {
          "end_time": "2017-09-04T00:27:41.648291Z",
          "start_time": "2017-09-04T00:27:41.644322Z"
        },
        "id": "x7J3FtvBeS6r",
        "colab": {
          "base_uri": "https://localhost:8080/"
        },
        "outputId": "b7ff2046-f3df-4c27-f7bd-caf720050049"
      },
      "source": [
        "print(\"Трейн:\", x_train.shape, y_train.shape)\n",
        "print(\"Тест:\", x_test.shape, y_test.shape)"
      ],
      "execution_count": 4,
      "outputs": [
        {
          "output_type": "stream",
          "name": "stdout",
          "text": [
            "Трейн: (50000, 32, 32, 3) (50000, 1)\n",
            "Тест: (10000, 32, 32, 3) (10000, 1)\n"
          ]
        }
      ]
    },
    {
      "cell_type": "code",
      "metadata": {
        "ExecuteTime": {
          "end_time": "2017-09-03T23:44:41.009639Z",
          "start_time": "2017-09-03T23:44:40.877013Z"
        },
        "id": "kA2RHYeveS6u"
      },
      "source": [
        "NUM_CLASSES = 10\n",
        "cifar10_classes = [\"airplane\", \"automobile\", \"bird\", \"cat\", \"deer\",\n",
        "                   \"dog\", \"frog\", \"horse\", \"ship\", \"truck\"]"
      ],
      "execution_count": 5,
      "outputs": []
    },
    {
      "cell_type": "code",
      "source": [
        "y_train"
      ],
      "metadata": {
        "colab": {
          "base_uri": "https://localhost:8080/"
        },
        "id": "L_9v5OJvIvu9",
        "outputId": "9d91d861-4d7c-49dc-a855-71120568ea63"
      },
      "execution_count": 8,
      "outputs": [
        {
          "output_type": "execute_result",
          "data": {
            "text/plain": [
              "array([[6],\n",
              "       [9],\n",
              "       [9],\n",
              "       ...,\n",
              "       [9],\n",
              "       [1],\n",
              "       [1]], dtype=uint8)"
            ]
          },
          "metadata": {},
          "execution_count": 8
        }
      ]
    },
    {
      "cell_type": "code",
      "metadata": {
        "ExecuteTime": {
          "end_time": "2017-09-03T23:44:42.285830Z",
          "start_time": "2017-09-03T23:44:41.011216Z"
        },
        "id": "yfavHnQyeS6x",
        "colab": {
          "base_uri": "https://localhost:8080/",
          "height": 371
        },
        "outputId": "1426ebb1-6d9f-4db4-a2d0-e053ecee8155"
      },
      "source": [
        "# посмотрим на примеры картинок\n",
        "cols = 8\n",
        "rows = 2\n",
        "fig = plt.figure(figsize=(2 * cols - 1, 2.5 * rows - 1))\n",
        "for i in range(cols):\n",
        "    for j in range(rows):\n",
        "        random_index = np.random.randint(0, len(y_train))\n",
        "        ax = fig.add_subplot(rows, cols, i * rows + j + 1)\n",
        "        ax.grid('off')\n",
        "        ax.axis('off')\n",
        "        ax.imshow(x_train[random_index, :])\n",
        "        ax.set_title(cifar10_classes[y_train[random_index, 0]])\n",
        "plt.show()"
      ],
      "execution_count": 9,
      "outputs": [
        {
          "output_type": "display_data",
          "data": {
            "text/plain": [
              "<Figure size 1500x400 with 16 Axes>"
            ],
            "image/png": "[encoded data removed]"
          },
          "metadata": {}
        }
      ]
    },
    {
      "cell_type": "markdown",
      "metadata": {
        "id": "nKv-XBsneS61"
      },
      "source": [
        "# Готовим данные"
      ]
    },
    {
      "cell_type": "markdown",
      "metadata": {
        "id": "baNUrgH_eS61"
      },
      "source": [
        "Не забудьте нормализовать картинки: $$x_{norm} = \\frac{x}{255} - 0.5$$\n",
        "\n",
        "А еще нужно превратить метки в one-hot вектора при помощи __keras.utils.to_categorical__."
      ]
    },
    {
      "cell_type": "code",
      "metadata": {
        "ExecuteTime": {
          "end_time": "2017-09-04T00:25:55.504781Z",
          "start_time": "2017-09-04T00:25:55.500823Z"
        },
        "id": "ibxYQzBNeS62"
      },
      "source": [
        "# нормализуем входы (в результате получаем данные от -0.5 до +0.5)\n",
        "x_train2 = x_train.astype('float32') / 255 - 0.5\n",
        "x_test2 = x_test.astype('float32') / 255 - 0.5\n",
        "\n",
        "# конвертируем метки в np.array (?, NUM_CLASSES)\n",
        "y_train2 = keras.utils.to_categorical(y_train, NUM_CLASSES)\n",
        "y_test2 = keras.utils.to_categorical(y_test, NUM_CLASSES)"
      ],
      "execution_count": 11,
      "outputs": []
    },
    {
      "cell_type": "markdown",
      "metadata": {
        "id": "-HfEuXTOeS65"
      },
      "source": [
        "# Задаем *дефолтную* архитектуру сети"
      ]
    },
    {
      "cell_type": "code",
      "metadata": {
        "ExecuteTime": {
          "end_time": "2017-08-24T11:39:23.631230Z",
          "start_time": "2017-08-24T11:39:23.627975Z"
        },
        "id": "UbVJNxDweS66"
      },
      "source": [
        "# слои, которые нам пригодятся\n",
        "from keras.models import Sequential\n",
        "from keras.layers import Conv2D, MaxPooling2D, Flatten, Dense, Dropout, BatchNormalization"
      ],
      "execution_count": 12,
      "outputs": []
    },
    {
      "cell_type": "markdown",
      "metadata": {
        "id": "z-aSooUceS69"
      },
      "source": [
        "Нам понадобятся такие слои:\n",
        "- [Conv2D](https://keras.io/layers/convolutional/#conv2d) - сверточный слой:\n",
        "    - **filters**: количество фильтров на выходе;\n",
        "    - **kernel_size**: размер скользящего окна;\n",
        "    - **padding**: padding=\"same\" добивает нулями, чтобы ширина и высота на выходе не изменились, padding='valid' берет только окна, которые полностью помещаются в картинке;\n",
        "    - **activation**: \"relu\", \"tanh\", итд;\n",
        "    - **input_shape**: размер входа вида (W, H, C_in).\n",
        "- [MaxPooling2D](https://keras.io/layers/pooling/#maxpooling2d) - пулинг\n",
        "- [Flatten](https://keras.io/layers/core/#flatten) - все оси, кроме батча (первой) вытягиваются в один вектор.\n",
        "- [Dense](https://keras.io/layers/core/#dense) - плотный, активацию можно задать через activation=\"elu\" или activation=\"softmax\".\n",
        "- [Dropout](https://keras.io/layers/core/#dropout) - дропаут регуляризация (без нее сеть сильно переобучается), позже узнаем какой у нее смысл."
      ]
    },
    {
      "cell_type": "markdown",
      "metadata": {
        "ExecuteTime": {
          "end_time": "2017-09-03T23:48:59.567910Z",
          "start_time": "2017-09-03T23:48:59.564449Z"
        },
        "id": "ZArk-HgHeS69"
      },
      "source": [
        "Ваша модель должна принимать на вход цветную картинку __(None, 32, 32, 3)__ и предсказывать вероятности 10 классов __(None, 10)__.\n",
        "\n",
        "Добавьте __4__ сверточных слоя с окном __(3, 3)__ с нарастающим количеством фильтров: __(16, 32, 32, 64)__, используйте \"same\" паддинг.\n",
        "\n",
        "Добавьте __2x2__ макс пулинг после каждых 2 сверточных слоев (conv-conv-pool схема).\n",
        "\n",
        "Используйте __activation='relu'__ для всех слоев, где это нужно.\n",
        "\n",
        "Добавьте плотный слой из __256__ нейронов и еще один из __10__ нейронов для предсказания выходов. Не забудьте применить __Flatten__ перед первым плотным слоем!\n",
        "\n",
        "Для регуляризации сети вставьте Dropout после каждого пулинг слоя (с параметром** 0.25**) и между плотными слоями на выходе (с параметром **0.5**).\n",
        "\n",
        "В дальнейшем будем называть эту архитектуру **дефолтной** и будем исследовать небольшие изменения в ней!"
      ]
    },
    {
      "cell_type": "code",
      "metadata": {
        "ExecuteTime": {
          "end_time": "2017-08-24T11:39:23.739649Z",
          "start_time": "2017-08-24T11:39:23.632558Z"
        },
        "id": "KBdc7NJgeS6-"
      },
      "source": [
        "def make_default_model():\n",
        "    model = Sequential()\n",
        "    model.add(L.Conv2D(16, kernel_size=3, activation='relu', strides=1, padding='same', input_shape=(32, 32, 3)))\n",
        "    model.add(L.Conv2D(32, kernel_size=3, activation='relu', strides=1, padding='same'))\n",
        "    model.add(L.MaxPool2D())\n",
        "    model.add(L.Dropout(0.25))\n",
        "    model.add(L.Conv2D(32, kernel_size=3, activation='relu', strides=1, padding='same'))\n",
        "    model.add(L.Conv2D(64, kernel_size=3, activation='relu', strides=1, padding='same'))\n",
        "    model.add(L.MaxPool2D())\n",
        "    model.add(L.Dropout(0.25))\n",
        "    model.add(L.Flatten())\n",
        "    model.add(L.Dense(256, activation='softmax'))\n",
        "    model.add(L.Dropout(0.5))\n",
        "    model.add(L.Dense(10, activation='softmax'))\n",
        "\n",
        "    return model"
      ],
      "execution_count": 19,
      "outputs": []
    },
    {
      "cell_type": "code",
      "metadata": {
        "ExecuteTime": {
          "end_time": "2017-08-24T11:39:23.948546Z",
          "start_time": "2017-08-24T11:39:23.741012Z"
        },
        "id": "Ho-m53kLeS7A",
        "colab": {
          "base_uri": "https://localhost:8080/"
        },
        "outputId": "b787d973-dd85-4079-8a70-b78df65c2b5f"
      },
      "source": [
        "K.clear_session()\n",
        "model = make_default_model()\n",
        "model.summary()"
      ],
      "execution_count": 20,
      "outputs": [
        {
          "output_type": "stream",
          "name": "stdout",
          "text": [
            "Model: \"sequential\"\n",
            "_________________________________________________________________\n",
            " Layer (type)                Output Shape              Param #   \n",
            "=================================================================\n",
            " conv2d (Conv2D)             (None, 32, 32, 16)        448       \n",
            "                                                                 \n",
            " conv2d_1 (Conv2D)           (None, 32, 32, 32)        4640      \n",
            "                                                                 \n",
            " max_pooling2d (MaxPooling2  (None, 16, 16, 32)        0         \n",
            " D)                                                              \n",
            "                                                                 \n",
            " dropout (Dropout)           (None, 16, 16, 32)        0         \n",
            "                                                                 \n",
            " conv2d_2 (Conv2D)           (None, 16, 16, 32)        9248      \n",
            "                                                                 \n",
            " conv2d_3 (Conv2D)           (None, 16, 16, 64)        18496     \n",
            "                                                                 \n",
            " max_pooling2d_1 (MaxPoolin  (None, 8, 8, 64)          0         \n",
            " g2D)                                                            \n",
            "                                                                 \n",
            " dropout_1 (Dropout)         (None, 8, 8, 64)          0         \n",
            "                                                                 \n",
            " flatten (Flatten)           (None, 4096)              0         \n",
            "                                                                 \n",
            " dense (Dense)               (None, 256)               1048832   \n",
            "                                                                 \n",
            " dropout_2 (Dropout)         (None, 256)               0         \n",
            "                                                                 \n",
            " dense_1 (Dense)             (None, 10)                2570      \n",
            "                                                                 \n",
            "=================================================================\n",
            "Total params: 1084234 (4.14 MB)\n",
            "Trainable params: 1084234 (4.14 MB)\n",
            "Non-trainable params: 0 (0.00 Byte)\n",
            "_________________________________________________________________\n"
          ]
        }
      ]
    },
    {
      "cell_type": "markdown",
      "metadata": {
        "id": "H8IHeJHzeS7P"
      },
      "source": [
        "# Тренируем модель"
      ]
    },
    {
      "cell_type": "code",
      "metadata": {
        "ExecuteTime": {
          "end_time": "2017-08-24T12:18:39.059726Z",
          "start_time": "2017-08-24T11:39:23.949926Z"
        },
        "id": "Ko6qjH2HeS7Q"
      },
      "source": [
        "def train_model(make_model_func=make_default_model, optimizer=\"adam\"):\n",
        "  BATCH_SIZE = 32\n",
        "  EPOCHS = 10\n",
        "\n",
        "  K.clear_session()\n",
        "  model = make_model_func()\n",
        "\n",
        "  model.compile(\n",
        "      loss='categorical_crossentropy',\n",
        "      optimizer=optimizer,\n",
        "      metrics=['accuracy']\n",
        "  )\n",
        "\n",
        "  model.fit(\n",
        "      x_train2, y_train2,  # нормализованные данные\n",
        "      batch_size=BATCH_SIZE,\n",
        "      epochs=EPOCHS,\n",
        "      validation_data=(x_test2, y_test2),\n",
        "      shuffle=False\n",
        "  )\n",
        "\n",
        "  return model"
      ],
      "execution_count": 21,
      "outputs": []
    },
    {
      "cell_type": "markdown",
      "metadata": {
        "id": "1AkfrVmdA6AP"
      },
      "source": [
        "Давайте посмотрим, что будет с дефолтной моделью (модель = make_default_model, оптимайзер = \"adam\"), если ее немного поменять:\n",
        "\n",
        "\n",
        "Часть 1 :\n",
        "1.   Какое качество (accuracy) на валидации дает **дефолтная архитектура**?\n",
        "\n",
        "Часть 2:\n",
        "2.   Измените в дефолтной архитектуре **relu активацию на sigmoid**, какое качество на валидации получили?\n",
        "3.   Измените в дефолтной архитектуре **adam оптимайзер на sgd**, какое качество на валидации получили?\n",
        "4.   Добавьте к дефолтной архитектуре **батч нормализацию** после каждого сверточного слоя и после перового полносвязного (model.add(BatchNormalization())), какое качество на валидации получили?\n",
        "5.   Добавьте к дефолтной архитектуре **батч нормализацию** и смените **relu активацию на sigmoid**,  какое качество на валидации получили?\n",
        "  \n",
        "*Рекомендуется завести свою функцию для каждого изменения архитектуры!*\n"
      ]
    },
    {
      "cell_type": "markdown",
      "source": [
        "##Какое качество (accuracy) на валидации дает дефолтная архитектура?"
      ],
      "metadata": {
        "id": "xeprY2eJpuba"
      }
    },
    {
      "cell_type": "code",
      "metadata": {
        "id": "2zS3rW7S_D6j",
        "colab": {
          "base_uri": "https://localhost:8080/"
        },
        "outputId": "f95c66ae-11d9-42f5-8937-29ac186a83a1"
      },
      "source": [
        "# учим дефолтную архитектуру\n",
        "train_model()"
      ],
      "execution_count": 22,
      "outputs": [
        {
          "output_type": "stream",
          "name": "stdout",
          "text": [
            "Epoch 1/10\n",
            "1563/1563 [==============================] - 18s 7ms/step - loss: 2.2124 - accuracy: 0.1548 - val_loss: 2.1016 - val_accuracy: 0.2432\n",
            "Epoch 2/10\n",
            "1563/1563 [==============================] - 10s 7ms/step - loss: 2.0976 - accuracy: 0.1990 - val_loss: 1.9542 - val_accuracy: 0.3349\n",
            "Epoch 3/10\n",
            "1563/1563 [==============================] - 9s 6ms/step - loss: 1.9356 - accuracy: 0.3036 - val_loss: 1.7237 - val_accuracy: 0.4848\n",
            "Epoch 4/10\n",
            "1563/1563 [==============================] - 10s 6ms/step - loss: 1.7675 - accuracy: 0.3760 - val_loss: 1.5271 - val_accuracy: 0.5372\n",
            "Epoch 5/10\n",
            "1563/1563 [==============================] - 11s 7ms/step - loss: 1.6431 - accuracy: 0.4227 - val_loss: 1.3849 - val_accuracy: 0.5804\n",
            "Epoch 6/10\n",
            "1563/1563 [==============================] - 10s 6ms/step - loss: 1.5448 - accuracy: 0.4624 - val_loss: 1.2882 - val_accuracy: 0.6082\n",
            "Epoch 7/10\n",
            "1563/1563 [==============================] - 9s 6ms/step - loss: 1.4707 - accuracy: 0.4945 - val_loss: 1.2156 - val_accuracy: 0.6199\n",
            "Epoch 8/10\n",
            "1563/1563 [==============================] - 10s 6ms/step - loss: 1.4052 - accuracy: 0.5210 - val_loss: 1.1209 - val_accuracy: 0.6527\n",
            "Epoch 9/10\n",
            "1563/1563 [==============================] - 10s 6ms/step - loss: 1.3400 - accuracy: 0.5474 - val_loss: 1.0832 - val_accuracy: 0.6634\n",
            "Epoch 10/10\n",
            "1563/1563 [==============================] - 9s 6ms/step - loss: 1.3027 - accuracy: 0.5620 - val_loss: 1.0113 - val_accuracy: 0.6844\n"
          ]
        },
        {
          "output_type": "execute_result",
          "data": {
            "text/plain": [
              "<keras.src.engine.sequential.Sequential at 0x78ad78123fa0>"
            ]
          },
          "metadata": {},
          "execution_count": 22
        }
      ]
    },
    {
      "cell_type": "markdown",
      "source": [
        "##Измените в дефолтной архитектуре relu активацию на **sigmoid**, какое качество на валидации получили?"
      ],
      "metadata": {
        "id": "d0VjadG5pK-w"
      }
    },
    {
      "cell_type": "code",
      "metadata": {
        "id": "Ys7J_92qHYVN"
      },
      "source": [
        "def make_sigmoid_model():\n",
        "    model = Sequential()\n",
        "    model.add(L.Conv2D(16, kernel_size=3, activation='sigmoid', strides=1, padding='same', input_shape=(32, 32, 3)))\n",
        "    model.add(L.Conv2D(32, kernel_size=3, activation='sigmoid', strides=1, padding='same'))\n",
        "    model.add(L.MaxPool2D())\n",
        "    model.add(L.Dropout(0.25))\n",
        "    model.add(L.Conv2D(32, kernel_size=3, activation='sigmoid', strides=1, padding='same'))\n",
        "    model.add(L.Conv2D(64, kernel_size=3, activation='sigmoid', strides=1, padding='same'))\n",
        "    model.add(L.MaxPool2D())\n",
        "    model.add(L.Dropout(0.25))\n",
        "    model.add(L.Flatten())\n",
        "    model.add(L.Dense(256, activation='softmax'))\n",
        "    model.add(L.Dropout(0.5))\n",
        "    model.add(L.Dense(10, activation='softmax'))\n",
        "\n",
        "    return model"
      ],
      "execution_count": 23,
      "outputs": []
    },
    {
      "cell_type": "code",
      "metadata": {
        "id": "W9lWbYckHwnU",
        "colab": {
          "base_uri": "https://localhost:8080/"
        },
        "outputId": "f9c8561c-ba1c-4aab-d0fa-aff4201c24b7"
      },
      "source": [
        "# учим sigmoid\n",
        "train_model(make_sigmoid_model)"
      ],
      "execution_count": 24,
      "outputs": [
        {
          "output_type": "stream",
          "name": "stdout",
          "text": [
            "Epoch 1/10\n",
            "1563/1563 [==============================] - 12s 7ms/step - loss: 2.3037 - accuracy: 0.0992 - val_loss: 2.3027 - val_accuracy: 0.1000\n",
            "Epoch 2/10\n",
            "1563/1563 [==============================] - 10s 6ms/step - loss: 2.3030 - accuracy: 0.0980 - val_loss: 2.3027 - val_accuracy: 0.1000\n",
            "Epoch 3/10\n",
            "1563/1563 [==============================] - 10s 6ms/step - loss: 2.3030 - accuracy: 0.0960 - val_loss: 2.3027 - val_accuracy: 0.1000\n",
            "Epoch 4/10\n",
            "1563/1563 [==============================] - 10s 6ms/step - loss: 2.3029 - accuracy: 0.0997 - val_loss: 2.3028 - val_accuracy: 0.1000\n",
            "Epoch 5/10\n",
            "1563/1563 [==============================] - 10s 7ms/step - loss: 2.3031 - accuracy: 0.0954 - val_loss: 2.3027 - val_accuracy: 0.1000\n",
            "Epoch 6/10\n",
            "1563/1563 [==============================] - 12s 7ms/step - loss: 2.3030 - accuracy: 0.0970 - val_loss: 2.3027 - val_accuracy: 0.1000\n",
            "Epoch 7/10\n",
            "1563/1563 [==============================] - 10s 7ms/step - loss: 2.3030 - accuracy: 0.0968 - val_loss: 2.3028 - val_accuracy: 0.1000\n",
            "Epoch 8/10\n",
            "1563/1563 [==============================] - 9s 6ms/step - loss: 2.3030 - accuracy: 0.0969 - val_loss: 2.3027 - val_accuracy: 0.1000\n",
            "Epoch 9/10\n",
            "1563/1563 [==============================] - 9s 6ms/step - loss: 2.3030 - accuracy: 0.0991 - val_loss: 2.3027 - val_accuracy: 0.1000\n",
            "Epoch 10/10\n",
            "1563/1563 [==============================] - 10s 6ms/step - loss: 2.3031 - accuracy: 0.0944 - val_loss: 2.3027 - val_accuracy: 0.1000\n"
          ]
        },
        {
          "output_type": "execute_result",
          "data": {
            "text/plain": [
              "<keras.src.engine.sequential.Sequential at 0x78ae0daca380>"
            ]
          },
          "metadata": {},
          "execution_count": 24
        }
      ]
    },
    {
      "cell_type": "markdown",
      "source": [
        "##Измените в дефолтной архитектуре adam оптимайзер на **sgd**, какое качество на валидации получили?"
      ],
      "metadata": {
        "id": "KvC7ihy-pQt8"
      }
    },
    {
      "cell_type": "code",
      "metadata": {
        "id": "aIlCmlnNH7d1",
        "colab": {
          "base_uri": "https://localhost:8080/"
        },
        "outputId": "1868b0f7-61c2-4a2c-b3d8-b3453c153484"
      },
      "source": [
        "# учим sgd\n",
        "train_model(optimizer=\"sgd\")"
      ],
      "execution_count": 25,
      "outputs": [
        {
          "output_type": "stream",
          "name": "stdout",
          "text": [
            "Epoch 1/10\n",
            "1563/1563 [==============================] - 11s 6ms/step - loss: 2.3027 - accuracy: 0.0968 - val_loss: 2.3026 - val_accuracy: 0.1000\n",
            "Epoch 2/10\n",
            "1563/1563 [==============================] - 9s 6ms/step - loss: 2.3027 - accuracy: 0.0955 - val_loss: 2.3026 - val_accuracy: 0.1000\n",
            "Epoch 3/10\n",
            "1563/1563 [==============================] - 10s 6ms/step - loss: 2.3027 - accuracy: 0.0979 - val_loss: 2.3026 - val_accuracy: 0.1000\n",
            "Epoch 4/10\n",
            "1563/1563 [==============================] - 10s 6ms/step - loss: 2.3027 - accuracy: 0.0988 - val_loss: 2.3026 - val_accuracy: 0.1000\n",
            "Epoch 5/10\n",
            "1563/1563 [==============================] - 9s 5ms/step - loss: 2.3027 - accuracy: 0.0980 - val_loss: 2.3026 - val_accuracy: 0.1000\n",
            "Epoch 6/10\n",
            "1563/1563 [==============================] - 10s 7ms/step - loss: 2.3027 - accuracy: 0.0979 - val_loss: 2.3026 - val_accuracy: 0.1000\n",
            "Epoch 7/10\n",
            "1563/1563 [==============================] - 10s 6ms/step - loss: 2.3027 - accuracy: 0.0966 - val_loss: 2.3026 - val_accuracy: 0.1000\n",
            "Epoch 8/10\n",
            "1563/1563 [==============================] - 9s 6ms/step - loss: 2.3027 - accuracy: 0.1004 - val_loss: 2.3026 - val_accuracy: 0.1000\n",
            "Epoch 9/10\n",
            "1563/1563 [==============================] - 9s 6ms/step - loss: 2.3027 - accuracy: 0.0993 - val_loss: 2.3026 - val_accuracy: 0.1000\n",
            "Epoch 10/10\n",
            "1563/1563 [==============================] - 10s 6ms/step - loss: 2.3027 - accuracy: 0.0969 - val_loss: 2.3025 - val_accuracy: 0.1000\n"
          ]
        },
        {
          "output_type": "execute_result",
          "data": {
            "text/plain": [
              "<keras.src.engine.sequential.Sequential at 0x78ad7813ae00>"
            ]
          },
          "metadata": {},
          "execution_count": 25
        }
      ]
    },
    {
      "cell_type": "markdown",
      "source": [
        "Добавьте к дефолтной архитектуре **батч нормализацию** после каждого сверточного слоя и после перового полносвязного (`model.add(BatchNormalization())`), какое качество на валидации получили?"
      ],
      "metadata": {
        "id": "1JtkhyeHlvSB"
      }
    },
    {
      "cell_type": "code",
      "metadata": {
        "id": "2VFLuNi4ILXN"
      },
      "source": [
        "def make_bn_model():\n",
        "    model = Sequential()\n",
        "    model.add(L.Conv2D(16, kernel_size=3, activation='relu', strides=1, padding='same', input_shape=(32, 32, 3)))\n",
        "    model.add(BatchNormalization())\n",
        "    model.add(L.Conv2D(32, kernel_size=3, activation='relu', strides=1, padding='same'))\n",
        "    model.add(BatchNormalization())\n",
        "    model.add(L.MaxPool2D())\n",
        "    model.add(L.Dropout(0.25))\n",
        "    model.add(L.Conv2D(32, kernel_size=3, activation='relu', strides=1, padding='same'))\n",
        "    model.add(BatchNormalization())\n",
        "    model.add(L.Conv2D(64, kernel_size=3, activation='relu', strides=1, padding='same'))\n",
        "    model.add(BatchNormalization())\n",
        "    model.add(L.MaxPool2D())\n",
        "    model.add(L.Dropout(0.25))\n",
        "    model.add(L.Flatten())\n",
        "    model.add(BatchNormalization())\n",
        "    model.add(L.Dense(256, activation='softmax'))\n",
        "    model.add(L.Dropout(0.5))\n",
        "    model.add(L.Dense(10, activation='softmax'))\n",
        "\n",
        "    return model"
      ],
      "execution_count": 26,
      "outputs": []
    },
    {
      "cell_type": "code",
      "metadata": {
        "id": "8xX0p3Z0IiA3",
        "colab": {
          "base_uri": "https://localhost:8080/"
        },
        "outputId": "171ebc32-2bdc-4492-9e8d-a98ef063f695"
      },
      "source": [
        "# учим bn\n",
        "train_model(make_bn_model)"
      ],
      "execution_count": 27,
      "outputs": [
        {
          "output_type": "stream",
          "name": "stdout",
          "text": [
            "Epoch 1/10\n",
            "1563/1563 [==============================] - 18s 9ms/step - loss: 2.1387 - accuracy: 0.2048 - val_loss: 2.0012 - val_accuracy: 0.3447\n",
            "Epoch 2/10\n",
            "1563/1563 [==============================] - 13s 8ms/step - loss: 2.0481 - accuracy: 0.2279 - val_loss: 1.9810 - val_accuracy: 0.3111\n",
            "Epoch 3/10\n",
            "1563/1563 [==============================] - 13s 8ms/step - loss: 2.0083 - accuracy: 0.2431 - val_loss: 1.8403 - val_accuracy: 0.3940\n",
            "Epoch 4/10\n",
            "1563/1563 [==============================] - 14s 9ms/step - loss: 1.9846 - accuracy: 0.2477 - val_loss: 1.7852 - val_accuracy: 0.4104\n",
            "Epoch 5/10\n",
            "1563/1563 [==============================] - 13s 8ms/step - loss: 1.9593 - accuracy: 0.2632 - val_loss: 1.7351 - val_accuracy: 0.4406\n",
            "Epoch 6/10\n",
            "1563/1563 [==============================] - 13s 8ms/step - loss: 1.9444 - accuracy: 0.2762 - val_loss: 1.7359 - val_accuracy: 0.4598\n",
            "Epoch 7/10\n",
            "1563/1563 [==============================] - 13s 8ms/step - loss: 1.9339 - accuracy: 0.2833 - val_loss: 1.6935 - val_accuracy: 0.4833\n",
            "Epoch 8/10\n",
            "1563/1563 [==============================] - 13s 9ms/step - loss: 1.9131 - accuracy: 0.2929 - val_loss: 1.6962 - val_accuracy: 0.4906\n",
            "Epoch 9/10\n",
            "1563/1563 [==============================] - 13s 8ms/step - loss: 1.9009 - accuracy: 0.3009 - val_loss: 1.6558 - val_accuracy: 0.5071\n",
            "Epoch 10/10\n",
            "1563/1563 [==============================] - 13s 8ms/step - loss: 1.8911 - accuracy: 0.3038 - val_loss: 1.6665 - val_accuracy: 0.5064\n"
          ]
        },
        {
          "output_type": "execute_result",
          "data": {
            "text/plain": [
              "<keras.src.engine.sequential.Sequential at 0x78ad50f3af20>"
            ]
          },
          "metadata": {},
          "execution_count": 27
        }
      ]
    },
    {
      "cell_type": "markdown",
      "source": [
        "Добавьте к дефолтной архитектуре батч нормализацию и смените relu активацию на sigmoid, какое качество на валидации получили?"
      ],
      "metadata": {
        "id": "A10wDtAAm2kx"
      }
    },
    {
      "cell_type": "code",
      "metadata": {
        "id": "eXaGmu8XIkhk"
      },
      "source": [
        "def make_sigmoid_bn_model():\n",
        "    model = Sequential()\n",
        "    model.add(L.Conv2D(16, kernel_size=3, activation='sigmoid', strides=1, padding='same', input_shape=(32, 32, 3)))\n",
        "    model.add(BatchNormalization())\n",
        "    model.add(L.Conv2D(32, kernel_size=3, activation='sigmoid', strides=1, padding='same'))\n",
        "    model.add(BatchNormalization())\n",
        "    model.add(L.MaxPool2D())\n",
        "    model.add(L.Dropout(0.25))\n",
        "    model.add(L.Conv2D(32, kernel_size=3, activation='sigmoid', strides=1, padding='same'))\n",
        "    model.add(BatchNormalization())\n",
        "    model.add(L.Conv2D(64, kernel_size=3, activation='sigmoid', strides=1, padding='same'))\n",
        "    model.add(BatchNormalization())\n",
        "    model.add(L.MaxPool2D())\n",
        "    model.add(L.Dropout(0.25))\n",
        "    model.add(L.Flatten())\n",
        "    model.add(BatchNormalization())\n",
        "    model.add(L.Dense(256, activation='softmax'))\n",
        "    model.add(L.Dropout(0.5))\n",
        "    model.add(L.Dense(10, activation='softmax'))\n",
        "\n",
        "    return model"
      ],
      "execution_count": 28,
      "outputs": []
    },
    {
      "cell_type": "code",
      "metadata": {
        "id": "9sp7EOkvLAkR",
        "colab": {
          "base_uri": "https://localhost:8080/"
        },
        "outputId": "e7f64d38-bbaa-46cb-b611-9ca5981f7892"
      },
      "source": [
        "# учим sigmoid + bn\n",
        "train_model(make_sigmoid_bn_model)"
      ],
      "execution_count": 29,
      "outputs": [
        {
          "output_type": "stream",
          "name": "stdout",
          "text": [
            "Epoch 1/10\n",
            "1563/1563 [==============================] - 17s 9ms/step - loss: 2.1890 - accuracy: 0.1799 - val_loss: 2.0865 - val_accuracy: 0.2930\n",
            "Epoch 2/10\n",
            "1563/1563 [==============================] - 13s 9ms/step - loss: 2.1088 - accuracy: 0.2098 - val_loss: 1.9728 - val_accuracy: 0.3314\n",
            "Epoch 3/10\n",
            "1563/1563 [==============================] - 14s 9ms/step - loss: 2.0674 - accuracy: 0.2228 - val_loss: 1.9243 - val_accuracy: 0.3454\n",
            "Epoch 4/10\n",
            "1563/1563 [==============================] - 13s 9ms/step - loss: 2.0199 - accuracy: 0.2365 - val_loss: 1.8566 - val_accuracy: 0.3842\n",
            "Epoch 5/10\n",
            "1563/1563 [==============================] - 13s 8ms/step - loss: 2.0044 - accuracy: 0.2490 - val_loss: 1.8265 - val_accuracy: 0.4017\n",
            "Epoch 6/10\n",
            "1563/1563 [==============================] - 14s 9ms/step - loss: 1.9889 - accuracy: 0.2524 - val_loss: 1.8241 - val_accuracy: 0.3912\n",
            "Epoch 7/10\n",
            "1563/1563 [==============================] - 13s 9ms/step - loss: 1.9720 - accuracy: 0.2613 - val_loss: 1.7878 - val_accuracy: 0.4068\n",
            "Epoch 8/10\n",
            "1563/1563 [==============================] - 13s 9ms/step - loss: 1.9735 - accuracy: 0.2529 - val_loss: 1.7841 - val_accuracy: 0.4111\n",
            "Epoch 9/10\n",
            "1563/1563 [==============================] - 13s 8ms/step - loss: 1.9637 - accuracy: 0.2610 - val_loss: 1.7642 - val_accuracy: 0.4203\n",
            "Epoch 10/10\n",
            "1563/1563 [==============================] - 13s 8ms/step - loss: 1.9496 - accuracy: 0.2699 - val_loss: 1.7817 - val_accuracy: 0.4336\n"
          ]
        },
        {
          "output_type": "execute_result",
          "data": {
            "text/plain": [
              "<keras.src.engine.sequential.Sequential at 0x78ad50b19a80>"
            ]
          },
          "metadata": {},
          "execution_count": 29
        }
      ]
    }
  ]
}