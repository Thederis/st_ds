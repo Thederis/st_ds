{
  "nbformat": 4,
  "nbformat_minor": 0,
  "metadata": {
    "colab": {
      "provenance": []
    },
    "kernelspec": {
      "name": "python3",
      "display_name": "Python 3"
    },
    "accelerator": "GPU"
  },
  "cells": [
    {
      "cell_type": "markdown",
      "metadata": {
        "id": "gWohvxTubkJF"
      },
      "source": [
        "# Свертки в Keras\n",
        "\n",
        "Будем использовать Fashion MNIST"
      ]
    },
    {
      "cell_type": "code",
      "metadata": {
        "id": "j1cE-NHC230I",
        "colab": {
          "base_uri": "https://localhost:8080/"
        },
        "outputId": "6725480b-46d6-4020-97b1-10bbd31b4edd"
      },
      "source": [
        "!pip install -q tensorflow==2.1"
      ],
      "execution_count": null,
      "outputs": [
        {
          "output_type": "stream",
          "name": "stdout",
          "text": [
            "\u001b[31mERROR: Could not find a version that satisfies the requirement tensorflow==2.1 (from versions: 2.8.0rc0, 2.8.0rc1, 2.8.0, 2.8.1, 2.8.2, 2.8.3, 2.8.4, 2.9.0rc0, 2.9.0rc1, 2.9.0rc2, 2.9.0, 2.9.1, 2.9.2, 2.9.3, 2.10.0rc0, 2.10.0rc1, 2.10.0rc2, 2.10.0rc3, 2.10.0, 2.10.1, 2.11.0rc0, 2.11.0rc1, 2.11.0rc2, 2.11.0, 2.11.1, 2.12.0rc0, 2.12.0rc1, 2.12.0, 2.12.1, 2.13.0rc0, 2.13.0rc1, 2.13.0rc2, 2.13.0, 2.13.1, 2.14.0rc0, 2.14.0rc1, 2.14.0, 2.14.1, 2.15.0rc0, 2.15.0rc1, 2.15.0, 2.15.0.post1)\u001b[0m\u001b[31m\n",
            "\u001b[0m\u001b[31mERROR: No matching distribution found for tensorflow==2.1\u001b[0m\u001b[31m\n",
            "\u001b[0m"
          ]
        }
      ]
    },
    {
      "cell_type": "code",
      "metadata": {
        "id": "xtgpb91EbkJJ",
        "colab": {
          "base_uri": "https://localhost:8080/"
        },
        "outputId": "c50d2865-45ba-44b6-c02a-6d8c46ed48d1"
      },
      "source": [
        "import numpy as np\n",
        "from sklearn.metrics import accuracy_score\n",
        "from matplotlib import pyplot as plt\n",
        "%matplotlib inline\n",
        "import tensorflow as tf\n",
        "print(\"We're using TF\", tf.__version__)\n",
        "import keras\n",
        "import keras.models as M\n",
        "import keras.layers as L\n",
        "import keras.backend as K\n",
        "print(\"We are using Keras\", keras.__version__)\n",
        "import pandas as pd"
      ],
      "execution_count": null,
      "outputs": [
        {
          "output_type": "stream",
          "name": "stdout",
          "text": [
            "We're using TF 2.15.0\n",
            "We are using Keras 2.15.0\n"
          ]
        }
      ]
    },
    {
      "cell_type": "code",
      "metadata": {
        "id": "-4LwMoWC3CuX",
        "colab": {
          "base_uri": "https://localhost:8080/",
          "height": 36
        },
        "outputId": "a783f3f2-d706-46a0-fcaf-81ad7222f065"
      },
      "source": [
        "# Проверяем что у нас работает GPU\n",
        "tf.test.gpu_device_name()"
      ],
      "execution_count": null,
      "outputs": [
        {
          "output_type": "execute_result",
          "data": {
            "text/plain": [
              "'/device:GPU:0'"
            ],
            "application/vnd.google.colaboratory.intrinsic+json": {
              "type": "string"
            }
          },
          "metadata": {},
          "execution_count": 5
        }
      ]
    },
    {
      "cell_type": "code",
      "metadata": {
        "id": "leCBt1jY3E9Y",
        "colab": {
          "base_uri": "https://localhost:8080/"
        },
        "outputId": "8fa12481-949d-4ddb-efb3-afb5d8339f66"
      },
      "source": [
        "#GPU count and name\n",
        "!nvidia-smi -L"
      ],
      "execution_count": null,
      "outputs": [
        {
          "output_type": "stream",
          "name": "stdout",
          "text": [
            "GPU 0: Tesla T4 (UUID: GPU-32f372ea-099d-8842-cf22-5aebb3d6428f)\n"
          ]
        }
      ]
    },
    {
      "cell_type": "markdown",
      "metadata": {
        "id": "bpgb9XRbbkJM"
      },
      "source": [
        "# Загрузим данные\n",
        "\n",
        "Классы:\n",
        "```\n",
        "0 T-shirt/top\n",
        "1 Trouser\n",
        "2 Pullover\n",
        "3 Dress\n",
        "4 Coat\n",
        "5 Sandal\n",
        "6 Shirt\n",
        "7 Sneaker\n",
        "8 Bag\n",
        "9 Ankle boot\n",
        "```\n",
        "\n",
        "\n"
      ]
    },
    {
      "cell_type": "code",
      "metadata": {
        "id": "urm1aZJwjQkC",
        "colab": {
          "base_uri": "https://localhost:8080/"
        },
        "outputId": "4968a93f-4dd6-4846-df63-3b25579573e9"
      },
      "source": [
        "(x_train, y_train), (x_val, y_val) = tf.keras.datasets.fashion_mnist.load_data()"
      ],
      "execution_count": null,
      "outputs": [
        {
          "output_type": "stream",
          "name": "stdout",
          "text": [
            "Downloading data from https://storage.googleapis.com/tensorflow/tf-keras-datasets/train-labels-idx1-ubyte.gz\n",
            "29515/29515 [==============================] - 0s 0us/step\n",
            "Downloading data from https://storage.googleapis.com/tensorflow/tf-keras-datasets/train-images-idx3-ubyte.gz\n",
            "26421880/26421880 [==============================] - 0s 0us/step\n",
            "Downloading data from https://storage.googleapis.com/tensorflow/tf-keras-datasets/t10k-labels-idx1-ubyte.gz\n",
            "5148/5148 [==============================] - 0s 0us/step\n",
            "Downloading data from https://storage.googleapis.com/tensorflow/tf-keras-datasets/t10k-images-idx3-ubyte.gz\n",
            "4422102/4422102 [==============================] - 0s 0us/step\n"
          ]
        }
      ]
    },
    {
      "cell_type": "code",
      "metadata": {
        "id": "JXxm8f9Dupqb",
        "colab": {
          "base_uri": "https://localhost:8080/"
        },
        "outputId": "92b831d1-14dd-47ed-eb38-d23b1cb3c720"
      },
      "source": [
        "print(x_train.shape)\n",
        "print(x_val.shape)\n",
        "print (y_train[:10])\n",
        "print (y_val[:10])"
      ],
      "execution_count": null,
      "outputs": [
        {
          "output_type": "stream",
          "name": "stdout",
          "text": [
            "(60000, 28, 28)\n",
            "(10000, 28, 28)\n",
            "[9 0 0 3 0 2 7 2 5 5]\n",
            "[9 2 1 1 6 1 4 6 5 7]\n"
          ]
        }
      ]
    },
    {
      "cell_type": "code",
      "metadata": {
        "id": "yW57DlfmbkJP",
        "colab": {
          "base_uri": "https://localhost:8080/",
          "height": 916
        },
        "outputId": "06952fa1-f41c-476b-e589-62bd4fe8c1dc"
      },
      "source": [
        "x_train_image = np.tile(x_train[5, :, :].reshape((28, 28))[:, :, np.newaxis], (1, 1, 3))\n",
        "print(\"Пример кусочка картинки:\")\n",
        "plt.imshow(x_train_image[15:20, 5:10], cmap=\"Greys\")\n",
        "plt.show()\n",
        "print(\"Пример картинки:\")\n",
        "plt.imshow(x_train_image, cmap=\"Greys\")\n",
        "plt.show()\n",
        "print(\"y_train [shape %s] 10 примеров:\\n\" % (str(y_train.shape)), y_train[:10])"
      ],
      "execution_count": null,
      "outputs": [
        {
          "output_type": "stream",
          "name": "stdout",
          "text": [
            "Пример кусочка картинки:\n"
          ]
        },
        {
          "output_type": "display_data",
          "data": {
            "text/plain": [
              "<Figure size 640x480 with 1 Axes>"
            ],
            "image/png": "[encoded data removed]"
          },
          "metadata": {}
        },
        {
          "output_type": "stream",
          "name": "stdout",
          "text": [
            "Пример картинки:\n"
          ]
        },
        {
          "output_type": "display_data",
          "data": {
            "text/plain": [
              "<Figure size 640x480 with 1 Axes>"
            ],
            "image/png": "[encoded data removed]"
          },
          "metadata": {}
        },
        {
          "output_type": "stream",
          "name": "stdout",
          "text": [
            "y_train [shape (60000,)] 10 примеров:\n",
            " [9 0 0 3 0 2 7 2 5 5]\n"
          ]
        }
      ]
    },
    {
      "cell_type": "code",
      "metadata": {
        "id": "Ntmlh71gbkJU",
        "colab": {
          "base_uri": "https://localhost:8080/",
          "height": 119
        },
        "outputId": "aae5c0fc-d557-4b65-aa8d-0024e349aca5"
      },
      "source": [
        "# one-hot encode для ответов\n",
        "y_train_oh = keras.utils.to_categorical(y_train, 10)\n",
        "y_val_oh = keras.utils.to_categorical(y_val, 10)\n",
        "\n",
        "print(y_train_oh.shape)\n",
        "print(y_train_oh[:5], y_train[:5])"
      ],
      "execution_count": null,
      "outputs": [
        {
          "output_type": "stream",
          "text": [
            "(60000, 10)\n",
            "[[0. 0. 0. 0. 0. 0. 0. 0. 0. 1.]\n",
            " [1. 0. 0. 0. 0. 0. 0. 0. 0. 0.]\n",
            " [1. 0. 0. 0. 0. 0. 0. 0. 0. 0.]\n",
            " [0. 0. 0. 1. 0. 0. 0. 0. 0. 0.]\n",
            " [1. 0. 0. 0. 0. 0. 0. 0. 0. 0.]] [9 0 0 3 0]\n"
          ],
          "name": "stdout"
        }
      ]
    },
    {
      "cell_type": "markdown",
      "metadata": {
        "id": "sFdgl0owpaff"
      },
      "source": [
        "# Собираем модель"
      ]
    },
    {
      "cell_type": "markdown",
      "metadata": {
        "id": "2br7Y727oGH5"
      },
      "source": [
        "Будем как и в предыдущем модуле минимизировать кросс-энтропию."
      ]
    },
    {
      "cell_type": "code",
      "metadata": {
        "id": "f75e-QsypY4a"
      },
      "source": [
        "K.clear_session()\n",
        "\n",
        "# в этот раз используем картинку как вход без вытягивания в вектор!\n",
        "\n",
        "model = M.Sequential()\n",
        "model.add(L.Conv2D(16, kernel_size=3, strides=1, padding='same', input_shape=(28, 28, 1)))\n",
        "model.add(L.MaxPool2D())\n",
        "model.add(L.Conv2D(32, kernel_size=3, strides=1, padding='same'))\n",
        "model.add(L.MaxPool2D())\n",
        "model.add(L.Conv2D(64, kernel_size=3, strides=1, padding='same'))\n",
        "model.add(L.MaxPool2D())\n",
        "model.add(L.Flatten())\n",
        "model.add(L.Dense(10, activation='softmax'))"
      ],
      "execution_count": null,
      "outputs": []
    },
    {
      "cell_type": "code",
      "metadata": {
        "id": "oAyTk_FAbkJZ",
        "colab": {
          "base_uri": "https://localhost:8080/",
          "height": 425
        },
        "outputId": "b6f32c28-0ad2-444f-f1b8-ffd432d5403f"
      },
      "source": [
        "model.summary()"
      ],
      "execution_count": null,
      "outputs": [
        {
          "output_type": "stream",
          "text": [
            "Model: \"sequential\"\n",
            "_________________________________________________________________\n",
            "Layer (type)                 Output Shape              Param #   \n",
            "=================================================================\n",
            "conv2d (Conv2D)              (None, 28, 28, 16)        160       \n",
            "_________________________________________________________________\n",
            "max_pooling2d (MaxPooling2D) (None, 14, 14, 16)        0         \n",
            "_________________________________________________________________\n",
            "conv2d_1 (Conv2D)            (None, 14, 14, 32)        4640      \n",
            "_________________________________________________________________\n",
            "max_pooling2d_1 (MaxPooling2 (None, 7, 7, 32)          0         \n",
            "_________________________________________________________________\n",
            "conv2d_2 (Conv2D)            (None, 7, 7, 64)          18496     \n",
            "_________________________________________________________________\n",
            "max_pooling2d_2 (MaxPooling2 (None, 3, 3, 64)          0         \n",
            "_________________________________________________________________\n",
            "flatten (Flatten)            (None, 576)               0         \n",
            "_________________________________________________________________\n",
            "dense (Dense)                (None, 10)                5770      \n",
            "=================================================================\n",
            "Total params: 29,066\n",
            "Trainable params: 29,066\n",
            "Non-trainable params: 0\n",
            "_________________________________________________________________\n"
          ],
          "name": "stdout"
        }
      ]
    },
    {
      "cell_type": "code",
      "metadata": {
        "id": "05_NRSnWbkJc"
      },
      "source": [
        "model.compile(\n",
        "    loss='categorical_crossentropy',  # минимизируем кросс-энтропию\n",
        "    optimizer='adam',  # так будет быстрее, позже узнаем что это :)\n",
        "    metrics=['accuracy']  # выводим процент правильных ответов\n",
        ")"
      ],
      "execution_count": null,
      "outputs": []
    },
    {
      "cell_type": "code",
      "metadata": {
        "id": "Tj7JoTt3rghC"
      },
      "source": [
        "# центрируем и нормируем, так сети будет проще учиться (позже узнаем почему :)\n",
        "x_train_float = x_train.astype(np.float) / 255 - 0.5\n",
        "x_val_float = x_val.astype(np.float) / 255 - 0.5"
      ],
      "execution_count": null,
      "outputs": []
    },
    {
      "cell_type": "code",
      "metadata": {
        "id": "0c6R3wKWbkJf",
        "colab": {
          "base_uri": "https://localhost:8080/",
          "height": 221
        },
        "outputId": "50ea11c9-34b7-4bb5-9578-54878c215d4a"
      },
      "source": [
        "model.fit(\n",
        "    x_train_float[:, :, :, np.newaxis],\n",
        "    y_train_oh,\n",
        "    batch_size=32,\n",
        "    epochs=5,\n",
        "    validation_data=(x_val_float[:, :, :, np.newaxis], y_val_oh)\n",
        ")"
      ],
      "execution_count": null,
      "outputs": [
        {
          "output_type": "stream",
          "text": [
            "Train on 60000 samples, validate on 10000 samples\n",
            "Epoch 1/5\n",
            "60000/60000 [==============================] - 13s 216us/sample - loss: 0.4638 - accuracy: 0.8340 - val_loss: 0.3690 - val_accuracy: 0.8677\n",
            "Epoch 2/5\n",
            "60000/60000 [==============================] - 7s 115us/sample - loss: 0.3194 - accuracy: 0.8863 - val_loss: 0.3175 - val_accuracy: 0.8866\n",
            "Epoch 3/5\n",
            "60000/60000 [==============================] - 7s 115us/sample - loss: 0.2778 - accuracy: 0.9014 - val_loss: 0.3086 - val_accuracy: 0.8883\n",
            "Epoch 4/5\n",
            "60000/60000 [==============================] - 7s 115us/sample - loss: 0.2498 - accuracy: 0.9099 - val_loss: 0.2808 - val_accuracy: 0.8999\n",
            "Epoch 5/5\n",
            "60000/60000 [==============================] - 7s 114us/sample - loss: 0.2277 - accuracy: 0.9177 - val_loss: 0.2976 - val_accuracy: 0.8951\n"
          ],
          "name": "stdout"
        },
        {
          "output_type": "execute_result",
          "data": {
            "text/plain": [
              "<tensorflow.python.keras.callbacks.History at 0x7fc14fce0e10>"
            ]
          },
          "metadata": {
            "tags": []
          },
          "execution_count": 13
        }
      ]
    },
    {
      "cell_type": "code",
      "metadata": {
        "id": "EXK2Y6aZYQUW"
      },
      "source": [],
      "execution_count": null,
      "outputs": []
    }
  ]
}