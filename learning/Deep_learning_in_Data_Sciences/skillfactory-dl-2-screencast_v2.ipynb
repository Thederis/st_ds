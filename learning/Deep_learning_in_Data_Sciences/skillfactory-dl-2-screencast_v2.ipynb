{
  "cells": [
    {
      "cell_type": "markdown",
      "metadata": {
        "colab_type": "text",
        "id": "Wp8WHGm64-K_"
      },
      "source": [
        "# TF в Colab"
      ]
    },
    {
      "cell_type": "code",
      "execution_count": 4,
      "metadata": {
        "colab": {},
        "colab_type": "code",
        "id": "gRO7QfGp4t-R"
      },
      "outputs": [],
      "source": [
        "%config IPCompleter.greedy=True  # более лучший автокомплит"
      ]
    },
    {
      "cell_type": "code",
      "execution_count": 5,
      "metadata": {
        "colab": {
          "base_uri": "https://localhost:8080/",
          "height": 34
        },
        "colab_type": "code",
        "id": "rLn9z0wH4t-V",
        "outputId": "c02cf6e8-5556-4eb0-cce6-4fc674b92325"
      },
      "outputs": [
        {
          "name": "stdout",
          "output_type": "stream",
          "text": [
            "2.15.0\n"
          ]
        }
      ],
      "source": [
        "import tensorflow as tf\n",
        "import numpy as np\n",
        "print(tf.__version__)"
      ]
    },
    {
      "attachments": {},
      "cell_type": "markdown",
      "metadata": {},
      "source": [
        "#Так как дальше используются функции и методы из 1 версии TF, нужно запустить ноду ниже"
      ]
    },
    {
      "cell_type": "code",
      "execution_count": 6,
      "metadata": {},
      "outputs": [],
      "source": [
        "import tensorflow.compat.v1 as tf\n",
        "tf.disable_v2_behavior()"
      ]
    },
    {
      "cell_type": "code",
      "execution_count": 7,
      "metadata": {
        "colab": {
          "base_uri": "https://localhost:8080/",
          "height": 88
        },
        "colab_type": "code",
        "id": "P4QBlx_l4t-Z",
        "outputId": "2bad5cd3-1e9f-4fc6-9e05-c4d294e6cab9"
      },
      "outputs": [],
      "source": [
        "tf.reset_default_graph()\n",
        "a = tf.placeholder(tf.float32, (2, 2))\n",
        "b = tf.Variable(tf.ones((2, 2)))\n",
        "c = a @ b"
      ]
    },
    {
      "cell_type": "code",
      "execution_count": 8,
      "metadata": {
        "colab": {
          "base_uri": "https://localhost:8080/",
          "height": 34
        },
        "colab_type": "code",
        "id": "hUr9Z1wC4t-b",
        "outputId": "347c70cc-a25e-4f1b-dd0e-2eb0ec226890"
      },
      "outputs": [
        {
          "name": "stdout",
          "output_type": "stream",
          "text": [
            "Tensor(\"matmul:0\", shape=(2, 2), dtype=float32)\n"
          ]
        }
      ],
      "source": [
        "print(c)"
      ]
    },
    {
      "cell_type": "code",
      "execution_count": 9,
      "metadata": {
        "colab": {
          "base_uri": "https://localhost:8080/",
          "height": 51
        },
        "colab_type": "code",
        "id": "P23DN_wp_Efz",
        "outputId": "2585c54c-2b33-4e94-bfe1-fd2c08c174ee"
      },
      "outputs": [
        {
          "name": "stdout",
          "output_type": "stream",
          "text": [
            "[<tf.Tensor 'Placeholder:0' shape=(2, 2) dtype=float32>, <tf.Tensor 'Variable/read:0' shape=(2, 2) dtype=float32>]\n",
            "[<tf.Tensor 'matmul:0' shape=(2, 2) dtype=float32>]\n"
          ]
        }
      ],
      "source": [
        "print(list(tf.get_default_graph().get_operations()[-1].inputs))\n",
        "print(list(tf.get_default_graph().get_operations()[-1].outputs))"
      ]
    },
    {
      "cell_type": "code",
      "execution_count": 10,
      "metadata": {
        "colab": {},
        "colab_type": "code",
        "id": "SCpoFKcE4t-f"
      },
      "outputs": [],
      "source": [
        "s = tf.InteractiveSession()"
      ]
    },
    {
      "cell_type": "code",
      "execution_count": 11,
      "metadata": {
        "colab": {
          "base_uri": "https://localhost:8080/",
          "height": 51
        },
        "colab_type": "code",
        "id": "WLnkEvOD4t-j",
        "outputId": "59642ad9-9651-4a31-e601-04c9633107a6"
      },
      "outputs": [
        {
          "name": "stderr",
          "output_type": "stream",
          "text": [
            "2024-01-14 12:36:25.704773: I tensorflow/compiler/mlir/mlir_graph_optimization_pass.cc:388] MLIR V1 optimization pass is not enabled\n"
          ]
        },
        {
          "data": {
            "text/plain": [
              "array([[2., 2.],\n",
              "       [2., 2.]], dtype=float32)"
            ]
          },
          "execution_count": 11,
          "metadata": {},
          "output_type": "execute_result"
        }
      ],
      "source": [
        "s.run(tf.global_variables_initializer())\n",
        "s.run(c, feed_dict={a: np.ones((2, 2))})"
      ]
    },
    {
      "cell_type": "code",
      "execution_count": 12,
      "metadata": {
        "colab": {},
        "colab_type": "code",
        "id": "tuK_53xo4t-m"
      },
      "outputs": [],
      "source": [
        "s.close()"
      ]
    },
    {
      "cell_type": "markdown",
      "metadata": {
        "colab_type": "text",
        "id": "UQSGgDQL4t-q"
      },
      "source": [
        "# Оптимизация"
      ]
    },
    {
      "cell_type": "code",
      "execution_count": 13,
      "metadata": {
        "colab": {},
        "colab_type": "code",
        "id": "1VUtdayQ4t-q"
      },
      "outputs": [],
      "source": [
        "tf.reset_default_graph()\n",
        "x = tf.get_variable(\"x\", shape=(), dtype=tf.float32, trainable=True)\n",
        "f = x ** 2"
      ]
    },
    {
      "cell_type": "code",
      "execution_count": 14,
      "metadata": {
        "colab": {},
        "colab_type": "code",
        "id": "oO9CSWfr4t-t"
      },
      "outputs": [],
      "source": [
        "optimizer = tf.train.GradientDescentOptimizer(0.1)\n",
        "step = optimizer.minimize(f, var_list=[x])"
      ]
    },
    {
      "cell_type": "code",
      "execution_count": 15,
      "metadata": {
        "colab": {
          "base_uri": "https://localhost:8080/",
          "height": 34
        },
        "colab_type": "code",
        "id": "KZOrrhyA4t-w",
        "outputId": "a22ba0c1-1127-4755-d752-8cbce875e8db"
      },
      "outputs": [
        {
          "data": {
            "text/plain": [
              "[<tf.Variable 'x:0' shape=() dtype=float32_ref>]"
            ]
          },
          "execution_count": 15,
          "metadata": {},
          "output_type": "execute_result"
        }
      ],
      "source": [
        "tf.trainable_variables()"
      ]
    },
    {
      "cell_type": "code",
      "execution_count": 16,
      "metadata": {
        "colab": {
          "base_uri": "https://localhost:8080/",
          "height": 187
        },
        "colab_type": "code",
        "id": "gtNrbzDR4t-4",
        "outputId": "09bb9315-868b-43f0-b168-e4be5325219b"
      },
      "outputs": [
        {
          "name": "stdout",
          "output_type": "stream",
          "text": [
            "-1.3505763 2.8500881\n",
            "-1.080461 1.8240563\n",
            "-0.8643688 1.1673961\n",
            "-0.69149506 0.74713343\n",
            "-0.5531961 0.47816542\n",
            "-0.44255686 0.3060259\n",
            "-0.35404548 0.19585657\n",
            "-0.28323638 0.1253482\n",
            "-0.22658911 0.08022285\n",
            "-0.18127128 0.051342625\n"
          ]
        }
      ],
      "source": [
        "with tf.Session() as s:  # сессия сама закроется\n",
        "    s.run(tf.global_variables_initializer())\n",
        "    for i in range(10):\n",
        "        _, curr_x, curr_f = s.run([step, x, f])\n",
        "        print(curr_x, curr_f)"
      ]
    },
    {
      "cell_type": "markdown",
      "metadata": {
        "colab_type": "text",
        "id": "Fw_F68_34t_T"
      },
      "source": [
        "# TensorBoard логирование"
      ]
    },
    {
      "cell_type": "code",
      "execution_count": 17,
      "metadata": {
        "colab": {},
        "colab_type": "code",
        "id": "SDAJKlYL4t_U"
      },
      "outputs": [],
      "source": [
        "tf.reset_default_graph()\n",
        "x = tf.get_variable(\"x\", shape=(), dtype=tf.float32)\n",
        "f = x ** 2"
      ]
    },
    {
      "cell_type": "code",
      "execution_count": 18,
      "metadata": {
        "colab": {},
        "colab_type": "code",
        "id": "OJ1n-qks4t_Z"
      },
      "outputs": [],
      "source": [
        "optimizer = tf.train.GradientDescentOptimizer(0.1)\n",
        "step = optimizer.minimize(f)"
      ]
    },
    {
      "cell_type": "code",
      "execution_count": 19,
      "metadata": {
        "colab": {},
        "colab_type": "code",
        "id": "vemZEd5R4t_f"
      },
      "outputs": [],
      "source": [
        "tf.summary.scalar('curr_x', x)\n",
        "tf.summary.scalar('curr_f', f)\n",
        "summaries = tf.summary.merge_all()"
      ]
    },
    {
      "cell_type": "code",
      "execution_count": 20,
      "metadata": {
        "colab": {},
        "colab_type": "code",
        "id": "UYPtORji4t_i"
      },
      "outputs": [],
      "source": [
        "with tf.Session() as s:\n",
        "  summary_writer = tf.summary.FileWriter(\"logs/1\", s.graph)\n",
        "  s.run(tf.global_variables_initializer())\n",
        "  for i in range(10):\n",
        "      _, curr_summaries = s.run([step, summaries])\n",
        "      summary_writer.add_summary(curr_summaries, i)\n",
        "      summary_writer.flush()"
      ]
    },
    {
      "cell_type": "markdown",
      "metadata": {
        "colab_type": "text",
        "id": "MxrA13Mm4t_m"
      },
      "source": [
        "Локально можно запустить  `tensorboard --logdir=./logs` в консоли.\n",
        "\n",
        "А вот так можно запустить прямо в Google Colab:"
      ]
    },
    {
      "cell_type": "code",
      "execution_count": null,
      "metadata": {
        "colab": {},
        "colab_type": "code",
        "id": "SECWjGyg4t_m"
      },
      "outputs": [],
      "source": [
        "#! wget https://raw.githubusercontent.com/ZEMUSHKA/skillfactory-dl/master/setup_google_colab.py -O setup_google_colab.py -q\n",
        "import setup_google_colab\n",
        "\n",
        "# запускаем сервер tensorboard в фоне\n",
        "import os\n",
        "os.system(\"tensorboard --logdir=./logs --host 0.0.0.0 --port 6006 &\")\n",
        "\n",
        "# открываем порт из Google Colab\n",
        "setup_google_colab.expose_port_on_colab(6006)"
      ]
    },
    {
      "cell_type": "markdown",
      "metadata": {
        "colab_type": "text",
        "id": "eNXcol8w4t_q"
      },
      "source": [
        "# Обучение линейной модели"
      ]
    },
    {
      "cell_type": "code",
      "execution_count": 21,
      "metadata": {
        "colab": {
          "base_uri": "https://localhost:8080/",
          "height": 51
        },
        "colab_type": "code",
        "id": "_Z1KdRW14t_r",
        "outputId": "eb3c048e-f81d-4f70-8b24-52eccb7eb28c"
      },
      "outputs": [
        {
          "name": "stdout",
          "output_type": "stream",
          "text": [
            "(1000, 3) (1000, 1)\n",
            "[[0.22083778 0.78239017 0.38999298]]\n"
          ]
        }
      ],
      "source": [
        "# модельные данные\n",
        "N = 1000\n",
        "D = 3\n",
        "x = np.random.random((N, D))\n",
        "w = np.random.random((D, 1))\n",
        "y = x @ w + np.random.randn(N, 1) * 0.20\n",
        "\n",
        "print(x.shape, y.shape)\n",
        "print(w.T)"
      ]
    },
    {
      "cell_type": "code",
      "execution_count": 22,
      "metadata": {
        "colab": {
          "base_uri": "https://localhost:8080/",
          "height": 34
        },
        "colab_type": "code",
        "id": "HxC5KVBX4t_t",
        "outputId": "32988129-469f-4cd6-f659-4a5ace7d808e"
      },
      "outputs": [
        {
          "name": "stdout",
          "output_type": "stream",
          "text": [
            "(?, 1) (?, 1) ()\n"
          ]
        }
      ],
      "source": [
        "tf.reset_default_graph()\n",
        "\n",
        "features = tf.placeholder(tf.float32, shape=(None, D), name=\"features\")\n",
        "target = tf.placeholder(tf.float32, shape=(None, 1), name=\"target\")\n",
        "\n",
        "weights = tf.get_variable(\"weights\", shape=(D, 1), dtype=tf.float32)\n",
        "predictions = features @ weights\n",
        "\n",
        "\n",
        "loss = tf.reduce_mean((target - predictions) ** 2, name=\"loss\")\n",
        "\n",
        "print(target.shape, predictions.shape, loss.shape)"
      ]
    },
    {
      "cell_type": "code",
      "execution_count": 23,
      "metadata": {
        "colab": {},
        "colab_type": "code",
        "id": "Kq76NAMF4t_7"
      },
      "outputs": [],
      "source": [
        "optimizer = tf.train.GradientDescentOptimizer(0.1)\n",
        "step = optimizer.minimize(loss)"
      ]
    },
    {
      "cell_type": "code",
      "execution_count": 24,
      "metadata": {
        "colab": {},
        "colab_type": "code",
        "id": "73GCLl0gHTLZ"
      },
      "outputs": [
        {
          "data": {
            "text/plain": [
              "[<tf.Operation 'features' type=Placeholder>,\n",
              " <tf.Operation 'target' type=Placeholder>,\n",
              " <tf.Operation 'weights/Initializer/random_uniform/shape' type=Const>,\n",
              " <tf.Operation 'weights/Initializer/random_uniform/min' type=Const>,\n",
              " <tf.Operation 'weights/Initializer/random_uniform/max' type=Const>,\n",
              " <tf.Operation 'weights/Initializer/random_uniform/RandomUniform' type=RandomUniform>,\n",
              " <tf.Operation 'weights/Initializer/random_uniform/sub' type=Sub>,\n",
              " <tf.Operation 'weights/Initializer/random_uniform/mul' type=Mul>,\n",
              " <tf.Operation 'weights/Initializer/random_uniform' type=AddV2>,\n",
              " <tf.Operation 'weights' type=VariableV2>,\n",
              " <tf.Operation 'weights/Assign' type=Assign>,\n",
              " <tf.Operation 'weights/read' type=Identity>,\n",
              " <tf.Operation 'matmul' type=MatMul>,\n",
              " <tf.Operation 'sub' type=Sub>,\n",
              " <tf.Operation 'pow/y' type=Const>,\n",
              " <tf.Operation 'pow' type=Pow>,\n",
              " <tf.Operation 'Const' type=Const>,\n",
              " <tf.Operation 'loss' type=Mean>,\n",
              " <tf.Operation 'gradients/Shape' type=Const>,\n",
              " <tf.Operation 'gradients/grad_ys_0/Const' type=Const>,\n",
              " <tf.Operation 'gradients/grad_ys_0' type=Fill>,\n",
              " <tf.Operation 'gradients/loss_grad/Reshape/shape' type=Const>,\n",
              " <tf.Operation 'gradients/loss_grad/Reshape' type=Reshape>,\n",
              " <tf.Operation 'gradients/loss_grad/Shape' type=Shape>,\n",
              " <tf.Operation 'gradients/loss_grad/Tile' type=Tile>,\n",
              " <tf.Operation 'gradients/loss_grad/Shape_1' type=Shape>,\n",
              " <tf.Operation 'gradients/loss_grad/Size' type=Const>,\n",
              " <tf.Operation 'gradients/loss_grad/add' type=AddV2>,\n",
              " <tf.Operation 'gradients/loss_grad/mod' type=FloorMod>,\n",
              " <tf.Operation 'gradients/loss_grad/GatherV2/axis' type=Const>,\n",
              " <tf.Operation 'gradients/loss_grad/GatherV2' type=GatherV2>,\n",
              " <tf.Operation 'gradients/loss_grad/Const' type=Const>,\n",
              " <tf.Operation 'gradients/loss_grad/Prod' type=Prod>,\n",
              " <tf.Operation 'gradients/loss_grad/Cast' type=Cast>,\n",
              " <tf.Operation 'gradients/loss_grad/truediv' type=RealDiv>,\n",
              " <tf.Operation 'gradients/pow_grad/mul' type=Mul>,\n",
              " <tf.Operation 'gradients/pow_grad/sub/y' type=Const>,\n",
              " <tf.Operation 'gradients/pow_grad/sub' type=Sub>,\n",
              " <tf.Operation 'gradients/pow_grad/Pow' type=Pow>,\n",
              " <tf.Operation 'gradients/pow_grad/mul_1' type=Mul>,\n",
              " <tf.Operation 'gradients/pow_grad/Greater/y' type=Const>,\n",
              " <tf.Operation 'gradients/pow_grad/Greater' type=Greater>,\n",
              " <tf.Operation 'gradients/pow_grad/ones_like/Shape' type=Shape>,\n",
              " <tf.Operation 'gradients/pow_grad/ones_like/Const' type=Const>,\n",
              " <tf.Operation 'gradients/pow_grad/ones_like' type=Fill>,\n",
              " <tf.Operation 'gradients/pow_grad/Select' type=Select>,\n",
              " <tf.Operation 'gradients/pow_grad/Log' type=Log>,\n",
              " <tf.Operation 'gradients/pow_grad/zeros_like' type=ZerosLike>,\n",
              " <tf.Operation 'gradients/pow_grad/Select_1' type=Select>,\n",
              " <tf.Operation 'gradients/pow_grad/mul_2' type=Mul>,\n",
              " <tf.Operation 'gradients/pow_grad/mul_3' type=Mul>,\n",
              " <tf.Operation 'gradients/pow_grad/Shape' type=Shape>,\n",
              " <tf.Operation 'gradients/pow_grad/Shape_1' type=Const>,\n",
              " <tf.Operation 'gradients/pow_grad/Sum/reduction_indices' type=Const>,\n",
              " <tf.Operation 'gradients/pow_grad/Sum' type=Sum>,\n",
              " <tf.Operation 'gradients/pow_grad/Reshape' type=Reshape>,\n",
              " <tf.Operation 'gradients/pow_grad/tuple/group_deps' type=NoOp>,\n",
              " <tf.Operation 'gradients/pow_grad/tuple/control_dependency' type=Identity>,\n",
              " <tf.Operation 'gradients/pow_grad/tuple/control_dependency_1' type=Identity>,\n",
              " <tf.Operation 'gradients/sub_grad/Neg' type=Neg>,\n",
              " <tf.Operation 'gradients/sub_grad/Shape' type=Shape>,\n",
              " <tf.Operation 'gradients/sub_grad/Shape_1' type=Shape>,\n",
              " <tf.Operation 'gradients/sub_grad/BroadcastGradientArgs' type=BroadcastGradientArgs>,\n",
              " <tf.Operation 'gradients/sub_grad/Sum' type=Sum>,\n",
              " <tf.Operation 'gradients/sub_grad/Reshape' type=Reshape>,\n",
              " <tf.Operation 'gradients/sub_grad/Sum_1' type=Sum>,\n",
              " <tf.Operation 'gradients/sub_grad/Reshape_1' type=Reshape>,\n",
              " <tf.Operation 'gradients/sub_grad/tuple/group_deps' type=NoOp>,\n",
              " <tf.Operation 'gradients/sub_grad/tuple/control_dependency' type=Identity>,\n",
              " <tf.Operation 'gradients/sub_grad/tuple/control_dependency_1' type=Identity>,\n",
              " <tf.Operation 'gradients/matmul_grad/MatMul' type=MatMul>,\n",
              " <tf.Operation 'gradients/matmul_grad/MatMul_1' type=MatMul>,\n",
              " <tf.Operation 'gradients/matmul_grad/tuple/group_deps' type=NoOp>,\n",
              " <tf.Operation 'gradients/matmul_grad/tuple/control_dependency' type=Identity>,\n",
              " <tf.Operation 'gradients/matmul_grad/tuple/control_dependency_1' type=Identity>,\n",
              " <tf.Operation 'GradientDescent/learning_rate' type=Const>,\n",
              " <tf.Operation 'GradientDescent/update_weights/ApplyGradientDescent' type=ApplyGradientDescent>,\n",
              " <tf.Operation 'GradientDescent' type=NoOp>]"
            ]
          },
          "execution_count": 24,
          "metadata": {},
          "output_type": "execute_result"
        }
      ],
      "source": [
        "# производные это часть графа\n",
        "tf.get_default_graph().get_operations()"
      ]
    },
    {
      "cell_type": "code",
      "execution_count": 25,
      "metadata": {
        "colab": {
          "base_uri": "https://localhost:8080/",
          "height": 119
        },
        "colab_type": "code",
        "id": "14EQwS8g4t_8",
        "outputId": "20bd6dd0-aa94-4b7d-95fe-b4ca7ba44492",
        "scrolled": true
      },
      "outputs": [
        {
          "name": "stdout",
          "output_type": "stream",
          "text": [
            "0.1727604\n",
            "0.06485016\n",
            "0.04477505\n",
            "0.040616844\n",
            "0.03975473\n",
            "0.039575845\n"
          ]
        }
      ],
      "source": [
        "with tf.Session() as s:\n",
        "    s.run(tf.global_variables_initializer())\n",
        "    for i in range(300):\n",
        "        _, curr_loss, curr_weights = s.run([step, loss, weights], \n",
        "                                           feed_dict={features: x, target: y})\n",
        "        if i % 50 == 0:\n",
        "            print(curr_loss)"
      ]
    },
    {
      "cell_type": "code",
      "execution_count": 26,
      "metadata": {
        "colab": {
          "base_uri": "https://localhost:8080/",
          "height": 34
        },
        "colab_type": "code",
        "id": "Le4UwJw14uAA",
        "outputId": "712fac2c-3bde-49ce-c289-a9e223f6bd8c"
      },
      "outputs": [
        {
          "data": {
            "text/plain": [
              "array([[0.22809845, 0.7727131 , 0.40719077]], dtype=float32)"
            ]
          },
          "execution_count": 26,
          "metadata": {},
          "output_type": "execute_result"
        }
      ],
      "source": [
        "# результат обучения\n",
        "curr_weights.T"
      ]
    },
    {
      "cell_type": "code",
      "execution_count": 27,
      "metadata": {
        "colab": {
          "base_uri": "https://localhost:8080/",
          "height": 34
        },
        "colab_type": "code",
        "id": "8cqImP2P4uAF",
        "outputId": "bd9d7ad3-8b42-4edd-85b2-a4d5041cdf66"
      },
      "outputs": [
        {
          "data": {
            "text/plain": [
              "array([[0.22083778, 0.78239017, 0.38999298]])"
            ]
          },
          "execution_count": 27,
          "metadata": {},
          "output_type": "execute_result"
        }
      ],
      "source": [
        "# правильные веса\n",
        "w.T"
      ]
    },
    {
      "cell_type": "markdown",
      "metadata": {
        "colab_type": "text",
        "id": "yvG2r5miBCLF"
      },
      "source": [
        "# Обучение в Keras"
      ]
    },
    {
      "cell_type": "code",
      "execution_count": 28,
      "metadata": {
        "colab": {
          "base_uri": "https://localhost:8080/",
          "height": 34
        },
        "colab_type": "code",
        "id": "p0c0fnlpBGCI",
        "outputId": "b140349b-867d-4aca-fc3d-ed1a19b1a572"
      },
      "outputs": [
        {
          "name": "stdout",
          "output_type": "stream",
          "text": [
            "2.15.0\n"
          ]
        }
      ],
      "source": [
        "import keras\n",
        "import keras.models as M\n",
        "import keras.layers as L\n",
        "import keras.backend as K\n",
        "print(keras.__version__)"
      ]
    },
    {
      "cell_type": "code",
      "execution_count": 29,
      "metadata": {
        "colab": {
          "base_uri": "https://localhost:8080/",
          "height": 170
        },
        "colab_type": "code",
        "id": "egw2cWPnBab3",
        "outputId": "a558dc1a-20de-4835-aba0-7b67e5824dd0"
      },
      "outputs": [
        {
          "name": "stdout",
          "output_type": "stream",
          "text": [
            "Model: \"sequential\"\n",
            "_________________________________________________________________\n",
            " Layer (type)                Output Shape              Param #   \n",
            "=================================================================\n",
            " dense (Dense)               (None, 1)                 3         \n",
            "                                                                 \n",
            "=================================================================\n",
            "Total params: 3 (12.00 Byte)\n",
            "Trainable params: 3 (12.00 Byte)\n",
            "Non-trainable params: 0 (0.00 Byte)\n",
            "_________________________________________________________________\n"
          ]
        }
      ],
      "source": [
        "K.clear_session()  # очищает граф и перезапускает сессию\n",
        "\n",
        "model = M.Sequential()\n",
        "model.add(L.Dense(1, use_bias=False, input_shape=(D,)))\n",
        "model.summary()"
      ]
    },
    {
      "cell_type": "code",
      "execution_count": 30,
      "metadata": {
        "colab": {},
        "colab_type": "code",
        "id": "65R7pZxJCCj9"
      },
      "outputs": [],
      "source": [
        "model.compile(optimizer='sgd', loss='mse', metrics=['mse'])"
      ]
    },
    {
      "cell_type": "code",
      "execution_count": 31,
      "metadata": {
        "colab": {
          "base_uri": "https://localhost:8080/",
          "height": 374
        },
        "colab_type": "code",
        "id": "6dykIkErCbQN",
        "outputId": "f5f6396e-a100-41b2-d815-a8ca8c547287"
      },
      "outputs": [
        {
          "name": "stdout",
          "output_type": "stream",
          "text": [
            "Train on 1000 samples\n",
            "Epoch 1/10\n",
            "   8/1000 [..............................] - ETA: 11s - loss: 1.7011 - mean_squared_error: 1.7011"
          ]
        },
        {
          "name": "stderr",
          "output_type": "stream",
          "text": [
            "2024-01-14 12:39:07.996294: W tensorflow/c/c_api.cc:305] Operation '{name:'training/SGD/momentum/Assign' id:147 op device:{requested: '', assigned: ''} def:{{{node training/SGD/momentum/Assign}} = AssignVariableOp[_has_manual_control_dependencies=true, dtype=DT_FLOAT, validate_shape=false](training/SGD/momentum, training/SGD/momentum/Initializer/initial_value)}}' was changed by setting attribute after it was run by a session. This mutation will have no effect, and will trigger an error in the future. Either don't modify nodes after running them or create a new session.\n",
            "2024-01-14 12:39:08.156515: I external/local_tsl/tsl/profiler/lib/profiler_session.cc:104] Profiler session initializing.\n",
            "2024-01-14 12:39:08.156810: I external/local_tsl/tsl/profiler/lib/profiler_session.cc:119] Profiler session started.\n",
            "2024-01-14 12:39:08.160131: I external/local_tsl/tsl/profiler/lib/profiler_session.cc:70] Profiler session collecting data.\n",
            "2024-01-14 12:39:08.161190: I external/local_tsl/tsl/profiler/lib/profiler_session.cc:131] Profiler session tear down.\n",
            "2024-01-14 12:39:08.161913: I external/local_tsl/tsl/profiler/rpc/client/save_profile.cc:144] Collecting XSpace to repository: ./logs/keras/plugins/profile/2024_01_14_12_39_08/denis-HP-Pavilion-15-Notebook-PC.xplane.pb\n"
          ]
        },
        {
          "name": "stdout",
          "output_type": "stream",
          "text": [
            "1000/1000 [==============================] - 1s 504us/sample - loss: 0.5555 - mean_squared_error: 0.5555\n",
            "Epoch 2/10\n",
            "1000/1000 [==============================] - 0s 330us/sample - loss: 0.0588 - mean_squared_error: 0.0588\n",
            "Epoch 3/10\n",
            "1000/1000 [==============================] - 0s 454us/sample - loss: 0.0480 - mean_squared_error: 0.0480\n",
            "Epoch 4/10\n",
            "1000/1000 [==============================] - 0s 377us/sample - loss: 0.0451 - mean_squared_error: 0.0451\n",
            "Epoch 5/10\n",
            "1000/1000 [==============================] - 0s 280us/sample - loss: 0.0433 - mean_squared_error: 0.0433\n",
            "Epoch 6/10\n",
            "1000/1000 [==============================] - 0s 306us/sample - loss: 0.0421 - mean_squared_error: 0.0420\n",
            "Epoch 7/10\n",
            "1000/1000 [==============================] - 0s 292us/sample - loss: 0.0412 - mean_squared_error: 0.0412\n",
            "Epoch 8/10\n",
            "1000/1000 [==============================] - 0s 283us/sample - loss: 0.0407 - mean_squared_error: 0.0407\n",
            "Epoch 9/10\n",
            "1000/1000 [==============================] - 0s 273us/sample - loss: 0.0403 - mean_squared_error: 0.0403\n",
            "Epoch 10/10\n",
            "1000/1000 [==============================] - 0s 291us/sample - loss: 0.0401 - mean_squared_error: 0.0401\n"
          ]
        },
        {
          "data": {
            "text/plain": [
              "<keras.src.callbacks.History at 0x7f73a6376950>"
            ]
          },
          "execution_count": 31,
          "metadata": {},
          "output_type": "execute_result"
        }
      ],
      "source": [
        "model.fit(x, y, batch_size=8, epochs=10, callbacks=[keras.callbacks.TensorBoard(\"./logs/keras\")])"
      ]
    },
    {
      "cell_type": "code",
      "execution_count": 34,
      "metadata": {
        "colab": {
          "base_uri": "https://localhost:8080/",
          "height": 68
        },
        "colab_type": "code",
        "id": "aUS7jvpWCpmY",
        "outputId": "66a7a84f-6e74-40c8-9391-d4fa45a2a58a"
      },
      "outputs": [
        {
          "data": {
            "text/plain": [
              "[array([[0.21573575],\n",
              "        [0.736718  ],\n",
              "        [0.45632115]], dtype=float32)]"
            ]
          },
          "execution_count": 34,
          "metadata": {},
          "output_type": "execute_result"
        }
      ],
      "source": [
        "s = tf.compat.v1.keras.backend.get_session()\n",
        "s.run(model.weights)"
      ]
    }
  ],
  "metadata": {
    "colab": {
      "collapsed_sections": [],
      "name": "skillfactory-2-screencast.ipynb",
      "provenance": [],
      "version": "0.3.2"
    },
    "kernelspec": {
      "display_name": "Python 3",
      "language": "python",
      "name": "python3"
    },
    "language_info": {
      "codemirror_mode": {
        "name": "ipython",
        "version": 3
      },
      "file_extension": ".py",
      "mimetype": "text/x-python",
      "name": "python",
      "nbconvert_exporter": "python",
      "pygments_lexer": "ipython3",
      "version": "3.10.12"
    },
    "vscode": {
      "interpreter": {
        "hash": "49176cb24bbf1ba0d0830db0370629cb43fb0298009b19123a62a2ff09cd1656"
      }
    }
  },
  "nbformat": 4,
  "nbformat_minor": 0
}
