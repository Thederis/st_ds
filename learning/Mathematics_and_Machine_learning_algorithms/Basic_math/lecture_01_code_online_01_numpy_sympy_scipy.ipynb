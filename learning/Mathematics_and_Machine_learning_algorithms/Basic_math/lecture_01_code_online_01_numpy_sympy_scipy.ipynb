{
 "cells": [
  {
   "cell_type": "markdown",
   "metadata": {},
   "source": [
    "<a name='toc'></a>\n",
    "# Содержание\n",
    "\n",
    "- [ 1 - Numpy](#1)\n",
    "  - [ 1.1 - Описание](#1.1)\n",
    "  - [ 1.2 - Создание массивов](#1.2)\n",
    "  - [ 1.3 - Операции на массивах](#1.3)\n",
    "- [ 2 - Sympy](#2)\n",
    "  - [ 2.1 - Описание](#2.1)\n",
    "- [ 3 - Scipy](#3)\n",
    "  - [ 3.1 - Описание](#3.1)"
   ]
  },
  {
   "cell_type": "markdown",
   "metadata": {},
   "source": [
    "<a name='1'></a>\n",
    "# Numpy"
   ]
  },
  {
   "cell_type": "markdown",
   "metadata": {},
   "source": [
    " <a name='1.1'></a>\n",
    "## Описание\n",
    "\n",
    "NumPy - это библиотека для языка программирования Python, которая предоставляет мощные инструменты для работы с массивами и матрицами данных. Она включает в себя функции для работы с линейной алгеброй, случайными числами, преобразованиями Фурье и многими другими математическими операциями.\n",
    "\n",
    "Основным компонентом NumPy является объект массива numpy.ndarray, который представляет собой многомерный массив элементов одного типа данных. Эти массивы могут иметь разные размерности и формы, и могут быть использованы для выполнения быстрых математических операций на больших объемах данных.\n",
    "\n",
    "NumPy также предоставляет множество функций для работы с массивами, таких как сортировка, индексация, решение уравнений, операции с логическими значениями и т.д. Библиотека также имеет множество инструментов для визуализации данных, в том числе инструменты для построения графиков и диаграмм.\n",
    "\n",
    "NumPy является ключевой библиотекой для научных вычислений и анализа данных на Python, и широко используется в областях, таких как машинное обучение, обработка изображений, обработка звука и многих других."
   ]
  },
  {
   "cell_type": "markdown",
   "metadata": {},
   "source": [
    "Объект ndarray (N-dimensional array) в библиотеке NumPy представляет собой многомерный массив элементов одного типа данных, в то время как обычный list в Python может содержать элементы разных типов и не имеет поддержки для многомерных массивов.\n",
    "\n",
    "Вот несколько отличий между ndarray и list:\n",
    "\n",
    "1. ndarray может иметь фиксированные размеры и формы (т.е. количество элементов в каждом измерении), в то время как list может иметь произвольную длину и может содержать элементы разных типов.\n",
    "\n",
    "2. ndarray обеспечивает быстрый доступ к элементам массива, в то время как для доступа к элементам списка требуется выполнение поиска элемента по индексу.\n",
    "\n",
    "3. ndarray имеет поддержку для операций линейной алгебры и других математических операций над многомерными массивами, что делает его полезным для выполнения научных и инженерных вычислений. В то время как списки могут быть использованы для хранения и манипулирования данными различных типов, но они не предоставляют такой же функциональности для выполнения математических операций.\n",
    "\n",
    "4. ndarray обычно занимает меньше памяти, чем list, особенно если массив содержит большое количество элементов, т.к. все элементы ndarray имеют одинаковый тип данных и могут быть хранены в памяти более эффективно.\n",
    "\n",
    "В целом, ndarray является более эффективным и удобным инструментом для работы с многомерными массивами и выполнения научных вычислений, в то время как list может быть полезен для хранения и манипулирования данными различных типов и длин."
   ]
  },
  {
   "cell_type": "code",
   "execution_count": 1,
   "metadata": {},
   "outputs": [
    {
     "name": "stdout",
     "output_type": "stream",
     "text": [
      "['ALLOW_THREADS', 'AxisError', 'BUFSIZE', 'CLIP', 'ComplexWarning', 'DataSource', 'ERR_CALL', 'ERR_DEFAULT', 'ERR_IGNORE', 'ERR_LOG', 'ERR_PRINT', 'ERR_RAISE', 'ERR_WARN', 'FLOATING_POINT_SUPPORT', 'FPE_DIVIDEBYZERO', 'FPE_INVALID', 'FPE_OVERFLOW', 'FPE_UNDERFLOW', 'False_', 'Inf', 'Infinity', 'MAXDIMS', 'MAY_SHARE_BOUNDS', 'MAY_SHARE_EXACT', 'ModuleDeprecationWarning', 'NAN', 'NINF', 'NZERO', 'NaN', 'PINF', 'PZERO', 'RAISE', 'RankWarning', 'SHIFT_DIVIDEBYZERO', 'SHIFT_INVALID', 'SHIFT_OVERFLOW', 'SHIFT_UNDERFLOW', 'ScalarType', 'Tester', 'TooHardError', 'True_', 'UFUNC_BUFSIZE_DEFAULT', 'UFUNC_PYVALS_NAME', 'VisibleDeprecationWarning', 'WRAP', '_CopyMode', '_NoValue', '_UFUNC_API', '__NUMPY_SETUP__', '__all__', '__builtins__', '__cached__', '__config__', '__deprecated_attrs__', '__dir__', '__doc__', '__expired_functions__', '__file__', '__getattr__', '__git_version__', '__loader__', '__name__', '__package__', '__path__', '__spec__', '__version__', '_add_newdoc_ufunc', '_distributor_init', '_financial_names', '_globals', '_mat', '_pyinstaller_hooks_dir', '_pytesttester', '_version', 'abs', 'absolute', 'add', 'add_docstring', 'add_newdoc', 'add_newdoc_ufunc', 'all', 'allclose', 'alltrue', 'amax', 'amin', 'angle', 'any', 'append', 'apply_along_axis', 'apply_over_axes', 'arange', 'arccos', 'arccosh', 'arcsin', 'arcsinh', 'arctan', 'arctan2', 'arctanh', 'argmax', 'argmin', 'argpartition', 'argsort', 'argwhere', 'around', 'array', 'array2string', 'array_equal', 'array_equiv', 'array_repr', 'array_split', 'array_str', 'asanyarray', 'asarray', 'asarray_chkfinite', 'ascontiguousarray', 'asfarray', 'asfortranarray', 'asmatrix', 'atleast_1d', 'atleast_2d', 'atleast_3d', 'average', 'bartlett', 'base_repr', 'binary_repr', 'bincount', 'bitwise_and', 'bitwise_not', 'bitwise_or', 'bitwise_xor', 'blackman', 'block', 'bmat', 'bool8', 'bool_', 'broadcast', 'broadcast_arrays', 'broadcast_shapes', 'broadcast_to', 'busday_count', 'busday_offset', 'busdaycalendar', 'byte', 'byte_bounds', 'bytes0', 'bytes_', 'c_', 'can_cast', 'cast', 'cbrt', 'cdouble', 'ceil', 'cfloat', 'char', 'character', 'chararray', 'choose', 'clip', 'clongdouble', 'clongfloat', 'column_stack', 'common_type', 'compare_chararrays', 'compat', 'complex128', 'complex64', 'complex_', 'complexfloating', 'compress', 'concatenate', 'conj', 'conjugate', 'convolve', 'copy', 'copysign', 'copyto', 'core', 'corrcoef', 'correlate', 'cos', 'cosh', 'count_nonzero', 'cov', 'cross', 'csingle', 'ctypeslib', 'cumprod', 'cumproduct', 'cumsum', 'datetime64', 'datetime_as_string', 'datetime_data', 'deg2rad', 'degrees', 'delete', 'deprecate', 'deprecate_with_doc', 'diag', 'diag_indices', 'diag_indices_from', 'diagflat', 'diagonal', 'diff', 'digitize', 'disp', 'divide', 'divmod', 'dot', 'double', 'dsplit', 'dstack', 'dtype', 'e', 'ediff1d', 'einsum', 'einsum_path', 'emath', 'empty', 'empty_like', 'equal', 'error_message', 'errstate', 'euler_gamma', 'exp', 'exp2', 'expand_dims', 'expm1', 'extract', 'eye', 'fabs', 'fastCopyAndTranspose', 'fft', 'fill_diagonal', 'find_common_type', 'finfo', 'fix', 'flatiter', 'flatnonzero', 'flexible', 'flip', 'fliplr', 'flipud', 'float16', 'float32', 'float64', 'float_', 'float_power', 'floating', 'floor', 'floor_divide', 'fmax', 'fmin', 'fmod', 'format_float_positional', 'format_float_scientific', 'format_parser', 'frexp', 'from_dlpack', 'frombuffer', 'fromfile', 'fromfunction', 'fromiter', 'frompyfunc', 'fromregex', 'fromstring', 'full', 'full_like', 'gcd', 'generic', 'genfromtxt', 'geomspace', 'get_array_wrap', 'get_include', 'get_printoptions', 'getbufsize', 'geterr', 'geterrcall', 'geterrobj', 'gradient', 'greater', 'greater_equal', 'half', 'hamming', 'hanning', 'heaviside', 'histogram', 'histogram2d', 'histogram_bin_edges', 'histogramdd', 'hsplit', 'hstack', 'hypot', 'i0', 'identity', 'iinfo', 'imag', 'in1d', 'index_exp', 'indices', 'inexact', 'inf', 'info', 'infty', 'inner', 'insert', 'int0', 'int16', 'int32', 'int64', 'int8', 'int_', 'intc', 'integer', 'interp', 'intersect1d', 'intp', 'invert', 'is_busday', 'isclose', 'iscomplex', 'iscomplexobj', 'isfinite', 'isfortran', 'isin', 'isinf', 'isnan', 'isnat', 'isneginf', 'isposinf', 'isreal', 'isrealobj', 'isscalar', 'issctype', 'issubclass_', 'issubdtype', 'issubsctype', 'iterable', 'ix_', 'kaiser', 'kron', 'lcm', 'ldexp', 'left_shift', 'less', 'less_equal', 'lexsort', 'lib', 'linalg', 'linspace', 'little_endian', 'load', 'loadtxt', 'log', 'log10', 'log1p', 'log2', 'logaddexp', 'logaddexp2', 'logical_and', 'logical_not', 'logical_or', 'logical_xor', 'logspace', 'longcomplex', 'longdouble', 'longfloat', 'longlong', 'lookfor', 'ma', 'mask_indices', 'mat', 'math', 'matmul', 'matrix', 'matrixlib', 'max', 'maximum', 'maximum_sctype', 'may_share_memory', 'mean', 'median', 'memmap', 'meshgrid', 'mgrid', 'min', 'min_scalar_type', 'minimum', 'mintypecode', 'mod', 'modf', 'moveaxis', 'msort', 'multiply', 'nan', 'nan_to_num', 'nanargmax', 'nanargmin', 'nancumprod', 'nancumsum', 'nanmax', 'nanmean', 'nanmedian', 'nanmin', 'nanpercentile', 'nanprod', 'nanquantile', 'nanstd', 'nansum', 'nanvar', 'nbytes', 'ndarray', 'ndenumerate', 'ndim', 'ndindex', 'nditer', 'negative', 'nested_iters', 'newaxis', 'nextafter', 'nonzero', 'not_equal', 'numarray', 'number', 'obj2sctype', 'object0', 'object_', 'ogrid', 'oldnumeric', 'ones', 'ones_like', 'os', 'outer', 'packbits', 'pad', 'partition', 'percentile', 'pi', 'piecewise', 'place', 'poly', 'poly1d', 'polyadd', 'polyder', 'polydiv', 'polyfit', 'polyint', 'polymul', 'polynomial', 'polysub', 'polyval', 'positive', 'power', 'printoptions', 'prod', 'product', 'promote_types', 'ptp', 'put', 'put_along_axis', 'putmask', 'quantile', 'r_', 'rad2deg', 'radians', 'random', 'ravel', 'ravel_multi_index', 'real', 'real_if_close', 'rec', 'recarray', 'recfromcsv', 'recfromtxt', 'reciprocal', 'record', 'remainder', 'repeat', 'require', 'reshape', 'resize', 'result_type', 'right_shift', 'rint', 'roll', 'rollaxis', 'roots', 'rot90', 'round', 'round_', 'row_stack', 's_', 'safe_eval', 'save', 'savetxt', 'savez', 'savez_compressed', 'sctype2char', 'sctypeDict', 'sctypes', 'searchsorted', 'select', 'set_numeric_ops', 'set_printoptions', 'set_string_function', 'setbufsize', 'setdiff1d', 'seterr', 'seterrcall', 'seterrobj', 'setxor1d', 'shape', 'shares_memory', 'short', 'show_config', 'sign', 'signbit', 'signedinteger', 'sin', 'sinc', 'single', 'singlecomplex', 'sinh', 'size', 'sometrue', 'sort', 'sort_complex', 'source', 'spacing', 'split', 'sqrt', 'square', 'squeeze', 'stack', 'std', 'str0', 'str_', 'string_', 'subtract', 'sum', 'swapaxes', 'sys', 'take', 'take_along_axis', 'tan', 'tanh', 'tensordot', 'test', 'testing', 'tile', 'timedelta64', 'trace', 'tracemalloc_domain', 'transpose', 'trapz', 'tri', 'tril', 'tril_indices', 'tril_indices_from', 'trim_zeros', 'triu', 'triu_indices', 'triu_indices_from', 'true_divide', 'trunc', 'typecodes', 'typename', 'ubyte', 'ufunc', 'uint', 'uint0', 'uint16', 'uint32', 'uint64', 'uint8', 'uintc', 'uintp', 'ulonglong', 'unicode_', 'union1d', 'unique', 'unpackbits', 'unravel_index', 'unsignedinteger', 'unwrap', 'use_hugepage', 'ushort', 'vander', 'var', 'vdot', 'vectorize', 'version', 'void', 'void0', 'vsplit', 'vstack', 'w', 'warnings', 'where', 'who', 'zeros', 'zeros_like']\n"
     ]
    }
   ],
   "source": [
    "import numpy as np\n",
    "print(dir(np)) "
   ]
  },
  {
   "cell_type": "markdown",
   "metadata": {},
   "source": [
    " <a name='1.2'></a>\n",
    "## Создание массивов"
   ]
  },
  {
   "cell_type": "markdown",
   "metadata": {},
   "source": [
    "Сравнение np.array и списков"
   ]
  },
  {
   "cell_type": "code",
   "execution_count": 2,
   "metadata": {},
   "outputs": [
    {
     "name": "stdout",
     "output_type": "stream",
     "text": [
      "[1 2 3 4 5]\n",
      "<class 'numpy.ndarray'>\n",
      "[1, 2, 3, 4, 5]\n",
      "<class 'list'>\n",
      "1\n",
      "1\n",
      "[0 2 3 4 5]\n",
      "[0, 2, 3, 4, 5]\n",
      "[ 0  4  6  8 10]\n",
      "[0, 2, 3, 4, 5, 0, 2, 3, 4, 5]\n",
      "[ 0  4  6  8 10]\n",
      "[0, 2, 3, 4, 5, 0, 2, 3, 4, 5]\n"
     ]
    }
   ],
   "source": [
    "# Создание массива ndarray из списка\n",
    "arr = np.array([1, 2, 3, 4, 5])\n",
    "print(arr) # [1 2 3 4 5]\n",
    "print(type(arr)) # <class 'numpy.ndarray'>\n",
    "\n",
    "# Создание списка\n",
    "lst = [1, 2, 3, 4, 5]\n",
    "print(lst) # [1, 2, 3, 4, 5]\n",
    "print(type(lst)) # <class 'list'>\n",
    "\n",
    "# Доступ к элементам массива\n",
    "print(arr[0]) # 1\n",
    "\n",
    "# Доступ к элементам списка\n",
    "print(lst[0]) # 1\n",
    "\n",
    "# Изменение элемента массива\n",
    "arr[0] = 0\n",
    "print(arr) # [0 2 3 4 5]\n",
    "\n",
    "# Изменение элемента списка\n",
    "lst[0] = 0\n",
    "print(lst) # [0, 2, 3, 4, 5]\n",
    "\n",
    "# Сложение элементов массива\n",
    "print(arr + arr) # [0 4 6 8 10]\n",
    "\n",
    "# Сложение элементов списка\n",
    "print(lst + lst) # [0, 2, 3, 4, 5, 0, 2, 3, 4, 5]\n",
    "\n",
    "# Умножение элементов массива\n",
    "print(arr * 2) # [ 0  4  6  8 10]\n",
    "\n",
    "# Умножение элементов списка\n",
    "print(lst * 2) # [0, 2, 3, 4, 5, 0, 2, 3, 4, 5]"
   ]
  },
  {
   "cell_type": "code",
   "execution_count": 3,
   "metadata": {},
   "outputs": [
    {
     "name": "stdout",
     "output_type": "stream",
     "text": [
      "Создание двумерного массива:\n",
      " [[1 2 3]\n",
      " [4 5 6]]\n",
      "Получение формы массива:\n",
      " (2, 3)\n",
      "Получение количества измерений:\n",
      " 2\n",
      "Получение общего количества элементов:\n",
      " 6\n",
      "Получение типа данных элементов массива:\n",
      " int64\n"
     ]
    }
   ],
   "source": [
    "# Создание двумерного массива\n",
    "arr = np.array([[1, 2, 3], [4, 5, 6]])\n",
    "print(\"Создание двумерного массива:\\n\", arr)\n",
    "\n",
    "# Получение формы массива\n",
    "shape = arr.shape\n",
    "print(\"Получение формы массива:\\n\", shape)  # (2, 3)\n",
    "\n",
    "# Получение количества измерений\n",
    "ndim = arr.ndim\n",
    "print(\"Получение количества измерений:\\n\", ndim)  # 2\n",
    "\n",
    "# Получение общего количества элементов\n",
    "size = arr.size\n",
    "print(\"Получение общего количества элементов:\\n\", size)  # 6\n",
    "\n",
    "# Получение типа данных элементов массива\n",
    "dtype = arr.dtype\n",
    "print(\"Получение типа данных элементов массива:\\n\", dtype) # int64"
   ]
  },
  {
   "cell_type": "code",
   "execution_count": 4,
   "metadata": {},
   "outputs": [
    {
     "name": "stdout",
     "output_type": "stream",
     "text": [
      "Создание трехмерного массива:\n",
      " [[[1 2]\n",
      "  [3 4]]\n",
      "\n",
      " [[5 6]\n",
      "  [7 8]]]\n",
      "Получение формы массива:\n",
      " (2, 2, 2)\n",
      "Получение количества измерений:\n",
      " 3\n",
      "Получение общего количества элементов:\n",
      " 8\n",
      "Получение типа данных элементов массива:\n",
      " int64\n"
     ]
    }
   ],
   "source": [
    "# Создание трехмерного массива\n",
    "arr_3d = np.array([[[1, 2], [3, 4]], [[5, 6], [7, 8]]])\n",
    "print(\"Создание трехмерного массива:\\n\", arr_3d)\n",
    "\n",
    "# Получение формы массива\n",
    "shape = arr_3d.shape\n",
    "print(\"Получение формы массива:\\n\", shape)  # (2, 2, 2)\n",
    "\n",
    "# Получение количества измерений\n",
    "ndim = arr_3d.ndim\n",
    "print(\"Получение количества измерений:\\n\", ndim)  # 3\n",
    "\n",
    "# Получение общего количества элементов\n",
    "size = arr_3d.size\n",
    "print(\"Получение общего количества элементов:\\n\", size)  # 8\n",
    "\n",
    "# Получение типа данных элементов массива\n",
    "dtype = arr_3d.dtype\n",
    "print(\"Получение типа данных элементов массива:\\n\", dtype) # int64"
   ]
  },
  {
   "cell_type": "markdown",
   "metadata": {},
   "source": [
    "Различные способы создания массивов"
   ]
  },
  {
   "cell_type": "code",
   "execution_count": 5,
   "metadata": {},
   "outputs": [
    {
     "name": "stdout",
     "output_type": "stream",
     "text": [
      "Массив нулей:\n",
      " [0. 0. 0. 0. 0. 0. 0. 0. 0. 0.]\n",
      "Массив единиц:\n",
      " [1. 1. 1. 1. 1. 1. 1. 1. 1. 1.]\n"
     ]
    }
   ],
   "source": [
    "# Создание массива из 10 нулей\n",
    "print(\"Массив нулей:\\n\", np.zeros(10))\n",
    "\n",
    "# Создание массива из 10 единиц\n",
    "print(\"Массив единиц:\\n\", np.ones(10))"
   ]
  },
  {
   "cell_type": "code",
   "execution_count": 6,
   "metadata": {},
   "outputs": [
    {
     "name": "stdout",
     "output_type": "stream",
     "text": [
      "Повторение числа 10 пять раз в массиве:\n",
      " [10 10 10 10 10]\n",
      "Повторение каждого элемента в массиве 'a' три раза:\n",
      " [10 10 10 20 20 20 30 30 30]\n",
      "Массив из числа 10:\n",
      " [10 10 10 10 10]\n"
     ]
    }
   ],
   "source": [
    "# Повторение числа 10 пять раз в массиве\n",
    "print(\"Повторение числа 10 пять раз в массиве:\\n\", np.repeat(10,5))\n",
    "\n",
    "# Повторение каждого элемента в массиве 'a' три раза\n",
    "a= np.array([10,20,30])\n",
    "print(\"Повторение каждого элемента в массиве 'a' три раза:\\n\", np.repeat(a,3))\n",
    "\n",
    "# Создание массива из числа 10\n",
    "print(\"Массив из числа 10:\\n\", np.full(5,10))"
   ]
  },
  {
   "cell_type": "code",
   "execution_count": 7,
   "metadata": {},
   "outputs": [
    {
     "name": "stdout",
     "output_type": "stream",
     "text": [
      "Массив нечетных чисел:\n",
      " [ 1  3  5  7  9 11 13 15 17 19]\n",
      "Массив четных чисел:\n",
      " [ 2  4  6  8 10 12 14 16 18]\n",
      "Генерация четырех равномерно распределенных чисел в диапазоне от 10 до 20:\n",
      " [10.         13.33333333 16.66666667 20.        ]\n",
      "Генерация одиннадцати равномерно распределенных чисел в диапазоне от 10 до 20:\n",
      " [10. 11. 12. 13. 14. 15. 16. 17. 18. 19. 20.]\n"
     ]
    }
   ],
   "source": [
    "# Создание массива нечетных чисел от 1 до 19\n",
    "ar1 = np.arange(1,20)\n",
    "print(\"Массив нечетных чисел:\\n\", ar1[ar1%2 ==1])\n",
    "\n",
    "# Создание массива четных чисел от 2 до 20\n",
    "ar1 = np.arange(1,20)\n",
    "print(\"Массив четных чисел:\\n\", ar1[ar1%2 == 0])\n",
    "\n",
    "# Генерация четырех равномерно распределенных чисел в диапазоне от 10 до 20\n",
    "print(\"Генерация четырех равномерно распределенных чисел в диапазоне от 10 до 20:\\n\", np.linspace(10,20,4))\n",
    "\n",
    "# Генерация одиннадцати равномерно распределенных чисел в диапазоне от 10 до 20\n",
    "print(\"Генерация одиннадцати равномерно распределенных чисел в диапазоне от 10 до 20:\\n\", np.linspace(10,20,11))"
   ]
  },
  {
   "cell_type": "code",
   "execution_count": 8,
   "metadata": {},
   "outputs": [
    {
     "name": "stdout",
     "output_type": "stream",
     "text": [
      "Массив случайных значений:\n",
      " [0.68010054 0.62601091 0.22436062 0.13898066]\n",
      "Генерация массива из пяти случайных целых чисел в диапазоне от 0 до 499:\n",
      " [270 147  96 482 402]\n",
      "Генерация массива из десяти случайных целых чисел в диапазоне от 0 до 499:\n",
      " [380  45 400  47  14 120 336  92 448 477]\n"
     ]
    }
   ],
   "source": [
    "# Создание массива из четырех случайных значений\n",
    "print(\"Массив случайных значений:\\n\", np.random.random(4))\n",
    "\n",
    "# Генерация массива из пяти случайных целых чисел в диапазоне от 0 до 499\n",
    "print(\"Генерация массива из пяти случайных целых чисел в диапазоне от 0 до 499:\\n\", np.random.randint(0,500,5))\n",
    "\n",
    "# Генерация массива из десяти случайных целых чисел в диапазоне от 0 до 499\n",
    "print(\"Генерация массива из десяти случайных целых чисел в диапазоне от 0 до 499:\\n\", np.random.randint(0,500,10))"
   ]
  },
  {
   "cell_type": "code",
   "execution_count": 9,
   "metadata": {},
   "outputs": [
    {
     "name": "stdout",
     "output_type": "stream",
     "text": [
      "Генерация массива случайных целых чисел от 0 до 99 с помощью random.seed:\n",
      " [44 47 64 67 67  9 83 21 36 87]\n",
      "Генерация массива случайных целых чисел от 0 до 99 с помощью random.seed:\n",
      " [44 47 64 67 67  9 83 21 36 87]\n",
      "Генерация массива случайных целых чисел от 0 до 99 с помощью random.seed:\n",
      " [37 12 72  9 75  5 79 64 16  1]\n",
      "Генерация массива случайных целых чисел от 0 до 99 с помощью random.seed:\n",
      " [37 12 72  9 75  5 79 64 16  1]\n"
     ]
    }
   ],
   "source": [
    "# С помощью random.seed можно генерировать один и тот же массив случайных чисел\n",
    "np.random.seed(0)\n",
    "print(\"Генерация массива случайных целых чисел от 0 до 99 с помощью random.seed:\\n\", np.random.randint(0,100,10))\n",
    "np.random.seed(0)\n",
    "print(\"Генерация массива случайных целых чисел от 0 до 99 с помощью random.seed:\\n\", np.random.randint(0,100,10))\n",
    "\n",
    "np.random.seed(1)\n",
    "print(\"Генерация массива случайных целых чисел от 0 до 99 с помощью random.seed:\\n\", np.random.randint(0,100,10))\n",
    "np.random.seed(1)\n",
    "print(\"Генерация массива случайных целых чисел от 0 до 99 с помощью random.seed:\\n\", np.random.randint(0,100,10))"
   ]
  },
  {
   "cell_type": "code",
   "execution_count": 10,
   "metadata": {},
   "outputs": [
    {
     "name": "stdout",
     "output_type": "stream",
     "text": [
      "Генерация массива случайных чисел с плавающей запятой от 5 до 10 с помощью random.uniform:\n",
      " [5.93130106 6.72780364 6.98383737 7.69408367 7.09597257 8.4260975\n",
      " 6.02226125 9.39058718 5.13693797 8.35233755]\n",
      "\n",
      "Нормальное распределение: [ 1.46210794 -2.06014071 -0.3224172  -0.38405435  1.13376944 -1.09989127\n",
      " -0.17242821 -0.87785842  0.04221375  0.58281521]\n"
     ]
    }
   ],
   "source": [
    "# Создание массива случайных чисел с плавающей запятой\n",
    "print(\"Генерация массива случайных чисел с плавающей запятой от 5 до 10 с помощью random.uniform:\\n\", np.random.uniform(5,10, size=(10)))\n",
    "\n",
    "# Нормальное распределение (среднее значение=0 и дисперсия=1)\n",
    "print(\"\\nНормальное распределение:\", np.random.randn(10))"
   ]
  },
  {
   "cell_type": "code",
   "execution_count": 11,
   "metadata": {},
   "outputs": [
    {
     "name": "stdout",
     "output_type": "stream",
     "text": [
      "Целая часть: [8. 6. 8. 9. 5. 8. 9. 8. 6. 8.]\n",
      "\n",
      "Отбрасывание десятичной части: [5. 7. 9. 6. 6. 5. 5. 8. 6. 6.]\n",
      "\n",
      "Преобразование массива: [7 5 7 5 7 8 5 7 8 7]\n"
     ]
    }
   ],
   "source": [
    "# Извлечение целой части\n",
    "print(\"Целая часть:\", np.floor(np.random.uniform(5,10, size=(10))))\n",
    "\n",
    "# Отбрасывание десятичной части\n",
    "print(\"\\nОтбрасывание десятичной части:\", np.trunc(np.random.uniform(5,10, size=(10))))\n",
    "\n",
    "# Преобразование массива с плавающей запятой в массив целых чисел\n",
    "print(\"\\nПреобразование массива:\", np.random.uniform(5,10, size=(10)).astype(int))"
   ]
  },
  {
   "cell_type": "markdown",
   "metadata": {},
   "source": [
    " <a name='1.3'></a>\n",
    "## Операции на массивах"
   ]
  },
  {
   "cell_type": "code",
   "execution_count": 12,
   "metadata": {},
   "outputs": [
    {
     "name": "stdout",
     "output_type": "stream",
     "text": [
      "\n",
      "Перечисление элементов массива:\n",
      "(0,) 0.05080775477602897\n",
      "(1,) -0.6369956465693534\n",
      "(2,) 0.19091548466746602\n",
      "(3,) 2.100255136478842\n",
      "(4,) 0.12015895248162915\n",
      "(5,) 0.6172031097074192\n",
      "(6,) 0.3001703199558275\n",
      "(7,) -0.35224984649351865\n",
      "(8,) -1.1425181980221402\n",
      "(9,) -0.3493427224128775\n"
     ]
    }
   ],
   "source": [
    "# Перечисление элементов Numpy массивов\n",
    "print(\"\\nПеречисление элементов массива:\")\n",
    "for index, value in np.ndenumerate(np.random.randn(10)):\n",
    "    print(index, value)"
   ]
  },
  {
   "cell_type": "code",
   "execution_count": 13,
   "metadata": {},
   "outputs": [
    {
     "name": "stdout",
     "output_type": "stream",
     "text": [
      "Массив arr2:\n",
      "[ 1  2  3  4  5  6  7  8  9 10 11 12 13 14 15 16 17 18 19]\n",
      "Сумма всех элементов в массиве arr2:\n",
      "190\n",
      "Кумулятивная сумма элементов массива arr2:\n",
      "[  1   3   6  10  15  21  28  36  45  55  66  78  91 105 120 136 153 171\n",
      " 190]\n"
     ]
    }
   ],
   "source": [
    "arr2 = np.arange(1,20)\n",
    "print(\"Массив arr2:\")\n",
    "print(arr2)\n",
    "\n",
    "# Сумма всех элементов в массиве\n",
    "print(\"Сумма всех элементов в массиве arr2:\")\n",
    "print(arr2.sum())\n",
    "\n",
    "# Кумулятивная сумма элементов массива\n",
    "print(\"Кумулятивная сумма элементов массива arr2:\")\n",
    "print(np.cumsum(arr2))"
   ]
  },
  {
   "cell_type": "code",
   "execution_count": 14,
   "metadata": {},
   "outputs": [
    {
     "name": "stdout",
     "output_type": "stream",
     "text": [
      "Минимальное число в массиве arr2:\n",
      "1\n",
      "Максимальное число в массиве arr2:\n",
      "19\n",
      "Индекс минимального числа в массиве arr2:\n",
      "0\n",
      "Индекс максимального числа в массиве arr2:\n",
      "18\n"
     ]
    }
   ],
   "source": [
    "# Поиск минимального числа в массиве\n",
    "print(\"Минимальное число в массиве arr2:\")\n",
    "print(arr2.min())\n",
    "\n",
    "# Поиск максимального числа в массиве\n",
    "print(\"Максимальное число в массиве arr2:\")\n",
    "print(arr2.max())\n",
    "\n",
    "# Поиск индекса минимального числа в массиве\n",
    "print(\"Индекс минимального числа в массиве arr2:\")\n",
    "print(arr2.argmin())\n",
    "\n",
    "# Поиск индекса максимального числа в массиве\n",
    "print(\"Индекс максимального числа в массиве arr2:\")\n",
    "print(arr2.argmax())"
   ]
  },
  {
   "cell_type": "code",
   "execution_count": 15,
   "metadata": {},
   "outputs": [
    {
     "name": "stdout",
     "output_type": "stream",
     "text": [
      "Среднее значение всех чисел в массиве arr2:\n",
      "10.0\n",
      "Медиана всех чисел в массиве arr2:\n",
      "10.0\n",
      "Дисперсия массива arr2:\n",
      "30.0\n",
      "Стандартное отклонение массива arr2:\n",
      "5.477225575051661\n",
      "70-й процентиль массива arr2:\n",
      "13.6\n",
      "10-й и 70-й процентили массива arr2:\n",
      "[ 2.8 13.6]\n"
     ]
    }
   ],
   "source": [
    "# Поиск среднего значения всех чисел в массиве\n",
    "print(\"Среднее значение всех чисел в массиве arr2:\")\n",
    "print(arr2.mean())\n",
    "\n",
    "# Поиск медианы всех чисел в массиве arr2\n",
    "print(\"Медиана всех чисел в массиве arr2:\")\n",
    "print(np.median(arr2))\n",
    "\n",
    "# Дисперсия\n",
    "print(\"Дисперсия массива arr2:\")\n",
    "print(np.var(arr2))\n",
    "\n",
    "# Стандартное отклонение\n",
    "print(\"Стандартное отклонение массива arr2:\")\n",
    "print(np.std(arr2))\n",
    "\n",
    "# Рассчет процентилей\n",
    "print(\"70-й процентиль массива arr2:\")\n",
    "print(np.percentile(arr2,70))\n",
    "\n",
    "# Рассчет 10-го и 70-го процентилей\n",
    "print(\"10-й и 70-й процентили массива arr2:\")\n",
    "print(np.percentile(arr2,[10,70]))"
   ]
  },
  {
   "cell_type": "code",
   "execution_count": 16,
   "metadata": {},
   "outputs": [
    {
     "name": "stdout",
     "output_type": "stream",
     "text": [
      "[[ 1  2  3  4]\n",
      " [ 5  6  7  8]\n",
      " [10 11 25  3]\n",
      " [14 15 16 33]]\n",
      "Сумма всех чисел в 2D массиве: 163\n",
      "Максимальное число в 2D массиве: 33\n",
      "Минимальное число в 2D массиве: 1\n",
      "Минимальное значение в столбцах: [1 2 3 3]\n",
      "Минимальное значение в строках: [ 1  5  3 14]\n",
      "Среднее значение всех чисел в 2D массиве: 10.1875\n",
      "Среднее значение: 10.1875\n",
      "Медиана: 7.5\n",
      "50-й процентиль = Медиана: 7.5\n",
      "Дисперсия: 72.77734375\n",
      "Стандартное отклонение: 8.53096382303899\n",
      "75-й процентиль: 14.25\n",
      "25-й и 75-й процентили: [ 3.75 14.25]\n",
      "Перечисление элементов Numpy 2D массива:\n",
      "\n",
      "(0, 0) 1\n",
      "(0, 1) 2\n",
      "(0, 2) 3\n",
      "(0, 3) 4\n",
      "(1, 0) 5\n",
      "(1, 1) 6\n",
      "(1, 2) 7\n",
      "(1, 3) 8\n",
      "(2, 0) 10\n",
      "(2, 1) 11\n",
      "(2, 2) 25\n",
      "(2, 3) 3\n",
      "(3, 0) 14\n",
      "(3, 1) 15\n",
      "(3, 2) 16\n",
      "(3, 3) 33\n"
     ]
    }
   ],
   "source": [
    "A = np.array([[1,2,3,4] , [5,6,7,8] , [10 , 11 , 25 ,3] , [14,15,16,33]])\n",
    "print(A)\n",
    "# Сумма всех чисел в 2D массиве\n",
    "print(\"Сумма всех чисел в 2D массиве:\", A.sum())\n",
    "# Максимальное число в 2D массиве\n",
    "print(\"Максимальное число в 2D массиве:\", A.max())\n",
    "# Минимальное число в 2D массиве\n",
    "print(\"Минимальное число в 2D массиве:\", A.min())\n",
    "# Минимальное значение в столбцах\n",
    "print(\"Минимальное значение в столбцах:\", np.amin(A, axis=0))\n",
    "# Минимальное значение в строках\n",
    "print(\"Минимальное значение в строках:\", np.amin(A, axis=1))\n",
    "# Среднее значение всех чисел в 2D массиве\n",
    "print(\"Среднее значение всех чисел в 2D массиве:\", A.mean())\n",
    "# Среднее значение\n",
    "print(\"Среднее значение:\", np.mean(A))\n",
    "# Медиана\n",
    "print(\"Медиана:\", np.median(A))\n",
    "# 50-й процентиль = Медиана\n",
    "print(\"50-й процентиль = Медиана:\", np.percentile(A,50))\n",
    "# Дисперсия\n",
    "print(\"Дисперсия:\", np.var(A))\n",
    "# Стандартное отклонение\n",
    "print(\"Стандартное отклонение:\", np.std(A))\n",
    "# Расчет перцентилей\n",
    "print(\"75-й процентиль:\", np.percentile(A,75))\n",
    "# Расчет 10-го и 70-го процентилей\n",
    "print(\"25-й и 75-й процентили:\", np.percentile(A,[25,75]))\n",
    "# Перечисление элементов Numpy 2D массива\n",
    "print(\"Перечисление элементов Numpy 2D массива:\\n\")\n",
    "for index, value in np.ndenumerate(A):\n",
    "    print(index, value)"
   ]
  },
  {
   "cell_type": "markdown",
   "metadata": {},
   "source": [
    "Операции с элементами массива"
   ]
  },
  {
   "cell_type": "code",
   "execution_count": 17,
   "metadata": {},
   "outputs": [
    {
     "name": "stdout",
     "output_type": "stream",
     "text": [
      "Получение первого элемента массива 9\n",
      "Получение всех элементов массива, кроме первого [5 1 3 6 2]\n",
      "Получение 2-го, 3-го и 4-го значения из массива [5 1 3]\n",
      "Получение последнего элемента массива 2\n",
      "Получение 3-го с конца элемента массива 3\n",
      "Получение среза массива от 3-го до последнего [3 6]\n",
      "Замена четных чисел на 0 [ 1  0  3  0  5  0  7  0  9  0 11  0 13  0 15  0 17  0 19]\n",
      "Замена числа 10 на 99 [99 20 30 99 99 20 20]\n",
      "Замена значений с индексом 0, 3, 5 на 33, 55, 99 [33 10 20 55 40 99 60 70 80 90]\n"
     ]
    }
   ],
   "source": [
    "# Чтение элементов массива\n",
    "a = np.array([9,5,1,3,6,2])\n",
    "# Получение первого элемента массива\n",
    "print(\"Получение первого элемента массива\", a[0])\n",
    "# Получение всех элементов массива, кроме первого\n",
    "print(\"Получение всех элементов массива, кроме первого\", a[1:])\n",
    "# Получение 2-го, 3-го и 4-го значения из массива\n",
    "print(\"Получение 2-го, 3-го и 4-го значения из массива\", a[1:4])\n",
    "# Получение последнего элемента массива\n",
    "print(\"Получение последнего элемента массива\", a[-1])\n",
    "# Получение 3-го с конца элемента массива\n",
    "print(\"Получение 3-го с конца элемента массива\", a[-3])\n",
    "# Получение среза массива от 3-го до последнего\n",
    "print(\"Получение среза массива от 3-го до последнего\", a[-3:-1])\n",
    "# Замена элементов в массиве\n",
    "ar = np.arange(1,20)\n",
    "# Замена четных чисел на 0\n",
    "rep1 = np.where(ar % 2 == 0, 0 , ar)\n",
    "print(\"Замена четных чисел на 0\", rep1)\n",
    "ar2 = np.array([10, 20 , 30 , 10 ,10 ,20, 20])\n",
    "# Замена числа 10 на 99\n",
    "rep2 = np.where(ar2 == 10, 99 , ar2)\n",
    "print(\"Замена числа 10 на 99\", rep2)\n",
    "p2 = np.arange(0,100,10)\n",
    "# Замена значений с индексом 0, 3, 5 на 33, 55, 99\n",
    "np.put(p2, [0, 3 , 5], [33, 55, 99])\n",
    "print(\"Замена значений с индексом 0, 3, 5 на 33, 55, 99\", p2)"
   ]
  },
  {
   "cell_type": "markdown",
   "metadata": {},
   "source": [
    "Работа с пропущенными значениями"
   ]
  },
  {
   "cell_type": "code",
   "execution_count": 18,
   "metadata": {},
   "outputs": [
    {
     "name": "stdout",
     "output_type": "stream",
     "text": [
      "Пропущенные значения в массиве [ 3. nan  9.  5.  7. nan 11. inf]\n",
      "Поиск пропущенных значений и возврат их в виде булевого массива [False  True False False False  True False False]\n",
      "Индекс пропущенных значений в массиве (array([1, 5]),)\n",
      "Замена всех пропущенных значений на 100 [  3. 100.   9.   5.   7. 100.  11.  inf]\n",
      "Проверка наличия NULL значений в массиве\n",
      " False\n",
      "2D массив:\n",
      " [[ 1.  2. nan  4.]\n",
      " [nan  6.  7.  8.]\n",
      " [ 9. nan 11. 12.]\n",
      " [13. 14. 15. 16.]]\n",
      "Поиск пропущенных значений и возврат их в виде булевого массива\n",
      " [[False False  True False]\n",
      " [ True False False False]\n",
      " [False  True False False]\n",
      " [False False False False]]\n",
      "Индекс пропущенных значений в массиве\n",
      " (array([0, 1, 2]), array([2, 0, 1]))\n"
     ]
    }
   ],
   "source": [
    "# Пропущенные значения в массиве\n",
    "a = np.array([3 ,np.nan,9,5,7,np.nan,11,np.inf])\n",
    "print(\"Пропущенные значения в массиве\",a)\n",
    "\n",
    "# Поиск пропущенных значений и возврат их в виде булевого массива\n",
    "print(\"Поиск пропущенных значений и возврат их в виде булевого массива\",np.isnan(a))\n",
    "\n",
    "# Индекс пропущенных значений в массиве\n",
    "print(\"Индекс пропущенных значений в массиве\",np.where(np.isnan(a)))\n",
    "\n",
    "# Замена всех пропущенных значений на 100\n",
    "a[np.isnan(a)] = 100\n",
    "print(\"Замена всех пропущенных значений на 100\",a)\n",
    "\n",
    "# Проверка наличия NULL значений в массиве\n",
    "print(\"Проверка наличия NULL значений в массиве\\n\",np.isnan(a).any())\n",
    "\n",
    "# 2D массив\n",
    "\n",
    "A = np.array([[1,2,np.nan,4] , [np.nan,6,7,8] , [9 , np.nan , 11 ,12] , [13,14,15,16]])\n",
    "print(\"2D массив:\\n\", A)\n",
    "\n",
    "# Поиск пропущенных значений и возврат их в виде булевого массива\n",
    "print(\"Поиск пропущенных значений и возврат их в виде булевого массива\\n\",np.isnan(A))\n",
    "\n",
    "# Индекс пропущенных значений в массиве\n",
    "print(\"Индекс пропущенных значений в массиве\\n\", np.where(np.isnan(A)))"
   ]
  },
  {
   "cell_type": "markdown",
   "metadata": {},
   "source": [
    "Объединение массивов"
   ]
  },
  {
   "cell_type": "code",
   "execution_count": 19,
   "metadata": {},
   "outputs": [
    {
     "name": "stdout",
     "output_type": "stream",
     "text": [
      "Вертикальное объединение массивов:\n",
      " [[1 2 3]\n",
      " [4 5 6]\n",
      " [7 8 9]]\n",
      "Горизонтальное объединение массивов:\n",
      " [1 2 3 4 5 6 7 8 9]\n"
     ]
    }
   ],
   "source": [
    "# Создание массивов\n",
    "a = np.array([1,2,3])\n",
    "b = np.array([4,5,6])\n",
    "c = np.array([7,8,9])\n",
    "\n",
    "# Вертикальное объединение массивов\n",
    "vertical_stack = np.vstack((a,b,c))\n",
    "print(\"Вертикальное объединение массивов:\\n\", vertical_stack)\n",
    "\n",
    "# Горизонтальное объединение массивов\n",
    "horizontal_stack = np.hstack((a,b,c))\n",
    "print(\"Горизонтальное объединение массивов:\\n\", horizontal_stack)"
   ]
  },
  {
   "cell_type": "markdown",
   "metadata": {},
   "source": [
    "Общие элементы в массиве"
   ]
  },
  {
   "cell_type": "code",
   "execution_count": 20,
   "metadata": {},
   "outputs": [
    {
     "name": "stdout",
     "output_type": "stream",
     "text": [
      "Общие элементы массивов: [2 4 6]\n",
      "Первый массив без общих элементов: [1 3 5]\n"
     ]
    }
   ],
   "source": [
    "# Создаем два массива\n",
    "c1 = np.array([1,2,3,4,5,6])\n",
    "c2 = np.array([12,2,33,4,55,6])\n",
    "\n",
    "# Находим общие элементы между двумя массивами\n",
    "common_items = np.intersect1d(c1,c2)\n",
    "print(\"Общие элементы массивов:\", common_items)\n",
    "\n",
    "# Удаляем общие элементы из первого массива\n",
    "c1_without_common = np.setdiff1d(c1,c2)\n",
    "print(\"Первый массив без общих элементов:\", c1_without_common)"
   ]
  },
  {
   "cell_type": "markdown",
   "metadata": {},
   "source": [
    "Обработка элементов по условию"
   ]
  },
  {
   "cell_type": "code",
   "execution_count": 21,
   "metadata": {},
   "outputs": [
    {
     "name": "stdout",
     "output_type": "stream",
     "text": [
      "Ищем индексы элементов, где условие a == b выполнено\n",
      " (array([1, 4]),)\n",
      "Выводим элементы массива а, где условие a == b выполнено\n",
      " [2 8]\n",
      "Создаем массив a1 от 0 до 59 и выводим все элементы, где условие (a1 > 20) & (a1 < 35) выполнено\n",
      " [21 22 23 24 25 26 27 28 29 30 31 32 33 34]\n",
      "Создаем массив a1 от 0 до 59 и выводим все элементы, где условие ((a1 > 20) & (a1 < 35)) | (a1 % 10 ==0) выполнено\n",
      " [ 0 10 20 21 22 23 24 25 26 27 28 29 30 31 32 33 34 40 50]\n",
      "Создаем массив a1 от 0 до 59 и выводим все элементы, где условие (a1 > 20) & (a1 < 35) выполнено с помощью функции np.logical_and\n",
      " [21 22 23 24 25 26 27 28 29 30 31 32 33 34]\n",
      "Массив a:  [10 20 30 40 50 60 70]\n",
      "Есть ли числа 11 и 20 в массиве a:  [False  True False False False False False]\n",
      "Числа из массива a, которые совпали с 20:  [20]\n",
      "Есть ли число 33 в массиве a:  [False False False False False False False]\n",
      "Число из массива a, которое совпало с 33:  []\n",
      "Массив b:  [10 20 30 40 10 10 70 80 70 90]\n",
      "Есть ли числа 10 и 70 в массиве b:  [ True False False False  True  True  True False  True False]\n",
      "Индексы элементов из массива b, которые совпали с числами 10 и 70:  (array([0, 4, 5, 6, 8]),)\n",
      "Значения из массива b, которые совпали с числами 10 и 70:  [10 10 10 70 70]\n",
      "Значения из массива b, которые совпали с числами 10 и 70 (альтернативный вариант):  [10 10 10 70 70]\n"
     ]
    }
   ],
   "source": [
    "# Пример использования функции np.where для работы с условиями\n",
    "a = np.array([1,2,3,6,8])\n",
    "b = np.array([10,2,30,60,8])\n",
    "\n",
    "# Ищем индексы элементов, где условие a == b выполнено\n",
    "print(\"Ищем индексы элементов, где условие a == b выполнено\\n\", np.where(a == b))\n",
    "\n",
    "# Выводим элементы массива а, где условие a == b выполнено\n",
    "print(\"Выводим элементы массива а, где условие a == b выполнено\\n\", a[np.where(a == b)])\n",
    "\n",
    "# Создаем массив a1 от 0 до 59 и выводим все элементы, где условие (a1 > 20) & (a1 < 35) выполнено\n",
    "a1 = np.arange(0,60)\n",
    "a1[np.where ((a1>20) & (a1<35))]\n",
    "print(\"Создаем массив a1 от 0 до 59 и выводим все элементы, где условие (a1 > 20) & (a1 < 35) выполнено\\n\", a1[np.where ((a1>20) & (a1<35))])\n",
    "\n",
    "# Создаем массив a1 от 0 до 59 и выводим все элементы, где условие ((a1 > 20) & (a1 < 35)) | (a1 % 10 ==0) выполнено\n",
    "a1 = np.arange(0,60)\n",
    "a1[np.where (((a1>20) & (a1<35)) | (a1 % 10 ==0))]\n",
    "print(\"Создаем массив a1 от 0 до 59 и выводим все элементы, где условие ((a1 > 20) & (a1 < 35)) | (a1 % 10 ==0) выполнено\\n\", a1[np.where (((a1>20) & (a1<35)) | (a1 % 10 ==0))])\n",
    "\n",
    "# Создаем массив a1 от 0 до 59 и выводим все элементы, где условие (a1 > 20) & (a1 < 35) выполнено с помощью функции np.logical_and\n",
    "a1[np.where(np.logical_and(a1>20, a1<35))]\n",
    "print(\"Создаем массив a1 от 0 до 59 и выводим все элементы, где условие (a1 > 20) & (a1 < 35) выполнено с помощью функции np.logical_and\\n\", \n",
    "     a1[np.where(np.logical_and(a1>20, a1<35))])\n",
    "\n",
    "# Проверка наличия элементов в массиве с помощью функции np.isin()\n",
    "a = np.array([10,20,30,40,50,60,70])\n",
    "print(\"Массив a: \", a)\n",
    "\n",
    "# Проверяем, есть ли числа 11 и 20 в массиве\n",
    "print(\"Есть ли числа 11 и 20 в массиве a: \", np.isin(a, [11,20]))\n",
    "\n",
    "# Выводим числа, которые совпали с 20\n",
    "print(\"Числа из массива a, которые совпали с 20: \", a[np.isin(a,20)])\n",
    "\n",
    "# Проверяем, есть ли число 33 в массиве\n",
    "print(\"Есть ли число 33 в массиве a: \", np.isin(a, 33))\n",
    "\n",
    "# Выводим число, которое совпало с 33 (если такое есть)\n",
    "print(\"Число из массива a, которое совпало с 33: \", a[np.isin(a, 33)])\n",
    "\n",
    "b = np.array([10,20,30,40,10,10,70,80,70,90])\n",
    "print(\"Массив b: \", b)\n",
    "\n",
    "# Проверяем, есть ли числа 10 и 70 в массиве\n",
    "print(\"Есть ли числа 10 и 70 в массиве b: \", np.isin(b, [10,70]))\n",
    "\n",
    "# Выводим индексы, где совпадение было найдено\n",
    "print(\"Индексы элементов из массива b, которые совпали с числами 10 и 70: \", np.where(np.isin(b, [10,70])))\n",
    "\n",
    "# Выводим значения, которые совпали с числами 10 и 70\n",
    "print(\"Значения из массива b, которые совпали с числами 10 и 70: \", b[np.where(np.isin(b, [10,70]))])\n",
    "\n",
    "# Альтернативный вариант вывода значений, которые совпали с числами 10 и 70\n",
    "print(\"Значения из массива b, которые совпали с числами 10 и 70 (альтернативный вариант): \", b[np.isin(b, [10,70])])"
   ]
  },
  {
   "cell_type": "markdown",
   "metadata": {},
   "source": [
    "Массив в обратном порядке и сортировка"
   ]
  },
  {
   "cell_type": "code",
   "execution_count": 22,
   "metadata": {},
   "outputs": [
    {
     "name": "stdout",
     "output_type": "stream",
     "text": [
      "Исходный массив: [ 0  1  2  3  4  5  6  7  8  9 10 11 12 13 14 15 16 17 18 19 20 21 22 23\n",
      " 24 25 26 27 28 29]\n",
      "Массив в обратном порядке: [29 28 27 26 25 24 23 22 21 20 19 18 17 16 15 14 13 12 11 10  9  8  7  6\n",
      "  5  4  3  2  1  0]\n",
      "Массив в обратном порядке: [29 28 27 26 25 24 23 22 21 20 19 18 17 16 15 14 13 12 11 10  9  8  7  6\n",
      "  5  4  3  2  1  0]\n",
      "Исходный массив:\n",
      "[[ 1  2  3  4]\n",
      " [ 5  6  7  8]\n",
      " [ 9 10 11 12]\n",
      " [13 14 15 16]]\n",
      "Массив со строками в обратном порядке:\n",
      "[[13 14 15 16]\n",
      " [ 9 10 11 12]\n",
      " [ 5  6  7  8]\n",
      " [ 1  2  3  4]]\n",
      "Массив со столбцами в обратном порядке:\n",
      "[[ 4  3  2  1]\n",
      " [ 8  7  6  5]\n",
      " [12 11 10  9]\n",
      " [16 15 14 13]]\n",
      "Массив со строками и столбцами в обратном порядке:\n",
      "[[16 15 14 13]\n",
      " [12 11 10  9]\n",
      " [ 8  7  6  5]\n",
      " [ 4  3  2  1]]\n"
     ]
    }
   ],
   "source": [
    "# Обратный порядок массива\n",
    "a4 = np.arange(0,30)\n",
    "print(\"Исходный массив:\", a4)\n",
    "# Обратный порядок массива\n",
    "print(\"Массив в обратном порядке:\", a4[::-1])\n",
    "# Обратный порядок массива\n",
    "print(\"Массив в обратном порядке:\", np.flip(a4))\n",
    "\n",
    "a3 = np.array([[1,2,3,4] , [5,6,7,8] , [9,10,11,12] , [13,14,15,16]])\n",
    "print(\"Исходный массив:\")\n",
    "print(a3)\n",
    "# Обратный порядок строк\n",
    "print(\"Массив со строками в обратном порядке:\")\n",
    "print(a3[::-1,])\n",
    "# Обратный порядок столбцов\n",
    "print(\"Массив со столбцами в обратном порядке:\")\n",
    "print(a3[:,::-1])\n",
    "# Обратный порядок строк и столбцов\n",
    "print(\"Массив со строками и столбцами в обратном порядке:\")\n",
    "print(a3[::-1,::-1])"
   ]
  },
  {
   "cell_type": "code",
   "execution_count": 23,
   "metadata": {},
   "outputs": [
    {
     "name": "stdout",
     "output_type": "stream",
     "text": [
      "Массив в отсортированном порядке по возрастанию:\n",
      "[ 2  5 10 12 17 22 33 92]\n",
      "Исходный массив:\n",
      "[[ 3  2  8  1]\n",
      " [70 50 10 67]\n",
      " [45 25 75 15]]\n",
      "Массив со строками в отсортированном порядке по возрастанию:\n",
      "[[ 1  2  3  8]\n",
      " [10 50 67 70]\n",
      " [15 25 45 75]]\n",
      "Массив со строками в отсортированном порядке по возрастанию:\n",
      "[[ 1  2  3  8]\n",
      " [10 50 67 70]\n",
      " [15 25 45 75]]\n",
      "Массив со столбцами в отсортированном порядке по возрастанию:\n",
      "[[ 3  2  8  1]\n",
      " [45 25 10 15]\n",
      " [70 50 75 67]]\n",
      "Массив в отсортированном порядке по убыванию:\n",
      "[92 33 22 17 12 10  5  2]\n",
      "Массив в отсортированном порядке по убыванию:\n",
      "[92 33 22 17 12 10  5  2]\n",
      "Массив в отсортированном порядке по убыванию:\n",
      "[92 33 22 17 12 10  5  2]\n"
     ]
    }
   ],
   "source": [
    "# Сортировка массива\n",
    "a = np.array([10,5,2,22,12,92,17,33])\n",
    "# Сортировка по возрастанию\n",
    "print(\"Массив в отсортированном порядке по возрастанию:\")\n",
    "print(np.sort(a))\n",
    "a3 = np.array([[3,2,8,1] , [70,50,10,67] , [45,25,75,15]])\n",
    "print(\"Исходный массив:\")\n",
    "print(a3)\n",
    "# Сортировка строк по возрастанию\n",
    "print(\"Массив со строками в отсортированном порядке по возрастанию:\")\n",
    "print(np.sort(a3))\n",
    "# Сортировка строк по возрастанию\n",
    "print(\"Массив со строками в отсортированном порядке по возрастанию:\")\n",
    "print(np.sort(a3,axis =1))\n",
    "# Сортировка столбцов по возрастанию\n",
    "print(\"Массив со столбцами в отсортированном порядке по возрастанию:\")\n",
    "print(np.sort(a3,axis =0))\n",
    "# Сортировка по убыванию\n",
    "b = np.sort(a)\n",
    "b = b[::-1]\n",
    "print(\"Массив в отсортированном порядке по убыванию:\")\n",
    "print(b)\n",
    "# Сортировка по убыванию\n",
    "c = np.sort(a)\n",
    "print(\"Массив в отсортированном порядке по убыванию:\")\n",
    "print(np.flip(c))\n",
    "# Сортировка по убыванию\n",
    "a[::-1].sort()\n",
    "print(\"Массив в отсортированном порядке по убыванию:\")\n",
    "print(a)"
   ]
  },
  {
   "cell_type": "markdown",
   "metadata": {},
   "source": [
    "Наибольшие и наименьшие значения в массиве"
   ]
  },
  {
   "cell_type": "code",
   "execution_count": 24,
   "metadata": {},
   "outputs": [
    {
     "name": "stdout",
     "output_type": "stream",
     "text": [
      "Массив p: \n",
      "[ 0  1  2  3  4  5  6  7  8  9 10 11 12 13 14 15 16 17 18 19 20 21 22 23\n",
      " 24 25 26 27 28 29 30 31 32 33 34 35 36 37 38 39 40 41 42 43 44 45 46 47\n",
      " 48 49]\n",
      "Массив p после перемешивания: \n",
      "[ 8  3 11 37 27 16 45 21 15 14 49 36 29  5 33 43 42 26 25  6 31  9  0 22\n",
      " 39 38 41 35  2 34 19 47 40 30  1 12 46 20 28 44 24  7 17 23 10 13 32 18\n",
      " 48  4]\n",
      "n наибольших чисел в массиве p: \n",
      "[46 47 48 49]\n",
      "[49 48 47 46]\n",
      "n наименьших чисел в массиве p: \n",
      "[3 2 1 0]\n",
      "[1 0 2 3]\n"
     ]
    }
   ],
   "source": [
    "# # \"N\" наибольших и наименьших чисел в массиве\n",
    "p = np.arange(0,50)\n",
    "print(\"Массив p: \")\n",
    "print(p)\n",
    "np.random.shuffle(p)\n",
    "print(\"Массив p после перемешивания: \")\n",
    "print(p)\n",
    "\n",
    "# Вернуть \"n\" наибольших чисел в массиве\n",
    "n = 4\n",
    "print(\"n наибольших чисел в массиве p: \")\n",
    "print(p[np.argsort(p)[-n:]])\n",
    "print(p[np.argpartition(-p,n)[:n]])\n",
    "\n",
    "# Вернуть \"n\" наименьших чисел в массиве\n",
    "print(\"n наименьших чисел в массиве p: \")\n",
    "print(p[np.argsort(-p)[-n:]])\n",
    "print(p[np.argpartition(p,n)[:n]])"
   ]
  },
  {
   "cell_type": "markdown",
   "metadata": {},
   "source": [
    "Сравнение массивов"
   ]
  },
  {
   "cell_type": "code",
   "execution_count": 25,
   "metadata": {},
   "outputs": [
    {
     "name": "stdout",
     "output_type": "stream",
     "text": [
      "Массив a5: \n",
      "[10, 20, 30]\n",
      "Массив a5, повторенный дважды: \n",
      "[10 20 30 10 20 30]\n",
      "Каждый элемент массива a5, повторенный три раза: \n",
      "[10 10 10 20 20 20 30 30 30]\n",
      "Массив d1: \n",
      "[0 1 2 3 4 5 6 7 8 9]\n",
      "Массив d2: \n",
      "[0 1 2 3 4 5 6 7 8 9]\n",
      "Массив d3: \n",
      "[10 11 12 13 14 15 16 17 18 19]\n",
      "Массив d4: \n",
      "[9 8 7 6 5 4 3 2 1 0]\n",
      "Результат сравнения массивов d1 и d2: \n",
      "True\n",
      "Результат сравнения массивов d1 и d3: \n",
      "False\n",
      "Результат сравнения массивов d1 и d4: \n",
      "False\n"
     ]
    }
   ],
   "source": [
    "# # Повторяющиеся последовательности\n",
    "a5 = [10,20,30] \n",
    "print(\"Массив a5: \")\n",
    "print(a5)\n",
    "\n",
    "# Повторить весь массив дважды\n",
    "print(\"Массив a5, повторенный дважды: \")\n",
    "print(np.tile(a5, 2))\n",
    "\n",
    "# Повторить каждый элемент в массиве три раза\n",
    "print(\"Каждый элемент массива a5, повторенный три раза: \")\n",
    "print(np.repeat(a5, 3))\n",
    "\n",
    "\n",
    "# # Сравнение массивов\n",
    "d1 = np.arange(0,10)\n",
    "print(\"Массив d1: \")\n",
    "print(d1)\n",
    "\n",
    "d2 = np.arange(0,10)\n",
    "print(\"Массив d2: \")\n",
    "print(d2)\n",
    "\n",
    "d3 = np.arange(10,20)\n",
    "print(\"Массив d3: \")\n",
    "print(d3)\n",
    "\n",
    "d4 = d1[::-1]\n",
    "print(\"Массив d4: \")\n",
    "print(d4)\n",
    "\n",
    "# Сравнить массивы с помощью функции \"allclose\". Если эта функция возвращает True, то массивы равны\n",
    "res1 = np.allclose(d1,d2)\n",
    "print(\"Результат сравнения массивов d1 и d2: \")\n",
    "print(res1)\n",
    "\n",
    "# Сравнить массивы с помощью функции \"allclose\". Если эта функция возвращает False, то массивы не равны\n",
    "res2 = np.allclose(d1,d3)\n",
    "print(\"Результат сравнения массивов d1 и d3: \")\n",
    "print(res2)\n",
    "\n",
    "# Сравнить массивы с помощью функции \"allclose\"\n",
    "res3 = np.allclose(d1,d4)\n",
    "print(\"Результат сравнения массивов d1 и d4: \")\n",
    "print(res3)"
   ]
  },
  {
   "cell_type": "markdown",
   "metadata": {},
   "source": [
    "[К оглавлению](#toc)"
   ]
  },
  {
   "cell_type": "markdown",
   "metadata": {},
   "source": [
    "<a name='2'></a>\n",
    "#  Sympy"
   ]
  },
  {
   "cell_type": "markdown",
   "metadata": {},
   "source": [
    "<a name='2.1'></a>\n",
    "##  Описание\n",
    "\n",
    "SymPy - это библиотека для языка программирования Python, которая предоставляет инструменты для символьных вычислений:\n",
    "\n",
    "- Манипулирование математическими выражениями\n",
    "- Решение уравнений\n",
    "- Векторные вычисления\n",
    "- Физические задачи\n",
    "- Вычисления производных и интегралов\n",
    "- Задачи линейной алгебры\n",
    "\n",
    "Основным компонентом SymPy является объект Symbol, который представляет собой символическую переменную. Эти переменные могут использоваться для создания символьных выражений, таких как выражения вида x^2 + 2*x + 1, а также для решения уравнений и выполнения других математических операций.\n",
    "\n",
    "SymPy также предоставляет множество функций для работы с различными типами математических объектов, таких как полиномы, рациональные функции, тригонометрические функции и т.д. Библиотека также имеет множество инструментов для работы с графиками, в том числе инструменты для построения 2D и 3D графиков.\n",
    "\n",
    "SymPy является мощной библиотекой для символьных вычислений и часто используется в научных и инженерных приложениях, таких как математическое моделирование, физика, химия и многих других областях."
   ]
  },
  {
   "cell_type": "markdown",
   "metadata": {},
   "source": [
    "Операции с дробями"
   ]
  },
  {
   "cell_type": "code",
   "execution_count": 26,
   "metadata": {},
   "outputs": [
    {
     "name": "stdout",
     "output_type": "stream",
     "text": [
      "['Abs', 'AccumBounds', 'Add', 'Adjoint', 'AlgebraicField', 'AlgebraicNumber', 'And', 'AppliedPredicate', 'Array', 'AssumptionsContext', 'Atom', 'AtomicExpr', 'BasePolynomialError', 'Basic', 'BlockDiagMatrix', 'BlockMatrix', 'CC', 'CRootOf', 'Catalan', 'Chi', 'Ci', 'Circle', 'CoercionFailed', 'Complement', 'ComplexField', 'ComplexRegion', 'ComplexRootOf', 'Complexes', 'ComputationFailed', 'ConditionSet', 'Contains', 'CosineTransform', 'Curve', 'DeferredVector', 'DenseNDimArray', 'Derivative', 'Determinant', 'DiagMatrix', 'DiagonalMatrix', 'DiagonalOf', 'Dict', 'DiracDelta', 'DisjointUnion', 'Domain', 'DomainError', 'DotProduct', 'Dummy', 'E', 'E1', 'EPath', 'EX', 'EXRAW', 'Ei', 'Eijk', 'Ellipse', 'EmptySequence', 'EmptySet', 'Eq', 'Equality', 'Equivalent', 'EulerGamma', 'EvaluationFailed', 'ExactQuotientFailed', 'Expr', 'ExpressionDomain', 'ExtraneousFactors', 'FF', 'FF_gmpy', 'FF_python', 'FU', 'FallingFactorial', 'FiniteField', 'FiniteSet', 'FlagError', 'Float', 'FourierTransform', 'FractionField', 'Function', 'FunctionClass', 'FunctionMatrix', 'GF', 'GMPYFiniteField', 'GMPYIntegerRing', 'GMPYRationalField', 'Ge', 'GeneratorsError', 'GeneratorsNeeded', 'GeometryError', 'GoldenRatio', 'GramSchmidt', 'GreaterThan', 'GroebnerBasis', 'Gt', 'HadamardPower', 'HadamardProduct', 'HankelTransform', 'Heaviside', 'HeuristicGCDFailed', 'HomomorphismFailed', 'I', 'ITE', 'Id', 'Identity', 'Idx', 'ImageSet', 'ImmutableDenseMatrix', 'ImmutableDenseNDimArray', 'ImmutableMatrix', 'ImmutableSparseMatrix', 'ImmutableSparseNDimArray', 'Implies', 'Indexed', 'IndexedBase', 'Integer', 'IntegerRing', 'Integers', 'Integral', 'Intersection', 'Interval', 'Inverse', 'InverseCosineTransform', 'InverseFourierTransform', 'InverseHankelTransform', 'InverseLaplaceTransform', 'InverseMellinTransform', 'InverseSineTransform', 'IsomorphismFailed', 'KroneckerDelta', 'KroneckerProduct', 'LC', 'LM', 'LT', 'Lambda', 'LambertW', 'LaplaceTransform', 'Le', 'LessThan', 'LeviCivita', 'Li', 'Limit', 'Line', 'Line2D', 'Line3D', 'Lt', 'MatAdd', 'MatMul', 'MatPow', 'Matrix', 'MatrixBase', 'MatrixExpr', 'MatrixPermute', 'MatrixSlice', 'MatrixSymbol', 'Max', 'MellinTransform', 'Min', 'Mod', 'Monomial', 'Mul', 'MultivariatePolynomialError', 'MutableDenseMatrix', 'MutableDenseNDimArray', 'MutableMatrix', 'MutableSparseMatrix', 'MutableSparseNDimArray', 'N', 'NDimArray', 'Nand', 'Naturals', 'Naturals0', 'Ne', 'NonSquareMatrixError', 'Nor', 'Not', 'NotAlgebraic', 'NotInvertible', 'NotReversible', 'Number', 'NumberSymbol', 'O', 'OmegaPower', 'OneMatrix', 'OperationNotSupported', 'OptionError', 'Options', 'Or', 'Order', 'Ordinal', 'POSform', 'Parabola', 'Permanent', 'PermutationMatrix', 'Piecewise', 'Plane', 'Point', 'Point2D', 'Point3D', 'PoleError', 'PolificationFailed', 'Poly', 'Polygon', 'PolynomialDivisionFailed', 'PolynomialError', 'PolynomialRing', 'Pow', 'PowerSet', 'PrecisionExhausted', 'Predicate', 'Product', 'ProductSet', 'PurePoly', 'PythonFiniteField', 'PythonIntegerRing', 'PythonRational', 'Q', 'QQ', 'QQ_I', 'QQ_gmpy', 'QQ_python', 'Quaternion', 'RR', 'Range', 'Rational', 'RationalField', 'Rationals', 'Ray', 'Ray2D', 'Ray3D', 'RealField', 'RealNumber', 'Reals', 'RefinementFailed', 'RegularPolygon', 'Rel', 'Rem', 'RisingFactorial', 'RootOf', 'RootSum', 'S', 'SOPform', 'SYMPY_DEBUG', 'Segment', 'Segment2D', 'Segment3D', 'SeqAdd', 'SeqFormula', 'SeqMul', 'SeqPer', 'Set', 'ShapeError', 'Shi', 'Si', 'Sieve', 'SineTransform', 'SingularityFunction', 'SparseMatrix', 'SparseNDimArray', 'StrPrinter', 'StrictGreaterThan', 'StrictLessThan', 'Subs', 'Sum', 'Symbol', 'SymmetricDifference', 'SympifyError', 'TableForm', 'Trace', 'Transpose', 'Triangle', 'TribonacciConstant', 'Tuple', 'Unequality', 'UnevaluatedExpr', 'UnificationFailed', 'Union', 'UnivariatePolynomialError', 'UniversalSet', 'Wild', 'WildFunction', 'Xor', 'Ynm', 'Ynm_c', 'ZZ', 'ZZ_I', 'ZZ_gmpy', 'ZZ_python', 'ZeroMatrix', 'Znm', '__all__', '__builtins__', '__cached__', '__doc__', '__file__', '__loader__', '__name__', '__package__', '__path__', '__spec__', '__sympy_debug', '__version__', 'abundance', 'acos', 'acosh', 'acot', 'acoth', 'acsc', 'acsch', 'adjoint', 'airyai', 'airyaiprime', 'airybi', 'airybiprime', 'algebras', 'apart', 'apart_list', 'appellf1', 'apply_finite_diff', 'approximants', 'are_similar', 'arg', 'arity', 'asec', 'asech', 'asin', 'asinh', 'ask', 'assemble_partfrac_list', 'assoc_laguerre', 'assoc_legendre', 'assuming', 'assumptions', 'atan', 'atan2', 'atanh', 'banded', 'bell', 'bernoulli', 'besseli', 'besselj', 'besselk', 'besselsimp', 'bessely', 'beta', 'betainc', 'betainc_regularized', 'binomial', 'binomial_coefficients', 'binomial_coefficients_list', 'block_collapse', 'blockcut', 'bool_map', 'bottom_up', 'bspline_basis', 'bspline_basis_set', 'cacheit', 'calculus', 'cancel', 'capture', 'carmichael', 'cartes', 'casoratian', 'catalan', 'cbrt', 'ccode', 'ceiling', 'centroid', 'chebyshevt', 'chebyshevt_poly', 'chebyshevt_root', 'chebyshevu', 'chebyshevu_poly', 'chebyshevu_root', 'check_assumptions', 'checkodesol', 'checkpdesol', 'checksol', 'classify_ode', 'classify_pde', 'closest_points', 'cofactors', 'collect', 'collect_const', 'combsimp', 'comp', 'compose', 'composite', 'compositepi', 'concrete', 'conjugate', 'construct_domain', 'content', 'continued_fraction', 'continued_fraction_convergents', 'continued_fraction_iterator', 'continued_fraction_periodic', 'continued_fraction_reduce', 'convex_hull', 'convolution', 'core', 'cos', 'cosh', 'cosine_transform', 'cot', 'coth', 'count_ops', 'count_roots', 'covering_product', 'csc', 'csch', 'cse', 'cxxcode', 'cycle_length', 'cyclotomic_poly', 'decompogen', 'decompose', 'default_sort_key', 'deg', 'degree', 'degree_list', 'denom', 'derive_by_array', 'det', 'det_quick', 'diag', 'diagonalize_vector', 'dict_merge', 'diff', 'difference_delta', 'differentiate_finite', 'digamma', 'diophantine', 'dirichlet_eta', 'discrete', 'discrete_log', 'discriminant', 'div', 'divisor_count', 'divisor_sigma', 'divisors', 'doctest', 'dotprint', 'dsolve', 'egyptian_fraction', 'elliptic_e', 'elliptic_f', 'elliptic_k', 'elliptic_pi', 'epath', 'erf', 'erf2', 'erf2inv', 'erfc', 'erfcinv', 'erfi', 'erfinv', 'euler', 'euler_equations', 'evalf', 'evaluate', 'exp', 'exp_polar', 'expand', 'expand_complex', 'expand_func', 'expand_log', 'expand_mul', 'expand_multinomial', 'expand_power_base', 'expand_power_exp', 'expand_trig', 'expint', 'exptrigsimp', 'exquo', 'external', 'eye', 'factor', 'factor_list', 'factor_nc', 'factor_terms', 'factorial', 'factorial2', 'factorint', 'factorrat', 'failing_assumptions', 'false', 'farthest_points', 'fcode', 'ff', 'fft', 'fibonacci', 'field', 'field_isomorphism', 'filldedent', 'finite_diff_weights', 'flatten', 'floor', 'fourier_series', 'fourier_transform', 'fps', 'frac', 'fraction', 'fresnelc', 'fresnels', 'fu', 'functions', 'fwht', 'gamma', 'gammasimp', 'gcd', 'gcd_list', 'gcd_terms', 'gcdex', 'gegenbauer', 'genocchi', 'geometry', 'get_contraction_structure', 'get_indices', 'gff', 'gff_list', 'glsl_code', 'grevlex', 'grlex', 'groebner', 'ground_roots', 'group', 'gruntz', 'hadamard_product', 'half_gcdex', 'hankel1', 'hankel2', 'hankel_transform', 'harmonic', 'has_dups', 'has_variety', 'hermite', 'hermite_poly', 'hessian', 'hn1', 'hn2', 'homogeneous_order', 'horner', 'hyper', 'hyperexpand', 'hypersimilar', 'hypersimp', 'idiff', 'ifft', 'ifwht', 'igcd', 'igrevlex', 'igrlex', 'ilcm', 'ilex', 'im', 'imageset', 'init_printing', 'init_session', 'integer_log', 'integer_nthroot', 'integrals', 'integrate', 'interactive', 'interactive_traversal', 'interpolate', 'interpolating_poly', 'interpolating_spline', 'intersecting_product', 'intersection', 'intervals', 'intt', 'inv_quick', 'inverse_cosine_transform', 'inverse_fourier_transform', 'inverse_hankel_transform', 'inverse_laplace_transform', 'inverse_mellin_transform', 'inverse_mobius_transform', 'inverse_sine_transform', 'invert', 'is_abundant', 'is_amicable', 'is_convex', 'is_decreasing', 'is_deficient', 'is_increasing', 'is_mersenne_prime', 'is_monotonic', 'is_nthpow_residue', 'is_perfect', 'is_primitive_root', 'is_quad_residue', 'is_strictly_decreasing', 'is_strictly_increasing', 'is_zero_dimensional', 'isolate', 'isprime', 'itermonomials', 'jacobi', 'jacobi_normalized', 'jacobi_poly', 'jacobi_symbol', 'jn', 'jn_zeros', 'jordan_cell', 'jscode', 'julia_code', 'kronecker_product', 'kroneckersimp', 'laguerre', 'laguerre_poly', 'lambdify', 'laplace_transform', 'latex', 'lcm', 'lcm_list', 'legendre', 'legendre_poly', 'legendre_symbol', 'lerchphi', 'lex', 'li', 'limit', 'limit_seq', 'line_integrate', 'linear_eq_to_matrix', 'linsolve', 'list2numpy', 'ln', 'log', 'logcombine', 'loggamma', 'logic', 'lowergamma', 'lucas', 'maple_code', 'marcumq', 'mathematica_code', 'mathieuc', 'mathieucprime', 'mathieus', 'mathieusprime', 'mathml', 'matrices', 'matrix2numpy', 'matrix_multiply_elementwise', 'matrix_symbols', 'maximum', 'meijerg', 'mellin_transform', 'memoize_property', 'mersenne_prime_exponent', 'minimal_polynomial', 'minimum', 'minpoly', 'mobius', 'mobius_transform', 'mod_inverse', 'monic', 'motzkin', 'multigamma', 'multiline_latex', 'multinomial_coefficients', 'multipledispatch', 'multiplicity', 'n_order', 'nan', 'nextprime', 'nfloat', 'nonlinsolve', 'not_empty_in', 'npartitions', 'nroots', 'nsimplify', 'nsolve', 'nth_power_roots_poly', 'ntheory', 'nthroot_mod', 'ntt', 'numbered_symbols', 'numer', 'octave_code', 'ode_order', 'ones', 'oo', 'ord0', 'ordered', 'pager_print', 'parallel_poly_from_expr', 'parse_expr', 'parsing', 'partition', 'pde_separate', 'pde_separate_add', 'pde_separate_mul', 'pdiv', 'pdsolve', 'per', 'perfect_power', 'periodic_argument', 'periodicity', 'permutedims', 'pexquo', 'pi', 'piecewise_exclusive', 'piecewise_fold', 'plot', 'plot_backends', 'plot_implicit', 'plot_parametric', 'plotting', 'polar_lift', 'polarify', 'pollard_pm1', 'pollard_rho', 'poly', 'poly_from_expr', 'polygamma', 'polylog', 'polys', 'posify', 'postfixes', 'postorder_traversal', 'powdenest', 'powsimp', 'pprint', 'pprint_try_use_unicode', 'pprint_use_unicode', 'pquo', 'prefixes', 'prem', 'preorder_traversal', 'pretty', 'pretty_print', 'preview', 'prevprime', 'prime', 'prime_decomp', 'prime_valuation', 'primefactors', 'primenu', 'primeomega', 'primepi', 'primerange', 'primitive', 'primitive_element', 'primitive_root', 'primorial', 'principal_branch', 'print_ccode', 'print_fcode', 'print_glsl', 'print_gtk', 'print_jscode', 'print_latex', 'print_maple_code', 'print_mathml', 'print_python', 'print_rcode', 'print_tree', 'printing', 'prod', 'product', 'proper_divisor_count', 'proper_divisors', 'public', 'pycode', 'python', 'quadratic_congruence', 'quadratic_residues', 'quo', 'rad', 'radsimp', 'randMatrix', 'random_poly', 'randprime', 'rational_interpolate', 'ratsimp', 'ratsimpmodprime', 'rcode', 'rcollect', 're', 'real_root', 'real_roots', 'reduce_abs_inequalities', 'reduce_abs_inequality', 'reduce_inequalities', 'reduced', 'reduced_totient', 'refine', 'refine_root', 'register_handler', 'release', 'rem', 'remove_handler', 'reshape', 'residue', 'resultant', 'rf', 'riemann_xi', 'ring', 'root', 'rootof', 'roots', 'rot_axis1', 'rot_axis2', 'rot_axis3', 'rotations', 'round_two', 'rsolve', 'rsolve_hyper', 'rsolve_poly', 'rsolve_ratio', 'rust_code', 'satisfiable', 'sec', 'sech', 'separatevars', 'sequence', 'series', 'seterr', 'sets', 'sfield', 'shape', 'sieve', 'sift', 'sign', 'signsimp', 'simplify', 'simplify_logic', 'sin', 'sinc', 'sine_transform', 'singularities', 'singularityintegrate', 'sinh', 'solve', 'solve_linear', 'solve_linear_system', 'solve_linear_system_LU', 'solve_poly_inequality', 'solve_poly_system', 'solve_rational_inequalities', 'solve_triangulated', 'solve_undetermined_coeffs', 'solve_univariate_inequality', 'solvers', 'solveset', 'source', 'sqf', 'sqf_list', 'sqf_norm', 'sqf_part', 'sqrt', 'sqrt_mod', 'sqrt_mod_iter', 'sqrtdenest', 'srepr', 'sring', 'sstr', 'sstrrepr', 'stationary_points', 'stieltjes', 'strategies', 'sturm', 'subfactorial', 'subresultants', 'subsets', 'substitution', 'summation', 'swinnerton_dyer_poly', 'symarray', 'symbols', 'symmetric_poly', 'symmetrize', 'sympify', 'take', 'tan', 'tanh', 'tensor', 'tensorcontraction', 'tensordiagonal', 'tensorproduct', 'terms_gcd', 'test', 'testing', 'textplot', 'threaded', 'timed', 'to_cnf', 'to_dnf', 'to_nnf', 'to_number_field', 'together', 'topological_sort', 'total_degree', 'totient', 'trace', 'trailing', 'transpose', 'tribonacci', 'trigamma', 'trigsimp', 'true', 'trunc', 'unbranched_argument', 'unflatten', 'unpolarify', 'uppergamma', 'use', 'utilities', 'var', 'variations', 'vectorize', 'vfield', 'viete', 'vring', 'wronskian', 'xfield', 'xring', 'xthreaded', 'yn', 'zeros', 'zeta', 'zoo']\n"
     ]
    }
   ],
   "source": [
    "import sympy as sp\n",
    "print(dir(sp))"
   ]
  },
  {
   "cell_type": "code",
   "execution_count": 27,
   "metadata": {},
   "outputs": [
    {
     "name": "stdout",
     "output_type": "stream",
     "text": [
      "Объект x: \n",
      "2/7\n",
      "x + x: \n",
      "4/7\n",
      "2*x: \n",
      "4/7\n",
      "y = x + x: \n",
      "4/7\n",
      "z = 2*x: \n",
      "4/7\n",
      "Десятичная дробь: \n",
      "0.2857142857142857\n"
     ]
    }
   ],
   "source": [
    "from sympy import Rational, pi\n",
    "\n",
    "# Создаем объект Rational с числителем 2 и знаменателем 7\n",
    "x = Rational(2, 7)\n",
    "\n",
    "# Выводим объект x\n",
    "print(\"Объект x: \")\n",
    "print(x)\n",
    "\n",
    "# Выполняем операции с объектом x\n",
    "y = x + x\n",
    "print(\"x + x: \")\n",
    "print(y)\n",
    "\n",
    "z = 2*x\n",
    "print(\"2*x: \")\n",
    "print(z)\n",
    "\n",
    "# Выводим результаты операций\n",
    "print(\"y = x + x: \")\n",
    "print(y)\n",
    "\n",
    "print(\"z = 2*x: \")\n",
    "print(z)\n",
    "\n",
    "# Выполняем преобразование объекта x в десятичную дробь\n",
    "decimal = float(x)\n",
    "print(\"Десятичная дробь: \")\n",
    "print(decimal)\n"
   ]
  },
  {
   "cell_type": "code",
   "execution_count": 28,
   "metadata": {},
   "outputs": [
    {
     "data": {
      "text/latex": [
       "$\\displaystyle \\pi$"
      ],
      "text/plain": [
       "pi"
      ]
     },
     "execution_count": 28,
     "metadata": {},
     "output_type": "execute_result"
    }
   ],
   "source": [
    "pi"
   ]
  },
  {
   "cell_type": "code",
   "execution_count": 29,
   "metadata": {},
   "outputs": [
    {
     "data": {
      "text/latex": [
       "$\\displaystyle 3.14159265358979$"
      ],
      "text/plain": [
       "3.14159265358979"
      ]
     },
     "execution_count": 29,
     "metadata": {},
     "output_type": "execute_result"
    }
   ],
   "source": [
    "pi.evalf()"
   ]
  },
  {
   "cell_type": "markdown",
   "metadata": {},
   "source": [
    "Для примера использования библиотеки SymPy мы создадим несколько символов (переменных) x, y, z и t, после чего произведем с ними несколько операций:"
   ]
  },
  {
   "cell_type": "code",
   "execution_count": 30,
   "metadata": {},
   "outputs": [
    {
     "name": "stdout",
     "output_type": "stream",
     "text": [
      "a = x + y + z + t: \n",
      "t + x + y + z\n",
      "b = x * y * z * t: \n",
      "t*x*y*z\n",
      "c = (x + y) / (z + t): \n",
      "(x + y)/(t + z)\n"
     ]
    }
   ],
   "source": [
    "from sympy import *\n",
    "\n",
    "# Создаем символы x, y, z, t\n",
    "x, y, z, t = symbols('x y z t')\n",
    "\n",
    "# Выполняем операции с символами\n",
    "a = x + y + z + t\n",
    "b = x * y * z * t\n",
    "c = (x + y) / (z + t)\n",
    "\n",
    "# Выводим результаты операций\n",
    "print(\"a = x + y + z + t: \")\n",
    "print(a)\n",
    "\n",
    "print(\"b = x * y * z * t: \")\n",
    "print(b)\n",
    "\n",
    "print(\"c = (x + y) / (z + t): \")\n",
    "print(c)"
   ]
  },
  {
   "cell_type": "code",
   "execution_count": 31,
   "metadata": {},
   "outputs": [
    {
     "data": {
      "text/latex": [
       "$\\displaystyle \\left(x - 4\\right) \\left(x + 2\\right)$"
      ],
      "text/plain": [
       "(x - 4)*(x + 2)"
      ]
     },
     "execution_count": 31,
     "metadata": {},
     "output_type": "execute_result"
    }
   ],
   "source": [
    "factor( x**2-2*x-8 )"
   ]
  },
  {
   "cell_type": "code",
   "execution_count": 32,
   "metadata": {},
   "outputs": [
    {
     "data": {
      "text/latex": [
       "$\\displaystyle x^{2} - 2 x - 8$"
      ],
      "text/plain": [
       "x**2 - 2*x - 8"
      ]
     },
     "execution_count": 32,
     "metadata": {},
     "output_type": "execute_result"
    }
   ],
   "source": [
    "expand( (x-4)*(x+2) )"
   ]
  },
  {
   "cell_type": "code",
   "execution_count": 33,
   "metadata": {},
   "outputs": [
    {
     "data": {
      "text/latex": [
       "$\\displaystyle a b + x^{2} + x \\left(a + b\\right)$"
      ],
      "text/plain": [
       "a*b + x**2 + x*(a + b)"
      ]
     },
     "execution_count": 33,
     "metadata": {},
     "output_type": "execute_result"
    }
   ],
   "source": [
    "a, b = symbols('a b')\n",
    "# Выполняем сбор подобных в выражении x**2 + x*b + a*x + a*b по переменной x с помощью функции collect():\n",
    "collect(x**2 + x*b + a*x + a*b, x)"
   ]
  },
  {
   "cell_type": "code",
   "execution_count": 34,
   "metadata": {},
   "outputs": [
    {
     "data": {
      "text/plain": [
       "[-4, 2]"
      ]
     },
     "execution_count": 34,
     "metadata": {},
     "output_type": "execute_result"
    }
   ],
   "source": [
    "solve( x**2 + 2*x - 8, x)"
   ]
  },
  {
   "cell_type": "markdown",
   "metadata": {},
   "source": [
    "Рассмотрим пример вычисления производной сложной функции f(g(x)), где f(x) = x^2 и g(x) = sin(x):"
   ]
  },
  {
   "cell_type": "code",
   "execution_count": 35,
   "metadata": {},
   "outputs": [
    {
     "name": "stdout",
     "output_type": "stream",
     "text": [
      "f(g(x)) = sin(x)**2\n",
      "df(g(x))/dx = 2*sin(x)*cos(x)\n"
     ]
    }
   ],
   "source": [
    "# Создаем символ x с помощью Symbol('x').\n",
    "x = Symbol('x')\n",
    "# Определяем функцию f(x) = x**2 и функцию g(x) = sin(x) как f = x**2 и g = sin(x).\n",
    "f = x**2\n",
    "# Составляем функцию f(g(x)) путем подстановки g(x) вместо x с помощью метода subs.\n",
    "g = sin(x)\n",
    "fg = f.subs(x, g)\n",
    "# Вычисляем производную df(g(x))/dx с помощью функции diff.\n",
    "dfg = diff(fg, x)\n",
    "# Выводим результаты с помощью функции print.\n",
    "print(\"f(g(x)) =\", fg)\n",
    "print(\"df(g(x))/dx =\", dfg)"
   ]
  },
  {
   "cell_type": "markdown",
   "metadata": {},
   "source": [
    "[К оглавлению](#toc)"
   ]
  },
  {
   "cell_type": "markdown",
   "metadata": {},
   "source": [
    " <a name='3'></a>\n",
    "#  Scipy"
   ]
  },
  {
   "cell_type": "markdown",
   "metadata": {},
   "source": [
    "<a name='3.1'></a>\n",
    "## Описание\n",
    "\n",
    "SciPy - это библиотека для языка программирования Python, которая предоставляет инструменты для выполнения научных и инженерных вычислений. Некоторые из задач, которые можно решить с помощью Scipy, включают в себя:\n",
    "\n",
    "- Оптимизация функций\n",
    "- Решение систем линейных уравнений\n",
    "- Нахождение собственных значений и собственных векторов матриц\n",
    "- Интерполяция данных\n",
    "- Работа с специальными функциями, такими как функции Бесселя, функции Эйри и др.\n",
    "- Решение обыкновенных дифференциальных уравнений\n",
    "- Анализ временных рядов\n",
    "- Работа с изображениями\n",
    "- Статистический анализ данных\n",
    "\n",
    "Основным компонентом SciPy является объект ndarray, который представляет собой многомерный массив элементов одного типа данных. Эти массивы используются для хранения и манипулирования данными, которые используются в научных и инженерных вычислениях. Они могут иметь разные размерности и формы, и могут быть использованы для выполнения быстрых математических операций на больших объемах данных.\n",
    "\n",
    "SciPy также предоставляет множество функций для работы с массивами, таких как сортировка, индексация, операции линейной алгебры, преобразования Фурье и т.д. Библиотека также имеет множество инструментов для анализа данных, включая инструменты для обработки изображений, обработки звука, статистического анализа и машинного обучения.\n",
    "\n",
    "SciPy является важной библиотекой для научных вычислений и инженерных приложений на Python, и часто используется в областях, таких как астрономия, физика, химия, биология, экономика и многих других. Она также интегрируется с другими библиотеками Python, такими как NumPy и matplotlib, для выполнения более сложных задач."
   ]
  },
  {
   "cell_type": "markdown",
   "metadata": {},
   "source": [
    "Оптимизация функций в библиотеке Scipy позволяет находить минимумы и максимумы функций, а также искать корни уравнений. Рассмотрим пример нахождения минимума функции:"
   ]
  },
  {
   "cell_type": "code",
   "execution_count": 36,
   "metadata": {},
   "outputs": [
    {
     "name": "stdout",
     "output_type": "stream",
     "text": [
      "['LowLevelCallable', '__numpy_version__', '__version__', 'cluster', 'fft', 'fftpack', 'integrate', 'interpolate', 'io', 'linalg', 'misc', 'ndimage', 'odr', 'optimize', 'show_config', 'signal', 'sparse', 'spatial', 'special', 'stats', 'test']\n"
     ]
    }
   ],
   "source": [
    "import scipy\n",
    "print(dir(scipy))"
   ]
  },
  {
   "cell_type": "code",
   "execution_count": 37,
   "metadata": {},
   "outputs": [
    {
     "name": "stdout",
     "output_type": "stream",
     "text": [
      "Минимум функции: -1.5404628057095215\n",
      "Аргумент минимума: -0.9148564647465857\n"
     ]
    }
   ],
   "source": [
    "from scipy.optimize import minimize_scalar\n",
    "import numpy as np\n",
    "\n",
    "# Определяем функцию, которую будем минимизировать\n",
    "def f(x):\n",
    "    return x**2 + 3*np.sin(x)\n",
    "\n",
    "# Находим минимум функции\n",
    "res = minimize_scalar(f)\n",
    "\n",
    "# Выводим результаты\n",
    "print(\"Минимум функции:\", res.fun)\n",
    "print(\"Аргумент минимума:\", res.x)"
   ]
  },
  {
   "cell_type": "markdown",
   "metadata": {},
   "source": [
    "Пример решения системы линейных уравнений с помощью модуля scipy можно рассмотреть на следующей системе:\n",
    "\n",
    "x + y + z = 6\n",
    "\n",
    "2y + 5z = -4\n",
    "\n",
    "2x + 5y - z = 27"
   ]
  },
  {
   "cell_type": "code",
   "execution_count": 38,
   "metadata": {},
   "outputs": [
    {
     "name": "stdout",
     "output_type": "stream",
     "text": [
      "[ 5.  3. -2.]\n"
     ]
    }
   ],
   "source": [
    "from scipy.linalg import solve\n",
    "import numpy as np\n",
    "\n",
    "# Матрица коэффициентов системы\n",
    "A = np.array([[1, 1, 1],\n",
    "              [0, 2, 5],\n",
    "              [2, 5, -1]])\n",
    "\n",
    "# Вектор значений\n",
    "b = np.array([6, -4, 27])\n",
    "\n",
    "# Решение системы\n",
    "x = solve(A, b)\n",
    "\n",
    "print(x) # [ 5.  3. -2.]"
   ]
  },
  {
   "cell_type": "markdown",
   "metadata": {},
   "source": [
    "Пример нахождения собственных значений и собственных векторов"
   ]
  },
  {
   "cell_type": "code",
   "execution_count": 39,
   "metadata": {},
   "outputs": [
    {
     "name": "stdout",
     "output_type": "stream",
     "text": [
      "Собственные значения:\n",
      "[ 3.+0.j -1.+0.j]\n",
      "Собственные векторы:\n",
      "[[ 0.70710678 -0.70710678]\n",
      " [ 0.70710678  0.70710678]]\n"
     ]
    }
   ],
   "source": [
    "from scipy.linalg import eig\n",
    "\n",
    "# Создание матрицы\n",
    "A = np.array([[1, 2], [2, 1]])\n",
    "\n",
    "# Вычисление собственных значений и собственных векторов\n",
    "eigenvalues, eigenvectors = eig(A)\n",
    "\n",
    "# Вывод результатов\n",
    "print(\"Собственные значения:\")\n",
    "print(eigenvalues)\n",
    "\n",
    "print(\"Собственные векторы:\")\n",
    "print(eigenvectors)"
   ]
  },
  {
   "cell_type": "markdown",
   "metadata": {},
   "source": [
    "Пример интерполяции данных:"
   ]
  },
  {
   "cell_type": "code",
   "execution_count": 40,
   "metadata": {},
   "outputs": [
    {
     "data": {
      "image/png": "[encoded data removed]",
      "text/plain": [
       "<Figure size 640x480 with 1 Axes>"
      ]
     },
     "metadata": {},
     "output_type": "display_data"
    }
   ],
   "source": [
    "from scipy.interpolate import interp1d\n",
    "import matplotlib.pyplot as plt\n",
    "\n",
    "# Задаем данные для интерполяции\n",
    "x = np.linspace(0, 10, num=11, endpoint=True)\n",
    "y = np.cos(-x**2/8.0)\n",
    "\n",
    "# Строим исходный график\n",
    "plt.figure()\n",
    "plt.plot(x, y, 'o', label='Data points')\n",
    "\n",
    "# Создаем интерполяционную функцию\n",
    "f = interp1d(x, y, kind='cubic')\n",
    "\n",
    "# Задаем более мелкую сетку для интерполяции\n",
    "xnew = np.linspace(0, 10, num=41, endpoint=True)\n",
    "\n",
    "# Вычисляем значения интерполяционной функции на новой сетке\n",
    "ynew = f(xnew)\n",
    "\n",
    "# Строим график интерполяционной функции\n",
    "plt.plot(xnew, ynew, '-', label='Cubic spline')\n",
    "\n",
    "# Добавляем легенду и отображаем график\n",
    "plt.legend(loc='best')\n",
    "plt.show()\n"
   ]
  },
  {
   "cell_type": "markdown",
   "metadata": {},
   "source": [
    "Решение обыкновенных дифференциальных уравнений"
   ]
  },
  {
   "cell_type": "code",
   "execution_count": 41,
   "metadata": {},
   "outputs": [
    {
     "data": {
      "image/png": "[encoded data removed]",
      "text/plain": [
       "<Figure size 640x480 with 1 Axes>"
      ]
     },
     "metadata": {},
     "output_type": "display_data"
    }
   ],
   "source": [
    "# Импортируем функцию solve_ivp из scipy.integrate и модуль pyplot из matplotlib.\n",
    "from scipy.integrate import solve_ivp\n",
    "import matplotlib.pyplot as plt\n",
    "\n",
    "# Определяем правую часть дифференциального уравнения в функции func(t, y).\n",
    "def func(t, y):\n",
    "    return y * t\n",
    "\n",
    "# Задаем начальное значение y0 и интервал интегрирования t_span.\n",
    "y0 = [1]\n",
    "\n",
    "# Задаем интервал интегрирования\n",
    "t_span = [0, 5]\n",
    "\n",
    "# Решаем дифференциальное уравнение с помощью функции solve_ivp, передавая ей функцию правой части, начальное значение и интервал.\n",
    "sol = solve_ivp(func, t_span, y0)\n",
    "\n",
    "# Выводим результаты на график с помощью функций plot, xlabel, ylabel и legend из модуля pyplot.\n",
    "plt.plot(sol.t, sol.y[0], label='y(t)')\n",
    "plt.xlabel('t')\n",
    "plt.ylabel('y')\n",
    "plt.legend()\n",
    "plt.show()\n"
   ]
  },
  {
   "cell_type": "code",
   "execution_count": null,
   "metadata": {},
   "outputs": [],
   "source": []
  }
 ],
 "metadata": {
  "kernelspec": {
   "display_name": "Python 3 (ipykernel)",
   "language": "python",
   "name": "python3"
  },
  "language_info": {
   "codemirror_mode": {
    "name": "ipython",
    "version": 3
   },
   "file_extension": ".py",
   "mimetype": "text/x-python",
   "name": "python",
   "nbconvert_exporter": "python",
   "pygments_lexer": "ipython3",
   "version": "3.10.0"
  }
 },
 "nbformat": 4,
 "nbformat_minor": 1
}
