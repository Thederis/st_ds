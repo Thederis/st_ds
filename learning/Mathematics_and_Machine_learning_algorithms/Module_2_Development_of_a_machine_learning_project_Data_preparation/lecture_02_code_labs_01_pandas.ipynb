{
 "cells": [
  {
   "cell_type": "markdown",
   "metadata": {
    "tags": []
   },
   "source": [
    "# Цель занятия\n",
    "Процесс разработки проекта машинного обучения обычно состоит из следующих шагов:\n",
    "- **Этап 1: определение задачи**\n",
    "- **Этап 2: подготовка данных**\n",
    "- **Этап 3: разработка модели МО**\n",
    "- **Этап 4: запуск модели**\n",
    "\n",
    "На этом занятии мы рассмотрим подробно этап 2, подготовку данных, и ответим на вопрос, как подготовить данные для их использования в проекте машинного обучения."
   ]
  },
  {
   "cell_type": "markdown",
   "metadata": {},
   "source": [
    "Подготовка данных включает в себя следующие шаги:\n",
    "- **Сбор данных**: следующий шаг - это сбор данных, необходимых для обучения модели. Можно собрать данные самостоятельно или использовать уже существующие наборы данных.\n",
    "- **Исследование данных (англ. Exploratory Data Analysis, EDA)**: это процесс исследования и анализа данных, используемый для получения полезной информации и выявления особенностей данных перед применением модели машинного обучения. EDA включает в себя методы визуализации и статистические техники, которые помогают понять данные и выделить важные характеристики.\n",
    "- **Очистка и исправление данных**: очистка данных от пропусков, дубликатов и ошибок.\n",
    "- **Разделение выборки**: разделение выборки на тренировочную и тестовую является важным шагом в машинном обучении, который помогает оценить качество модели на новых данных. Тренировочная выборка используется для обучения модели, тестовая выборка - для проверки ее качества.\n",
    "- **Предобработка признаков**: преобразование признаков, нормализация признаков и т.д.\n",
    "- **Отбор и создание новых признаков**: отбор и создание новых признаков являются важными этапами предобработки данных в машинном обучении. Хорошо подобранные и созданные признаки могут значительно повысить точность модели. Отбор признаков может быть выполнен двумя способами: автоматически и вручную. Автоматический отбор признаков включает использование алгоритмов, которые оценивают важность каждого признака и выбирают только наиболее значимые. Вручную выбранные признаки обычно определяются на основе экспертного знания в предметной области.\n",
    "\n",
    "Мы будем пользоваться готовыми наборами данных, соответственно, шаг сбора данных не будет рассмотрен."
   ]
  },
  {
   "cell_type": "markdown",
   "metadata": {
    "tags": []
   },
   "source": [
    "# Используемые библиотеки"
   ]
  },
  {
   "cell_type": "markdown",
   "metadata": {},
   "source": [
    "**Scikit-learn (также известная как sklearn)** - это библиотека машинного обучения на языке Python, которая предоставляет широкий спектр инструментов для решения задач классификации, регрессии, кластеризации, снижения размерности, выбора моделей и многих других. Библиотека основана на библиотеках NumPy, SciPy и matplotlib и имеет простой и интуитивно понятный интерфейс, что делает ее доступной для использования как для начинающих, так и для продвинутых пользователей.\n",
    "\n",
    "**Pandas** - это библиотека для языка Python, которая предоставляет инструменты для работы с данными и их анализа.\n",
    "\n",
    "Основными структурами данных, которые предоставляет библиотека Pandas, являются:\n",
    "\n",
    "- **Series** - это одномерный массив данных, который можно индексировать. Он может содержать данные любого типа, включая числа, строки, объекты Python и т.д.\n",
    "\n",
    "- **DataFrame** - это двумерный массив данных, представляющий собой таблицу, которую можно рассматривать как набор Series, соединенных друг с другом.\n",
    "\n",
    "Библиотека Pandas предоставляет множество инструментов для работы с данными, включая:\n",
    "\n",
    "- Чтение и запись данных в различных форматах (например, CSV, Excel, SQL).\n",
    "\n",
    "- Извлечение, выборка и фильтрация данных из DataFrame.\n",
    "\n",
    "- Объединение и преобразование данных в DataFrame.\n",
    "\n",
    "- Группировка и агрегирование данных.\n",
    "\n",
    "- Визуализация данных."
   ]
  },
  {
   "cell_type": "code",
   "execution_count": 1,
   "metadata": {},
   "outputs": [
    {
     "name": "stdout",
     "output_type": "stream",
     "text": [
      "Defaulting to user installation because normal site-packages is not writeable\n",
      "Requirement already satisfied: ydata_profiling in /home/denis/.local/lib/python3.10/site-packages (4.5.1)\n",
      "Requirement already satisfied: dacite>=1.8 in /home/denis/.local/lib/python3.10/site-packages (from ydata_profiling) (1.8.1)\n",
      "Requirement already satisfied: multimethod<2,>=1.4 in /home/denis/.local/lib/python3.10/site-packages (from ydata_profiling) (1.10)\n",
      "Requirement already satisfied: visions[type_image_path]==0.7.5 in /home/denis/.local/lib/python3.10/site-packages (from ydata_profiling) (0.7.5)\n",
      "Requirement already satisfied: scipy<1.12,>=1.4.1 in /home/denis/.local/lib/python3.10/site-packages (from ydata_profiling) (1.11.2)\n",
      "Requirement already satisfied: requests<3,>=2.24.0 in /usr/lib/python3/dist-packages (from ydata_profiling) (2.25.1)\n",
      "Requirement already satisfied: htmlmin==0.1.12 in /home/denis/.local/lib/python3.10/site-packages (from ydata_profiling) (0.1.12)\n",
      "Requirement already satisfied: statsmodels<1,>=0.13.2 in /home/denis/.local/lib/python3.10/site-packages (from ydata_profiling) (0.14.0)\n",
      "Requirement already satisfied: numpy<1.24,>=1.16.0 in /home/denis/.local/lib/python3.10/site-packages (from ydata_profiling) (1.23.5)\n",
      "Requirement already satisfied: pydantic<2,>=1.8.1 in /home/denis/.local/lib/python3.10/site-packages (from ydata_profiling) (1.10.12)\n",
      "Requirement already satisfied: pandas!=1.4.0,<2.1,>1.1 in /home/denis/.local/lib/python3.10/site-packages (from ydata_profiling) (2.0.3)\n",
      "Requirement already satisfied: phik<0.13,>=0.11.1 in /home/denis/.local/lib/python3.10/site-packages (from ydata_profiling) (0.12.3)\n",
      "Requirement already satisfied: tqdm<5,>=4.48.2 in /home/denis/.local/lib/python3.10/site-packages (from ydata_profiling) (4.66.1)\n",
      "Requirement already satisfied: seaborn<0.13,>=0.10.1 in /home/denis/.local/lib/python3.10/site-packages (from ydata_profiling) (0.12.2)\n",
      "Requirement already satisfied: typeguard<3,>=2.13.2 in /home/denis/.local/lib/python3.10/site-packages (from ydata_profiling) (2.13.3)\n",
      "Requirement already satisfied: wordcloud>=1.9.1 in /home/denis/.local/lib/python3.10/site-packages (from ydata_profiling) (1.9.2)\n",
      "Requirement already satisfied: jinja2<3.2,>=2.11.1 in /home/denis/.local/lib/python3.10/site-packages (from ydata_profiling) (3.1.2)\n",
      "Requirement already satisfied: imagehash==4.3.1 in /home/denis/.local/lib/python3.10/site-packages (from ydata_profiling) (4.3.1)\n",
      "Requirement already satisfied: PyYAML<6.1,>=5.0.0 in /usr/lib/python3/dist-packages (from ydata_profiling) (5.4.1)\n",
      "Requirement already satisfied: matplotlib<4,>=3.2 in /home/denis/.local/lib/python3.10/site-packages (from ydata_profiling) (3.7.2)\n",
      "Requirement already satisfied: pillow in /usr/lib/python3/dist-packages (from imagehash==4.3.1->ydata_profiling) (9.0.1)\n",
      "Requirement already satisfied: PyWavelets in /home/denis/.local/lib/python3.10/site-packages (from imagehash==4.3.1->ydata_profiling) (1.4.1)\n",
      "Requirement already satisfied: attrs>=19.3.0 in /home/denis/.local/lib/python3.10/site-packages (from visions[type_image_path]==0.7.5->ydata_profiling) (23.1.0)\n",
      "Requirement already satisfied: networkx>=2.4 in /home/denis/.local/lib/python3.10/site-packages (from visions[type_image_path]==0.7.5->ydata_profiling) (3.1)\n",
      "Requirement already satisfied: tangled-up-in-unicode>=0.0.4 in /home/denis/.local/lib/python3.10/site-packages (from visions[type_image_path]==0.7.5->ydata_profiling) (0.2.0)\n",
      "Requirement already satisfied: MarkupSafe>=2.0 in /home/denis/.local/lib/python3.10/site-packages (from jinja2<3.2,>=2.11.1->ydata_profiling) (2.1.3)\n",
      "Requirement already satisfied: pyparsing<3.1,>=2.3.1 in /usr/lib/python3/dist-packages (from matplotlib<4,>=3.2->ydata_profiling) (2.4.7)\n",
      "Requirement already satisfied: kiwisolver>=1.0.1 in /home/denis/.local/lib/python3.10/site-packages (from matplotlib<4,>=3.2->ydata_profiling) (1.4.4)\n",
      "Requirement already satisfied: packaging>=20.0 in /home/denis/.local/lib/python3.10/site-packages (from matplotlib<4,>=3.2->ydata_profiling) (23.1)\n",
      "Requirement already satisfied: python-dateutil>=2.7 in /home/denis/.local/lib/python3.10/site-packages (from matplotlib<4,>=3.2->ydata_profiling) (2.8.2)\n",
      "Requirement already satisfied: cycler>=0.10 in /home/denis/.local/lib/python3.10/site-packages (from matplotlib<4,>=3.2->ydata_profiling) (0.11.0)\n",
      "Requirement already satisfied: contourpy>=1.0.1 in /home/denis/.local/lib/python3.10/site-packages (from matplotlib<4,>=3.2->ydata_profiling) (1.1.0)\n",
      "Requirement already satisfied: fonttools>=4.22.0 in /home/denis/.local/lib/python3.10/site-packages (from matplotlib<4,>=3.2->ydata_profiling) (4.41.0)\n",
      "Requirement already satisfied: tzdata>=2022.1 in /home/denis/.local/lib/python3.10/site-packages (from pandas!=1.4.0,<2.1,>1.1->ydata_profiling) (2023.3)\n",
      "Requirement already satisfied: pytz>=2020.1 in /usr/lib/python3/dist-packages (from pandas!=1.4.0,<2.1,>1.1->ydata_profiling) (2022.1)\n",
      "Requirement already satisfied: joblib>=0.14.1 in /home/denis/.local/lib/python3.10/site-packages (from phik<0.13,>=0.11.1->ydata_profiling) (1.3.2)\n",
      "Requirement already satisfied: typing-extensions>=4.2.0 in /home/denis/.local/lib/python3.10/site-packages (from pydantic<2,>=1.8.1->ydata_profiling) (4.5.0)\n",
      "Requirement already satisfied: patsy>=0.5.2 in /home/denis/.local/lib/python3.10/site-packages (from statsmodels<1,>=0.13.2->ydata_profiling) (0.5.3)\n",
      "Requirement already satisfied: six in /usr/lib/python3/dist-packages (from patsy>=0.5.2->statsmodels<1,>=0.13.2->ydata_profiling) (1.16.0)\n"
     ]
    }
   ],
   "source": [
    "# !pip install ydata_profiling"
   ]
  },
  {
   "cell_type": "code",
   "execution_count": 2,
   "metadata": {
    "code_folding": [],
    "id": "R5VGCAYhEn6q"
   },
   "outputs": [],
   "source": [
    "#Импорт библиотек и необходимых функций\n",
    "import pandas as pd\n",
    "import numpy as np\n",
    "from sklearn.model_selection import train_test_split\n",
    "from sklearn.preprocessing import MinMaxScaler, StandardScaler, LabelEncoder\n",
    "\n",
    "%matplotlib inline\n",
    "import matplotlib.pyplot as plt\n",
    "import seaborn as sns\n",
    "\n",
    "from ydata_profiling import ProfileReport"
   ]
  },
  {
   "cell_type": "code",
   "execution_count": 3,
   "metadata": {
    "id": "OYQscMsVth4m"
   },
   "outputs": [],
   "source": [
    "pd.options.mode.chained_assignment = None  # отключаем предупреждения о присваивании копии DataFrame\n",
    "pd.options.display.max_columns = None  # отображаем все столбцы\n",
    "pd.options.display.max_rows = None  # отображаем все строки\n",
    "pd.options.display.float_format = '{:.2f}'.format  # форматируем вывод чисел с плавающей точкой"
   ]
  },
  {
   "cell_type": "code",
   "execution_count": 4,
   "metadata": {
    "id": "BYCD1yGi6q2M"
   },
   "outputs": [],
   "source": [
    "# Загрузка данных\n",
    "df = pd.read_csv('datasets/lecture_02_code_labs_01_pandas.csv', delimiter=\",\")"
   ]
  },
  {
   "cell_type": "code",
   "execution_count": 5,
   "metadata": {
    "id": "9LXSKDSTq4Fb"
   },
   "outputs": [
    {
     "data": {
      "text/plain": [
       "pandas.core.frame.DataFrame"
      ]
     },
     "execution_count": 5,
     "metadata": {},
     "output_type": "execute_result"
    }
   ],
   "source": [
    "# Проверка типа данных\n",
    "type(df)"
   ]
  },
  {
   "cell_type": "markdown",
   "metadata": {},
   "source": [
    "# Исследование данных"
   ]
  },
  {
   "cell_type": "code",
   "execution_count": 6,
   "metadata": {
    "id": "h93nb1trtwhu"
   },
   "outputs": [
    {
     "data": {
      "text/html": [
       "<div>\n",
       "<style scoped>\n",
       "    .dataframe tbody tr th:only-of-type {\n",
       "        vertical-align: middle;\n",
       "    }\n",
       "\n",
       "    .dataframe tbody tr th {\n",
       "        vertical-align: top;\n",
       "    }\n",
       "\n",
       "    .dataframe thead th {\n",
       "        text-align: right;\n",
       "    }\n",
       "</style>\n",
       "<table border=\"1\" class=\"dataframe\">\n",
       "  <thead>\n",
       "    <tr style=\"text-align: right;\">\n",
       "      <th></th>\n",
       "      <th>Год</th>\n",
       "      <th>Статус</th>\n",
       "      <th>Продолжительность жизни</th>\n",
       "      <th>Смертность среди взрослых</th>\n",
       "      <th>Смертность младенцев</th>\n",
       "      <th>Алкоголь</th>\n",
       "      <th>Процентное использование расходов</th>\n",
       "      <th>Гепатит B</th>\n",
       "      <th>Корь</th>\n",
       "      <th>ИМТ</th>\n",
       "      <th>Смертность детей до 5 лет</th>\n",
       "      <th>Полио</th>\n",
       "      <th>Общие расходы</th>\n",
       "      <th>Дифтерия</th>\n",
       "      <th>ВИЧ/СПИД</th>\n",
       "      <th>ВВП</th>\n",
       "      <th>Население</th>\n",
       "      <th>Худоба 1-19 лет</th>\n",
       "      <th>Худоба 5-9 лет</th>\n",
       "      <th>Индекс состава доходов</th>\n",
       "      <th>Образование</th>\n",
       "    </tr>\n",
       "  </thead>\n",
       "  <tbody>\n",
       "    <tr>\n",
       "      <th>0</th>\n",
       "      <td>2015</td>\n",
       "      <td>Развивающаяся</td>\n",
       "      <td>65.00</td>\n",
       "      <td>263.00</td>\n",
       "      <td>62</td>\n",
       "      <td>0.01</td>\n",
       "      <td>71.28</td>\n",
       "      <td>65.00</td>\n",
       "      <td>1154</td>\n",
       "      <td>19.10</td>\n",
       "      <td>83</td>\n",
       "      <td>6.00</td>\n",
       "      <td>8.16</td>\n",
       "      <td>65.00</td>\n",
       "      <td>0.10</td>\n",
       "      <td>584.26</td>\n",
       "      <td>33736494.00</td>\n",
       "      <td>17.20</td>\n",
       "      <td>17.30</td>\n",
       "      <td>0.48</td>\n",
       "      <td>10.10</td>\n",
       "    </tr>\n",
       "    <tr>\n",
       "      <th>1</th>\n",
       "      <td>2014</td>\n",
       "      <td>Развивающаяся</td>\n",
       "      <td>59.90</td>\n",
       "      <td>271.00</td>\n",
       "      <td>64</td>\n",
       "      <td>0.01</td>\n",
       "      <td>73.52</td>\n",
       "      <td>62.00</td>\n",
       "      <td>492</td>\n",
       "      <td>18.60</td>\n",
       "      <td>86</td>\n",
       "      <td>58.00</td>\n",
       "      <td>8.18</td>\n",
       "      <td>62.00</td>\n",
       "      <td>0.10</td>\n",
       "      <td>612.70</td>\n",
       "      <td>327582.00</td>\n",
       "      <td>17.50</td>\n",
       "      <td>17.50</td>\n",
       "      <td>0.48</td>\n",
       "      <td>10.00</td>\n",
       "    </tr>\n",
       "    <tr>\n",
       "      <th>2</th>\n",
       "      <td>2013</td>\n",
       "      <td>Развивающаяся</td>\n",
       "      <td>59.90</td>\n",
       "      <td>268.00</td>\n",
       "      <td>66</td>\n",
       "      <td>0.01</td>\n",
       "      <td>73.22</td>\n",
       "      <td>64.00</td>\n",
       "      <td>430</td>\n",
       "      <td>18.10</td>\n",
       "      <td>89</td>\n",
       "      <td>62.00</td>\n",
       "      <td>8.13</td>\n",
       "      <td>64.00</td>\n",
       "      <td>0.10</td>\n",
       "      <td>631.74</td>\n",
       "      <td>31731688.00</td>\n",
       "      <td>17.70</td>\n",
       "      <td>17.70</td>\n",
       "      <td>0.47</td>\n",
       "      <td>9.90</td>\n",
       "    </tr>\n",
       "    <tr>\n",
       "      <th>3</th>\n",
       "      <td>2012</td>\n",
       "      <td>Развивающаяся</td>\n",
       "      <td>59.50</td>\n",
       "      <td>272.00</td>\n",
       "      <td>69</td>\n",
       "      <td>0.01</td>\n",
       "      <td>78.18</td>\n",
       "      <td>67.00</td>\n",
       "      <td>2787</td>\n",
       "      <td>17.60</td>\n",
       "      <td>93</td>\n",
       "      <td>67.00</td>\n",
       "      <td>8.52</td>\n",
       "      <td>67.00</td>\n",
       "      <td>0.10</td>\n",
       "      <td>669.96</td>\n",
       "      <td>3696958.00</td>\n",
       "      <td>17.90</td>\n",
       "      <td>18.00</td>\n",
       "      <td>0.46</td>\n",
       "      <td>9.80</td>\n",
       "    </tr>\n",
       "    <tr>\n",
       "      <th>4</th>\n",
       "      <td>2011</td>\n",
       "      <td>Развивающаяся</td>\n",
       "      <td>59.20</td>\n",
       "      <td>275.00</td>\n",
       "      <td>71</td>\n",
       "      <td>0.01</td>\n",
       "      <td>7.10</td>\n",
       "      <td>68.00</td>\n",
       "      <td>3013</td>\n",
       "      <td>17.20</td>\n",
       "      <td>97</td>\n",
       "      <td>68.00</td>\n",
       "      <td>7.87</td>\n",
       "      <td>68.00</td>\n",
       "      <td>0.10</td>\n",
       "      <td>63.54</td>\n",
       "      <td>2978599.00</td>\n",
       "      <td>18.20</td>\n",
       "      <td>18.20</td>\n",
       "      <td>0.45</td>\n",
       "      <td>9.50</td>\n",
       "    </tr>\n",
       "  </tbody>\n",
       "</table>\n",
       "</div>"
      ],
      "text/plain": [
       "    Год         Статус  Продолжительность жизни  Смертность среди взрослых  \\\n",
       "0  2015  Развивающаяся                    65.00                     263.00   \n",
       "1  2014  Развивающаяся                    59.90                     271.00   \n",
       "2  2013  Развивающаяся                    59.90                     268.00   \n",
       "3  2012  Развивающаяся                    59.50                     272.00   \n",
       "4  2011  Развивающаяся                    59.20                     275.00   \n",
       "\n",
       "   Смертность младенцев  Алкоголь  Процентное использование расходов  \\\n",
       "0                    62      0.01                              71.28   \n",
       "1                    64      0.01                              73.52   \n",
       "2                    66      0.01                              73.22   \n",
       "3                    69      0.01                              78.18   \n",
       "4                    71      0.01                               7.10   \n",
       "\n",
       "   Гепатит B  Корь   ИМТ  Смертность детей до 5 лет  Полио  Общие расходы  \\\n",
       "0      65.00  1154 19.10                         83   6.00           8.16   \n",
       "1      62.00   492 18.60                         86  58.00           8.18   \n",
       "2      64.00   430 18.10                         89  62.00           8.13   \n",
       "3      67.00  2787 17.60                         93  67.00           8.52   \n",
       "4      68.00  3013 17.20                         97  68.00           7.87   \n",
       "\n",
       "   Дифтерия  ВИЧ/СПИД    ВВП   Население  Худоба 1-19 лет  Худоба 5-9 лет  \\\n",
       "0     65.00      0.10 584.26 33736494.00            17.20           17.30   \n",
       "1     62.00      0.10 612.70   327582.00            17.50           17.50   \n",
       "2     64.00      0.10 631.74 31731688.00            17.70           17.70   \n",
       "3     67.00      0.10 669.96  3696958.00            17.90           18.00   \n",
       "4     68.00      0.10  63.54  2978599.00            18.20           18.20   \n",
       "\n",
       "   Индекс состава доходов  Образование  \n",
       "0                    0.48        10.10  \n",
       "1                    0.48        10.00  \n",
       "2                    0.47         9.90  \n",
       "3                    0.46         9.80  \n",
       "4                    0.45         9.50  "
      ]
     },
     "execution_count": 6,
     "metadata": {},
     "output_type": "execute_result"
    }
   ],
   "source": [
    "# Просмотр первых 5 строк таблицы\n",
    "df.head(5)"
   ]
  },
  {
   "cell_type": "code",
   "execution_count": 7,
   "metadata": {
    "id": "iSOhN05qEn6s"
   },
   "outputs": [
    {
     "data": {
      "text/html": [
       "<div>\n",
       "<style scoped>\n",
       "    .dataframe tbody tr th:only-of-type {\n",
       "        vertical-align: middle;\n",
       "    }\n",
       "\n",
       "    .dataframe tbody tr th {\n",
       "        vertical-align: top;\n",
       "    }\n",
       "\n",
       "    .dataframe thead th {\n",
       "        text-align: right;\n",
       "    }\n",
       "</style>\n",
       "<table border=\"1\" class=\"dataframe\">\n",
       "  <thead>\n",
       "    <tr style=\"text-align: right;\">\n",
       "      <th></th>\n",
       "      <th>Год</th>\n",
       "      <th>Статус</th>\n",
       "      <th>Продолжительность жизни</th>\n",
       "      <th>Смертность среди взрослых</th>\n",
       "      <th>Смертность младенцев</th>\n",
       "      <th>Алкоголь</th>\n",
       "      <th>Процентное использование расходов</th>\n",
       "      <th>Гепатит B</th>\n",
       "      <th>Корь</th>\n",
       "      <th>ИМТ</th>\n",
       "      <th>Смертность детей до 5 лет</th>\n",
       "      <th>Полио</th>\n",
       "      <th>Общие расходы</th>\n",
       "      <th>Дифтерия</th>\n",
       "      <th>ВИЧ/СПИД</th>\n",
       "      <th>ВВП</th>\n",
       "      <th>Население</th>\n",
       "      <th>Худоба 1-19 лет</th>\n",
       "      <th>Худоба 5-9 лет</th>\n",
       "      <th>Индекс состава доходов</th>\n",
       "      <th>Образование</th>\n",
       "    </tr>\n",
       "  </thead>\n",
       "  <tbody>\n",
       "    <tr>\n",
       "      <th>2949</th>\n",
       "      <td>2004</td>\n",
       "      <td>Развивающаяся</td>\n",
       "      <td>44.30</td>\n",
       "      <td>723.00</td>\n",
       "      <td>27</td>\n",
       "      <td>4.36</td>\n",
       "      <td>0.00</td>\n",
       "      <td>68.00</td>\n",
       "      <td>31</td>\n",
       "      <td>27.10</td>\n",
       "      <td>42</td>\n",
       "      <td>67.00</td>\n",
       "      <td>7.13</td>\n",
       "      <td>65.00</td>\n",
       "      <td>33.60</td>\n",
       "      <td>454.37</td>\n",
       "      <td>12777511.00</td>\n",
       "      <td>9.40</td>\n",
       "      <td>9.40</td>\n",
       "      <td>0.41</td>\n",
       "      <td>9.20</td>\n",
       "    </tr>\n",
       "    <tr>\n",
       "      <th>2950</th>\n",
       "      <td>2003</td>\n",
       "      <td>Развивающаяся</td>\n",
       "      <td>44.50</td>\n",
       "      <td>715.00</td>\n",
       "      <td>26</td>\n",
       "      <td>4.06</td>\n",
       "      <td>0.00</td>\n",
       "      <td>7.00</td>\n",
       "      <td>998</td>\n",
       "      <td>26.70</td>\n",
       "      <td>41</td>\n",
       "      <td>7.00</td>\n",
       "      <td>6.52</td>\n",
       "      <td>68.00</td>\n",
       "      <td>36.70</td>\n",
       "      <td>453.35</td>\n",
       "      <td>12633897.00</td>\n",
       "      <td>9.80</td>\n",
       "      <td>9.90</td>\n",
       "      <td>0.42</td>\n",
       "      <td>9.50</td>\n",
       "    </tr>\n",
       "    <tr>\n",
       "      <th>2951</th>\n",
       "      <td>2002</td>\n",
       "      <td>Развивающаяся</td>\n",
       "      <td>44.80</td>\n",
       "      <td>73.00</td>\n",
       "      <td>25</td>\n",
       "      <td>4.43</td>\n",
       "      <td>0.00</td>\n",
       "      <td>73.00</td>\n",
       "      <td>304</td>\n",
       "      <td>26.30</td>\n",
       "      <td>40</td>\n",
       "      <td>73.00</td>\n",
       "      <td>6.53</td>\n",
       "      <td>71.00</td>\n",
       "      <td>39.80</td>\n",
       "      <td>57.35</td>\n",
       "      <td>125525.00</td>\n",
       "      <td>1.20</td>\n",
       "      <td>1.30</td>\n",
       "      <td>0.43</td>\n",
       "      <td>10.00</td>\n",
       "    </tr>\n",
       "    <tr>\n",
       "      <th>2952</th>\n",
       "      <td>2001</td>\n",
       "      <td>Развивающаяся</td>\n",
       "      <td>45.30</td>\n",
       "      <td>686.00</td>\n",
       "      <td>25</td>\n",
       "      <td>1.72</td>\n",
       "      <td>0.00</td>\n",
       "      <td>76.00</td>\n",
       "      <td>529</td>\n",
       "      <td>25.90</td>\n",
       "      <td>39</td>\n",
       "      <td>76.00</td>\n",
       "      <td>6.16</td>\n",
       "      <td>75.00</td>\n",
       "      <td>42.10</td>\n",
       "      <td>548.59</td>\n",
       "      <td>12366165.00</td>\n",
       "      <td>1.60</td>\n",
       "      <td>1.70</td>\n",
       "      <td>0.43</td>\n",
       "      <td>9.80</td>\n",
       "    </tr>\n",
       "    <tr>\n",
       "      <th>2953</th>\n",
       "      <td>2000</td>\n",
       "      <td>Развивающаяся</td>\n",
       "      <td>46.00</td>\n",
       "      <td>665.00</td>\n",
       "      <td>24</td>\n",
       "      <td>1.68</td>\n",
       "      <td>0.00</td>\n",
       "      <td>79.00</td>\n",
       "      <td>1483</td>\n",
       "      <td>25.50</td>\n",
       "      <td>39</td>\n",
       "      <td>78.00</td>\n",
       "      <td>7.10</td>\n",
       "      <td>78.00</td>\n",
       "      <td>43.50</td>\n",
       "      <td>547.36</td>\n",
       "      <td>12222251.00</td>\n",
       "      <td>11.00</td>\n",
       "      <td>11.20</td>\n",
       "      <td>0.43</td>\n",
       "      <td>9.80</td>\n",
       "    </tr>\n",
       "  </tbody>\n",
       "</table>\n",
       "</div>"
      ],
      "text/plain": [
       "       Год         Статус  Продолжительность жизни  Смертность среди взрослых  \\\n",
       "2949  2004  Развивающаяся                    44.30                     723.00   \n",
       "2950  2003  Развивающаяся                    44.50                     715.00   \n",
       "2951  2002  Развивающаяся                    44.80                      73.00   \n",
       "2952  2001  Развивающаяся                    45.30                     686.00   \n",
       "2953  2000  Развивающаяся                    46.00                     665.00   \n",
       "\n",
       "      Смертность младенцев  Алкоголь  Процентное использование расходов  \\\n",
       "2949                    27      4.36                               0.00   \n",
       "2950                    26      4.06                               0.00   \n",
       "2951                    25      4.43                               0.00   \n",
       "2952                    25      1.72                               0.00   \n",
       "2953                    24      1.68                               0.00   \n",
       "\n",
       "      Гепатит B  Корь   ИМТ  Смертность детей до 5 лет  Полио  Общие расходы  \\\n",
       "2949      68.00    31 27.10                         42  67.00           7.13   \n",
       "2950       7.00   998 26.70                         41   7.00           6.52   \n",
       "2951      73.00   304 26.30                         40  73.00           6.53   \n",
       "2952      76.00   529 25.90                         39  76.00           6.16   \n",
       "2953      79.00  1483 25.50                         39  78.00           7.10   \n",
       "\n",
       "      Дифтерия  ВИЧ/СПИД    ВВП   Население  Худоба 1-19 лет  Худоба 5-9 лет  \\\n",
       "2949     65.00     33.60 454.37 12777511.00             9.40            9.40   \n",
       "2950     68.00     36.70 453.35 12633897.00             9.80            9.90   \n",
       "2951     71.00     39.80  57.35   125525.00             1.20            1.30   \n",
       "2952     75.00     42.10 548.59 12366165.00             1.60            1.70   \n",
       "2953     78.00     43.50 547.36 12222251.00            11.00           11.20   \n",
       "\n",
       "      Индекс состава доходов  Образование  \n",
       "2949                    0.41         9.20  \n",
       "2950                    0.42         9.50  \n",
       "2951                    0.43        10.00  \n",
       "2952                    0.43         9.80  \n",
       "2953                    0.43         9.80  "
      ]
     },
     "execution_count": 7,
     "metadata": {},
     "output_type": "execute_result"
    }
   ],
   "source": [
    "# Просмотр крайних строк таблицы\n",
    "df.tail(5)"
   ]
  },
  {
   "cell_type": "code",
   "execution_count": 8,
   "metadata": {
    "id": "0WvtUDJzEn6t"
   },
   "outputs": [
    {
     "name": "stdout",
     "output_type": "stream",
     "text": [
      "<class 'pandas.core.frame.DataFrame'>\n",
      "RangeIndex: 2954 entries, 0 to 2953\n",
      "Data columns (total 21 columns):\n",
      " #   Column                             Non-Null Count  Dtype  \n",
      "---  ------                             --------------  -----  \n",
      " 0   Год                                2954 non-null   int64  \n",
      " 1   Статус                             2954 non-null   object \n",
      " 2   Продолжительность жизни            2944 non-null   float64\n",
      " 3   Смертность среди взрослых          2944 non-null   float64\n",
      " 4   Смертность младенцев               2954 non-null   int64  \n",
      " 5   Алкоголь                           2759 non-null   float64\n",
      " 6   Процентное использование расходов  2954 non-null   float64\n",
      " 7   Гепатит B                          2401 non-null   float64\n",
      " 8   Корь                               2954 non-null   int64  \n",
      " 9   ИМТ                                2920 non-null   float64\n",
      " 10  Смертность детей до 5 лет          2954 non-null   int64  \n",
      " 11  Полио                              2935 non-null   float64\n",
      " 12  Общие расходы                      2727 non-null   float64\n",
      " 13  Дифтерия                           2935 non-null   float64\n",
      " 14  ВИЧ/СПИД                           2954 non-null   float64\n",
      " 15  ВВП                                2506 non-null   float64\n",
      " 16  Население                          2302 non-null   float64\n",
      " 17  Худоба 1-19 лет                    2920 non-null   float64\n",
      " 18  Худоба 5-9 лет                     2920 non-null   float64\n",
      " 19  Индекс состава доходов             2787 non-null   float64\n",
      " 20  Образование                        2791 non-null   float64\n",
      "dtypes: float64(16), int64(4), object(1)\n",
      "memory usage: 484.8+ KB\n"
     ]
    }
   ],
   "source": [
    "# Информация о таблице\n",
    "df.info()"
   ]
  },
  {
   "cell_type": "code",
   "execution_count": 9,
   "metadata": {
    "id": "80OvPRhPp85x"
   },
   "outputs": [
    {
     "data": {
      "text/html": [
       "<div>\n",
       "<style scoped>\n",
       "    .dataframe tbody tr th:only-of-type {\n",
       "        vertical-align: middle;\n",
       "    }\n",
       "\n",
       "    .dataframe tbody tr th {\n",
       "        vertical-align: top;\n",
       "    }\n",
       "\n",
       "    .dataframe thead th {\n",
       "        text-align: right;\n",
       "    }\n",
       "</style>\n",
       "<table border=\"1\" class=\"dataframe\">\n",
       "  <thead>\n",
       "    <tr style=\"text-align: right;\">\n",
       "      <th></th>\n",
       "      <th>Год</th>\n",
       "      <th>Продолжительность жизни</th>\n",
       "      <th>Смертность среди взрослых</th>\n",
       "      <th>Смертность младенцев</th>\n",
       "      <th>Алкоголь</th>\n",
       "      <th>Процентное использование расходов</th>\n",
       "      <th>Гепатит B</th>\n",
       "      <th>Корь</th>\n",
       "      <th>ИМТ</th>\n",
       "      <th>Смертность детей до 5 лет</th>\n",
       "      <th>Полио</th>\n",
       "      <th>Общие расходы</th>\n",
       "      <th>Дифтерия</th>\n",
       "      <th>ВИЧ/СПИД</th>\n",
       "      <th>ВВП</th>\n",
       "      <th>Население</th>\n",
       "      <th>Худоба 1-19 лет</th>\n",
       "      <th>Худоба 5-9 лет</th>\n",
       "      <th>Индекс состава доходов</th>\n",
       "      <th>Образование</th>\n",
       "    </tr>\n",
       "  </thead>\n",
       "  <tbody>\n",
       "    <tr>\n",
       "      <th>count</th>\n",
       "      <td>2954.00</td>\n",
       "      <td>2944.00</td>\n",
       "      <td>2944.00</td>\n",
       "      <td>2954.00</td>\n",
       "      <td>2759.00</td>\n",
       "      <td>2954.00</td>\n",
       "      <td>2401.00</td>\n",
       "      <td>2954.00</td>\n",
       "      <td>2920.00</td>\n",
       "      <td>2954.00</td>\n",
       "      <td>2935.00</td>\n",
       "      <td>2727.00</td>\n",
       "      <td>2935.00</td>\n",
       "      <td>2954.00</td>\n",
       "      <td>2506.00</td>\n",
       "      <td>2302.00</td>\n",
       "      <td>2920.00</td>\n",
       "      <td>2920.00</td>\n",
       "      <td>2787.00</td>\n",
       "      <td>2791.00</td>\n",
       "    </tr>\n",
       "    <tr>\n",
       "      <th>mean</th>\n",
       "      <td>2007.52</td>\n",
       "      <td>69.12</td>\n",
       "      <td>166.41</td>\n",
       "      <td>30.28</td>\n",
       "      <td>4.60</td>\n",
       "      <td>734.36</td>\n",
       "      <td>80.87</td>\n",
       "      <td>2411.49</td>\n",
       "      <td>38.25</td>\n",
       "      <td>42.03</td>\n",
       "      <td>82.51</td>\n",
       "      <td>5.94</td>\n",
       "      <td>82.29</td>\n",
       "      <td>1.86</td>\n",
       "      <td>7438.00</td>\n",
       "      <td>12720485.24</td>\n",
       "      <td>4.85</td>\n",
       "      <td>4.88</td>\n",
       "      <td>0.63</td>\n",
       "      <td>11.98</td>\n",
       "    </tr>\n",
       "    <tr>\n",
       "      <th>std</th>\n",
       "      <td>4.61</td>\n",
       "      <td>9.61</td>\n",
       "      <td>127.05</td>\n",
       "      <td>117.61</td>\n",
       "      <td>4.04</td>\n",
       "      <td>1983.22</td>\n",
       "      <td>25.09</td>\n",
       "      <td>11437.95</td>\n",
       "      <td>20.02</td>\n",
       "      <td>160.01</td>\n",
       "      <td>23.42</td>\n",
       "      <td>2.49</td>\n",
       "      <td>23.71</td>\n",
       "      <td>5.39</td>\n",
       "      <td>14235.69</td>\n",
       "      <td>60803209.17</td>\n",
       "      <td>4.42</td>\n",
       "      <td>4.50</td>\n",
       "      <td>0.21</td>\n",
       "      <td>3.35</td>\n",
       "    </tr>\n",
       "    <tr>\n",
       "      <th>min</th>\n",
       "      <td>2000.00</td>\n",
       "      <td>36.30</td>\n",
       "      <td>1.00</td>\n",
       "      <td>0.00</td>\n",
       "      <td>0.01</td>\n",
       "      <td>0.00</td>\n",
       "      <td>1.00</td>\n",
       "      <td>0.00</td>\n",
       "      <td>1.00</td>\n",
       "      <td>0.00</td>\n",
       "      <td>3.00</td>\n",
       "      <td>0.37</td>\n",
       "      <td>2.00</td>\n",
       "      <td>0.10</td>\n",
       "      <td>1.68</td>\n",
       "      <td>34.00</td>\n",
       "      <td>0.10</td>\n",
       "      <td>0.10</td>\n",
       "      <td>0.00</td>\n",
       "      <td>0.00</td>\n",
       "    </tr>\n",
       "    <tr>\n",
       "      <th>25%</th>\n",
       "      <td>2004.00</td>\n",
       "      <td>63.00</td>\n",
       "      <td>74.00</td>\n",
       "      <td>0.00</td>\n",
       "      <td>0.89</td>\n",
       "      <td>4.44</td>\n",
       "      <td>77.00</td>\n",
       "      <td>0.00</td>\n",
       "      <td>19.30</td>\n",
       "      <td>0.00</td>\n",
       "      <td>78.00</td>\n",
       "      <td>4.27</td>\n",
       "      <td>78.00</td>\n",
       "      <td>0.10</td>\n",
       "      <td>458.99</td>\n",
       "      <td>196567.25</td>\n",
       "      <td>1.60</td>\n",
       "      <td>1.50</td>\n",
       "      <td>0.49</td>\n",
       "      <td>10.10</td>\n",
       "    </tr>\n",
       "    <tr>\n",
       "      <th>50%</th>\n",
       "      <td>2008.00</td>\n",
       "      <td>72.00</td>\n",
       "      <td>144.00</td>\n",
       "      <td>3.00</td>\n",
       "      <td>3.77</td>\n",
       "      <td>63.86</td>\n",
       "      <td>92.00</td>\n",
       "      <td>17.00</td>\n",
       "      <td>43.15</td>\n",
       "      <td>4.00</td>\n",
       "      <td>93.00</td>\n",
       "      <td>5.76</td>\n",
       "      <td>93.00</td>\n",
       "      <td>0.10</td>\n",
       "      <td>1746.37</td>\n",
       "      <td>1396804.50</td>\n",
       "      <td>3.40</td>\n",
       "      <td>3.40</td>\n",
       "      <td>0.68</td>\n",
       "      <td>12.30</td>\n",
       "    </tr>\n",
       "    <tr>\n",
       "      <th>75%</th>\n",
       "      <td>2012.00</td>\n",
       "      <td>75.60</td>\n",
       "      <td>229.00</td>\n",
       "      <td>23.00</td>\n",
       "      <td>7.68</td>\n",
       "      <td>437.08</td>\n",
       "      <td>97.00</td>\n",
       "      <td>362.00</td>\n",
       "      <td>56.10</td>\n",
       "      <td>29.00</td>\n",
       "      <td>97.00</td>\n",
       "      <td>7.47</td>\n",
       "      <td>97.00</td>\n",
       "      <td>0.80</td>\n",
       "      <td>5873.39</td>\n",
       "      <td>7470403.50</td>\n",
       "      <td>7.20</td>\n",
       "      <td>7.20</td>\n",
       "      <td>0.78</td>\n",
       "      <td>14.20</td>\n",
       "    </tr>\n",
       "    <tr>\n",
       "      <th>max</th>\n",
       "      <td>2015.00</td>\n",
       "      <td>89.00</td>\n",
       "      <td>723.00</td>\n",
       "      <td>1800.00</td>\n",
       "      <td>17.87</td>\n",
       "      <td>19479.91</td>\n",
       "      <td>99.00</td>\n",
       "      <td>212183.00</td>\n",
       "      <td>87.30</td>\n",
       "      <td>2500.00</td>\n",
       "      <td>99.00</td>\n",
       "      <td>17.60</td>\n",
       "      <td>99.00</td>\n",
       "      <td>50.60</td>\n",
       "      <td>119172.74</td>\n",
       "      <td>1293859294.00</td>\n",
       "      <td>27.70</td>\n",
       "      <td>28.60</td>\n",
       "      <td>0.95</td>\n",
       "      <td>20.70</td>\n",
       "    </tr>\n",
       "  </tbody>\n",
       "</table>\n",
       "</div>"
      ],
      "text/plain": [
       "          Год  Продолжительность жизни  Смертность среди взрослых  \\\n",
       "count 2954.00                  2944.00                    2944.00   \n",
       "mean  2007.52                    69.12                     166.41   \n",
       "std      4.61                     9.61                     127.05   \n",
       "min   2000.00                    36.30                       1.00   \n",
       "25%   2004.00                    63.00                      74.00   \n",
       "50%   2008.00                    72.00                     144.00   \n",
       "75%   2012.00                    75.60                     229.00   \n",
       "max   2015.00                    89.00                     723.00   \n",
       "\n",
       "       Смертность младенцев  Алкоголь  Процентное использование расходов  \\\n",
       "count               2954.00   2759.00                            2954.00   \n",
       "mean                  30.28      4.60                             734.36   \n",
       "std                  117.61      4.04                            1983.22   \n",
       "min                    0.00      0.01                               0.00   \n",
       "25%                    0.00      0.89                               4.44   \n",
       "50%                    3.00      3.77                              63.86   \n",
       "75%                   23.00      7.68                             437.08   \n",
       "max                 1800.00     17.87                           19479.91   \n",
       "\n",
       "       Гепатит B      Корь     ИМТ  Смертность детей до 5 лет   Полио  \\\n",
       "count    2401.00   2954.00 2920.00                    2954.00 2935.00   \n",
       "mean       80.87   2411.49   38.25                      42.03   82.51   \n",
       "std        25.09  11437.95   20.02                     160.01   23.42   \n",
       "min         1.00      0.00    1.00                       0.00    3.00   \n",
       "25%        77.00      0.00   19.30                       0.00   78.00   \n",
       "50%        92.00     17.00   43.15                       4.00   93.00   \n",
       "75%        97.00    362.00   56.10                      29.00   97.00   \n",
       "max        99.00 212183.00   87.30                    2500.00   99.00   \n",
       "\n",
       "       Общие расходы  Дифтерия  ВИЧ/СПИД       ВВП     Население  \\\n",
       "count        2727.00   2935.00   2954.00   2506.00       2302.00   \n",
       "mean            5.94     82.29      1.86   7438.00   12720485.24   \n",
       "std             2.49     23.71      5.39  14235.69   60803209.17   \n",
       "min             0.37      2.00      0.10      1.68         34.00   \n",
       "25%             4.27     78.00      0.10    458.99     196567.25   \n",
       "50%             5.76     93.00      0.10   1746.37    1396804.50   \n",
       "75%             7.47     97.00      0.80   5873.39    7470403.50   \n",
       "max            17.60     99.00     50.60 119172.74 1293859294.00   \n",
       "\n",
       "       Худоба 1-19 лет  Худоба 5-9 лет  Индекс состава доходов  Образование  \n",
       "count          2920.00         2920.00                 2787.00      2791.00  \n",
       "mean              4.85            4.88                    0.63        11.98  \n",
       "std               4.42            4.50                    0.21         3.35  \n",
       "min               0.10            0.10                    0.00         0.00  \n",
       "25%               1.60            1.50                    0.49        10.10  \n",
       "50%               3.40            3.40                    0.68        12.30  \n",
       "75%               7.20            7.20                    0.78        14.20  \n",
       "max              27.70           28.60                    0.95        20.70  "
      ]
     },
     "execution_count": 9,
     "metadata": {},
     "output_type": "execute_result"
    }
   ],
   "source": [
    "# Первичное исследование данных можно провести с помощью стандартных средств pandas\n",
    "df.describe()"
   ]
  },
  {
   "cell_type": "code",
   "execution_count": 10,
   "metadata": {},
   "outputs": [],
   "source": [
    "# для EDA также можно использовать сторонние библиотеки, такие как ydata-profiling\n",
    "# profile = ProfileReport(df, title=\"Profiling Report\")\n",
    "# profile.to_notebook_iframe()\n",
    "# profile.to_file(\"lecture_02_code_labs_01_pandas.html\") # сохраниние отчета в файл"
   ]
  },
  {
   "cell_type": "markdown",
   "metadata": {},
   "source": [
    "# Очистка и исправление данных\n",
    "Очистка данных - это процесс предварительной обработки данных, направленный на удаление или исправление ошибочных, неактуальных, неполных, поврежденных, дублированных или неправильно форматированных данных, чтобы улучшить качество и точность модели машинного обучения.\n",
    "Ниже перечислены некоторые методы очистки данных в машинном обучении:\n",
    "- **Удаление дубликатов**\n",
    "Дубликаты могут привести к неверным результатам, поэтому необходимо удалить все дубликаты в данных.\n",
    "- **Исправление ошибок:** В данных могут быть ошибки, например, опечатки или неверные значения. Такие ошибки могут быть исправлены с помощью автоматических методов, таких как исправление опечаток.\n",
    "Эти методы могут быть применены как отдельно, так и в сочетании друг с другом. Очистка данных является важным шагом в процессе подготовки данных для модели машинного обучения и может существенно улучшить качество модели.\n",
    "\n",
    "В данном датасете нет текстовых данных, поэтому исправление ошибок применяться не будет."
   ]
  },
  {
   "cell_type": "code",
   "execution_count": 11,
   "metadata": {},
   "outputs": [
    {
     "name": "stdout",
     "output_type": "stream",
     "text": [
      "(2954, 21)\n",
      "(2938, 21)\n"
     ]
    }
   ],
   "source": [
    "#Удаление дубликатов,\n",
    "print(df.shape)\n",
    "# используется метод drop_duplicates() с параметром inplace=True для удаления дубликатов в исходном DataFrame. \n",
    "df.drop_duplicates(inplace=True)\n",
    "print(df.shape) # удалено 16 дубликатов"
   ]
  },
  {
   "cell_type": "markdown",
   "metadata": {},
   "source": [
    "# Разделение выборки на тренировочную и тестовую\n",
    "Scikit-learn содержит множество алгоритмов, включая методы разбиения данных. Scikit-learn (sklearn) предоставляет несколько методов разбиения выборки на тренировочную и тестовую части:\n",
    "\n",
    "**train_test_split** - случайное разбиение выборки на тренировочную и тестовую части. Этот метод наиболее часто используется для оценки качества модели.\n",
    "\n",
    "**KFold** - K-fold кросс-валидация, метод позволяющий оценить качество модели на нескольких подмножествах данных. Выборка разбивается на K частей, каждая из которых используется в качестве тестовой выборки для одного из K экспериментов, а остальные K-1 частей используются для обучения модели.\n",
    "\n",
    "**StratifiedKFold** - вариант K-fold кросс-валидации с сохранением соотношения классов в каждой из частей. Это особенно важно, когда имеются несбалансированные классы.\n",
    "\n",
    "**LeaveOneOut** - метод, при котором каждый объект выборки последовательно используется в качестве тестового, а остальные - для обучения.\n",
    "\n",
    "**ShuffleSplit** - случайный перетасованный разброс, выборка разбивается на n_iter наборов из train_size тренировочных и test_size тестовых объектов. Каждый разброс независим от других.\n",
    "\n",
    "**StratifiedShuffleSplit** - вариант ShuffleSplit, сохраняющий соотношение классов в каждом из наборов.\n",
    "\n",
    "**TimeSeriesSplit** - разбиение временных рядов на тренировочную и тестовую выборки, учитывающее хронологический порядок данных.\n",
    "\n",
    "Для использования любого из этих методов в библиотеке sklearn необходимо импортировать соответствующий класс. Например, для использования метода train_test_split необходимо выполнить следующий код:\n",
    "\n",
    "```python\n",
    "from sklearn.model_selection import train_test_split\n",
    "\n",
    "X_train, X_test, y_train, y_test = train_test_split(X, y, test_size=0.2, random_state=1)\n",
    "```\n",
    "где X и y - данные и целевая переменная, test_size - доля выборки, которую необходимо выделить в качестве тестовой, а random_state - начальное значение для генератора псевдослучайных чисел.\n",
    "\n",
    "В данном практическом занятии мы воспользуемся методом `train_test_split`, в занятии с KNN мы рассмотрим метод кросс-валидации. "
   ]
  },
  {
   "cell_type": "code",
   "execution_count": 12,
   "metadata": {},
   "outputs": [
    {
     "name": "stdout",
     "output_type": "stream",
     "text": [
      "Размерность тренировочной выборки: (2350, 21)\n",
      "Размерность тестовой выборки: (588, 21)\n"
     ]
    }
   ],
   "source": [
    "# разделяем данные на обучающую и тестовую выборки\n",
    "train, test = train_test_split(\n",
    "    df,\n",
    "    test_size=0.2,  # доля тестовой выборки\n",
    "    random_state=1  # для воспроизводимости результата\n",
    ")\n",
    "\n",
    "# выводим размерности полученных выборок\n",
    "print('Размерность тренировочной выборки:', train.shape)\n",
    "print('Размерность тестовой выборки:', test.shape)"
   ]
  },
  {
   "cell_type": "markdown",
   "metadata": {},
   "source": [
    "# Виды признаков\n",
    "В машинном обучении существуют различные виды признаков, которые могут использоваться для описания объектов или данных. Некоторые из них включают:\n",
    "- **Категориальные признаки**: признаки, которые принимают значения из определенного набора категорий или классов. Примерами категориальных признаков могут служить цвет, тип материала и т.д.\n",
    "- **Числовые признаки**: признаки, которые принимают числовые значения, такие как длина, ширина, высота, возраст и т.д.\n",
    "- **Бинарные признаки**: признаки, которые могут принимать только два значения, например, 0 и 1, да или нет, и т.д.\n",
    "- **Текстовые признаки**: признаки, которые описывают текстовые данные, такие как заголовки новостей, описания продуктов и т.д.\n",
    "- **Географические признаки**: признаки, которые описывают географические данные, такие как координаты, адреса и т.д.\n",
    "- **Временные признаки**: признаки, которые описывают данные, относящиеся ко времени — дата, время, длительность и т.д.\n",
    "\n",
    "Работа с разными видами признаков в машинном обучении может иметь свои особенности, так как каждый вид признаков имеет свои уникальные свойства и может требовать специфических методов работы.\n"
   ]
  },
  {
   "cell_type": "markdown",
   "metadata": {
    "id": "98WJCDMPEn6t"
   },
   "source": [
    "# Предобработка признаков"
   ]
  },
  {
   "cell_type": "markdown",
   "metadata": {
    "id": "FPjmx9lAf8jb",
    "tags": []
   },
   "source": [
    "## Обработка выбросов\n",
    "В данной выборке мы не будем удалять выбросы, так как даннные собраны из разных стран, и разброс в значениях может быть обусловлен реальными факторами.\n",
    "Приведем здесь основные примеры определения и удаления выбросов:\n",
    "- Метод межквартильного размаха (interquartile range - IQR): Этот метод основан на вычислении межквартильного размаха данных, который определяет расстояние между 25-м и 75-м процентилем данных. Затем выбросы определяются как значения, находящиеся за пределами верхнего и нижнего порогов, определяемых как Q1 - 1.5 * IQR и Q3 + 1.5 * IQR соответственно.\n",
    "```python\n",
    "df = pd.DataFrame({\n",
    "    'col1': [1, 2, 3, 4, 5, 100],\n",
    "    'col2': [10, 20, 30, 40, 50, 1000] # создаем DataFrame\n",
    "})\n",
    "Q1 = df['col1'].quantile(0.25) # определяем квартили для столбца 'col1'\n",
    "Q3 = df['col1'].quantile(0.75)\n",
    "IQR = Q3 - Q1\n",
    "df = df[(df['col1'] >= Q1 - 1.5*IQR) & (df['col1'] <= Q3 + 1.5*IQR)] # удаляем выбросы в столбце 'col1'\n",
    "```\n",
    "\n",
    "- Удаление выбросов на основе статистических критериев: Этот метод использует статистические критерии, такие как Z-оценка или T-тест, для определения, является ли значение выбросом или нет. Если значение превышает определенный пороговый уровень, оно считается выбросом и удаляется.\n",
    "```python\n",
    "import scipy\n",
    "df = pd.DataFrame({\n",
    "    'col1': [1, 2, 3, 4, 5, 100],\n",
    "    'col2': [10, 20, 30, 40, 50, 1000] # создаем DataFrame\n",
    "})\n",
    "df = df[(np.abs(scipy.stats.zscore(df['col1'])) < 3)] # удаляем выбросы в столбце 'col1' на основе Z-оценки\n",
    "```"
   ]
  },
  {
   "cell_type": "markdown",
   "metadata": {},
   "source": [
    "## Заполнение пропущенных значений\n",
    "Некоторые значения могут быть пропущены или недоступны, например, из-за ошибок или недоступности источника данных. Пропущенные значения можно заменить средним, медианным или модальным значением, или использовать другие методы заполнения, например, на основе предсказаний модели."
   ]
  },
  {
   "cell_type": "code",
   "execution_count": 13,
   "metadata": {},
   "outputs": [
    {
     "data": {
      "text/plain": [
       "Год                                    0\n",
       "Статус                                 0\n",
       "Продолжительность жизни                6\n",
       "Смертность среди взрослых              6\n",
       "Смертность младенцев                   0\n",
       "Алкоголь                             162\n",
       "Процентное использование расходов      0\n",
       "Гепатит B                            456\n",
       "Корь                                   0\n",
       "ИМТ                                   30\n",
       "Смертность детей до 5 лет              0\n",
       "Полио                                 17\n",
       "Общие расходы                        187\n",
       "Дифтерия                              17\n",
       "ВИЧ/СПИД                               0\n",
       "ВВП                                  351\n",
       "Население                            523\n",
       "Худоба 1-19 лет                       30\n",
       "Худоба 5-9 лет                        30\n",
       "Индекс состава доходов               139\n",
       "Образование                          136\n",
       "dtype: int64"
      ]
     },
     "execution_count": 13,
     "metadata": {},
     "output_type": "execute_result"
    }
   ],
   "source": [
    "# общее количество отсутствующих элементов по столбцам\n",
    "train.isnull().sum()"
   ]
  },
  {
   "cell_type": "code",
   "execution_count": 14,
   "metadata": {
    "id": "Fi0jPWSozbTY"
   },
   "outputs": [],
   "source": [
    "# df.dropna(how = 'any', inplace = True)\n",
    "# удаляем строки, в которых есть не менее 5 пропущенных значения\n",
    "# train.dropna(thresh=5, inplace=True)\n",
    "# test.dropna(thresh=5, inplace=True)"
   ]
  },
  {
   "cell_type": "code",
   "execution_count": 15,
   "metadata": {},
   "outputs": [
    {
     "data": {
      "image/png": "[encoded data removed]",
      "text/plain": [
       "<Figure size 640x480 with 1 Axes>"
      ]
     },
     "metadata": {},
     "output_type": "display_data"
    }
   ],
   "source": [
    "# визуализация пропущенных значений\n",
    "sns.heatmap(train.isnull(), yticklabels = False, cbar = False, cmap=\"Blues\")\n",
    "plt.show()"
   ]
  },
  {
   "cell_type": "code",
   "execution_count": 16,
   "metadata": {
    "tags": []
   },
   "outputs": [
    {
     "data": {
      "image/png": "[encoded data removed]",
      "text/plain": [
       "<Figure size 640x480 with 1 Axes>"
      ]
     },
     "metadata": {},
     "output_type": "display_data"
    }
   ],
   "source": [
    "# визуализация пропущенных значений\n",
    "sns.heatmap(test.isnull(), yticklabels = False, cbar = False, cmap=\"Blues\")\n",
    "plt.show()"
   ]
  },
  {
   "cell_type": "code",
   "execution_count": 17,
   "metadata": {
    "tags": []
   },
   "outputs": [],
   "source": [
    "# заполняем пропущенные значения средним значением по столбцу\n",
    "mean_values = train.mean(numeric_only=True)\n",
    "train.fillna(value=mean_values, inplace=True);\n",
    "test.fillna(value=mean_values, inplace=True);"
   ]
  },
  {
   "cell_type": "code",
   "execution_count": 18,
   "metadata": {
    "tags": []
   },
   "outputs": [
    {
     "data": {
      "text/plain": [
       "Год                                  0\n",
       "Статус                               0\n",
       "Продолжительность жизни              0\n",
       "Смертность среди взрослых            0\n",
       "Смертность младенцев                 0\n",
       "Алкоголь                             0\n",
       "Процентное использование расходов    0\n",
       "Гепатит B                            0\n",
       "Корь                                 0\n",
       "ИМТ                                  0\n",
       "Смертность детей до 5 лет            0\n",
       "Полио                                0\n",
       "Общие расходы                        0\n",
       "Дифтерия                             0\n",
       "ВИЧ/СПИД                             0\n",
       "ВВП                                  0\n",
       "Население                            0\n",
       "Худоба 1-19 лет                      0\n",
       "Худоба 5-9 лет                       0\n",
       "Индекс состава доходов               0\n",
       "Образование                          0\n",
       "dtype: int64"
      ]
     },
     "execution_count": 18,
     "metadata": {},
     "output_type": "execute_result"
    }
   ],
   "source": [
    "train.isnull().sum()"
   ]
  },
  {
   "cell_type": "code",
   "execution_count": 19,
   "metadata": {
    "tags": []
   },
   "outputs": [
    {
     "data": {
      "image/png": "[encoded data removed]",
      "text/plain": [
       "<Figure size 640x480 with 1 Axes>"
      ]
     },
     "metadata": {},
     "output_type": "display_data"
    }
   ],
   "source": [
    "# визуализация пропущенных значений\n",
    "sns.heatmap(train.isnull(), yticklabels = False, cbar = False, cmap=\"Blues\")\n",
    "plt.show()"
   ]
  },
  {
   "cell_type": "markdown",
   "metadata": {
    "id": "vw8fb0YQ29GT"
   },
   "source": [
    "## Преобразование данных в числовой формат\n",
    "Если вы имеете дело с данными в Pandas DataFrame, которые находятся в текстовом или строковом формате, вы можете использовать функции преобразования типов данных для преобразования их в числовой формат.\n",
    "\n",
    "- astype(): Метод astype() может быть использован для преобразования столбца в числовой формат. Пример использования:\n",
    "```python\n",
    "df = pd.DataFrame({'A': ['1', '2', '3'], 'B': ['4', '5', '6']}) # Создаем DataFrame\n",
    "df['A'] = df['A'].astype(int) # Преобразование столбца 'A' в числовой формат\n",
    "```\n",
    "- to_numeric(): Функция to_numeric() может быть использована для преобразования столбца или Series в числовой формат. Эта функция также может обрабатывать значения, которые не могут быть преобразованы в числовой формат, и заменять их на NaN. Пример использования:\n",
    "```python\n",
    "df = pd.DataFrame({'A': ['1', '2', '3'], 'B': ['4', '5', '6']}) # Создаем DataFrame\n",
    "df['A'] = pd.to_numeric(df['A'], errors='coerce') # Преобразование столбца 'A' в числовой формат\n",
    "```"
   ]
  },
  {
   "cell_type": "markdown",
   "metadata": {
    "id": "pvyZ_OY8kOfi"
   },
   "source": [
    "## Нормализация и масштабирование признаков\n",
    "\n",
    "Нормализация данных - это важный процесс подготовки данных для многих алгоритмов машинного обучения. Ее целью является приведение значений признаков к одному и тому же диапазону, что может улучшить производительность моделей и снизить возможные проблемы с выбросами.\n",
    "\n",
    "Вот несколько причин, по которым может понадобиться применять нормализацию данных:\n",
    "\n",
    "- Разные шкалы измерения: Если в ваших данных есть признаки с разными единицами измерения (например, возраст в годах и доход в долларах), то нормализация может быть полезной для приведения их к одному и тому же масштабу.\n",
    "\n",
    "- Алгоритмы, зависящие от расстояний: Многие алгоритмы машинного обучения (например, метод k-средних или метод ближайших соседей) используют расстояния между объектами для принятия решений. Если признаки не нормализованы, то признаки с большими значениями могут оказать большое влияние на расстояние и перекосить результаты.\n",
    "\n",
    "- Статистические методы: Нормализация может быть полезной для статистических методов, таких как линейная регрессия или анализ главных компонент, которые используют стандартные отклонения для вычисления весов признаков.\n",
    "\n",
    "- Стабильность обучения: Нормализация может помочь уменьшить влияние выбросов в данных, что может улучшить стабильность и производительность модели.\n",
    "\n",
    "В целом, если вы работаете с данными, которые содержат признаки с разными единицами измерения или используете алгоритмы, которые зависят от расстояний между объектами, то нормализация может быть полезной для улучшения производительности вашей модели.\n",
    "\n",
    "Нормализация обычно используется, когда данные имеют распределение, которое сильно отклоняется от нормального распределения. Например, когда данные имеют сильные выбросы или содержат несколько групп, каждая из которых имеет свой диапазон значений. Нормализация помогает сжать диапазон значений признаков в заданный диапазон (например, [0,1]) и обеспечить более равномерное распределение значений.\n",
    "\n",
    "Стандартизация обычно используется, когда данные имеют распределение, близкое к нормальному, и когда важно сохранить среднее значение и стандартное отклонение признаков. Стандартизация позволяет преобразовать данные таким образом, чтобы они имели среднее значение 0 и стандартное отклонение 1. Это может быть полезно для алгоритмов, которые используют стандартные отклонения или коэффициенты корреляции признаков.\n"
   ]
  },
  {
   "cell_type": "markdown",
   "metadata": {},
   "source": [
    "**Нормализация (MinMax нормализация):** Этот метод преобразует значения признаков в диапазон от 0 до 1 или от -1 до 1. Это можно сделать с помощью формулы: X_norm = (X - X_min) / (X_max - X_min), где X - значение признака, X_min и X_max - минимальное и максимальное значения признака соответственно. В библиотеке pandas для этого можно использовать класс MinMaxScaler из модуля sklearn.preprocessing."
   ]
  },
  {
   "cell_type": "code",
   "execution_count": 20,
   "metadata": {},
   "outputs": [
    {
     "data": {
      "text/plain": [
       "count   2350.00\n",
       "mean       0.44\n",
       "std        0.23\n",
       "min        0.00\n",
       "25%        0.22\n",
       "50%        0.49\n",
       "75%        0.64\n",
       "max        1.00\n",
       "Name: ИМТ, dtype: float64"
      ]
     },
     "execution_count": 20,
     "metadata": {},
     "output_type": "execute_result"
    }
   ],
   "source": [
    "scaler = MinMaxScaler(feature_range=(0, 1))\n",
    "train['ИМТ'] = scaler.fit_transform(train['ИМТ'].values.reshape(-1,1))\n",
    "train['ИМТ'].describe()"
   ]
  },
  {
   "cell_type": "code",
   "execution_count": 21,
   "metadata": {},
   "outputs": [
    {
     "data": {
      "text/plain": [
       "count   588.00\n",
       "mean      0.42\n",
       "std       0.24\n",
       "min       0.00\n",
       "25%       0.20\n",
       "50%       0.47\n",
       "75%       0.63\n",
       "max       0.95\n",
       "Name: ИМТ, dtype: float64"
      ]
     },
     "execution_count": 21,
     "metadata": {},
     "output_type": "execute_result"
    }
   ],
   "source": [
    "test['ИМТ'] = scaler.transform(test['ИМТ'].values.reshape(-1,1))\n",
    "test['ИМТ'].describe()"
   ]
  },
  {
   "cell_type": "markdown",
   "metadata": {},
   "source": [
    "Для стандартизации данных в pandas можно использовать метод scikit-learn StandardScaler. Для этого нужно импортировать класс StandardScaler из модуля sklearn.preprocessing и создать экземпляр этого класса. Затем можно использовать метод fit_transform для обработки данных."
   ]
  },
  {
   "cell_type": "code",
   "execution_count": 22,
   "metadata": {
    "id": "VBeh-TlDJ8E8"
   },
   "outputs": [
    {
     "data": {
      "text/plain": [
       "count   2350.00\n",
       "mean      -0.02\n",
       "std        1.04\n",
       "min       -2.00\n",
       "25%       -1.00\n",
       "50%        0.00\n",
       "75%        1.00\n",
       "max        5.00\n",
       "Name: Общие расходы, dtype: float64"
      ]
     },
     "execution_count": 22,
     "metadata": {},
     "output_type": "execute_result"
    }
   ],
   "source": [
    "scaler = StandardScaler()\n",
    "train['Общие расходы'] = scaler.fit_transform(train['Общие расходы'].values.reshape(-1,1))\n",
    "round(train['Общие расходы']).describe()"
   ]
  },
  {
   "cell_type": "code",
   "execution_count": 23,
   "metadata": {},
   "outputs": [
    {
     "data": {
      "text/plain": [
       "count   588.00\n",
       "mean      0.01\n",
       "std       1.06\n",
       "min      -2.00\n",
       "25%      -1.00\n",
       "50%       0.00\n",
       "75%       1.00\n",
       "max       5.00\n",
       "Name: Общие расходы, dtype: float64"
      ]
     },
     "execution_count": 23,
     "metadata": {},
     "output_type": "execute_result"
    }
   ],
   "source": [
    "test['Общие расходы'] = scaler.transform(test['Общие расходы'].values.reshape(-1,1))\n",
    "round(test['Общие расходы']).describe()"
   ]
  },
  {
   "cell_type": "markdown",
   "metadata": {},
   "source": [
    "## Преобразование категориальных признаков\n",
    "\n",
    "One-hot encoding - это процесс преобразования категориальных данных в числовые признаки. При выполнении one-hot encoding необходимо учитывать, что разделение выборки на train и test может привести к проблемам, если в train и test наборах данных содержатся различные уникальные значения категориального признака. Для того, чтобы решить эту проблему, необходимо выполнить one-hot encoding на train и test наборах данных, используя одинаковые наборы столбцов-индикаторов."
   ]
  },
  {
   "cell_type": "code",
   "execution_count": 24,
   "metadata": {
    "tags": []
   },
   "outputs": [
    {
     "name": "stdout",
     "output_type": "stream",
     "text": [
      "<class 'pandas.core.frame.DataFrame'>\n",
      "Index: 2350 entries, 1016 to 1061\n",
      "Data columns (total 22 columns):\n",
      " #   Column                             Non-Null Count  Dtype  \n",
      "---  ------                             --------------  -----  \n",
      " 0   Год                                2350 non-null   int64  \n",
      " 1   Продолжительность жизни            2350 non-null   float64\n",
      " 2   Смертность среди взрослых          2350 non-null   float64\n",
      " 3   Смертность младенцев               2350 non-null   int64  \n",
      " 4   Алкоголь                           2350 non-null   float64\n",
      " 5   Процентное использование расходов  2350 non-null   float64\n",
      " 6   Гепатит B                          2350 non-null   float64\n",
      " 7   Корь                               2350 non-null   int64  \n",
      " 8   ИМТ                                2350 non-null   float64\n",
      " 9   Смертность детей до 5 лет          2350 non-null   int64  \n",
      " 10  Полио                              2350 non-null   float64\n",
      " 11  Общие расходы                      2350 non-null   float64\n",
      " 12  Дифтерия                           2350 non-null   float64\n",
      " 13  ВИЧ/СПИД                           2350 non-null   float64\n",
      " 14  ВВП                                2350 non-null   float64\n",
      " 15  Население                          2350 non-null   float64\n",
      " 16  Худоба 1-19 лет                    2350 non-null   float64\n",
      " 17  Худоба 5-9 лет                     2350 non-null   float64\n",
      " 18  Индекс состава доходов             2350 non-null   float64\n",
      " 19  Образование                        2350 non-null   float64\n",
      " 20  Статус_Развивающаяся               2350 non-null   bool   \n",
      " 21  Статус_Развитая                    2350 non-null   bool   \n",
      "dtypes: bool(2), float64(16), int64(4)\n",
      "memory usage: 390.1 KB\n",
      "None\n"
     ]
    }
   ],
   "source": [
    "# выполняем one-hot encoding на train и test наборах данных\n",
    "# используем параметр columns для указания списка столбцов, которые нужно преобразовать\n",
    "train = pd.get_dummies(train, columns=['Статус'])\n",
    "test = pd.get_dummies(test, columns=['Статус'])\n",
    "\n",
    "# выравниваем наборы столбцов-индикаторов в train и test DataFrame,\n",
    "# чтобы обеспечить одинаковый набор столбцов в обоих наборах данных\n",
    "train, test = train.align(test, join='outer', axis=1, fill_value=0)\n",
    "\n",
    "# печатаем результат\n",
    "print(train.info())"
   ]
  },
  {
   "cell_type": "code",
   "execution_count": 25,
   "metadata": {
    "tags": []
   },
   "outputs": [
    {
     "data": {
      "text/html": [
       "<div>\n",
       "<style scoped>\n",
       "    .dataframe tbody tr th:only-of-type {\n",
       "        vertical-align: middle;\n",
       "    }\n",
       "\n",
       "    .dataframe tbody tr th {\n",
       "        vertical-align: top;\n",
       "    }\n",
       "\n",
       "    .dataframe thead th {\n",
       "        text-align: right;\n",
       "    }\n",
       "</style>\n",
       "<table border=\"1\" class=\"dataframe\">\n",
       "  <thead>\n",
       "    <tr style=\"text-align: right;\">\n",
       "      <th></th>\n",
       "      <th>Год</th>\n",
       "      <th>Продолжительность жизни</th>\n",
       "      <th>Смертность среди взрослых</th>\n",
       "      <th>Смертность младенцев</th>\n",
       "      <th>Алкоголь</th>\n",
       "      <th>Процентное использование расходов</th>\n",
       "      <th>Гепатит B</th>\n",
       "      <th>Корь</th>\n",
       "      <th>ИМТ</th>\n",
       "      <th>Смертность детей до 5 лет</th>\n",
       "      <th>Полио</th>\n",
       "      <th>Общие расходы</th>\n",
       "      <th>Дифтерия</th>\n",
       "      <th>ВИЧ/СПИД</th>\n",
       "      <th>ВВП</th>\n",
       "      <th>Население</th>\n",
       "      <th>Худоба 1-19 лет</th>\n",
       "      <th>Худоба 5-9 лет</th>\n",
       "      <th>Индекс состава доходов</th>\n",
       "      <th>Образование</th>\n",
       "      <th>Статус_Развивающаяся</th>\n",
       "      <th>Статус_Развитая</th>\n",
       "    </tr>\n",
       "  </thead>\n",
       "  <tbody>\n",
       "    <tr>\n",
       "      <th>1016</th>\n",
       "      <td>2009</td>\n",
       "      <td>66.00</td>\n",
       "      <td>271.00</td>\n",
       "      <td>41</td>\n",
       "      <td>1.76</td>\n",
       "      <td>30.72</td>\n",
       "      <td>94.00</td>\n",
       "      <td>101</td>\n",
       "      <td>0.28</td>\n",
       "      <td>60</td>\n",
       "      <td>94.00</td>\n",
       "      <td>-0.32</td>\n",
       "      <td>94.00</td>\n",
       "      <td>2.10</td>\n",
       "      <td>186.77</td>\n",
       "      <td>2393831.00</td>\n",
       "      <td>7.30</td>\n",
       "      <td>7.20</td>\n",
       "      <td>0.54</td>\n",
       "      <td>10.40</td>\n",
       "      <td>True</td>\n",
       "      <td>False</td>\n",
       "    </tr>\n",
       "    <tr>\n",
       "      <th>2451</th>\n",
       "      <td>2005</td>\n",
       "      <td>74.20</td>\n",
       "      <td>138.00</td>\n",
       "      <td>4</td>\n",
       "      <td>1.97</td>\n",
       "      <td>97.77</td>\n",
       "      <td>99.00</td>\n",
       "      <td>3</td>\n",
       "      <td>0.18</td>\n",
       "      <td>5</td>\n",
       "      <td>99.00</td>\n",
       "      <td>-0.55</td>\n",
       "      <td>99.00</td>\n",
       "      <td>0.10</td>\n",
       "      <td>1259.88</td>\n",
       "      <td>19373.00</td>\n",
       "      <td>15.40</td>\n",
       "      <td>15.50</td>\n",
       "      <td>0.71</td>\n",
       "      <td>12.90</td>\n",
       "      <td>True</td>\n",
       "      <td>False</td>\n",
       "    </tr>\n",
       "    <tr>\n",
       "      <th>664</th>\n",
       "      <td>2008</td>\n",
       "      <td>77.90</td>\n",
       "      <td>12.00</td>\n",
       "      <td>1</td>\n",
       "      <td>4.26</td>\n",
       "      <td>708.62</td>\n",
       "      <td>95.00</td>\n",
       "      <td>0</td>\n",
       "      <td>0.64</td>\n",
       "      <td>1</td>\n",
       "      <td>99.00</td>\n",
       "      <td>-1.73</td>\n",
       "      <td>95.00</td>\n",
       "      <td>0.10</td>\n",
       "      <td>5376.45</td>\n",
       "      <td>12530359.59</td>\n",
       "      <td>3.40</td>\n",
       "      <td>3.20</td>\n",
       "      <td>0.77</td>\n",
       "      <td>17.10</td>\n",
       "      <td>True</td>\n",
       "      <td>False</td>\n",
       "    </tr>\n",
       "    <tr>\n",
       "      <th>573</th>\n",
       "      <td>2002</td>\n",
       "      <td>72.70</td>\n",
       "      <td>16.00</td>\n",
       "      <td>422</td>\n",
       "      <td>2.91</td>\n",
       "      <td>106.36</td>\n",
       "      <td>7.00</td>\n",
       "      <td>58341</td>\n",
       "      <td>0.24</td>\n",
       "      <td>511</td>\n",
       "      <td>86.00</td>\n",
       "      <td>-0.48</td>\n",
       "      <td>86.00</td>\n",
       "      <td>0.10</td>\n",
       "      <td>1148.59</td>\n",
       "      <td>1284.00</td>\n",
       "      <td>5.50</td>\n",
       "      <td>4.90</td>\n",
       "      <td>0.60</td>\n",
       "      <td>9.70</td>\n",
       "      <td>True</td>\n",
       "      <td>False</td>\n",
       "    </tr>\n",
       "    <tr>\n",
       "      <th>2129</th>\n",
       "      <td>2005</td>\n",
       "      <td>71.90</td>\n",
       "      <td>162.00</td>\n",
       "      <td>3</td>\n",
       "      <td>7.68</td>\n",
       "      <td>615.40</td>\n",
       "      <td>98.00</td>\n",
       "      <td>5043</td>\n",
       "      <td>0.61</td>\n",
       "      <td>4</td>\n",
       "      <td>97.00</td>\n",
       "      <td>-0.19</td>\n",
       "      <td>97.00</td>\n",
       "      <td>0.10</td>\n",
       "      <td>4676.32</td>\n",
       "      <td>21319685.00</td>\n",
       "      <td>3.30</td>\n",
       "      <td>3.80</td>\n",
       "      <td>0.74</td>\n",
       "      <td>13.40</td>\n",
       "      <td>False</td>\n",
       "      <td>True</td>\n",
       "    </tr>\n",
       "  </tbody>\n",
       "</table>\n",
       "</div>"
      ],
      "text/plain": [
       "       Год  Продолжительность жизни  Смертность среди взрослых  \\\n",
       "1016  2009                    66.00                     271.00   \n",
       "2451  2005                    74.20                     138.00   \n",
       "664   2008                    77.90                      12.00   \n",
       "573   2002                    72.70                      16.00   \n",
       "2129  2005                    71.90                     162.00   \n",
       "\n",
       "      Смертность младенцев  Алкоголь  Процентное использование расходов  \\\n",
       "1016                    41      1.76                              30.72   \n",
       "2451                     4      1.97                              97.77   \n",
       "664                      1      4.26                             708.62   \n",
       "573                    422      2.91                             106.36   \n",
       "2129                     3      7.68                             615.40   \n",
       "\n",
       "      Гепатит B   Корь  ИМТ  Смертность детей до 5 лет  Полио  Общие расходы  \\\n",
       "1016      94.00    101 0.28                         60  94.00          -0.32   \n",
       "2451      99.00      3 0.18                          5  99.00          -0.55   \n",
       "664       95.00      0 0.64                          1  99.00          -1.73   \n",
       "573        7.00  58341 0.24                        511  86.00          -0.48   \n",
       "2129      98.00   5043 0.61                          4  97.00          -0.19   \n",
       "\n",
       "      Дифтерия  ВИЧ/СПИД     ВВП   Население  Худоба 1-19 лет  Худоба 5-9 лет  \\\n",
       "1016     94.00      2.10  186.77  2393831.00             7.30            7.20   \n",
       "2451     99.00      0.10 1259.88    19373.00            15.40           15.50   \n",
       "664      95.00      0.10 5376.45 12530359.59             3.40            3.20   \n",
       "573      86.00      0.10 1148.59     1284.00             5.50            4.90   \n",
       "2129     97.00      0.10 4676.32 21319685.00             3.30            3.80   \n",
       "\n",
       "      Индекс состава доходов  Образование  Статус_Развивающаяся  \\\n",
       "1016                    0.54        10.40                  True   \n",
       "2451                    0.71        12.90                  True   \n",
       "664                     0.77        17.10                  True   \n",
       "573                     0.60         9.70                  True   \n",
       "2129                    0.74        13.40                 False   \n",
       "\n",
       "      Статус_Развитая  \n",
       "1016            False  \n",
       "2451            False  \n",
       "664             False  \n",
       "573             False  \n",
       "2129             True  "
      ]
     },
     "execution_count": 25,
     "metadata": {},
     "output_type": "execute_result"
    }
   ],
   "source": [
    "train.head()"
   ]
  },
  {
   "cell_type": "markdown",
   "metadata": {},
   "source": [
    "Label encoding - это метод кодирования категориальных признаков, при котором каждому уникальному значению признака сопоставляется уникальный целочисленный идентификатор. Этот метод широко используется в машинном обучении для преобразования категориальных признаков в числовые, когда между категориями нельзя установить порядок или иерархию.\n",
    "\n",
    "Например, если у нас есть категориальный признак \"цвет\", который может принимать значения \"красный\", \"зеленый\" и \"синий\", то мы можем использовать label encoding, чтобы преобразовать его в числовой признак\n",
    "\n",
    "При выполнении label encoding необходимо учитывать, что разделение выборки на train и test может привести к проблемам, если в train и test наборах данных содержатся различные уникальные значения категориального признака. Для того, чтобы решить эту проблему, необходимо выполнить label encoding на train и test наборах данных с использованием одного и того же словаря кодирования.\n",
    "\n",
    "В данном датасете нет категориальных признаков без отношения порядка, поэтому приведем пример кода, который выполняет label encoding с учетом разделения выборки на train и test:\n",
    "```python\n",
    "le = LabelEncoder() # создаем экземпляр класса LabelEncoder и обучаем его на train наборе данных на столбце \"color\"\n",
    "le.fit_transform(train['color'])\n",
    "test_df['color_encoded'] = le.transform(test_df['color']) # преобразуем значения столбца 'color' в train и test DataFrame, используя обученный LabelEncoder\n",
    "```"
   ]
  },
  {
   "cell_type": "markdown",
   "metadata": {},
   "source": [
    "**Mean encoding**, также известное как **target encoding**, - это техника предобработки признаков, используемая для преобразования категориальных переменных в числовые. При mean encoding числовое значение, присвоенное каждой категории, основывается на среднем значении целевой переменной для этой категории. Mean encoding может помочь улавливать информацию о взаимосвязи между категориальной переменной и целевой переменной, что может улучшить производительность моделей машинного обучения.\n",
    "\n",
    "Вот пример того, как выполнить mean encoding с помощью Pandas:\n",
    "```python\n",
    "df = pd.DataFrame({'category': ['A', 'B', 'A', 'B', 'C', 'C', 'C', 'B'],\n",
    "                   'target': [1, 0, 1, 0, 1, 0, 1, 0]})\n",
    "mean_target = df.groupby('category')['target'].mean() # Рассчет среднего значения целевой переменной для каждой категории\n",
    "df['category_mean'] = df['category'].map(mean_target) # Отображение среднего значения целевой переменной для каждой категории в dataframe\n",
    "```"
   ]
  },
  {
   "cell_type": "markdown",
   "metadata": {},
   "source": [
    "Frequency Encoding - это техника преобразования категориальных признаков в числа, используя частоты (встречаемость) каждой категории в данном признаке.\n",
    "В Pandas можно легко выполнить Frequency Encoding, используя метод value_counts() и метод map() для присвоения частот категориям.\n",
    "\n",
    "Вот пример, который демонстрирует, как выполнить Frequency Encoding в Pandas:\n",
    "```python\n",
    "df = pd.DataFrame({'category': ['A', 'B', 'A', 'B', 'C', 'C', 'C', 'B']}) # Создание образца dataframe\n",
    "freq = df['category'].value_counts(normalize=True) # Получение частот каждой категории в столбце 'category'\n",
    "df['category_freq'] = df['category'].map(freq) # Отображение частот для каждой категории в dataframe\n",
    "```"
   ]
  },
  {
   "cell_type": "markdown",
   "metadata": {},
   "source": [
    "# Создание новых признаков"
   ]
  },
  {
   "cell_type": "markdown",
   "metadata": {},
   "source": [
    "## Инженерия признаков на основе знаний об отрасли"
   ]
  },
  {
   "cell_type": "markdown",
   "metadata": {},
   "source": [
    "Предположим, что у нас есть набор данных, содержащий информацию о клиентах банка, включая их возраст, доход, количество детей и т.д. Одним из возможных способов создания новых признаков на основе знаний об отрасли может быть использование данных о средней зарплате в регионе клиента.\n",
    "\n",
    "Для этого можно загрузить данные о средней зарплате из внешнего источника, например, в CSV-файл, и затем объединить эти данные с исходным набором данных при помощи функции merge() из библиотеки pandas.\n",
    "```python\n",
    "import pandas as pd # Загрузка данных о клиентах банка\n",
    "data = pd.read_csv(\"bank_customers.csv\") # Загрузка данных о средней зарплате в регионах\n",
    "salary_data = pd.read_csv(\"region_salary.csv\") # Объединение данных\n",
    "data = pd.merge(data, salary_data, on=\"region\", how=\"left\") # Создание нового признака \"отношение дохода к средней зарплате в регионе\"\n",
    "data[\"income_to_region_salary_ratio\"] = data[\"income\"] / data[\"region_salary\"]\n",
    "\n",
    "```"
   ]
  },
  {
   "cell_type": "markdown",
   "metadata": {},
   "source": [
    "## Преобразование существующих признаков\n",
    "Рассмотрим создание новых признаков, например, на основе логарифмирования данных. Логарифмирование может быть полезным, если значения признаков распределены неравномерно и имеют большой разброс. Логарифмирование может помочь снизить влияние экстремальных значений и сделать распределение более нормальным. Нужно помнить, что нельзя взять логарифм от нуля или отрицательного числа. Такие значения не имеют определенного логарифма, поэтому Python выдает предупреждение и возвращает бесконечность (inf) или NaN (Not a Number). Чтобы исправить эту ошибку, необходимо проверить данные на наличие нулей и отрицательных значений перед логарифмированием.\n",
    "\n",
    "В библиотеке pandas для логарифмирования можно использовать функцию np.log() из библиотеки numpy."
   ]
  },
  {
   "cell_type": "code",
   "execution_count": 26,
   "metadata": {
    "tags": []
   },
   "outputs": [],
   "source": [
    "# Создание нового признака \"логарифм значения\"\n",
    "train[\"log_Корь\"] = np.log(train[\"Корь\"] + 0.1)\n",
    "test[\"log_Корь\"] = np.log(test[\"Корь\"] + 0.1)"
   ]
  },
  {
   "cell_type": "markdown",
   "metadata": {},
   "source": [
    "# Отбор признаков\n",
    "Отбор признаков (feature selection) — это процесс выбора наиболее значимых признаков из набора признаков для использования в модели машинного обучения. Это может улучшить производительность модели, уменьшить время обучения и снизить риск переобучения.\n",
    "\n",
    "В Python существует несколько библиотек для отбора признаков, включая:\n",
    "\n",
    "- Scikit-learn: Одна из наиболее популярных библиотек машинного обучения в Python, которая содержит множество методов отбора признаков, включая методы на основе статистики, регрессии, решающих деревьев, а также методы на основе ансамблей.\n",
    "\n",
    "- Boruta: Библиотека, основанная на алгоритме Boruta, который позволяет находить наиболее важные признаки в наборе данных, используя рандомизированные деревья.\n",
    "\n",
    "- Featuretools: Библиотека для автоматического создания новых признаков на основе существующих и отбора наиболее значимых признаков с помощью метода важности признаков.\n",
    "\n",
    "- Yellowbrick: Библиотека для визуализации моделей машинного обучения и выбора наиболее значимых признаков.\n",
    "\n",
    "Пример отбора признаков с использованием метода важности признаков в Scikit-learn:\n",
    "```python\n",
    "from sklearn.feature_selection import SelectFromModel\n",
    "from sklearn.ensemble import RandomForestClassifier\n",
    "from sklearn.datasets import load_iris\n",
    "\n",
    "data = load_iris() # Загрузка данных\n",
    "X = data.data\n",
    "y = data.target\n",
    "selector = SelectFromModel(RandomForestClassifier(n_estimators=100, random_state=42)) # Отбор признаков с помощью RandomForestClassifier\n",
    "selector.fit(X, y)\n",
    "feature_importances = selector.estimator_.feature_importances_ # Вывод наиболее значимых признаков\n",
    "feature_names = data.feature_names\n",
    "for i in selector.get_support(indices=True):\n",
    "    print(feature_names[i], feature_importances[i])\n",
    "```\n",
    "Этот код отбирает наиболее значимые признаки с использованием случайного леса и выводит их вместе с их важностью.\n",
    "Алгоритм случайного леса будет рассмотрен в 5 модуле."
   ]
  },
  {
   "cell_type": "code",
   "execution_count": null,
   "metadata": {},
   "outputs": [],
   "source": []
  }
 ],
 "metadata": {
  "colab": {
   "collapsed_sections": [],
   "name": "Data Wrangling & EDA with Pandas.ipynb",
   "provenance": []
  },
  "kernelspec": {
   "display_name": "Python 3 (ipykernel)",
   "language": "python",
   "name": "python3"
  },
  "language_info": {
   "codemirror_mode": {
    "name": "ipython",
    "version": 3
   },
   "file_extension": ".py",
   "mimetype": "text/x-python",
   "name": "python",
   "nbconvert_exporter": "python",
   "pygments_lexer": "ipython3",
   "version": "3.10.12"
  },
  "toc-autonumbering": true,
  "toc-showcode": false,
  "toc-showmarkdowntxt": false,
  "toc-showtags": false
 },
 "nbformat": 4,
 "nbformat_minor": 4
}
