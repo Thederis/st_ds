{
 "cells": [
  {
   "cell_type": "code",
   "execution_count": 1,
   "id": "93b8939c",
   "metadata": {},
   "outputs": [
    {
     "ename": "ModuleNotFoundError",
     "evalue": "No module named 'utils.hints'",
     "output_type": "error",
     "traceback": [
      "\u001b[0;31m---------------------------------------------------------------------------\u001b[0m",
      "\u001b[0;31mModuleNotFoundError\u001b[0m                       Traceback (most recent call last)",
      "Cell \u001b[0;32mIn[1], line 1\u001b[0m\n\u001b[0;32m----> 1\u001b[0m \u001b[38;5;28;01mfrom\u001b[39;00m \u001b[38;5;21;01mutils\u001b[39;00m\u001b[38;5;21;01m.\u001b[39;00m\u001b[38;5;21;01mhints\u001b[39;00m \u001b[38;5;28;01mimport\u001b[39;00m hide_toggle\n",
      "\u001b[0;31mModuleNotFoundError\u001b[0m: No module named 'utils.hints'"
     ]
    }
   ],
   "source": [
    "from utils.hints import hide_toggle"
   ]
  },
  {
   "cell_type": "markdown",
   "id": "3fe14a49",
   "metadata": {},
   "source": [
    "# Набор данных \"Auction Verification\""
   ]
  },
  {
   "cell_type": "markdown",
   "id": "9781cf0c",
   "metadata": {},
   "source": [
    "Датасет был создан в рамках научного исследования с целью выяснить, можно ли заменить дорогостоящую верификацию сложных моделей процессов (в данном случае: одновременные многораундовые аукционы, используемые для аукционов частотных спектров) предсказаниями результатов.\n",
    "\n",
    "Каждый экземпляр в этом датасете представляет один запуск верификации. Верификация выполняется для проверки, является ли определенная цена возможной для определенного продукта, и в некоторых случаях, определения, может ли определенный участник выиграть продукт по этой цене. Каждый экземпляр содержит детали одного такого сценария верификации.\n",
    "\n",
    "Краткое описание признаков:\n",
    "\n",
    "- process.b1.capacity: Характеристика (вместимость) первого участника (заявителя). Целое число. Вместимость (максимальное количество продуктов для выигрыша) участника 1.\n",
    "\n",
    "- process.b2.capacity: Характеристика (вместимость) второго участника (заявителя). Целое число. Вместимость (максимальное количество продуктов для выигрыша) участника 2.\n",
    "\n",
    "- process.b3.capacity: Характеристика (вместимость) третьего участника (заявителя). Целое число. Вместимость (максимальное количество продуктов для выигрыша) участника 3.\n",
    "\n",
    "- process.b4.capacity: Характеристика (вместимость) четвертого участника (заявителя). Целое число. Вместимость (максимальное количество продуктов для выигрыша) участника 4.\n",
    "\n",
    "- property.price: Характеристика (цена) продукта. Целое число. Текущая проверенная цена.\n",
    "\n",
    "- property.product: Характеристика (продукт) продукта. Целое число. Текущий проверенный продукт.\n",
    "\n",
    "- property.winner: Характеристика (победитель) продукта. Целое число. Участник (заявитель), который в настоящее время признан победителем продукта (0, если проверена только цена).\n",
    "\n",
    "Целевая переменная:\n",
    "\n",
    "- verification.result: Целевой атрибут (категориальный). Результат верификации. Бинарный результат - возможен ли проверенный результат?"
   ]
  },
  {
   "cell_type": "code",
   "execution_count": 3,
   "id": "4aefb387",
   "metadata": {},
   "outputs": [],
   "source": [
    "# !pip install scikit-learn"
   ]
  },
  {
   "cell_type": "code",
   "execution_count": 2,
   "id": "b966528a",
   "metadata": {},
   "outputs": [
    {
     "name": "stdout",
     "output_type": "stream",
     "text": [
      "Наилучшие параметры на кросс-валидации: {'n_neighbors': 3, 'weights': 'uniform'}\n",
      "Наилучшая оценка на кросс-валидации: 0.8825012663927506\n",
      "f1 на тестовом наборе:  0.3116883116883117\n"
     ]
    }
   ],
   "source": [
    "# Импорт необходимых библиотек\n",
    "import numpy as np\n",
    "import pandas as pd\n",
    "from sklearn.model_selection import train_test_split, GridSearchCV\n",
    "from sklearn.preprocessing import StandardScaler\n",
    "from sklearn.neighbors import KNeighborsClassifier\n",
    "from sklearn.metrics import f1_score\n",
    "\n",
    "# Загрузка набора данных auction из CSV-файла в DataFrame\n",
    "df = pd.read_csv(\"datasets/auction.csv\")\n",
    "df.drop(columns=['verification.time'], inplace=True)\n",
    "\n",
    "\n",
    "# # Определение признаков (X) и целевой переменной (y)\n",
    "X = df.drop(columns=['verification.result'])\n",
    "y = df['verification.result'].astype(int)\n",
    "\n",
    "# Нормализация признаков с помощью StandardScaler\n",
    "scaler = StandardScaler()\n",
    "X_scaled = scaler.fit_transform(X)\n",
    "\n",
    "# Разделение данных на обучающий и тестовый наборы\n",
    "X_train, X_test, y_train, y_test = train_test_split(X_scaled, y, test_size=0.2, random_state=42)\n",
    "\n",
    "# Создание модели KNN для регрессии\n",
    "knn = KNeighborsClassifier()\n",
    "\n",
    "# Определение сетки параметров для перебора (n_neighbors и weights)\n",
    "param_grid = {'n_neighbors': np.arange(1, 10), 'weights': ['uniform', 'distance']}\n",
    "\n",
    "# Использование GridSearchCV для поиска наилучших параметров модели\n",
    "grid_search = GridSearchCV(knn, param_grid, cv=5)\n",
    "grid_search.fit(X_train, y_train)\n",
    "\n",
    "# Вывод наилучших параметров и оценки на кросс-валидации\n",
    "print(\"Наилучшие параметры на кросс-валидации:\", grid_search.best_params_)\n",
    "print(\"Наилучшая оценка на кросс-валидации:\", grid_search.best_score_)\n",
    "\n",
    "# Прогнозирование на тестовом наборе с помощью модели с оптимальными параметрами\n",
    "y_pred = grid_search.predict(X_test)\n",
    "\n",
    "# Вычисление f1 на тестовом наборе\n",
    "f1 = f1_score(y_pred, y_test)\n",
    "\n",
    "# Вывод значения f1\n",
    "print(\"f1 на тестовом наборе: \", f1)"
   ]
  },
  {
   "cell_type": "code",
   "execution_count": 7,
   "id": "b04aa1c4",
   "metadata": {},
   "outputs": [
    {
     "name": "stdout",
     "output_type": "stream",
     "text": [
      "Наилучшие параметры на кросс-валидации: {'n_neighbors': 7, 'weights': 'distance'}\n",
      "Наилучшая оценка на кросс-валидации: 0.6820164849766982\n",
      "f1 на тестовом наборе:  0.6910425475644374\n"
     ]
    }
   ],
   "source": [
    "\"\"\"\n",
    "По аналогии с решением задачи Auction Verification решите в текущей ячейке задачу для предсказания целевой переменной на \n",
    "наборе Bike Sharing Demand. С случае затруднений можно посмотреть на образец решения задания в ячейке ниже.\n",
    "\"\"\";\n",
    "\n",
    "# НАЧАЛО ВАШЕГО РЕШЕНИЯ\n",
    "\n",
    "# Загрузка набора данных auction из CSV-файла в DataFrame\n",
    "df = pd.read_csv(\"datasets/bike-sharing-demand.csv\")\n",
    "df.drop(columns=['datetime'], inplace=True)\n",
    "df.drop(columns=['count'], inplace=True)\n",
    "\n",
    "# # Определение признаков (X) и целевой переменной (y)\n",
    "X = df.drop(columns=['season'])\n",
    "y = df['season'].astype(int)\n",
    "\n",
    "# Нормализация признаков с помощью StandardScaler\n",
    "scaler = StandardScaler()\n",
    "X_scaled = scaler.fit_transform(X)\n",
    "\n",
    "# Разделение данных на обучающий и тестовый наборы\n",
    "X_train, X_test, y_train, y_test = train_test_split(X_scaled, y, test_size=0.2, random_state=42)\n",
    "\n",
    "# Создание модели KNN для регрессии\n",
    "knn = KNeighborsClassifier()\n",
    "\n",
    "# Определение сетки параметров для перебора (n_neighbors и weights)\n",
    "param_grid = {'n_neighbors': np.arange(1, 10), 'weights': ['uniform', 'distance']}\n",
    "\n",
    "# Использование GridSearchCV для поиска наилучших параметров модели\n",
    "grid_search = GridSearchCV(knn, param_grid, cv=5)\n",
    "grid_search.fit(X_train, y_train)\n",
    "\n",
    "# Вывод наилучших параметров и оценки на кросс-валидации\n",
    "print(\"Наилучшие параметры на кросс-валидации:\", grid_search.best_params_)\n",
    "print(\"Наилучшая оценка на кросс-валидации:\", grid_search.best_score_)\n",
    "\n",
    "# Прогнозирование на тестовом наборе с помощью модели с оптимальными параметрами\n",
    "y_pred = grid_search.predict(X_test)\n",
    "\n",
    "# Вычисление f1 на тестовом наборе\n",
    "f1 = f1_score(y_pred, y_test, average='weighted')\n",
    "\n",
    "# Вывод значения f1\n",
    "print(\"f1 на тестовом наборе: \", f1)\n",
    "\n",
    "# КОНЕЦ ВАШЕГО РЕШЕНИЯ"
   ]
  },
  {
   "cell_type": "code",
   "execution_count": null,
   "id": "07989edc",
   "metadata": {},
   "outputs": [
    {
     "ename": "NameError",
     "evalue": "name 'hide_toggle' is not defined",
     "output_type": "error",
     "traceback": [
      "\u001b[0;31m---------------------------------------------------------------------------\u001b[0m",
      "\u001b[0;31mNameError\u001b[0m                                 Traceback (most recent call last)",
      "\u001b[1;32m/home/denis/Документы/Cource_on_DS/IDE/learning/Mathematics_and_Machine_learning_algorithms/Module_2_Development_of_a_machine_learning_project_Data_preparation/lecture_02_practice_classification_knn.ipynb Ячейка 9\u001b[0m line \u001b[0;36m1\n\u001b[0;32m----> <a href='vscode-notebook-cell:/home/denis/%D0%94%D0%BE%D0%BA%D1%83%D0%BC%D0%B5%D0%BD%D1%82%D1%8B/Cource_on_DS/IDE/learning/Mathematics_and_Machine_learning_algorithms/Module_2_Development_of_a_machine_learning_project_Data_preparation/lecture_02_practice_classification_knn.ipynb#X11sZmlsZQ%3D%3D?line=0'>1</a>\u001b[0m hide_toggle(for_next\u001b[39m=\u001b[39m\u001b[39mTrue\u001b[39;00m)\n",
      "\u001b[0;31mNameError\u001b[0m: name 'hide_toggle' is not defined"
     ]
    }
   ],
   "source": [
    "hide_toggle(for_next=True)"
   ]
  },
  {
   "cell_type": "markdown",
   "id": "df43f0a5",
   "metadata": {},
   "source": [
    "# Набор данных \"Predict students' dropout and academic success\""
   ]
  },
  {
   "cell_type": "markdown",
   "id": "2d5c0ab3",
   "metadata": {},
   "source": [
    "Датасет был создан в рамках проекта, направленного на снижение количества студентов, прекращающих обучение или испытывающих неудачи в высшем образовании, путем использования методов машинного обучения для выявления студентов, находящихся в рискованных ситуациях на раннем этапе их учебного пути, чтобы разработать стратегии для их поддержки.\n",
    "\n",
    "Датасет включает информацию, известную на момент поступления студента в учебное заведение, такую как учебный путь, демографические данные и социоэкономические факторы.\n",
    "\n",
    "Задача сформулирована как задача классификации с тремя категориями (бросившие обучение, зачисленные и выпускники) к концу нормативного срока обучения. То есть, для каждого студента предсказывается, к какой из трех категорий он относится к моменту окончания курса (нормативного срока обучения).\n",
    "\n",
    "Краткое описание признаков можно посмотреть по ссылке: https://archive.ics.uci.edu/dataset/697/predict+students+dropout+and+academic+success\n",
    "\n",
    "Целевая переменная:\n",
    "\n",
    "- **Target**: бросившие обучение, зачисленные и выпускники"
   ]
  },
  {
   "cell_type": "code",
   "execution_count": null,
   "id": "a68c8c18",
   "metadata": {},
   "outputs": [
    {
     "name": "stdout",
     "output_type": "stream",
     "text": [
      "Наилучшие параметры на кросс-валидации: {'n_neighbors': 8, 'weights': 'uniform'}\n",
      "Наилучшая оценка на кросс-валидации: 0.7256318973301689\n"
     ]
    },
    {
     "name": "stderr",
     "output_type": "stream",
     "text": [
      "C:\\Users\\avglinsky\\PycharmProjects\\math_and_ml_algorithms\\venv\\Lib\\site-packages\\sklearn\\preprocessing\\_encoders.py:227: UserWarning: Found unknown categories in columns [5, 6, 7, 9, 10, 11, 16, 17, 18, 19] during transform. These unknown categories will be encoded as all zeros\n",
      "  warnings.warn(\n"
     ]
    },
    {
     "name": "stdout",
     "output_type": "stream",
     "text": [
      "f1 на тестовом наборе:  0.7362983688318167\n"
     ]
    }
   ],
   "source": [
    "import pandas as pd\n",
    "from sklearn.model_selection import train_test_split, GridSearchCV\n",
    "from sklearn.preprocessing import StandardScaler, OneHotEncoder\n",
    "from sklearn.compose import ColumnTransformer\n",
    "from sklearn.pipeline import Pipeline\n",
    "from sklearn.neighbors import KNeighborsClassifier\n",
    "from sklearn.metrics import f1_score\n",
    "\n",
    "# Загрузка набора данных students predictions\n",
    "numeric_features = []\n",
    "categorical_features = []\n",
    "df = pd.read_csv(\"datasets/students_predictions.csv\", sep=\";\")\n",
    "\n",
    "# Отделяем целевую переменную от признаков\n",
    "X = df.drop(columns=['Target'])\n",
    "y = df['Target']\n",
    "\n",
    "for column in X.columns:\n",
    "    unique_values_count = df[column].nunique()\n",
    "    if 2 < unique_values_count < 50:\n",
    "        categorical_features.append(column)\n",
    "    else:\n",
    "        numeric_features.append(column)\n",
    "\n",
    "numeric_transformer = Pipeline(steps=[\n",
    "    ('scaler', StandardScaler())\n",
    "])\n",
    "\n",
    "categorical_transformer = Pipeline(steps=[\n",
    "    ('onehot', OneHotEncoder(drop='first', handle_unknown='ignore'))\n",
    "])\n",
    "\n",
    "preprocessor = ColumnTransformer(\n",
    "    transformers=[\n",
    "        ('num', numeric_transformer, numeric_features),\n",
    "        ('cat', categorical_transformer, categorical_features)\n",
    "    ])\n",
    "\n",
    "# Разделение данных на обучающий и тестовый наборы\n",
    "X_train, X_test, y_train, y_test = train_test_split(X, y, test_size=0.2, random_state=42)\n",
    "\n",
    "# Создание модели KNN для регрессии\n",
    "knn = KNeighborsClassifier()\n",
    "\n",
    "# Определение сетки параметров для перебора (n_neighbors и weights)\n",
    "param_grid = {'n_neighbors': np.arange(1, 10), 'weights': ['uniform', 'distance']}\n",
    "\n",
    "# Использование GridSearchCV для поиска наилучших параметров модели\n",
    "grid_search = GridSearchCV(knn, param_grid, cv=5)\n",
    "grid_search.fit(preprocessor.fit_transform(X_train), y_train)\n",
    "\n",
    "# Вывод наилучших параметров и оценки на кросс-валидации\n",
    "print(\"Наилучшие параметры на кросс-валидации:\", grid_search.best_params_)\n",
    "print(\"Наилучшая оценка на кросс-валидации:\", grid_search.best_score_)\n",
    "\n",
    "# Прогнозирование на тестовом наборе с помощью модели с оптимальными параметрами\n",
    "y_pred = grid_search.predict(preprocessor.transform(X_test))\n",
    "\n",
    "# Вычисление среднеквадратической ошибки (MSE) на тестовом наборе\n",
    "f1 = f1_score(y_pred, y_test, average='weighted')\n",
    "\n",
    "# Вывод значения MSE\n",
    "print(\"f1 на тестовом наборе: \", f1)"
   ]
  },
  {
   "cell_type": "markdown",
   "id": "5d5dae08",
   "metadata": {},
   "source": [
    "# Набор данных \"accelerometer_gyro_mobile_phone_dataset\""
   ]
  },
  {
   "cell_type": "markdown",
   "id": "07cd4473",
   "metadata": {},
   "source": [
    "Данные, собранные в 2022 году в Университете короля Сауда в Эр-Рияде для распознавания действий человека с помощью датчиков IMU мобильного телефона (акселерометр и гироскоп). эти действия сводятся к стоянию (остановке) или ходьбе.\n",
    "\n",
    "Краткое описание признаков:\n",
    "- accX\tВещественный\n",
    "- accY\tВещественный\n",
    "- accZ\tВещественный\n",
    "- gyroX\tВещественный\n",
    "- gyroY\tВещественный\n",
    "- gyroZ\tВещественный\n",
    "- timestamp\tDatetime\n",
    "\n",
    "Целевая переменная:\n",
    "\n",
    "- **Activity**: стояние или ходьба"
   ]
  },
  {
   "cell_type": "code",
   "execution_count": null,
   "id": "3001f0f0",
   "metadata": {},
   "outputs": [],
   "source": [
    "\"\"\"\n",
    "По аналогии с решением задачи Auction Verification решите в текущей ячейке задачу для предсказания целевой переменной на \n",
    "наборе accelerometer_gyro_mobile_phone_dataset. С случае затруднений можно посмотреть на образец решения задания в ячейке ниже.\n",
    "\"\"\";\n",
    "\n",
    "# НАЧАЛО ВАШЕГО РЕШЕНИЯ\n",
    "\n",
    "# КОНЕЦ ВАШЕГО РЕШЕНИЯ"
   ]
  },
  {
   "cell_type": "code",
   "execution_count": null,
   "id": "34483247",
   "metadata": {},
   "outputs": [
    {
     "data": {
      "text/html": [
       "\n",
       "        <script>\n",
       "            function code_toggle_15175640096792278320() {\n",
       "                $('div.cell.code_cell.rendered.selected').next().find('div.input').toggle();\n",
       "            }\n",
       "\n",
       "            $('div.cell.code_cell.rendered.selected').find(\"div.input\").hide();\n",
       "        </script>\n",
       "\n",
       "        <a href=\"javascript:code_toggle_15175640096792278320()\">Нажмите на ссылку внизу, чтобы увидеть ответ к заданию</a>\n",
       "    "
      ],
      "text/plain": [
       "<IPython.core.display.HTML object>"
      ]
     },
     "execution_count": 7,
     "metadata": {},
     "output_type": "execute_result"
    }
   ],
   "source": [
    "hide_toggle(for_next=True)"
   ]
  },
  {
   "cell_type": "code",
   "execution_count": null,
   "id": "af540124",
   "metadata": {},
   "outputs": [
    {
     "name": "stdout",
     "output_type": "stream",
     "text": [
      "Наилучшие параметры на кросс-валидации: {'n_neighbors': 9, 'weights': 'uniform'}\n",
      "Наилучшая оценка на кросс-валидации: -0.018247850436668638\n",
      "f1 на тестовом наборе:  0.992266414141414\n"
     ]
    }
   ],
   "source": [
    "import pandas as pd\n",
    "import numpy as np\n",
    "from sklearn.model_selection import train_test_split, GridSearchCV\n",
    "from sklearn.preprocessing import StandardScaler\n",
    "from sklearn.neighbors import KNeighborsClassifier\n",
    "from sklearn.metrics import mean_squared_error\n",
    "\n",
    "# Загрузка набора данных\n",
    "df = pd.read_csv(\"datasets/accelerometer_gyro_mobile_phone_dataset.csv\")\n",
    "\n",
    "# Удаление исходного столбца \"date\"\n",
    "df = df.drop(columns=['timestamp'])\n",
    "\n",
    "# Отделяем целевую переменную от признаков\n",
    "X = df.drop(columns=['Activity'])\n",
    "y = df['Activity']\n",
    "\n",
    "\n",
    "# Предобработка данных: преобразование категориальных признаков и нормализация числовых признаков\n",
    "numeric_features = X.columns.tolist() \n",
    "\n",
    "numeric_transformer = Pipeline(steps=[\n",
    "    ('scaler', StandardScaler())\n",
    "])\n",
    "\n",
    "preprocessor = ColumnTransformer(\n",
    "    transformers=[\n",
    "        ('num', numeric_transformer, numeric_features)\n",
    "    ])\n",
    "\n",
    "\n",
    "# Разделение данных на обучающий и тестовый наборы\n",
    "X_train, X_test, y_train, y_test = train_test_split(X, y, test_size=0.2, random_state=42)\n",
    "\n",
    "# Создание модели KNN для регрессии\n",
    "knn = KNeighborsClassifier()\n",
    "\n",
    "# Определение сетки параметров для перебора (n_neighbors и weights)\n",
    "param_grid = {'n_neighbors': np.arange(1, 10), 'weights': ['uniform', 'distance']}\n",
    "\n",
    "# Использование GridSearchCV для поиска наилучших параметров модели\n",
    "grid_search = GridSearchCV(knn, param_grid, cv=5, scoring='neg_mean_squared_error')\n",
    "grid_search.fit(preprocessor.fit_transform(X_train), y_train)\n",
    "\n",
    "# Вывод наилучших параметров и оценки на кросс-валидации\n",
    "print(\"Наилучшие параметры на кросс-валидации:\", grid_search.best_params_)\n",
    "print(\"Наилучшая оценка на кросс-валидации:\", grid_search.best_score_)\n",
    "\n",
    "# Прогнозирование на тестовом наборе с помощью модели с оптимальными параметрами\n",
    "y_pred = grid_search.predict(preprocessor.transform(X_test))\n",
    "\n",
    "# Вычисление f1 на тестовом наборе\n",
    "f1 = f1_score(y_pred, y_test)\n",
    "\n",
    "# Вывод значения MSE\n",
    "print(\"f1 на тестовом наборе: \", f1)"
   ]
  }
 ],
 "metadata": {
  "kernelspec": {
   "display_name": "Python 3 (ipykernel)",
   "language": "python",
   "name": "python3"
  },
  "language_info": {
   "codemirror_mode": {
    "name": "ipython",
    "version": 3
   },
   "file_extension": ".py",
   "mimetype": "text/x-python",
   "name": "python",
   "nbconvert_exporter": "python",
   "pygments_lexer": "ipython3",
   "version": "3.10.12"
  }
 },
 "nbformat": 4,
 "nbformat_minor": 5
}
