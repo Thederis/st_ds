{
 "cells": [
  {
   "cell_type": "markdown",
   "metadata": {},
   "source": [
    "Прежде чем проверять задания:\n",
    "- **Перезапустите ядро** (**restart the kernel**) (В меню, выбрать Ядро (Kernel) $\\rightarrow$ Перезапустить (Restart)\n",
    "- Затем **Выполнить все ячейки**  **run all cells** (В меню, выбрать Ячейка (Cell) $\\rightarrow$ Запустить все (Run All).\n",
    "\n",
    "Убедитесь, что заполнены все ячейки с комментарием \"НАЧАЛО ВАШЕГО РЕШЕНИЯ\".\n",
    "\n",
    "После ячеек с заданием следуют ячейки с проверкой с помощью assert.\n",
    "\n",
    "Если в коде есть ошибки, assert выведет уведомление об ошибке.\n",
    "\n",
    "Если в коде нет ошибок, assert отработает без вывода дополнительной информации."
   ]
  },
  {
   "cell_type": "markdown",
   "metadata": {},
   "source": [
    "---"
   ]
  },
  {
   "cell_type": "markdown",
   "metadata": {
    "deletable": false,
    "editable": false,
    "nbgrader": {
     "cell_type": "markdown",
     "checksum": "12c031e82a4ee6a7a5bca7901d0891db",
     "grade": false,
     "grade_id": "cell-f809056c43486fdd",
     "locked": true,
     "schema_version": 3,
     "solution": false,
     "task": false
    }
   },
   "source": [
    "# Цель занятия\n",
    "На этом занятии мы на практике закрепим работу с многоклассовой классификацией, логистической регрессией и методом опорных векторов."
   ]
  },
  {
   "cell_type": "code",
   "execution_count": null,
   "metadata": {
    "deletable": false,
    "editable": false,
    "nbgrader": {
     "cell_type": "code",
     "checksum": "5c9ae45022783898a2aea57e451b47eb",
     "grade": false,
     "grade_id": "cell-d9e9033e8e7687c7",
     "locked": true,
     "schema_version": 3,
     "solution": false,
     "task": false
    }
   },
   "outputs": [],
   "source": [
    "import numpy as np\n",
    "\n",
    "# фиксируем seed для воспроизводимости результатов\n",
    "seed = 1\n",
    "np.random.seed(seed)"
   ]
  },
  {
   "cell_type": "markdown",
   "metadata": {
    "deletable": false,
    "editable": false,
    "nbgrader": {
     "cell_type": "markdown",
     "checksum": "9aa8fc14a3b822858f8162d40474eaac",
     "grade": false,
     "grade_id": "cell-cbe327c5d8b4bfb1",
     "locked": true,
     "schema_version": 3,
     "solution": false,
     "task": false
    }
   },
   "source": [
    "В качестве примера, рассмотрим задачу классификации рукописных цифр из набора данных MNIST.\n",
    "Первым шагом необходимо загрузить данные. Мы будем использовать функцию load_digits из модуля sklearn.datasets, которая загрузит набор данных MNIST с цифрами от 0 до 9:"
   ]
  },
  {
   "cell_type": "code",
   "execution_count": null,
   "metadata": {
    "deletable": false,
    "editable": false,
    "nbgrader": {
     "cell_type": "code",
     "checksum": "0890a3db17ce01909211a507f9c0c536",
     "grade": false,
     "grade_id": "cell-7a40786ee0a97551",
     "locked": true,
     "schema_version": 3,
     "solution": false,
     "task": false
    }
   },
   "outputs": [],
   "source": [
    "from sklearn.datasets import load_digits\n",
    "from sklearn.metrics import accuracy_score, precision_score, recall_score, f1_score\n",
    "import matplotlib.pyplot as plt"
   ]
  },
  {
   "cell_type": "code",
   "execution_count": null,
   "metadata": {
    "deletable": false,
    "editable": false,
    "nbgrader": {
     "cell_type": "code",
     "checksum": "3329526413375c3a5ce82d7a8badf554",
     "grade": false,
     "grade_id": "cell-dc48db25ce0a4632",
     "locked": true,
     "schema_version": 3,
     "solution": false,
     "task": false
    }
   },
   "outputs": [],
   "source": [
    "digits = load_digits()\n",
    "X = digits.data # изображения, преобразованные из матрицы (8, 8) в вектор (64,)\n",
    "y = digits.target"
   ]
  },
  {
   "cell_type": "markdown",
   "metadata": {
    "deletable": false,
    "editable": false,
    "nbgrader": {
     "cell_type": "markdown",
     "checksum": "b1815bf5d77a55487e5dc78b157621c6",
     "grade": false,
     "grade_id": "cell-c2e5221eda286ef9",
     "locked": true,
     "schema_version": 3,
     "solution": false,
     "task": false
    }
   },
   "source": [
    "Для визуализации первой цифры из набора данных цифр, загруженного с помощью библиотеки scikit-learn, можно использовать библиотеку Matplotlib."
   ]
  },
  {
   "cell_type": "code",
   "execution_count": null,
   "metadata": {
    "deletable": false,
    "editable": false,
    "nbgrader": {
     "cell_type": "code",
     "checksum": "68d6357f48473319a0b66b00bd3d0204",
     "grade": false,
     "grade_id": "cell-e9aa8c506f284875",
     "locked": true,
     "schema_version": 3,
     "solution": false,
     "task": false
    }
   },
   "outputs": [],
   "source": [
    "# визуализация первой цифры\n",
    "plt.imshow(digits.images[0], cmap='gray')\n",
    "plt.show()"
   ]
  },
  {
   "cell_type": "markdown",
   "metadata": {
    "deletable": false,
    "editable": false,
    "nbgrader": {
     "cell_type": "markdown",
     "checksum": "892b14072309db9fdc13ffc24d4b60dd",
     "grade": false,
     "grade_id": "cell-72972e0fb60029b1",
     "locked": true,
     "schema_version": 3,
     "solution": false,
     "task": false
    }
   },
   "source": [
    "Далее необходимо разделить данные на обучающую и тестовую выборки с помощью функции train_test_split из модуля sklearn.model_selection:"
   ]
  },
  {
   "cell_type": "code",
   "execution_count": null,
   "metadata": {
    "deletable": false,
    "editable": false,
    "nbgrader": {
     "cell_type": "code",
     "checksum": "e47fee4b5879a5bb7708cb6a783f99cf",
     "grade": false,
     "grade_id": "cell-7f82013d663dd86f",
     "locked": true,
     "schema_version": 3,
     "solution": false,
     "task": false
    }
   },
   "outputs": [],
   "source": [
    "from sklearn.model_selection import train_test_split\n",
    "\n",
    "X_train, X_test, y_train, y_test = train_test_split(X, y, test_size=0.2, random_state=seed)"
   ]
  },
  {
   "cell_type": "markdown",
   "metadata": {
    "deletable": false,
    "editable": false,
    "nbgrader": {
     "cell_type": "markdown",
     "checksum": "f636d9cda74ba71292e14362b63d4278",
     "grade": false,
     "grade_id": "cell-4ae25d5c403491ef",
     "locked": true,
     "schema_version": 3,
     "solution": false,
     "task": false
    }
   },
   "source": [
    "## Часть 1. Многоклассовая классификация с моделью перцептрон (Perceptron)  с помощью стратегии \"one-vs-one\""
   ]
  },
  {
   "cell_type": "markdown",
   "metadata": {
    "deletable": false,
    "editable": false,
    "nbgrader": {
     "cell_type": "markdown",
     "checksum": "addae84ebc471640b3a763ca27d0a2a6",
     "grade": false,
     "grade_id": "cell-1fab3aad37f7b3d5",
     "locked": true,
     "schema_version": 3,
     "solution": false,
     "task": false
    }
   },
   "source": [
    "Для решения задачи многоклассовой классификации с использованием модели перцептрона и стратегии \"one-vs-one\" в библиотеке scikit-learn (sklearn) можно использовать классификатор sklearn.linear_model.Perceptron. "
   ]
  },
  {
   "cell_type": "markdown",
   "metadata": {
    "deletable": false,
    "editable": false,
    "nbgrader": {
     "cell_type": "markdown",
     "checksum": "8825615ed290c076285c4b7846d97b33",
     "grade": false,
     "grade_id": "cell-17f543820d0f6de6",
     "locked": true,
     "schema_version": 3,
     "solution": false,
     "task": false
    }
   },
   "source": [
    "Cоздаем объект классификатора Perceptron и устанавливаем параметры модели. В данном случае мы используем параметр tol для задания критерия остановки (требуемой точности решения) и параметр random_state для установки начального состояния генератора случайных чисел, что позволит воспроизвести результаты."
   ]
  },
  {
   "cell_type": "code",
   "execution_count": null,
   "metadata": {
    "deletable": false,
    "nbgrader": {
     "cell_type": "code",
     "checksum": "1f4928c2612501b2f748e9950c4a952a",
     "grade": false,
     "grade_id": "cell-6773ed1eb8bcf30c",
     "locked": false,
     "schema_version": 3,
     "solution": true,
     "task": false
    }
   },
   "outputs": [],
   "source": [
    "from sklearn.linear_model import Perceptron\n",
    "\n",
    "\"\"\"\n",
    "Создайте экземпляр класса Perceptron, передайте в него следующие параметры: tol=1e-3, random_state=seed, \n",
    "сохраните экземпляр в переменную clf1.\n",
    "Пример:\n",
    "classifier = Perceptron(param1=value1, param2=value2)\n",
    "\"\"\"\n",
    "# НАЧАЛО ВАШЕГО РЕШЕНИЯ\n",
    "raise NotImplementedError()\n",
    "# КОНЕЦ ВАШЕГО РЕШЕНИЯ"
   ]
  },
  {
   "cell_type": "code",
   "execution_count": null,
   "metadata": {
    "deletable": false,
    "editable": false,
    "nbgrader": {
     "cell_type": "code",
     "checksum": "8d75dcf60bfd26b40301ea2cce4c33c7",
     "grade": true,
     "grade_id": "cell-920798c03be6c966",
     "locked": true,
     "points": 1,
     "schema_version": 3,
     "solution": false,
     "task": false
    }
   },
   "outputs": [],
   "source": [
    "assert type(clf1) == Perceptron and clf1.tol == 0.001"
   ]
  },
  {
   "cell_type": "markdown",
   "metadata": {
    "deletable": false,
    "editable": false,
    "nbgrader": {
     "cell_type": "markdown",
     "checksum": "7b21861d1e1ad1842ae444a0bb9b416b",
     "grade": false,
     "grade_id": "cell-49a3fd4678dde907",
     "locked": true,
     "schema_version": 3,
     "solution": false,
     "task": false
    }
   },
   "source": [
    "Далее создаем экземпляр класса стратегии \"one-vs-one\" для многоклассовой классификации:"
   ]
  },
  {
   "cell_type": "code",
   "execution_count": null,
   "metadata": {
    "deletable": false,
    "nbgrader": {
     "cell_type": "code",
     "checksum": "01fb21f31d4b302cee59ac475678a949",
     "grade": false,
     "grade_id": "cell-5b9b0797bb931d18",
     "locked": false,
     "schema_version": 3,
     "solution": true,
     "task": false
    }
   },
   "outputs": [],
   "source": [
    "from sklearn.multiclass import OneVsOneClassifier\n",
    "\n",
    "\"\"\"\n",
    "Создайте экземпляр класса OneVsOneClassifier, передайте в него классификатор clf1, \n",
    "сохраните экземпляр в переменную clf1.\n",
    "Пример:\n",
    "classifier = OneVsOneClassifier(classifier)\n",
    "\"\"\"\n",
    "\n",
    "# НАЧАЛО ВАШЕГО РЕШЕНИЯ\n",
    "raise NotImplementedError()\n",
    "# КОНЕЦ ВАШЕГО РЕШЕНИЯ"
   ]
  },
  {
   "cell_type": "code",
   "execution_count": null,
   "metadata": {
    "deletable": false,
    "editable": false,
    "nbgrader": {
     "cell_type": "code",
     "checksum": "5802dba9624302b9b11a76d6dfa033a1",
     "grade": true,
     "grade_id": "cell-717c1b50452350e7",
     "locked": true,
     "points": 2,
     "schema_version": 3,
     "solution": false,
     "task": false
    }
   },
   "outputs": [],
   "source": [
    "assert type(clf1) == OneVsOneClassifier"
   ]
  },
  {
   "cell_type": "markdown",
   "metadata": {
    "deletable": false,
    "editable": false,
    "nbgrader": {
     "cell_type": "markdown",
     "checksum": "7572bffc8a77b7d3cafef6b53dccf6a2",
     "grade": false,
     "grade_id": "cell-f40dd4b30a8ef864",
     "locked": true,
     "schema_version": 3,
     "solution": false,
     "task": false
    }
   },
   "source": [
    "Обучаем модель и делаем предсказания на тестовой выборке:"
   ]
  },
  {
   "cell_type": "code",
   "execution_count": null,
   "metadata": {
    "deletable": false,
    "nbgrader": {
     "cell_type": "code",
     "checksum": "d584fc9d449b0e359a628ed56f465fa0",
     "grade": false,
     "grade_id": "cell-ade7c479f9627039",
     "locked": false,
     "schema_version": 3,
     "solution": true,
     "task": false
    }
   },
   "outputs": [],
   "source": [
    "\"\"\"\n",
    "Обучите модель на данных X_train, y_train с помощью метода fit.\n",
    "Сделайте предсказание на данных X_test с помощью метода predict и сохраните предсказания в переменную y_pred1\n",
    "\"\"\"\n",
    "\n",
    "# НАЧАЛО ВАШЕГО РЕШЕНИЯ\n",
    "raise NotImplementedError()\n",
    "# КОНЕЦ ВАШЕГО РЕШЕНИЯ"
   ]
  },
  {
   "cell_type": "code",
   "execution_count": null,
   "metadata": {
    "deletable": false,
    "editable": false,
    "nbgrader": {
     "cell_type": "code",
     "checksum": "0ed493b5ad9ef87976cc2f06526293e0",
     "grade": true,
     "grade_id": "cell-79c7c764c95dc3b8",
     "locked": true,
     "points": 1,
     "schema_version": 3,
     "solution": false,
     "task": false
    }
   },
   "outputs": [],
   "source": []
  },
  {
   "cell_type": "markdown",
   "metadata": {
    "deletable": false,
    "editable": false,
    "nbgrader": {
     "cell_type": "markdown",
     "checksum": "2aa9304b6bebd2c67fd8446d56365ad2",
     "grade": false,
     "grade_id": "cell-2936d0dfc7c849b0",
     "locked": true,
     "schema_version": 3,
     "solution": false,
     "task": false
    }
   },
   "source": [
    "Оценим точность классификации с помощью метрик из модуля sklearn.metrics:"
   ]
  },
  {
   "cell_type": "code",
   "execution_count": null,
   "metadata": {
    "deletable": false,
    "editable": false,
    "nbgrader": {
     "cell_type": "code",
     "checksum": "220dc7f519392c9b31d2dfd8b9c90d5a",
     "grade": false,
     "grade_id": "cell-caefb1f3ef2e2ebd",
     "locked": true,
     "schema_version": 3,
     "solution": false,
     "task": false
    }
   },
   "outputs": [],
   "source": [
    "perceptron_accuracy_score = accuracy_score(y_test, y_pred1)\n",
    "perceptron_precision_score = precision_score(y_test, y_pred1, average='macro')\n",
    "perceptron_recall_score = recall_score(y_test, y_pred1, average='macro')\n",
    "perceptron_f1_score = f1_score(y_test, y_pred1, average='macro')\n",
    "\n",
    "# Качество по всем метрикам должно быть выше 95%\n",
    "\n",
    "print(f\"perceptron_accuracy_score: {perceptron_accuracy_score}\")\n",
    "print(f\"perceptron_precision_score: {perceptron_precision_score}\")\n",
    "print(f\"perceptron_recall_score: {perceptron_recall_score}\")\n",
    "print(f\"perceptron_f1_score: {perceptron_f1_score}\")"
   ]
  },
  {
   "cell_type": "code",
   "execution_count": null,
   "metadata": {
    "deletable": false,
    "editable": false,
    "nbgrader": {
     "cell_type": "code",
     "checksum": "1453b102ac589dbb8436b9d2455c38f9",
     "grade": true,
     "grade_id": "cell-5c7e2d0107a66ae3",
     "locked": true,
     "points": 1,
     "schema_version": 3,
     "solution": false,
     "task": false
    }
   },
   "outputs": [],
   "source": [
    "assert perceptron_accuracy_score > 0.95\n",
    "assert perceptron_precision_score > 0.95\n",
    "assert perceptron_recall_score > 0.95\n",
    "assert perceptron_f1_score > 0.95"
   ]
  },
  {
   "cell_type": "markdown",
   "metadata": {
    "deletable": false,
    "editable": false,
    "nbgrader": {
     "cell_type": "markdown",
     "checksum": "da1cb7289574d4590d87b0658c3c00c2",
     "grade": false,
     "grade_id": "cell-76ef0881e04b0e88",
     "locked": true,
     "schema_version": 3,
     "solution": false,
     "task": false
    }
   },
   "source": [
    "## Часть 2. Многоклассовая классификация с моделью логистической регрессии (LogisticRegression)  с функцией softmax"
   ]
  },
  {
   "cell_type": "markdown",
   "metadata": {
    "deletable": false,
    "editable": false,
    "nbgrader": {
     "cell_type": "markdown",
     "checksum": "537cca959bcde12db2768b53f69cd086",
     "grade": false,
     "grade_id": "cell-8d6f9867b13e4495",
     "locked": true,
     "schema_version": 3,
     "solution": false,
     "task": false
    }
   },
   "source": [
    "Логистическая регрессия с функцией softmax также является методом многоклассовой классификации в библиотеке Scikit-learn.\n",
    "\n",
    "Рассмотрим пример использования класса LogisticRegression с функцией softmax для многоклассовой классификации:"
   ]
  },
  {
   "cell_type": "code",
   "execution_count": null,
   "metadata": {
    "deletable": false,
    "editable": false,
    "nbgrader": {
     "cell_type": "code",
     "checksum": "0a3db88653da5c1019a1bc0ddbf7f68a",
     "grade": false,
     "grade_id": "cell-a1c3b912fe9a6c35",
     "locked": true,
     "schema_version": 3,
     "solution": false,
     "task": false
    }
   },
   "outputs": [],
   "source": [
    "from sklearn.linear_model import LogisticRegression"
   ]
  },
  {
   "cell_type": "code",
   "execution_count": null,
   "metadata": {
    "deletable": false,
    "nbgrader": {
     "cell_type": "code",
     "checksum": "eda0089b075505a6fb0e8afff8270a3c",
     "grade": false,
     "grade_id": "cell-1e04534d4ac370af",
     "locked": false,
     "schema_version": 3,
     "solution": true,
     "task": false
    }
   },
   "outputs": [],
   "source": [
    "\"\"\"\n",
    "Создайте экземпляр класса логистической регрессии LogisticRegression, передайте в него параметры\n",
    "multi_class='multinomial' и solver='lbfgs' ,\n",
    "сохраните экземпляр в переменную clf2.\n",
    "Пример:\n",
    "clf2 = LogisticRegression(param1=value1, param2=value2)\n",
    "\"\"\"\n",
    "\n",
    "# НАЧАЛО ВАШЕГО РЕШЕНИЯ\n",
    "raise NotImplementedError()\n",
    "# КОНЕЦ ВАШЕГО РЕШЕНИЯ"
   ]
  },
  {
   "cell_type": "code",
   "execution_count": null,
   "metadata": {
    "deletable": false,
    "editable": false,
    "nbgrader": {
     "cell_type": "code",
     "checksum": "00b160ba0f6713b7bb97bb806915018b",
     "grade": true,
     "grade_id": "cell-d1b1cdc461d5211d",
     "locked": true,
     "points": 1,
     "schema_version": 3,
     "solution": false,
     "task": false
    }
   },
   "outputs": [],
   "source": [
    "assert type(clf2) == LogisticRegression"
   ]
  },
  {
   "cell_type": "markdown",
   "metadata": {
    "deletable": false,
    "editable": false,
    "nbgrader": {
     "cell_type": "markdown",
     "checksum": "1fce59c00b4f0b18db6b92a8a16e528c",
     "grade": false,
     "grade_id": "cell-e29d60427ac27ca1",
     "locked": true,
     "schema_version": 3,
     "solution": false,
     "task": false
    }
   },
   "source": [
    "Будем использовать те же данные MNIST:"
   ]
  },
  {
   "cell_type": "code",
   "execution_count": null,
   "metadata": {
    "deletable": false,
    "nbgrader": {
     "cell_type": "code",
     "checksum": "79fc97f4910a0f81ef591a9122172984",
     "grade": false,
     "grade_id": "cell-8a86e9c0d7ca69e1",
     "locked": false,
     "schema_version": 3,
     "solution": true,
     "task": false
    }
   },
   "outputs": [],
   "source": [
    "\"\"\"\n",
    "Обучите модель на данных X_train, y_train с помощью метода fit.\n",
    "Сделайте предсказание на данных X_test с помощью метода predict и сохраните предсказания в переменную y_pred2\n",
    "\"\"\"\n",
    "\n",
    "# НАЧАЛО ВАШЕГО РЕШЕНИЯ\n",
    "raise NotImplementedError()\n",
    "# КОНЕЦ ВАШЕГО РЕШЕНИЯ"
   ]
  },
  {
   "cell_type": "code",
   "execution_count": null,
   "metadata": {
    "deletable": false,
    "editable": false,
    "nbgrader": {
     "cell_type": "code",
     "checksum": "c730dbfb0cb0e7e1adc12c59051de4c1",
     "grade": true,
     "grade_id": "cell-e47b84907f863b17",
     "locked": true,
     "points": 0,
     "schema_version": 3,
     "solution": false,
     "task": false
    }
   },
   "outputs": [],
   "source": []
  },
  {
   "cell_type": "code",
   "execution_count": null,
   "metadata": {
    "deletable": false,
    "editable": false,
    "nbgrader": {
     "cell_type": "code",
     "checksum": "4d5441872837cbc03f6777e995308202",
     "grade": false,
     "grade_id": "cell-dfbacb7e86686bd0",
     "locked": true,
     "schema_version": 3,
     "solution": false,
     "task": false
    }
   },
   "outputs": [],
   "source": [
    "# расчет точности\n",
    "logreg_accuracy_score = accuracy_score(y_test, y_pred2)\n",
    "logreg_precision_score = precision_score(y_test, y_pred2, average='macro')\n",
    "logreg_recall_score = recall_score(y_test, y_pred2, average='macro')\n",
    "logreg_f1_score = f1_score(y_test, y_pred2, average='macro')\n",
    "\n",
    "# Качество по всем метрикам должно быть выше 95%\n",
    "\n",
    "print(f\"logreg_accuracy_score: {logreg_accuracy_score}\")\n",
    "print(f\"logreg_precision_score: {logreg_precision_score}\")\n",
    "print(f\"logreg_recall_score: {logreg_recall_score}\")\n",
    "print(f\"logreg_f1_score: {logreg_f1_score}\")"
   ]
  },
  {
   "cell_type": "code",
   "execution_count": null,
   "metadata": {
    "deletable": false,
    "editable": false,
    "nbgrader": {
     "cell_type": "code",
     "checksum": "cec7fab2ae9132b343e52fc7fb543aa6",
     "grade": true,
     "grade_id": "cell-4bf5a928f823246c",
     "locked": true,
     "points": 1,
     "schema_version": 3,
     "solution": false,
     "task": false
    }
   },
   "outputs": [],
   "source": [
    "assert logreg_accuracy_score > 0.95\n",
    "assert logreg_precision_score > 0.95\n",
    "assert logreg_recall_score > 0.95\n",
    "assert logreg_f1_score > 0.95"
   ]
  },
  {
   "cell_type": "markdown",
   "metadata": {
    "deletable": false,
    "editable": false,
    "nbgrader": {
     "cell_type": "markdown",
     "checksum": "ca182372a2cb09037c69961091b41d58",
     "grade": false,
     "grade_id": "cell-9b505f84068dc582",
     "locked": true,
     "schema_version": 3,
     "solution": false,
     "task": false
    }
   },
   "source": [
    "## Часть 3. Многоклассовая классификация с моделью SVM (SVC)  с помощью стратегии \"one-vs-one\""
   ]
  },
  {
   "cell_type": "markdown",
   "metadata": {
    "deletable": false,
    "editable": false,
    "nbgrader": {
     "cell_type": "markdown",
     "checksum": "69279786ffab8eb3f4983c1b392796fb",
     "grade": false,
     "grade_id": "cell-747f8226730cf0e3",
     "locked": true,
     "schema_version": 3,
     "solution": false,
     "task": false
    }
   },
   "source": [
    "Рассмотрим пример многоклассовой классификации с использованием модели SVM (SVC) и стратегии \"one-vs-one\" в библиотеке Scikit-learn:"
   ]
  },
  {
   "cell_type": "code",
   "execution_count": null,
   "metadata": {
    "deletable": false,
    "editable": false,
    "nbgrader": {
     "cell_type": "code",
     "checksum": "06530817550a0b55a566aa4e058505e4",
     "grade": false,
     "grade_id": "cell-f12b1ef5bad0273c",
     "locked": true,
     "schema_version": 3,
     "solution": false,
     "task": false
    }
   },
   "outputs": [],
   "source": [
    "from sklearn.svm import SVC"
   ]
  },
  {
   "cell_type": "markdown",
   "metadata": {
    "deletable": false,
    "editable": false,
    "nbgrader": {
     "cell_type": "markdown",
     "checksum": "b67907852f7a819492533dcfc2928176",
     "grade": false,
     "grade_id": "cell-fc2fc164f41557cc",
     "locked": true,
     "schema_version": 3,
     "solution": false,
     "task": false
    }
   },
   "source": [
    "В SVM (Support Vector Machine) параметр kernel определяет ядро, используемое для вычисления расстояний между точками в пространстве признаков. \"rbf\" является одним из наиболее распространенных ядер и означает использование радиально-базисной функции (Radial Basis Function) в качестве ядра. Оно позволяет моделировать нелинейные зависимости между признаками и достаточно гибко подстраивается под различные формы данных.\n",
    "\n",
    "Параметр decision_function_shape определяет форму функции решения задачи многоклассовой классификации. \"ovo\" (one-vs-one) означает, что для каждой пары классов строится бинарный классификатор, который разделяет объекты из этих двух классов. Затем, чтобы определить класс нового объекта, модель использует голосование по всем построенным бинарным классификаторам. Другой вариант — \"ovr\" (one-vs-rest), при котором для каждого класса строится бинарный классификатор, который отделяет этот класс от всех остальных. Определение класса нового объекта происходит путем выбора классификатора, который выдал наибольшее значение решающей функции для этого объекта."
   ]
  },
  {
   "cell_type": "code",
   "execution_count": null,
   "metadata": {
    "deletable": false,
    "nbgrader": {
     "cell_type": "code",
     "checksum": "22980e4e2fee07677ecb56f98677cff8",
     "grade": false,
     "grade_id": "cell-f5503de568b2ed82",
     "locked": false,
     "schema_version": 3,
     "solution": true,
     "task": false
    }
   },
   "outputs": [],
   "source": [
    "\"\"\"\n",
    "Создайте экземпляр класса SVC, передайте в него параметры\n",
    "kernel=\"rbf\" и decision_function_shape=\"ovo\" ,\n",
    "сохраните экземпляр в переменную clf3.\n",
    "Пример:\n",
    "clf3 = SVC(param1=value1, param2=value2)\n",
    "\"\"\"\n",
    "\n",
    "# НАЧАЛО ВАШЕГО РЕШЕНИЯ\n",
    "raise NotImplementedError()\n",
    "# КОНЕЦ ВАШЕГО РЕШЕНИЯ"
   ]
  },
  {
   "cell_type": "code",
   "execution_count": null,
   "metadata": {
    "deletable": false,
    "editable": false,
    "nbgrader": {
     "cell_type": "code",
     "checksum": "4a5ff0416c081ec1fb6249a71780c717",
     "grade": true,
     "grade_id": "cell-6dc446be386bc197",
     "locked": true,
     "points": 1,
     "schema_version": 3,
     "solution": false,
     "task": false
    }
   },
   "outputs": [],
   "source": [
    "assert type(clf3) == SVC"
   ]
  },
  {
   "cell_type": "markdown",
   "metadata": {
    "deletable": false,
    "editable": false,
    "nbgrader": {
     "cell_type": "markdown",
     "checksum": "13aa77783c194972313e171320c51a3a",
     "grade": false,
     "grade_id": "cell-90faeb63594976af",
     "locked": true,
     "schema_version": 3,
     "solution": false,
     "task": false
    }
   },
   "source": [
    "Будем использовать те же данные MNIST:"
   ]
  },
  {
   "cell_type": "code",
   "execution_count": null,
   "metadata": {
    "deletable": false,
    "nbgrader": {
     "cell_type": "code",
     "checksum": "dbb78d7c32399e6b5e6a9e8aca69f0ff",
     "grade": false,
     "grade_id": "cell-4aa981aa2991bea1",
     "locked": false,
     "schema_version": 3,
     "solution": true,
     "task": false
    }
   },
   "outputs": [],
   "source": [
    "\"\"\"\n",
    "Обучите модель на данных X_train, y_train с помощью метода fit.\n",
    "Сделайте предсказание на данных X_test с помощью метода predict и сохраните предсказания в переменную y_pred3\n",
    "\"\"\"\n",
    "\n",
    "# НАЧАЛО ВАШЕГО РЕШЕНИЯ\n",
    "raise NotImplementedError()\n",
    "# КОНЕЦ ВАШЕГО РЕШЕНИЯ"
   ]
  },
  {
   "cell_type": "code",
   "execution_count": null,
   "metadata": {
    "deletable": false,
    "editable": false,
    "nbgrader": {
     "cell_type": "code",
     "checksum": "7c3fcf094609f0329893d5dae6ea447b",
     "grade": true,
     "grade_id": "cell-9b704f253886e4c7",
     "locked": true,
     "points": 1,
     "schema_version": 3,
     "solution": false,
     "task": false
    }
   },
   "outputs": [],
   "source": []
  },
  {
   "cell_type": "code",
   "execution_count": null,
   "metadata": {
    "deletable": false,
    "editable": false,
    "nbgrader": {
     "cell_type": "code",
     "checksum": "d65327c08a4f69f03c3d1e87961040a4",
     "grade": false,
     "grade_id": "cell-e5b452af3b6e6108",
     "locked": true,
     "schema_version": 3,
     "solution": false,
     "task": false
    }
   },
   "outputs": [],
   "source": [
    "# расчет точности\n",
    "svm_accuracy_score = accuracy_score(y_test, y_pred3)\n",
    "svm_precision_score = precision_score(y_test, y_pred3, average='macro')\n",
    "svm_recall_score = recall_score(y_test, y_pred3, average='macro')\n",
    "svm_f1_score = f1_score(y_test, y_pred3, average='macro')\n",
    "\n",
    "# Качество по всем метрикам должно быть выше 95%\n",
    "\n",
    "print(f\"svm_accuracy_score: {svm_accuracy_score}\")\n",
    "print(f\"svm_precision_score: {svm_precision_score}\")\n",
    "print(f\"svm_recall_score: {svm_recall_score}\")\n",
    "print(f\"svm_f1_score: {svm_f1_score}\")"
   ]
  },
  {
   "cell_type": "code",
   "execution_count": null,
   "metadata": {
    "deletable": false,
    "editable": false,
    "nbgrader": {
     "cell_type": "code",
     "checksum": "6267a2e6d5b8d73153bfc44f18ce3179",
     "grade": true,
     "grade_id": "cell-3a9e751ac92cff7b",
     "locked": true,
     "points": 1,
     "schema_version": 3,
     "solution": false,
     "task": false
    }
   },
   "outputs": [],
   "source": [
    "assert svm_accuracy_score > 0.95\n",
    "assert svm_precision_score > 0.95\n",
    "assert svm_recall_score > 0.95\n",
    "assert svm_f1_score > 0.95"
   ]
  }
 ],
 "metadata": {
  "kernelspec": {
   "display_name": "Python 3 (ipykernel)",
   "language": "python",
   "name": "python3"
  },
  "language_info": {
   "codemirror_mode": {
    "name": "ipython",
    "version": 3
   },
   "file_extension": ".py",
   "mimetype": "text/x-python",
   "name": "python",
   "nbconvert_exporter": "python",
   "pygments_lexer": "ipython3",
   "version": "3.10.0"
  }
 },
 "nbformat": 4,
 "nbformat_minor": 1
}
