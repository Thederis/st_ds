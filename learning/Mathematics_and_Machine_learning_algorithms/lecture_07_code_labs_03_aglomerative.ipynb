{
 "cells": [
  {
   "cell_type": "markdown",
   "metadata": {
    "tags": []
   },
   "source": [
    "# Цель занятия\n",
    "На этом занятии мы рассмотрим применение алгоритма агломеративной кластеризации для задачи кластеризации."
   ]
  },
  {
   "cell_type": "markdown",
   "metadata": {
    "id": "h93nb1trtwhu"
   },
   "source": [
    "Агломеративная кластеризация — это один из методов кластерного анализа, который используется для группировки объектов в иерархическую структуру. Он начинается с того, что каждый объект представляется отдельным кластером, а затем последовательно объединяет наиболее похожие кластеры до тех пор, пока не будет получен единственный кластер, содержащий все объекты. \n",
    "\n",
    "Основные шаги агломеративной кластеризации:\n",
    "1. Инициализация: Каждый объект представляется в отдельном кластере.\n",
    "2. Вычисление матрицы расстояний: Вычисляется матрица расстояний между всеми парами кластеров. Расстояние может быть определено различными способами, например, евклидово расстояние или корреляция.\n",
    "3. Объединение кластеров: Наиболее похожие кластеры объединяются в один кластер на основе определенного критерия объединения. Распространенными критериями являются минимальное расстояние (single linkage), максимальное расстояние (complete linkage) или среднее расстояние (average linkage) между кластерами.\n",
    "4. Обновление матрицы расстояний: Матрица расстояний обновляется, чтобы отразить новые расстояния между объединенными кластерами.\n",
    "5. Повторение шагов 3 и 4: Шаги объединения кластеров и обновления матрицы расстояний повторяются до тех пор, пока все объекты не будут объединены в один кластер.\n",
    "6. Формирование дендрограммы: В результате агломеративной кластеризации можно получить дендрограмму, которая представляет собой дерево объединений кластеров. По оси X дендрограммы отображаются объекты или кластеры, а по оси Y отображается мера расстояния или сходства."
   ]
  },
  {
   "cell_type": "code",
   "execution_count": null,
   "metadata": {},
   "outputs": [],
   "source": [
    "import numpy as np\n",
    "import matplotlib.pyplot as plt\n",
    "from sklearn.cluster import AgglomerativeClustering\n",
    "from scipy.spatial import distance\n",
    "from scipy.cluster import hierarchy\n",
    "import warnings\n",
    "warnings.filterwarnings(\"ignore\")"
   ]
  },
  {
   "cell_type": "code",
   "execution_count": null,
   "metadata": {},
   "outputs": [],
   "source": [
    "# Генерируем случайные данные\n",
    "np.random.seed(0)\n",
    "X = np.random.rand(100, 2)\n",
    "\n",
    "# Задаем количество кластеров\n",
    "n_clusters = 3"
   ]
  },
  {
   "cell_type": "code",
   "execution_count": null,
   "metadata": {},
   "outputs": [],
   "source": [
    "# Применяем алгоритм агломеративной кластеризации\n",
    "agglomerative = AgglomerativeClustering(n_clusters=n_clusters, linkage='ward')\n",
    "agglomerative.fit(X)\n",
    "\n",
    "# Получаем метки кластеров\n",
    "labels = agglomerative.labels_\n",
    "\n",
    "# Вычисляем матрицу расстояний между кластерами\n",
    "dist_matrix = distance.squareform(distance.pdist(X))\n",
    "linkage_matrix = hierarchy.linkage(dist_matrix, method='ward')"
   ]
  },
  {
   "cell_type": "code",
   "execution_count": null,
   "metadata": {},
   "outputs": [],
   "source": [
    "# Визуализация результатов с дендрограммой\n",
    "plt.figure(figsize=(12, 6))\n",
    "\n",
    "# Построение дендрограммы\n",
    "dendrogram = hierarchy.dendrogram(linkage_matrix, color_threshold=0.7, labels=labels)\n",
    "\n",
    "plt.title('Agglomerative Clustering Dendrogram')\n",
    "plt.xlabel('Samples')\n",
    "plt.ylabel('Distance')\n",
    "plt.show()"
   ]
  },
  {
   "cell_type": "code",
   "execution_count": null,
   "metadata": {},
   "outputs": [],
   "source": [
    "# Визуализация результатов кластеризации\n",
    "plt.figure(figsize=(8, 6))\n",
    "plt.scatter(X[:, 0], X[:, 1], c=labels, cmap='viridis')\n",
    "plt.title('Agglomerative Clustering')\n",
    "plt.xlabel('X')\n",
    "plt.ylabel('Y')\n",
    "plt.show()"
   ]
  }
 ],
 "metadata": {
  "colab": {
   "collapsed_sections": [],
   "name": "Data Wrangling & EDA with Pandas.ipynb",
   "provenance": []
  },
  "kernelspec": {
   "display_name": "Python 3 (ipykernel)",
   "language": "python",
   "name": "python3"
  },
  "language_info": {
   "codemirror_mode": {
    "name": "ipython",
    "version": 3
   },
   "file_extension": ".py",
   "mimetype": "text/x-python",
   "name": "python",
   "nbconvert_exporter": "python",
   "pygments_lexer": "ipython3",
   "version": "3.10.0"
  },
  "toc-autonumbering": true,
  "toc-showcode": false,
  "toc-showmarkdowntxt": false,
  "toc-showtags": false
 },
 "nbformat": 4,
 "nbformat_minor": 4
}
