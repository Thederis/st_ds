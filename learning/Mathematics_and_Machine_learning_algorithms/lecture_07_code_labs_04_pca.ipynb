{
 "cells": [
  {
   "cell_type": "markdown",
   "metadata": {
    "tags": []
   },
   "source": [
    "# Цель занятия\n",
    "На этом занятии мы рассмотрим применение алгоритма PCA для задачи снижения размерности данных."
   ]
  },
  {
   "cell_type": "markdown",
   "metadata": {
    "id": "h93nb1trtwhu"
   },
   "source": [
    "PCA означает \"анализ главных компонентов\" (англ. Principal Component Analysis). Это статистический метод, используемый для уменьшения размерности данных. PCA позволяет выявить наиболее значимые направления вариации в многомерных данных и представить их в виде новых переменных, называемых главными компонентами. Главные компоненты являются линейными комбинациями исходных переменных и ортогональны друг другу.\n",
    "\n",
    "Основная идея PCA состоит в том, чтобы найти линейное преобразование данных, которое максимизирует объясняемую дисперсию в первых главных компонентах. Первая главная компонента объясняет наибольшую часть дисперсии, вторая главная компонента объясняет следующую по величине часть дисперсии, и так далее. Это позволяет сократить размерность данных, удалив менее значимые компоненты, сохраняя при этом наиболее важную информацию."
   ]
  },
  {
   "cell_type": "code",
   "execution_count": null,
   "metadata": {},
   "outputs": [],
   "source": [
    "import numpy as np\n",
    "import matplotlib.pyplot as plt\n",
    "from sklearn.decomposition import PCA\n",
    "from sklearn.datasets import fetch_openml\n",
    "import warnings\n",
    "warnings.filterwarnings(\"ignore\")"
   ]
  },
  {
   "cell_type": "code",
   "execution_count": null,
   "metadata": {},
   "outputs": [],
   "source": [
    "# Загрузка набора данных MNIST\n",
    "mnist = fetch_openml('mnist_784')\n",
    "X = mnist.data\n",
    "y = mnist.target.astype(int)"
   ]
  },
  {
   "cell_type": "code",
   "execution_count": null,
   "metadata": {},
   "outputs": [],
   "source": [
    "# Создание объекта PCA и указание количества компонент (2 в данном случае)\n",
    "pca = PCA(n_components=2)\n",
    "\n",
    "# Выполнение анализа главных компонент и получение преобразованных данных\n",
    "X_pca = pca.fit_transform(X)"
   ]
  },
  {
   "cell_type": "code",
   "execution_count": null,
   "metadata": {},
   "outputs": [],
   "source": [
    "# Визуализация данных\n",
    "plt.figure(figsize=(10, 8))\n",
    "plt.scatter(X_pca[:, 0], X_pca[:, 1], c=y, cmap='Paired')\n",
    "plt.colorbar(label='Цифры')\n",
    "plt.xlabel('Главная компонента 1')\n",
    "plt.ylabel('Главная компонента 2')\n",
    "plt.title('Визуализация набора данных MNIST с использованием PCA')\n",
    "plt.show()"
   ]
  },
  {
   "cell_type": "code",
   "execution_count": null,
   "metadata": {},
   "outputs": [],
   "source": []
  }
 ],
 "metadata": {
  "colab": {
   "collapsed_sections": [],
   "name": "Data Wrangling & EDA with Pandas.ipynb",
   "provenance": []
  },
  "kernelspec": {
   "display_name": "Python 3 (ipykernel)",
   "language": "python",
   "name": "python3"
  },
  "language_info": {
   "codemirror_mode": {
    "name": "ipython",
    "version": 3
   },
   "file_extension": ".py",
   "mimetype": "text/x-python",
   "name": "python",
   "nbconvert_exporter": "python",
   "pygments_lexer": "ipython3",
   "version": "3.10.0"
  },
  "toc-autonumbering": true,
  "toc-showcode": false,
  "toc-showmarkdowntxt": false,
  "toc-showtags": false
 },
 "nbformat": 4,
 "nbformat_minor": 4
}
