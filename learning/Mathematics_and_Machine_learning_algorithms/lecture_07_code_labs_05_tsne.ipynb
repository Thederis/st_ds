{
 "cells": [
  {
   "cell_type": "markdown",
   "metadata": {
    "tags": []
   },
   "source": [
    "# Цель занятия\n",
    "На этом занятии мы рассмотрим применение алгоритма t-SNE для задачи снижения размерности данных."
   ]
  },
  {
   "cell_type": "markdown",
   "metadata": {
    "id": "h93nb1trtwhu"
   },
   "source": [
    "t-SNE (t-Distributed Stochastic Neighbor Embedding) - это алгоритм машинного обучения, используемый для визуализации высокоразмерных данных. Он позволяет уменьшить размерность данных и представить их в двух или трех измерениях, сохраняя при этом схожесть между точками.\n",
    "\n",
    "Основная идея t-SNE заключается в создании нового низкоразмерного пространства, в котором близкие точки в исходном пространстве сохраняют свою близость, а далекие точки становятся еще более удаленными друг от друга. Алгоритм работает путем вычисления вероятностей схожести точек в исходном пространстве и в новом пространстве, и минимизации расхождения между ними.\n",
    "\n",
    "t-SNE особенно полезен для визуализации сложных структур данных, таких как наборы изображений, текстовые данные или данные высокой размерности. Он может помочь в обнаружении кластеров, группировке похожих объектов и обнаружении выбросов.\n",
    "\n",
    "Однако стоит отметить, что t-SNE является стохастическим алгоритмом, и его результаты могут немного изменяться при каждом запуске. Также интерпретация отдельных расстояний между точками в t-SNE не имеет смысла, и вместо этого следует сосредоточиться на общей структуре и группировке точек на графике."
   ]
  },
  {
   "cell_type": "code",
   "execution_count": null,
   "metadata": {},
   "outputs": [],
   "source": [
    "import numpy as np\n",
    "import matplotlib.pyplot as plt\n",
    "from sklearn.manifold import TSNE\n",
    "from sklearn.datasets import fetch_openml\n",
    "import warnings\n",
    "warnings.filterwarnings(\"ignore\")"
   ]
  },
  {
   "cell_type": "code",
   "execution_count": null,
   "metadata": {},
   "outputs": [],
   "source": [
    "# Загрузка набора данных MNIST\n",
    "mnist = fetch_openml('mnist_784')\n",
    "X = mnist.data\n",
    "y = mnist.target.astype(int)"
   ]
  },
  {
   "cell_type": "code",
   "execution_count": null,
   "metadata": {},
   "outputs": [],
   "source": [
    "# Создание объекта t-SNE и указание параметров\n",
    "tsne = TSNE(n_components=2, perplexity=30)\n",
    "\n",
    "# Выполнение анализа t-SNE и получение преобразованных данных\n",
    "X_tsne = tsne.fit_transform(X)"
   ]
  },
  {
   "cell_type": "code",
   "execution_count": null,
   "metadata": {},
   "outputs": [],
   "source": [
    "# Визуализация данных\n",
    "plt.figure(figsize=(10, 8))\n",
    "plt.scatter(X_tsne[:, 0], X_tsne[:, 1], c=y, cmap='Paired')\n",
    "plt.colorbar(label='Цифры')\n",
    "plt.xlabel('t-SNE компонента 1')\n",
    "plt.ylabel('t-SNE компонента 2')\n",
    "plt.title('Визуализация набора данных MNIST с использованием t-SNE')\n",
    "plt.show()\n"
   ]
  },
  {
   "cell_type": "code",
   "execution_count": null,
   "metadata": {},
   "outputs": [],
   "source": []
  }
 ],
 "metadata": {
  "colab": {
   "collapsed_sections": [],
   "name": "Data Wrangling & EDA with Pandas.ipynb",
   "provenance": []
  },
  "kernelspec": {
   "display_name": "Python 3 (ipykernel)",
   "language": "python",
   "name": "python3"
  },
  "language_info": {
   "codemirror_mode": {
    "name": "ipython",
    "version": 3
   },
   "file_extension": ".py",
   "mimetype": "text/x-python",
   "name": "python",
   "nbconvert_exporter": "python",
   "pygments_lexer": "ipython3",
   "version": "3.10.0"
  },
  "toc-autonumbering": true,
  "toc-showcode": false,
  "toc-showmarkdowntxt": false,
  "toc-showtags": false
 },
 "nbformat": 4,
 "nbformat_minor": 4
}
