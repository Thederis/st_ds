{
 "cells": [
  {
   "cell_type": "markdown",
   "metadata": {},
   "source": [
    "# Книги\n",
    "\n",
    "- 1. Глубокое обучение в картинках. Визуальный гид по искусственному интеллекту\n",
    "    https://t.me/physics_lib/9110\n",
    "- 2. Deep Learning A Visual Approach\n",
    "    https://t.me/progbook/6054\n",
    "- 3. Глубокое обучение\n",
    "    https://t.me/progbook/558\n",
    "- 4. Глубокое обучение. Погружение в мир нейронных сетей\n",
    "    https://vk.com/wall-37160097_306613\n",
    "- 5. Бишоп. Распознавание образов и машинное обучение\n",
    "    https://vk.com/wall-206723877_4896\n",
    "\n",
    "# Сайты\n",
    "\n",
    "- 1. https://academy.yandex.ru/handbook/ml\n",
    "- 2. https://scikit-learn.org/stable/user_guide.html\n",
    "- 3. https://arxiv.org\n",
    "- 4. https://paperswithcode.com/\n",
    "- 5. https://www.connectedpapers.com/"
   ]
  },
  {
   "cell_type": "code",
   "execution_count": null,
   "metadata": {},
   "outputs": [],
   "source": []
  }
 ],
 "metadata": {
  "colab": {
   "collapsed_sections": [],
   "name": "Data Wrangling & EDA with Pandas.ipynb",
   "provenance": []
  },
  "kernelspec": {
   "display_name": "Python 3 (ipykernel)",
   "language": "python",
   "name": "python3"
  },
  "language_info": {
   "codemirror_mode": {
    "name": "ipython",
    "version": 3
   },
   "file_extension": ".py",
   "mimetype": "text/x-python",
   "name": "python",
   "nbconvert_exporter": "python",
   "pygments_lexer": "ipython3",
   "version": "3.11.4"
  },
  "toc-autonumbering": true,
  "toc-showcode": false,
  "toc-showmarkdowntxt": false,
  "toc-showtags": false
 },
 "nbformat": 4,
 "nbformat_minor": 4
}
