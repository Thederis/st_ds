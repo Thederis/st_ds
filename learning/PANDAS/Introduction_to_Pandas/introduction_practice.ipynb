{
 "cells": [
  {
   "cell_type": "markdown",
   "metadata": {},
   "source": [
    "**Задание 2.4**\n",
    "\n",
    "Напишите функцию create_medications(names, counts), которая создает Series medications, индексами которой являются названия лекарств names, а значениями - их количество в поставке counts.\n",
    "\n",
    "А также напишите функцию get_percent(medications, name), которая возвращает долю количества товара с именем name от общего количества товаров в поставке в процентах.\n",
    "\n",
    "Примечание. Не забудьте ипортировать библиотеки.\n",
    "\n",
    "Пример:\n",
    "\n",
    "names=['chlorhexidine', 'cyntomycin', 'afobazol']\n",
    "\n",
    "counts=[15, 18, 7]\n",
    "\n",
    "medications = create_medications(names, counts)\n",
    "\n",
    "print(get_percent(medications, \"chlorhexidine\"))\n",
    "\n",
    "#37.5\n"
   ]
  },
  {
   "cell_type": "code",
   "execution_count": 3,
   "metadata": {},
   "outputs": [
    {
     "name": "stdout",
     "output_type": "stream",
     "text": [
      "37.5\n"
     ]
    }
   ],
   "source": [
    "import pandas as pd\n",
    "\n",
    "def create_medications(names, counts):\n",
    "    series_medications = pd.Series(data=counts, index=names, name=\"Series medications\")\n",
    "    return series_medications\n",
    "\n",
    "def get_percent(medications, name):\n",
    "    percent = medications[name]/sum(medications[:])*100\n",
    "    return percent\n",
    "\n",
    "names=['chlorhexidine', 'cyntomycin', 'afobazol']\n",
    "\n",
    "counts=[15, 18, 7]\n",
    "\n",
    "medications = create_medications(names, counts)\n",
    "\n",
    "print(get_percent(medications, \"chlorhexidine\"))\n",
    "\n",
    "#37.5"
   ]
  },
  {
   "cell_type": "markdown",
   "metadata": {},
   "source": [
    "**Задание 3.5**\n",
    "\n",
    "Вы работаете аналитиком в компании ScienceYou. Ваша задача — проанализировать чистую прибыль.\n",
    "\n",
    "Доходы `(income)`, расходы `(expenses)` и годы `(years)`, соответствующие им, предоставлены вам в виде списков.\n",
    "\n",
    "Например:\n",
    "\n",
    "\n",
    "`income = [478, 512, 196]`\n",
    "\n",
    "`expenses = [156, 130, 270]`\n",
    "\n",
    "`years = [2018, 2019, 2020]`\n",
    "\n",
    "Создайте функцию `create_companyDF(income, expenses, years)`, которая возвращает `DataFrame`, составленный из входных данных со столбцами `Income` и `Expenses` и индексами, соответствующими годам рассматриваемого периода.\n",
    "\n",
    "Пример такого `DataFrame` представлен ниже.\n",
    "\n",
    "\n",
    "    Income  Expenses\n",
    "\n",
    "2018    478     156\n",
    "\n",
    "2019    512     130\n",
    "\n",
    "2020    196     270\n",
    "\n",
    "Также напишите функцию `get_profit(df, year)`, которая возвращает разницу между доходом и расходом, записанными в таблице `df`, за год `year`.\n",
    "\n",
    "Примечание. Если информация за запрашиваемый год не указана в вашей таблице, вам необходимо вернуть `None`.\n",
    "\n",
    "Примечание. Не забудьте ипортировать библиотеки."
   ]
  },
  {
   "cell_type": "code",
   "execution_count": 68,
   "metadata": {},
   "outputs": [
    {
     "name": "stdout",
     "output_type": "stream",
     "text": [
      "      Income  Expenses\n",
      "2017     612       136\n",
      "2018     516       163\n",
      "2019     329       250\n",
      "2020     158       361\n",
      "353\n",
      "None\n"
     ]
    }
   ],
   "source": [
    "\n",
    "import pandas as pd\n",
    "\n",
    "def create_companyDF(income, expenses, years):\n",
    "    \n",
    "    companyDF = pd.DataFrame(dict(Income = income, Expenses = expenses), index = years)\n",
    "       \n",
    "    return companyDF\n",
    "\n",
    "def get_profit(year=None, df=None):\n",
    "    \n",
    "    try:\n",
    "\n",
    "        diferent = df.loc[year, \"Income\"] - df.loc[year, \"Expenses\"]\n",
    "        \n",
    "    except KeyError:\n",
    "        return None\n",
    "\n",
    "    return diferent\n",
    "\n",
    "\n",
    "income = [478, 512, 196]\n",
    "expenses = [156, 130, 270]\n",
    "years = [2018, 2019, 2020]\n",
    "\n",
    "\n",
    "print(create_companyDF(income = [612, 516, 329, 158], expenses = [136, 163, 250, 361], years = [2017, 2018, 2019, 2020]))\n",
    "\n",
    "print(get_profit(year = 2018, df = create_companyDF([612, 516, 329, 158], [136,163,250,361], [2017,2018,2019,2020])))\n",
    "\n",
    "print(get_profit(year = 2013, df = create_companyDF([612, 516, 329, 158], [136,163,250,361], [2017,2018,2019,2020])))\n",
    "#     Income  Expenses\n",
    "# 2018    478     156\n",
    "# 2019    512     130\n",
    "# 2020    196     270\n",
    "\n"
   ]
  }
 ],
 "metadata": {
  "kernelspec": {
   "display_name": "Python 3",
   "language": "python",
   "name": "python3"
  },
  "language_info": {
   "codemirror_mode": {
    "name": "ipython",
    "version": 3
   },
   "file_extension": ".py",
   "mimetype": "text/x-python",
   "name": "python",
   "nbconvert_exporter": "python",
   "pygments_lexer": "ipython3",
   "version": "3.10.6"
  },
  "orig_nbformat": 4
 },
 "nbformat": 4,
 "nbformat_minor": 2
}
