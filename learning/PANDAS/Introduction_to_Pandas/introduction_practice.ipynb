{
 "cells": [
  {
   "cell_type": "markdown",
   "metadata": {},
   "source": [
    "**Задание 2.4**\n",
    "\n",
    "Напишите функцию create_medications(names, counts), которая создает Series medications, индексами которой являются названия лекарств names, а значениями - их количество в поставке counts.\n",
    "\n",
    "А также напишите функцию get_percent(medications, name), которая возвращает долю количества товара с именем name от общего количества товаров в поставке в процентах.\n",
    "\n",
    "Примечание. Не забудьте ипортировать библиотеки.\n",
    "\n",
    "Пример:\n",
    "\n",
    "names=['chlorhexidine', 'cyntomycin', 'afobazol']\n",
    "\n",
    "counts=[15, 18, 7]\n",
    "\n",
    "medications = create_medications(names, counts)\n",
    "\n",
    "print(get_percent(medications, \"chlorhexidine\"))\n",
    "\n",
    "#37.5\n"
   ]
  },
  {
   "cell_type": "code",
   "execution_count": 3,
   "metadata": {},
   "outputs": [
    {
     "name": "stdout",
     "output_type": "stream",
     "text": [
      "37.5\n"
     ]
    }
   ],
   "source": [
    "import pandas as pd\n",
    "\n",
    "def create_medications(names, counts):\n",
    "    series_medications = pd.Series(data=counts, index=names, name=\"Series medications\")\n",
    "    return series_medications\n",
    "\n",
    "def get_percent(medications, name):\n",
    "    percent = medications[name]/sum(medications[:])*100\n",
    "    return percent\n",
    "\n",
    "names=['chlorhexidine', 'cyntomycin', 'afobazol']\n",
    "\n",
    "counts=[15, 18, 7]\n",
    "\n",
    "medications = create_medications(names, counts)\n",
    "\n",
    "print(get_percent(medications, \"chlorhexidine\"))\n",
    "\n",
    "#37.5"
   ]
  },
  {
   "cell_type": "markdown",
   "metadata": {},
   "source": [
    "**Задание 3.5**\n",
    "\n",
    "Вы работаете аналитиком в компании ScienceYou. Ваша задача — проанализировать чистую прибыль.\n",
    "\n",
    "Доходы `(income)`, расходы `(expenses)` и годы `(years)`, соответствующие им, предоставлены вам в виде списков.\n",
    "\n",
    "Например:\n",
    "\n",
    "\n",
    "`income = [478, 512, 196]`\n",
    "\n",
    "`expenses = [156, 130, 270]`\n",
    "\n",
    "`years = [2018, 2019, 2020]`\n",
    "\n",
    "Создайте функцию `create_companyDF(income, expenses, years)`, которая возвращает `DataFrame`, составленный из входных данных со столбцами `Income` и `Expenses` и индексами, соответствующими годам рассматриваемого периода.\n",
    "\n",
    "Пример такого `DataFrame` представлен ниже.\n",
    "\n",
    "\n",
    "    Income  Expenses\n",
    "\n",
    "2018    478     156\n",
    "\n",
    "2019    512     130\n",
    "\n",
    "2020    196     270\n",
    "\n",
    "Также напишите функцию `get_profit(df, year)`, которая возвращает разницу между доходом и расходом, записанными в таблице `df`, за год `year`.\n",
    "\n",
    "Примечание. Если информация за запрашиваемый год не указана в вашей таблице, вам необходимо вернуть `None`.\n",
    "\n",
    "Примечание. Не забудьте ипортировать библиотеки."
   ]
  },
  {
   "cell_type": "code",
   "execution_count": 68,
   "metadata": {},
   "outputs": [
    {
     "name": "stdout",
     "output_type": "stream",
     "text": [
      "      Income  Expenses\n",
      "2017     612       136\n",
      "2018     516       163\n",
      "2019     329       250\n",
      "2020     158       361\n",
      "353\n",
      "None\n"
     ]
    }
   ],
   "source": [
    "\n",
    "import pandas as pd\n",
    "\n",
    "def create_companyDF(income, expenses, years):\n",
    "    \n",
    "    companyDF = pd.DataFrame(dict(Income = income, Expenses = expenses), index = years)\n",
    "       \n",
    "    return companyDF\n",
    "\n",
    "def get_profit(year=None, df=None):\n",
    "    \n",
    "    try:\n",
    "\n",
    "        diferent = df.loc[year, \"Income\"] - df.loc[year, \"Expenses\"]\n",
    "        \n",
    "    except KeyError:\n",
    "        return None\n",
    "\n",
    "    return diferent\n",
    "\n",
    "\n",
    "income = [478, 512, 196]\n",
    "expenses = [156, 130, 270]\n",
    "years = [2018, 2019, 2020]\n",
    "\n",
    "\n",
    "print(create_companyDF(income = [612, 516, 329, 158], expenses = [136, 163, 250, 361], years = [2017, 2018, 2019, 2020]))\n",
    "\n",
    "print(get_profit(year = 2018, df = create_companyDF([612, 516, 329, 158], [136,163,250,361], [2017,2018,2019,2020])))\n",
    "\n",
    "print(get_profit(year = 2013, df = create_companyDF([612, 516, 329, 158], [136,163,250,361], [2017,2018,2019,2020])))\n",
    "#     Income  Expenses\n",
    "# 2018    478     156\n",
    "# 2019    512     130\n",
    "# 2020    196     270\n",
    "\n"
   ]
  },
  {
   "cell_type": "markdown",
   "metadata": {},
   "source": [
    "# 6/16  5. Знакомимся с данными: недвижимость"
   ]
  },
  {
   "cell_type": "markdown",
   "metadata": {},
   "source": [
    "Данные представляют собой таблицу, в которой содержится 23 столбца:\n",
    "\n",
    "`index` — номер строки  \n",
    "`Suburb` — наименование пригорода  \n",
    "`Address` — адрес  \n",
    "`Rooms` — количество комнат в помещении  \n",
    "`Type` — тип здания (h — дом, коттедж, вилла, терраса; u — блочный, дуплексный дом; t — таунхаус)  \n",
    "`Price` — цена помещения  \n",
    "`Method` — метод продажи  \n",
    "`SellerG` — риэлторская компания  \n",
    "`Date` — дата продажи (в формате день/месяц/год)  \n",
    "`Distance` — расстояния до объекта от центра Мельбурна  \n",
    "`Postcode` — почтовый индекс  \n",
    "`Bedroom` — количество спален  \n",
    "`Bathroom` — количество ванных комнат  \n",
    "`Car` — количество парковочных мест  \n",
    "`Landsize` — площадь прилегающей территории  \n",
    "`BuildingArea` — площадь здания  \n",
    "`YearBuilt` — год постройки  \n",
    "`CouncilArea` — региональное управление  \n",
    "`Lattitude` — географическая широта  \n",
    "`Longitude` — географическая долгота  \n",
    "`Regionname` — наименование района Мельбурна  \n",
    "`Propertycount` — количество объектов недвижимости в районе  \n",
    "`Coordinates` — широта и долгота, объединённые в кортеж  \n"
   ]
  },
  {
   "cell_type": "code",
   "execution_count": 10,
   "metadata": {},
   "outputs": [
    {
     "data": {
      "text/plain": [
       "1310000.0"
      ]
     },
     "execution_count": 10,
     "metadata": {},
     "output_type": "execute_result"
    }
   ],
   "source": [
    "import pandas as pd\n",
    "\n",
    "melb_data = pd.read_csv('pd_data/melb_data.csv', sep=',')\n",
    "\n",
    "# Какова цена объекта недвижимости под индексом 15?\n",
    "melb_data.loc[15, 'Price']"
   ]
  },
  {
   "cell_type": "markdown",
   "metadata": {},
   "source": [
    "Задание 5.2\n",
    "\n",
    "Когда был продан объект под индексом 90?"
   ]
  },
  {
   "cell_type": "code",
   "execution_count": 12,
   "metadata": {},
   "outputs": [
    {
     "data": {
      "text/plain": [
       "'10/09/2016'"
      ]
     },
     "execution_count": 12,
     "metadata": {},
     "output_type": "execute_result"
    }
   ],
   "source": [
    "melb_data.loc[90, 'Date']"
   ]
  },
  {
   "cell_type": "markdown",
   "metadata": {},
   "source": [
    "Задание 5.3\n",
    "\n",
    "Во сколько раз площадь прилегающей территории, на которой находится здание с индексом 3521, больше площади участка, на котором находится здание с индексом 1690? Ответ округлите до целого числа."
   ]
  },
  {
   "cell_type": "code",
   "execution_count": 14,
   "metadata": {},
   "outputs": [
    {
     "data": {
      "text/plain": [
       "2.7857142857142856"
      ]
     },
     "execution_count": 14,
     "metadata": {},
     "output_type": "execute_result"
    }
   ],
   "source": [
    "melb_data.loc[3521, 'Landsize'] / melb_data.loc[1690, 'Landsize']"
   ]
  },
  {
   "cell_type": "markdown",
   "metadata": {},
   "source": [
    "Сколько пропущенных значений в столбце `CouncilArea`?"
   ]
  },
  {
   "cell_type": "code",
   "execution_count": null,
   "metadata": {},
   "outputs": [],
   "source": [
    "import pandas as pd\n",
    "import numpy as np\n",
    "\n",
    "melb_data.CouncilArea.isnull().sum()\n",
    "# 1369"
   ]
  },
  {
   "cell_type": "markdown",
   "metadata": {},
   "source": [
    "Сколько пропущенных значений в столбцах?"
   ]
  },
  {
   "cell_type": "code",
   "execution_count": null,
   "metadata": {},
   "outputs": [],
   "source": [
    "melb_data.isnull().sum()"
   ]
  },
  {
   "cell_type": "markdown",
   "metadata": {},
   "source": [
    "Сколько пропущенных значений в сумме по столбцам?"
   ]
  },
  {
   "cell_type": "code",
   "execution_count": null,
   "metadata": {},
   "outputs": [],
   "source": [
    "melb_data.isnull().sum().sum()\n",
    "# 1369"
   ]
  },
  {
   "cell_type": "markdown",
   "metadata": {},
   "source": [
    "Задание 6.6\n",
    "\n",
    "Сколько столбцов после преобразования типов имеет целочисленный тип данных?"
   ]
  },
  {
   "cell_type": "code",
   "execution_count": null,
   "metadata": {},
   "outputs": [],
   "source": [
    "melb_data.dtypes [melb_data.dtypes == 'int64'].value_counts()\n",
    "\n",
    "# int64    3\n",
    "# Name: count, dtype: int64"
   ]
  },
  {
   "cell_type": "markdown",
   "metadata": {},
   "source": [
    " Среднее и медианное значения цены дома в таблице отличаются более чем в 10 раз?"
   ]
  },
  {
   "cell_type": "code",
   "execution_count": null,
   "metadata": {},
   "outputs": [],
   "source": [
    "ddd = melb_data.describe().loc[:, 'Price']\n",
    "display(ddd)\n",
    "\n",
    "ddd.loc['mean'] / ddd.loc['50%']\n",
    "\n",
    "# count    1.358000e+04\n",
    "# mean     1.075684e+06\n",
    "# std      6.393107e+05\n",
    "# min      8.500000e+04\n",
    "# 25%      6.500000e+05\n",
    "# 50%      9.030000e+05\n",
    "# 75%      1.330000e+06\n",
    "# max      9.000000e+06\n",
    "# Name: Price, dtype: float64\n",
    "# \n",
    "# 1.1912337535493698"
   ]
  },
  {
   "cell_type": "markdown",
   "metadata": {},
   "source": [
    "Половина проданных зданий находится на расстоянии от 6.1 до 13 километров от центра города?"
   ]
  },
  {
   "cell_type": "code",
   "execution_count": 30,
   "metadata": {},
   "outputs": [
    {
     "data": {
      "text/html": [
       "<div>\n",
       "<style scoped>\n",
       "    .dataframe tbody tr th:only-of-type {\n",
       "        vertical-align: middle;\n",
       "    }\n",
       "\n",
       "    .dataframe tbody tr th {\n",
       "        vertical-align: top;\n",
       "    }\n",
       "\n",
       "    .dataframe thead th {\n",
       "        text-align: right;\n",
       "    }\n",
       "</style>\n",
       "<table border=\"1\" class=\"dataframe\">\n",
       "  <thead>\n",
       "    <tr style=\"text-align: right;\">\n",
       "      <th></th>\n",
       "      <th>Suburb</th>\n",
       "      <th>Address</th>\n",
       "      <th>Type</th>\n",
       "      <th>Method</th>\n",
       "      <th>SellerG</th>\n",
       "      <th>Date</th>\n",
       "      <th>CouncilArea</th>\n",
       "      <th>Regionname</th>\n",
       "      <th>Coordinates</th>\n",
       "    </tr>\n",
       "  </thead>\n",
       "  <tbody>\n",
       "    <tr>\n",
       "      <th>count</th>\n",
       "      <td>13580</td>\n",
       "      <td>13580</td>\n",
       "      <td>13580</td>\n",
       "      <td>13580</td>\n",
       "      <td>13580</td>\n",
       "      <td>13580</td>\n",
       "      <td>12211</td>\n",
       "      <td>13580</td>\n",
       "      <td>13580</td>\n",
       "    </tr>\n",
       "    <tr>\n",
       "      <th>unique</th>\n",
       "      <td>314</td>\n",
       "      <td>13378</td>\n",
       "      <td>3</td>\n",
       "      <td>5</td>\n",
       "      <td>268</td>\n",
       "      <td>58</td>\n",
       "      <td>33</td>\n",
       "      <td>8</td>\n",
       "      <td>13097</td>\n",
       "    </tr>\n",
       "    <tr>\n",
       "      <th>top</th>\n",
       "      <td>Reservoir</td>\n",
       "      <td>36 Aberfeldie St</td>\n",
       "      <td>h</td>\n",
       "      <td>S</td>\n",
       "      <td>Nelson</td>\n",
       "      <td>27/05/2017</td>\n",
       "      <td>Moreland</td>\n",
       "      <td>Southern Metropolitan</td>\n",
       "      <td>-37.8361, 144.9966</td>\n",
       "    </tr>\n",
       "    <tr>\n",
       "      <th>freq</th>\n",
       "      <td>359</td>\n",
       "      <td>3</td>\n",
       "      <td>9449</td>\n",
       "      <td>9022</td>\n",
       "      <td>1565</td>\n",
       "      <td>473</td>\n",
       "      <td>1163</td>\n",
       "      <td>4695</td>\n",
       "      <td>12</td>\n",
       "    </tr>\n",
       "  </tbody>\n",
       "</table>\n",
       "</div>"
      ],
      "text/plain": [
       "           Suburb           Address   Type Method SellerG        Date  \\\n",
       "count       13580             13580  13580  13580   13580       13580   \n",
       "unique        314             13378      3      5     268          58   \n",
       "top     Reservoir  36 Aberfeldie St      h      S  Nelson  27/05/2017   \n",
       "freq          359                 3   9449   9022    1565         473   \n",
       "\n",
       "       CouncilArea             Regionname         Coordinates  \n",
       "count        12211                  13580               13580  \n",
       "unique          33                      8               13097  \n",
       "top       Moreland  Southern Metropolitan  -37.8361, 144.9966  \n",
       "freq          1163                   4695                  12  "
      ]
     },
     "execution_count": 30,
     "metadata": {},
     "output_type": "execute_result"
    }
   ],
   "source": [
    "melb_data.describe(include=['object']).loc[:, :]"
   ]
  },
  {
   "cell_type": "markdown",
   "metadata": {},
   "source": [
    "Задание 6.9\n",
    "\n",
    "Сколько процентов от общего количества домов составляют таунхаусы (тип объекта — t)?\n",
    "Ответ округлите до целого числа. Не указывайте знак %."
   ]
  },
  {
   "cell_type": "markdown",
   "metadata": {},
   "source": [
    "Чему равно максимальное количество домов на продажу в районе (Propertycount)?"
   ]
  },
  {
   "cell_type": "code",
   "execution_count": 52,
   "metadata": {},
   "outputs": [
    {
     "data": {
      "text/plain": [
       "21650.0"
      ]
     },
     "execution_count": 52,
     "metadata": {},
     "output_type": "execute_result"
    }
   ],
   "source": [
    "melb_data['Propertycount'].max()"
   ]
  },
  {
   "cell_type": "markdown",
   "metadata": {},
   "source": [
    "Задание 7.3\n",
    "\n",
    "Чему равно стандартное отклонение (разброс) расстояния от центра города до объекта недвижимости?\n",
    "Ответ округлите до целого числа."
   ]
  },
  {
   "cell_type": "code",
   "execution_count": 54,
   "metadata": {},
   "outputs": [
    {
     "data": {
      "text/plain": [
       "6"
      ]
     },
     "execution_count": 54,
     "metadata": {},
     "output_type": "execute_result"
    }
   ],
   "source": [
    "round(melb_data['Distance'].std())"
   ]
  },
  {
   "cell_type": "markdown",
   "metadata": {},
   "source": [
    "Задание 7.4\n",
    "\n",
    "Чему равно отклонение (в процентах) медианного значения площади здания от его среднего значения?\n",
    "Ответ округлите до целого числа. Не указывайте знак %."
   ]
  },
  {
   "cell_type": "code",
   "execution_count": 56,
   "metadata": {},
   "outputs": [
    {
     "data": {
      "text/plain": [
       "-10"
      ]
     },
     "execution_count": 56,
     "metadata": {},
     "output_type": "execute_result"
    }
   ],
   "source": [
    "round((melb_data['BuildingArea'].median() - melb_data['BuildingArea'].mean())/melb_data['BuildingArea'].mean()*100)"
   ]
  },
  {
   "cell_type": "markdown",
   "metadata": {},
   "source": [
    "Задание 7.5\n",
    "\n",
    "Задан ряд чисел [1, 2, 4, 2, 3, 2, 1, 5, 6]. Чему равна мода в данном ряду?"
   ]
  },
  {
   "cell_type": "code",
   "execution_count": 59,
   "metadata": {},
   "outputs": [
    {
     "data": {
      "text/html": [
       "<div>\n",
       "<style scoped>\n",
       "    .dataframe tbody tr th:only-of-type {\n",
       "        vertical-align: middle;\n",
       "    }\n",
       "\n",
       "    .dataframe tbody tr th {\n",
       "        vertical-align: top;\n",
       "    }\n",
       "\n",
       "    .dataframe thead th {\n",
       "        text-align: right;\n",
       "    }\n",
       "</style>\n",
       "<table border=\"1\" class=\"dataframe\">\n",
       "  <thead>\n",
       "    <tr style=\"text-align: right;\">\n",
       "      <th></th>\n",
       "      <th>0</th>\n",
       "    </tr>\n",
       "  </thead>\n",
       "  <tbody>\n",
       "    <tr>\n",
       "      <th>0</th>\n",
       "      <td>2</td>\n",
       "    </tr>\n",
       "  </tbody>\n",
       "</table>\n",
       "</div>"
      ],
      "text/plain": [
       "   0\n",
       "0  2"
      ]
     },
     "execution_count": 59,
     "metadata": {},
     "output_type": "execute_result"
    }
   ],
   "source": [
    "number = pd.DataFrame([1, 2, 4, 2, 3, 2, 1, 5, 6])\n",
    "number.mode()"
   ]
  },
  {
   "cell_type": "markdown",
   "metadata": {},
   "source": [
    "Задание 7.6\n",
    "\n",
    "Сколько спален чаще всего встречается в домах в Мельбурне?"
   ]
  },
  {
   "cell_type": "code",
   "execution_count": 66,
   "metadata": {},
   "outputs": [
    {
     "data": {
      "text/plain": [
       "0    3\n",
       "Name: Rooms, dtype: int64"
      ]
     },
     "execution_count": 66,
     "metadata": {},
     "output_type": "execute_result"
    }
   ],
   "source": [
    "melb_data['Rooms'].mode()"
   ]
  },
  {
   "cell_type": "markdown",
   "metadata": {},
   "source": [
    "Задание 8.1\n",
    "\n",
    "У скольких объектов недвижимости из таблицы `melb_data` отсутствуют ванные комнаты?"
   ]
  },
  {
   "cell_type": "code",
   "execution_count": null,
   "metadata": {},
   "outputs": [],
   "source": [
    "melb_data[melb_data['Bathroom'] == 0].count()"
   ]
  }
 ],
 "metadata": {
  "kernelspec": {
   "display_name": "Python 3",
   "language": "python",
   "name": "python3"
  },
  "language_info": {
   "codemirror_mode": {
    "name": "ipython",
    "version": 3
   },
   "file_extension": ".py",
   "mimetype": "text/x-python",
   "name": "python",
   "nbconvert_exporter": "python",
   "pygments_lexer": "ipython3",
   "version": "3.10.6"
  },
  "orig_nbformat": 4
 },
 "nbformat": 4,
 "nbformat_minor": 2
}
