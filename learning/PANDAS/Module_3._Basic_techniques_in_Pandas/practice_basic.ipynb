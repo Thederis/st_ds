{
 "cells": [
  {
   "cell_type": "markdown",
   "metadata": {},
   "source": [
    "Задание 2.3 \n",
    "\n",
    "\n",
    "\n",
    "Напишите функцию `delete_columns(df, col=[])`, которая удаляет столбцы из DataFrame и возвращает новую таблицу. Если одного из указанных столбцов не существует в таблице, то функция должна возвращать None.\n",
    "\n",
    "Пример DataFrame:\n",
    "\n",
    "\n",
    "customer_df = pd.DataFrame({\n",
    "            'number': [0, 1, 2, 3, 4],\n",
    "            'cust_id': [128, 1201, 9832, 4392, 7472],\n",
    "            'cust_age': [13, 21, 19, 21, 60],\n",
    "            'cust_sale': [0, 0, 0.2, 0.15, 0.3],\n",
    "            'cust_year_birth': [2008, 2000, 2002, 2000, 1961],\n",
    "            'cust_order': [1400, 14142, 900, 1240, 8430]\n",
    "        })\n",
    "Примечание. Не забудьте импортировать библиотеки."
   ]
  },
  {
   "cell_type": "code",
   "execution_count": null,
   "metadata": {},
   "outputs": [],
   "source": [
    "import pandas as pd\n",
    "\n",
    "customer_df = pd.DataFrame({\n",
    "            'number': [0, 1, 2, 3, 4],\n",
    "            'cust_id': [128, 1201, 9832, 4392, 7472],\n",
    "            'cust_age': [13, 21, 19, 21, 60],\n",
    "            'cust_sale': [0, 0, 0.2, 0.15, 0.3],\n",
    "            'cust_year_birth': [2008, 2000, 2002, 2000, 1961],\n",
    "            'cust_order': [1400, 14142, 900, 1240, 8430]\n",
    "        })\n",
    "\n",
    "def delete_columns(df, col=[]):\n",
    "    for i in col:\n",
    "        if i in df.columns:\n",
    "            dc_new = df.drop([i], axis=1)\n",
    "        else:\n",
    "            dc_new=None\n",
    "    return dc_new\n",
    "\n",
    "display(delete_columns(customer_df, ['number']))"
   ]
  },
  {
   "cell_type": "markdown",
   "metadata": {},
   "source": [
    "Задание 2.4\n",
    "\n",
    "Задан DataFrame `countries_df`, содержащий следующие столбцы: название страны, население (`population`) в миллионах человек и площадь страны (`square`) в квадратных километрах.  \n",
    "countries_df = pd.DataFrame(  \n",
    "    {  \n",
    "        \"country\": [\n",
    "            \"Англия\",\n",
    "            \"Канада\",\n",
    "            \"США\",\n",
    "            \"Россия\",\n",
    "            \"Украина\",\n",
    "            \"Беларусь\",\n",
    "            \"Казахстан\",\n",
    "        ],  \n",
    "        \"population\": [56.29, 38.05, 322.28, 146.24, 45.5, 9.5, 17.04],  \n",
    "        \"square\": [133396, 9984670, 9826630, 17125191, 603628, 207600, 2724902],  \n",
    "    }  \n",
    ")  \n",
    "Для каждой страны рассчитайте плотность населения (количество человек на квадратный километр).  \n",
    "\n",
    "Затем по полученным данным рассчитайте среднее по плотностям населения в указанных странах. Ответ округлите до двух знаков после точки-разделителя.  \n",
    "\n",
    "Плотность населения рассчитывается как количество человек, проживающих на территории отдельной страны, делённое на площадь этой страны. Обратите внимание, что население в таблице представлено в миллионах."
   ]
  },
  {
   "cell_type": "code",
   "execution_count": null,
   "metadata": {},
   "outputs": [],
   "source": [
    "import pandas as pd\n",
    "\n",
    "countries_df = pd.DataFrame(\n",
    "    {\n",
    "        \"country\": [\n",
    "            \"Англия\",\n",
    "            \"Канада\",\n",
    "            \"США\",\n",
    "            \"Россия\",\n",
    "            \"Украина\",\n",
    "            \"Беларусь\",\n",
    "            \"Казахстан\",\n",
    "        ],\n",
    "        \"population\": [56.29, 38.05, 322.28, 146.24, 45.5, 9.5, 17.04],\n",
    "        \"square\": [133396, 9984670, 9826630, 17125191, 603628, 207600, 2724902],\n",
    "    }\n",
    ")\n",
    "\n",
    "population_density = (countries_df[\"population\"]*1000000)/countries_df[\"square\"]\n",
    "display(population_density)\n",
    "display(round(population_density.mean(), 2))"
   ]
  },
  {
   "cell_type": "markdown",
   "metadata": {},
   "source": [
    "ВВОДНЫЕ ДАННЫЕ ДЛЯ ВЫПОЛНЕНИЯ ЗАДАНИЙ 3.4-3.5\n",
    "\n",
    "Вам представлены данные (в формате csv) об отчётах очевидцев НЛО в США за период с 1930 по 2020 год.\n",
    "\n",
    "В данных есть следующие признаки:\n",
    "\n",
    "\"City\" — город, где был замечен НЛО;  \n",
    "\"Colors Reported\" — цвет объекта;  \n",
    "\"Shape Reported\" — форма объекта;  \n",
    "\"State\" — обозначение штата;  \n",
    "\"Time\" — время, когда был замечен НЛО (данные отсортированы от старых наблюдений к новым).   \n",
    "Прочитайте данные, сделайте преобразование времени к формату datetime и выполните задания ниже."
   ]
  },
  {
   "cell_type": "code",
   "execution_count": null,
   "metadata": {},
   "outputs": [],
   "source": [
    "import pandas as pd\n",
    "\n",
    "ufo = pd.read_csv('data/ufo.csv', sep=',')\n",
    "ufo_c = ufo.copy()\n",
    "ufo_c\n"
   ]
  },
  {
   "cell_type": "code",
   "execution_count": null,
   "metadata": {},
   "outputs": [],
   "source": [
    "ufo_c['Time'] = pd.to_datetime(ufo_c['Time'], dayfirst=False)\n",
    "ufo_c"
   ]
  },
  {
   "cell_type": "markdown",
   "metadata": {},
   "source": [
    "Задание 3.4\n",
    "\n",
    "В каком году отмечается наибольшее количество случаев наблюдения НЛО в США?"
   ]
  },
  {
   "cell_type": "code",
   "execution_count": null,
   "metadata": {},
   "outputs": [],
   "source": [
    "ufo_c['Time'].mode()"
   ]
  },
  {
   "cell_type": "markdown",
   "metadata": {},
   "source": [
    "Задание 3.5\n",
    "\n",
    "Найдите средний интервал времени (в днях) между двумя последовательными случаями наблюдения НЛО в штате Невада (`NV`).  \n",
    "Чтобы выделить дату из столбца `Time`, можно воспользоваться атрибутом `datetime date`.\n",
    "\n",
    "Чтобы вычислить разницу между двумя соседними датами в столбце, примените к нему метод `diff()`.\n",
    "\n",
    "Чтобы перевести интервал времени в дни, воспользуйтесь атрибутом `timedelta days`."
   ]
  },
  {
   "cell_type": "markdown",
   "metadata": {},
   "source": [
    "pandas.DataFrame.diff  \n",
    "DataFrame.diff(periods=1, axis=0)"
   ]
  },
  {
   "cell_type": "code",
   "execution_count": null,
   "metadata": {},
   "outputs": [],
   "source": [
    "import pandas as pd\n",
    "import numpy as np\n",
    "\n",
    "df = pd.DataFrame({'a': [1, 2, 3, 4, 5, 6],\n",
    "                   'b': [1, 1, 2, 3, 5, 8],\n",
    "                   'c': [1, 4, 9, 16, 25, 36]})\n",
    "df\n",
    "df.diff() # Difference with previous row\n",
    "# df.diff(axis=1) # Difference with previous column\n",
    "# df.diff(periods=3) # Difference with 3rd previous row\n",
    "# df.diff(periods=-1) # Difference with following row\n",
    "\n",
    "# # Overflow in input dtype\n",
    "# df = pd.DataFrame({'a': [1, 0]}, dtype=np.uint8)\n",
    "# df.diff()"
   ]
  },
  {
   "cell_type": "code",
   "execution_count": null,
   "metadata": {},
   "outputs": [],
   "source": [
    "ufo_c['Date'] = ufo_c['Time'].dt.date # создали колонку с датами\n",
    "round(ufo_c[ufo_c['State'] == 'NV']['Date'].diff().dt.days.mean())\n"
   ]
  },
  {
   "cell_type": "markdown",
   "metadata": {},
   "source": [
    "На этот раз мы поговорим о спорте, а точнее — о велоспорте. \n",
    "\n",
    "Вашим заданием в этом модуле будет проанализировать и преобразовать данные о велопоездках клиентов компании Citi Bike (США), специализирующейся на прокате велосипедов."
   ]
  },
  {
   "cell_type": "markdown",
   "metadata": {},
   "source": [
    "Датасет представляет собой таблицу с информацией о 300 тысячах поездок за первые пять дней сентября 2018 года и включает в себя следующую информацию:\n",
    "\n",
    "`starttime` — время начала поездки (дата, время);  \n",
    "`stoptime` — время окончания поездки (дата, время);  \n",
    "`start station id` — идентификатор стартовой стоянки;  \n",
    "`start station name` — название стартовой стоянки;  \n",
    "`start station latitude, start station longitude` — географическая широта и долгота стартовой стоянки;  \n",
    "`end station id` — идентификатор конечной стоянки;  \n",
    "`end station name` — название конечной стоянки;  \n",
    "`end station latitude, end station longitude` — географическая широта и долгота конечной стоянки;  \n",
    "`bikeid` — идентификатор велосипеда;  \n",
    "`usertype` — тип пользователя (Customer — клиент с подпиской на 24 часа или на три дня, Subscriber — подписчик с годовой арендой велосипеда);  \n",
    "`birth year` — год рождения клиента;  \n",
    "`gender` — пол клиента (0 — неизвестный, 1 — мужчина, 2 — женщина)."
   ]
  },
  {
   "cell_type": "markdown",
   "metadata": {},
   "source": [
    "Задание 6.1\n",
    "\n",
    "Сколько пропусков в столбце `start station id`?"
   ]
  },
  {
   "cell_type": "code",
   "execution_count": null,
   "metadata": {},
   "outputs": [],
   "source": [
    "import pandas as pd\n",
    "\n",
    "bicycle_df = pd.read_csv('data/citibike-tripdata.csv')\n",
    "bicycle_df_c = bicycle_df.copy()\n",
    "bicycle_df_c.info()"
   ]
  },
  {
   "cell_type": "markdown",
   "metadata": {},
   "source": [
    "Задание 6.3\n",
    "\n",
    "Найдите идентификатор самой популярной стартовой стоянки. Запишите идентификатор в виде целого числа."
   ]
  },
  {
   "cell_type": "code",
   "execution_count": null,
   "metadata": {},
   "outputs": [],
   "source": [
    "bicycle_df_c['start station id'].mode()"
   ]
  },
  {
   "cell_type": "markdown",
   "metadata": {},
   "source": [
    "Задание 6.4\n",
    "\n",
    "Велосипед с каким идентификатором является самым популярным?"
   ]
  },
  {
   "cell_type": "code",
   "execution_count": null,
   "metadata": {},
   "outputs": [],
   "source": [
    "bicycle_df_c['bikeid'].mode()"
   ]
  },
  {
   "cell_type": "markdown",
   "metadata": {},
   "source": [
    "Задание 6.5\n",
    "\n",
    "Какой тип клиентов (столбец `usertype`) является преобладающим — `Subscriber` или `Customer`? В качестве ответа запишите долю клиентов преобладающего типа среди общего количества клиентов. Ответ округлите до двух знаков после точки-разделителя."
   ]
  },
  {
   "cell_type": "code",
   "execution_count": null,
   "metadata": {},
   "outputs": [],
   "source": [
    "bicycle_df_c['starttime']"
   ]
  },
  {
   "cell_type": "code",
   "execution_count": null,
   "metadata": {},
   "outputs": [],
   "source": [
    "round(bicycle_df_c['usertype'].value_counts(normalize=True)[0], 2)"
   ]
  },
  {
   "cell_type": "markdown",
   "metadata": {},
   "source": [
    "Задание 6.6\n",
    "\n",
    "Кто больше занимается велоспортом — мужчины или женщины? В ответ запишите число поездок для той группы, у которой их больше."
   ]
  },
  {
   "cell_type": "code",
   "execution_count": null,
   "metadata": {},
   "outputs": [],
   "source": [
    "bicycle_df_c['gender'].value_counts()"
   ]
  },
  {
   "cell_type": "markdown",
   "metadata": {},
   "source": [
    "Задание 6.7\n",
    "\n",
    "Выберите утверждения,которые соответствуют нашим данным:"
   ]
  },
  {
   "cell_type": "markdown",
   "metadata": {},
   "source": [
    "**A** Число уникальных стартовых и конечных стоянок, которыми воспользовались клиенты, не равны друг другу."
   ]
  },
  {
   "cell_type": "code",
   "execution_count": null,
   "metadata": {},
   "outputs": [],
   "source": [
    "bicycle_df_c['start station id'].nunique() != bicycle_df_c['end station id'].nunique()"
   ]
  },
  {
   "cell_type": "markdown",
   "metadata": {},
   "source": [
    "**B** В рассматриваемые дни минимальный возраст клиента составлял 10 лет."
   ]
  },
  {
   "cell_type": "code",
   "execution_count": null,
   "metadata": {},
   "outputs": [],
   "source": [
    "bicycle_df_c['starttime'] = pd.to_datetime(bicycle_df_c['starttime'])\n",
    "year = bicycle_df_c['starttime'].dt.year - bicycle_df_c['birth year']\n",
    "year.min() == 10"
   ]
  },
  {
   "cell_type": "markdown",
   "metadata": {},
   "source": [
    "**C** Самой непопулярной стартовой стоянкой из тех, которыми воспользовались клиенты, является стоянка с названием \"Eastern Pkwy & Washington Ave\"."
   ]
  },
  {
   "cell_type": "code",
   "execution_count": null,
   "metadata": {},
   "outputs": [],
   "source": [
    "bicycle_df_c['start station name'].value_counts().nsmallest(1).index[0] == \"Eastern Pkwy & Washington Ave\""
   ]
  },
  {
   "cell_type": "markdown",
   "metadata": {},
   "source": [
    "**D** Наибольшее количество поездок завершается на стоянке под названием \"Liberty Light Rail\"."
   ]
  },
  {
   "cell_type": "code",
   "execution_count": null,
   "metadata": {},
   "outputs": [],
   "source": [
    "bicycle_df_c['end station name'].value_counts().nlargest(1).index[0] == \"Liberty Light Rail\""
   ]
  },
  {
   "cell_type": "markdown",
   "metadata": {},
   "source": [
    "Задание 6.8\n",
    "\n",
    "В первую очередь удалим лишнюю информацию из данных.\n",
    "В наших данных присутствуют столбцы, которые дублируют информацию друг о друге: это столбцы с идентификатором и названием стартовой и конечной стоянки. Удалите признаки идентификаторов стоянок. Сколько столбцов осталось?"
   ]
  },
  {
   "cell_type": "code",
   "execution_count": null,
   "metadata": {},
   "outputs": [],
   "source": [
    "bicycle_df_c = bicycle_df_c.drop(['start station id', 'end station id'], axis=1)\n",
    "bicycle_df_c.info()"
   ]
  },
  {
   "cell_type": "markdown",
   "metadata": {},
   "source": [
    "Задание 6.9\n",
    "\n",
    "Замените признак `birth year` на более понятный признак возраста клиента `age`. Годом отсчёта возраста выберите 2018 год. Столбец `birth year` удалите из таблицы. Сколько поездок совершено клиентами старше 60 лет?"
   ]
  },
  {
   "cell_type": "code",
   "execution_count": null,
   "metadata": {},
   "outputs": [],
   "source": [
    "bicycle_df_c['age'] = 2018 - bicycle_df_c['birth year']\n",
    "bicycle_df_c = bicycle_df_c.drop('birth year', axis=1)"
   ]
  },
  {
   "cell_type": "code",
   "execution_count": null,
   "metadata": {},
   "outputs": [],
   "source": [
    "bicycle_df_c[bicycle_df_c['age'] > 60]['age'].count()"
   ]
  },
  {
   "cell_type": "markdown",
   "metadata": {},
   "source": [
    "Задание 6.10\n",
    "\n",
    "Создайте признак длительности поездки `trip duration`. Для этого вычислите интервал времени между временем окончания поездки (`stoptime`) и её началом (`starttime`). Сколько целых минут длилась поездка под индексом 3 в таблице?"
   ]
  },
  {
   "cell_type": "code",
   "execution_count": null,
   "metadata": {},
   "outputs": [],
   "source": [
    "bicycle_df_c['stoptime'] = pd.to_datetime(bicycle_df_c['stoptime'])\n",
    "bicycle_df_c.info()"
   ]
  },
  {
   "cell_type": "code",
   "execution_count": null,
   "metadata": {},
   "outputs": [],
   "source": [
    "bicycle_df_c['trip duration'] = bicycle_df_c['stoptime'] - bicycle_df_c['starttime']"
   ]
  },
  {
   "cell_type": "code",
   "execution_count": null,
   "metadata": {},
   "outputs": [],
   "source": [
    "bicycle_df_c.loc[3, 'trip duration']"
   ]
  },
  {
   "cell_type": "markdown",
   "metadata": {},
   "source": [
    "Задание 6.11\n",
    "\n",
    "Создайте «признак-мигалку» `weekend`, который равен `1`, если поездка начиналась в выходной день (суббота или воскресенье), и `0` — в противном случае. Выясните, сколько поездок начиналось в выходные."
   ]
  },
  {
   "cell_type": "code",
   "execution_count": null,
   "metadata": {},
   "outputs": [],
   "source": [
    "week_end = bicycle_df_c['starttime'].dt.dayofweek\n",
    "week_end\n"
   ]
  },
  {
   "cell_type": "code",
   "execution_count": null,
   "metadata": {},
   "outputs": [],
   "source": [
    "bicycle_df_c['weekend'] = week_end.apply(lambda x: 1 if x == 5 or x == 6 else 0)"
   ]
  },
  {
   "cell_type": "code",
   "execution_count": null,
   "metadata": {},
   "outputs": [],
   "source": [
    "bicycle_df_c['weekend'].value_counts()"
   ]
  },
  {
   "cell_type": "markdown",
   "metadata": {},
   "source": [
    "Задание 6.12\n",
    "\n",
    "Создайте признак времени суток поездки `time_of_day`. Время суток будем определять из часа начала поездки. Условимся, что:\n",
    "поездка совершается ночью (`night`), если её час приходится на интервал от `0` (включительно) до `6` (включительно) часов;\n",
    "поездка совершается утром (`morning`), если её час приходится на интервал от `6` (не включительно) до `12` (включительно) часов;\n",
    "поездка совершается днём (`day`), если её час приходится на интервал от `12` (не включительно) до `18` (включительно) часов;\n",
    "поездка совершается вечером (`evening`), если её час приходится на интервал от `18` (не включительно) до `23` часов (включительно).\n",
    "Во сколько раз количество поездок, совершённых днём, больше, чем количество поездок, совёршенных ночью, за представленный в данных период времени? Ответ округлите до целого числа."
   ]
  },
  {
   "cell_type": "code",
   "execution_count": null,
   "metadata": {},
   "outputs": [],
   "source": [
    "def func_time_of_day(time):\n",
    "    if time >= 0 and time <= 6:\n",
    "        return 'night'\n",
    "    if time > 6 and time <= 12:\n",
    "        return 'morning'\n",
    "    if time > 12 and time <= 18:\n",
    "        return 'day'\n",
    "    if time > 18 and time <= 23:\n",
    "        return 'evening'\n",
    "    \n",
    "start_houer = bicycle_df_c['starttime'].dt.hour\n",
    "    \n",
    "bicycle_df_c['time_of_day'] = start_houer.apply(lambda x: func_time_of_day(x))\n",
    "bicycle_df_c"
   ]
  },
  {
   "cell_type": "code",
   "execution_count": null,
   "metadata": {},
   "outputs": [],
   "source": [
    "round(bicycle_df_c['time_of_day'].value_counts()['day']/bicycle_df_c['time_of_day'].value_counts()['night'])"
   ]
  }
 ],
 "metadata": {
  "kernelspec": {
   "display_name": "Python 3 (ipykernel)",
   "language": "python",
   "name": "python3"
  },
  "language_info": {
   "codemirror_mode": {
    "name": "ipython",
    "version": 3
   },
   "file_extension": ".py",
   "mimetype": "text/x-python",
   "name": "python",
   "nbconvert_exporter": "python",
   "pygments_lexer": "ipython3",
   "version": "3.10.6"
  }
 },
 "nbformat": 4,
 "nbformat_minor": 2
}
