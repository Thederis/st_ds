{
 "cells": [
  {
   "cell_type": "code",
   "execution_count": null,
   "metadata": {},
   "outputs": [],
   "source": [
    "import pandas as pd\n",
    "\n",
    "melb_df = pd.read_csv('data/melb_data_fe.csv')\n",
    "melb_df.head()"
   ]
  },
  {
   "cell_type": "code",
   "execution_count": null,
   "metadata": {},
   "outputs": [],
   "source": [
    "import numpy as np"
   ]
  },
  {
   "attachments": {},
   "cell_type": "markdown",
   "metadata": {},
   "source": [
    "Задание 7.3\n",
    "\n",
    "\n",
    "Дано две исходных таблицы:"
   ]
  },
  {
   "cell_type": "code",
   "execution_count": null,
   "metadata": {},
   "outputs": [],
   "source": [
    "data_1 = pd.DataFrame({'Value': [100, 45, 80],\n",
    "                       'Group': [1, 4, 5]},\n",
    "                      index = ['I0', 'I1', 'I2']\n",
    "                     )\n",
    "data_1"
   ]
  },
  {
   "cell_type": "code",
   "execution_count": null,
   "metadata": {},
   "outputs": [],
   "source": [
    "data_2 = pd.DataFrame({'Company': ['Google', 'Amazon', 'Facebook'],\n",
    "                       'Add': ['S0', 'S1', 'S7']},\n",
    "                      index = ['I0', 'I1', 'I3']\n",
    "                     )\n",
    "data_2"
   ]
  },
  {
   "attachments": {},
   "cell_type": "markdown",
   "metadata": {},
   "source": [
    "Какой из перечисленных вариантов кода позволяет получить представленный ниже результат?"
   ]
  },
  {
   "cell_type": "code",
   "execution_count": null,
   "metadata": {},
   "outputs": [],
   "source": [
    "data_1.join(data_2,\n",
    "            how='inner'\n",
    "            )"
   ]
  },
  {
   "attachments": {},
   "cell_type": "markdown",
   "metadata": {},
   "source": [
    "Задание 7.4\n",
    "\n",
    "Даны две исходные таблицы:"
   ]
  },
  {
   "cell_type": "code",
   "execution_count": null,
   "metadata": {},
   "outputs": [],
   "source": [
    "a = pd.DataFrame({'A': ['a', 'b', 'c'], 'B': [103, 214, 124], 'C': [1, 4, 2]})\n",
    "b = pd.DataFrame({'V': ['d', 'b', 'c'], 'U': [1393.7, 9382.2, 1904.5], 'C': [1, 3, 2]})\n",
    "a, b"
   ]
  },
  {
   "attachments": {},
   "cell_type": "markdown",
   "metadata": {},
   "source": [
    "Какой из перечисленных вариантов кода позволяет получить представленный ниже результат?"
   ]
  },
  {
   "cell_type": "code",
   "execution_count": null,
   "metadata": {},
   "outputs": [],
   "source": [
    "a.join(b.set_index('C'),\n",
    "       on='C',\n",
    "       how='right'\n",
    "       )# Здесь индексы в формате float (0.0) и индекс 1 = NaN\n",
    "# or\n",
    "a.merge(b,\n",
    "       on='C',\n",
    "       how='right'\n",
    "       )"
   ]
  },
  {
   "attachments": {},
   "cell_type": "markdown",
   "metadata": {},
   "source": [
    "Задание 7.5\n",
    "\n",
    "Даны две таблицы: `items_df`, в которой содержится информация о наличии товаров на складе, и `purchase_df` с данными о покупках товаров.\n",
    "\n",
    "Первая:  \n",
    "`items_df = pd.DataFrame({\n",
    "    'item_id': [417283, 849734, 132223, 573943, 19475, 3294095, 382043, 302948, 100132, 312394],\n",
    "    'vendor': ['Samsung', 'LG', 'Apple', 'Apple', 'LG', 'Apple', 'Samsung', 'Samsung', 'LG', 'ZTE'],\n",
    "    'stock_count': [54, 33, 122, 18, 102, 43, 77, 143, 60, 19]\n",
    "})`\n",
    "\n",
    "Вторая:\n",
    "\n",
    "`purchase_df = pd.DataFrame({\n",
    "    'purchase_id': [101, 101, 101, 112, 121, 145, 145, 145, 145, 221],\n",
    "    'item_id': [417283, 849734, 132223, 573943, 19475, 3294095, 382043, 302948, 103845, 100132],\n",
    "    'price': [13900, 5330, 38200, 49990, 9890, 33000, 67500, 34500, 89900, 11400]\n",
    "})`\n",
    "\n",
    "Информация в таблицах представлена в виде следующих столбцов:\n",
    "\n",
    "`item_id` — идентификатор модели;\n",
    "`vendor` — производитель модели;\n",
    "`stock_count` — имеющееся на складе количество данных моделей (в штуках);\n",
    "`purchase_id` — идентификатор покупки;\n",
    "`price` — стоимость модели в покупке.\n",
    "\n",
    "Вам необходимо сделать следующее:\n",
    "Сформируйте `DataFrame` `merged`, так чтобы после объединения `purchase_df` и `items_df` остались модели, которые учтены на складе и имели продажи.\n",
    "\n",
    "На основе таблицы merged найдите суммарную выручку, которую можно было бы получить от продажи всех товаров, имеющихся на складе. Результат занесите в переменную `income`."
   ]
  },
  {
   "cell_type": "code",
   "execution_count": null,
   "metadata": {},
   "outputs": [],
   "source": [
    "items_df = pd.DataFrame({\n",
    "    'item_id': [417283, 849734, 132223, 573943, 19475, 3294095, 382043, 302948, 100132, 312394],\n",
    "    'vendor': ['Samsung', 'LG', 'Apple', 'Apple', 'LG', 'Apple', 'Samsung', 'Samsung', 'LG', 'ZTE'],\n",
    "    'stock_count': [54, 33, 122, 18, 102, 43, 77, 143, 60, 19]\n",
    "})\n",
    "purchase_df = pd.DataFrame({\n",
    "    'purchase_id': [101, 101, 101, 112, 121, 145, 145, 145, 145, 221],\n",
    "    'item_id': [417283, 849734, 132223, 573943, 19475, 3294095, 382043, 302948, 103845, 100132],\n",
    "    'price': [13900, 5330, 38200, 49990, 9890, 33000, 67500, 34500, 89900, 11400]\n",
    "})\n",
    "merged = items_df.merge(purchase_df,\n",
    "               how='inner'\n",
    "               )\n",
    "merged\n",
    "income_1 = merged['stock_count']*merged['price']\n",
    "income = income_1.sum()\n",
    "income"
   ]
  },
  {
   "cell_type": "markdown",
   "metadata": {},
   "source": [
    "Для решения задач нам понадобится выделить из признака `title` год выпуска фильма. Для этого напишем функцию `get_year_release`(`arg`)."
   ]
  },
  {
   "cell_type": "code",
   "execution_count": null,
   "metadata": {},
   "outputs": [],
   "source": [
    "#библиотека для регулярных выражений\n",
    "import re \n",
    "def get_year_release(arg):\n",
    "    #находим все слова по шаблону \"(DDDD)\"\n",
    "    candidates = re.findall(r'\\(\\d{4}\\)', arg) \n",
    "    # проверяем число вхождений\n",
    "    if len(candidates) > 0:\n",
    "        #если число вхождений больше 0,\n",
    "\t#очищаем строку от знаков \"(\" и \")\"\n",
    "        year = candidates[0].replace('(', '')\n",
    "        year = year.replace(')', '')\n",
    "        return int(year)\n",
    "    else:\n",
    "        #если год не указан, возвращаем None\n",
    "        return None\n",
    "    "
   ]
  },
  {
   "cell_type": "markdown",
   "metadata": {},
   "source": [
    "\n",
    "Задание 8.1\n",
    "\n",
    "Создайте в таблице новый признак `year_release`, который соответствует году выпуска фильма.\n",
    "У скольких фильмов не указан год их выпуска?"
   ]
  },
  {
   "cell_type": "code",
   "execution_count": null,
   "metadata": {},
   "outputs": [],
   "source": [
    "from collections import Counter\n",
    "from collections import defaultdict\n",
    "\n",
    "ratings_movies = pd.read_csv('data/movies_data/ratings_movies.csv').copy()\n",
    "\n",
    "year_release_dict = defaultdict(list)\n",
    "for i in range(ratings_movies['title'].shape[0]):\n",
    "    year_release_dict['releas'].append(get_year_release(ratings_movies['title'][i]))\n",
    "\n",
    "year_release = Counter(year_release_dict['releas'])\n",
    "year_release[None]\n"
   ]
  },
  {
   "cell_type": "code",
   "execution_count": null,
   "metadata": {},
   "outputs": [],
   "source": [
    "# ЗАДАНИЕ 8.1\n",
    "# joined == ratings_movies\n",
    "# joined['year_release'] = joined['title'].apply(get_year_release)\n",
    "# joined.info()"
   ]
  },
  {
   "cell_type": "markdown",
   "metadata": {},
   "source": [
    "Задание 8.2\n",
    "\n",
    "Какой фильм, выпущенный в 1999 году, получил наименьшую среднюю оценку зрителей?\n",
    "В качестве ответа запишите название этого фильма без указания года его выпуска."
   ]
  },
  {
   "cell_type": "code",
   "execution_count": null,
   "metadata": {},
   "outputs": [],
   "source": [
    "release = pd.DataFrame(year_release_dict)\n",
    "release"
   ]
  },
  {
   "cell_type": "code",
   "execution_count": null,
   "metadata": {},
   "outputs": [],
   "source": [
    "ratings_movies_r = pd.concat([ratings_movies, release], axis=1)\n",
    "ratings_movies_r"
   ]
  },
  {
   "cell_type": "code",
   "execution_count": null,
   "metadata": {},
   "outputs": [],
   "source": [
    "ratings_movies_r[ratings_movies_r['releas'] == 1999].groupby('title')['rating'].mean().sort_values()"
   ]
  },
  {
   "cell_type": "code",
   "execution_count": null,
   "metadata": {},
   "outputs": [],
   "source": [
    "# joined == ratings_movies_r\n",
    "# mask = joined['year_release'] == 1999\n",
    "# joined[mask].groupby('title')['rating'].mean().sort_values()"
   ]
  }
 ],
 "metadata": {
  "kernelspec": {
   "display_name": "Python 3",
   "language": "python",
   "name": "python3"
  },
  "language_info": {
   "codemirror_mode": {
    "name": "ipython",
    "version": 3
   },
   "file_extension": ".py",
   "mimetype": "text/x-python",
   "name": "python",
   "nbconvert_exporter": "python",
   "pygments_lexer": "ipython3",
   "version": "3.10.12"
  },
  "orig_nbformat": 4
 },
 "nbformat": 4,
 "nbformat_minor": 2
}
