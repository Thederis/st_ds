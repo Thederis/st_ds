{
 "cells": [
  {
   "cell_type": "markdown",
   "metadata": {},
   "source": [
    "# 2/14  1. Введение"
   ]
  },
  {
   "cell_type": "markdown",
   "metadata": {},
   "source": [
    "ВСПОМНИМ, С КАКИМИ ДАННЫМИ МЫ РАБОТАЕМ"
   ]
  },
  {
   "cell_type": "code",
   "execution_count": null,
   "metadata": {},
   "outputs": [],
   "source": [
    "import pandas as pd\n",
    "import numpy as np\n",
    "\n",
    "melb_dfc = pd.read_csv('data/melb_data_fe.csv')\n",
    "melb_df = melb_dfc.copy()\n",
    "melb_df.head()"
   ]
  },
  {
   "cell_type": "code",
   "execution_count": null,
   "metadata": {},
   "outputs": [],
   "source": [
    "display(melb_df.info())"
   ]
  },
  {
   "cell_type": "markdown",
   "metadata": {},
   "source": [
    "`csv`-файл не хранит в себе информацию о типах данных столбцов, поэтому при чтении Pandas автоматически определяет тип данных столбца. Не забывайте об этом, обмениваясь преобразованными данными с вашими коллегами."
   ]
  },
  {
   "cell_type": "markdown",
   "metadata": {},
   "source": [
    "Задание 1.1\n",
    "\n",
    "Преобразуйте столбец `Date` в формат `datetime` и выделите квартал (`quarter`) продажи объектов недвижимости. Найдите второй по популярности квартал продажи. В качестве ответа запишите число объектов, проданных в этом квартале."
   ]
  },
  {
   "cell_type": "code",
   "execution_count": null,
   "metadata": {},
   "outputs": [],
   "source": [
    "melb_df['Date'] = pd.to_datetime(melb_df['Date'])\n",
    "melb_df['Date'].dt.quarter.value_counts()\n"
   ]
  },
  {
   "cell_type": "markdown",
   "metadata": {},
   "source": [
    "Задание 1.2\n",
    "\n",
    "Преобразуйте все столбцы, в которых меньше 150 уникальных значений, в тип данных `category`, исключив из преобразования столбцы `Date`, `Rooms`, `Bedroom`, `Bathroom`, `Car`.\n",
    "В качестве ответа запишите результирующее количество столбцов, которые имеют тип данных `category`."
   ]
  },
  {
   "cell_type": "code",
   "execution_count": null,
   "metadata": {},
   "outputs": [],
   "source": [
    "unique_list = []\n",
    "for col in melb_df.columns:\n",
    "    item = (col, melb_df[col].nunique(), melb_df[col].dtype)\n",
    "    unique_list.append(item)\n",
    "unique_counts = pd.DataFrame(\n",
    "    unique_list, columns=[\n",
    "        'Colomns', 'Unique', 'Dtype']).sort_values(\n",
    "            by='Unique', ignore_index=True)\n",
    "        \n",
    "display(unique_counts)\n"
   ]
  },
  {
   "cell_type": "code",
   "execution_count": null,
   "metadata": {},
   "outputs": [],
   "source": [
    "cols_to_exclude = ['Date', 'Rooms', 'Bedroom', 'Bathroom', 'Car'] # Список столбцов, которые мы не берём во внимание\n",
    "max_unique_count = 150 # Задаём максимальное число уникальных категорий\n",
    "for col in melb_df.columns: # Цикл по именам столбцов\n",
    "    if melb_df[col].nunique() < max_unique_count and col not in cols_to_exclude: # Проверяем условие\n",
    "        melb_df[col] = melb_df[col].astype('category') # Преобразуем тип столбца\n",
    "display(melb_df.info())"
   ]
  },
  {
   "cell_type": "markdown",
   "metadata": {},
   "source": [
    "# 3/14  2. Сортировка данных в DataFrame"
   ]
  },
  {
   "cell_type": "markdown",
   "metadata": {},
   "source": [
    "МЕТОД `SORT_VALUES()`"
   ]
  },
  {
   "cell_type": "markdown",
   "metadata": {},
   "source": [
    "Основные параметры метода `sort_values()`\n",
    "\n",
    "`by` — имя или список имён столбцов, по значениям которых производится сортировка.  \n",
    "`axis` — ось, по которой производится сортировка (`0` — строки, `1` — столбцы). По умолчанию сортировка производится по строкам.  \n",
    "`ascending` — сортировка по **возрастанию** (от меньшего к большему). По умолчанию параметр выставлен на `True`, для сортировки по **убыванию** (от большего к меньшему) необходимо выставить его на `False`.  \n",
    "`ignore_index` — создаются ли новые индексы в таблице. По умолчанию выставлен на `False` и сохраняет индексы изначальной таблицы.  \n",
    "`inplace` — производится ли замена исходной таблицы на отсортированную. По умолчанию параметр выставлен на `False`, то есть замены не производится. Чтобы переопределить исходную таблицу на отсортированную, необходимо выставить этот параметр на `True`."
   ]
  },
  {
   "cell_type": "markdown",
   "metadata": {},
   "source": [
    "СОРТИРОВКА ПО ЗНАЧЕНИЯМ ОДНОГО СТОЛБЦА"
   ]
  },
  {
   "cell_type": "code",
   "execution_count": null,
   "metadata": {},
   "outputs": [],
   "source": [
    "melb_df.sort_values(by='Price').head(10)"
   ]
  },
  {
   "cell_type": "code",
   "execution_count": null,
   "metadata": {},
   "outputs": [],
   "source": [
    "melb_df.sort_values(by='Date', ascending=False).head(10)"
   ]
  },
  {
   "cell_type": "markdown",
   "metadata": {},
   "source": [
    "СОРТИРОВКА ПО ЗНАЧЕНИЯМ НЕСКОЛЬКИХ СТОЛБЦОВ"
   ]
  },
  {
   "cell_type": "markdown",
   "metadata": {},
   "source": [
    "Для сортировки по значениям нескольких столбцов необходимо передать названия этих столбцов в параметр `by` в виде списка. При этом важно обращать внимание на порядок следования столбцов.\n",
    "\n",
    "Так, например, отсортируем таблицу сначала по возрастанию расстояния от центра города (`Distance`), а затем — по возрастанию цены объекта (`Price`). Для того чтобы вывод был более наглядным, выделим каждую десятую строку из столбцов `Distance` и `Price` результирующей таблицы:"
   ]
  },
  {
   "cell_type": "code",
   "execution_count": null,
   "metadata": {},
   "outputs": [],
   "source": [
    "melb_df.sort_values(\n",
    "    by=['Distance', 'Price']).loc[::10, ['Distance', 'Price']]"
   ]
  },
  {
   "cell_type": "markdown",
   "metadata": {},
   "source": [
    "Мы получили таблицу, отсортированную по возрастанию расстояния до центра города. Если встречаются объекты недвижимости, у которых расстояние оказывается одинаковым, то внутри такой группы производится сортировка по цене объекта."
   ]
  },
  {
   "cell_type": "markdown",
   "metadata": {},
   "source": [
    "Ради интереса попробуйте поменять порядок следования столбцов в параметре `by` метода `sort_values()` и сравните результат. "
   ]
  },
  {
   "cell_type": "code",
   "execution_count": null,
   "metadata": {},
   "outputs": [],
   "source": [
    "melb_df.sort_values(\n",
    "    by=['Price', 'Distance']).loc[::10, ['Distance', 'Price']]"
   ]
  },
  {
   "cell_type": "code",
   "execution_count": null,
   "metadata": {},
   "outputs": [],
   "source": [
    "ddd = {'counts': [np.random.randint(20) for i in range(20)], 'persent':[np.random.randint(20) for i in range(20)]}\n",
    "ddd1 = pd.DataFrame(ddd)\n",
    "ddd1.loc[2:19:5,'persent']# Со 2-го по 19-й, но каждый 5-й."
   ]
  },
  {
   "cell_type": "markdown",
   "metadata": {},
   "source": [
    "КОМБИНИРОВАНИЕ СОРТИРОВКИ С ФИЛЬТРАЦИЕЙ"
   ]
  }
 ],
 "metadata": {
  "kernelspec": {
   "display_name": "Python 3",
   "language": "python",
   "name": "python3"
  },
  "language_info": {
   "codemirror_mode": {
    "name": "ipython",
    "version": 3
   },
   "file_extension": ".py",
   "mimetype": "text/x-python",
   "name": "python",
   "nbconvert_exporter": "python",
   "pygments_lexer": "ipython3",
   "version": "3.10.6"
  },
  "orig_nbformat": 4
 },
 "nbformat": 4,
 "nbformat_minor": 2
}
