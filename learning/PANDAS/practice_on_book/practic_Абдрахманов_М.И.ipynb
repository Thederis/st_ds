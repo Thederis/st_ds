{
 "cells": [
  {
   "cell_type": "code",
   "execution_count": null,
   "metadata": {},
   "outputs": [],
   "source": [
    "import pandas as pd\n",
    "import numpy as np\n",
    "\n"
   ]
  },
  {
   "cell_type": "markdown",
   "metadata": {},
   "source": [
    "# Глава 1. Структуры данных в *Pandas*: *Series* и *DataFrame*"
   ]
  },
  {
   "cell_type": "markdown",
   "metadata": {},
   "source": [
    "Создать структуру `Series` можно на базе следующих типов данных:\n",
    "- словарь (dict) Python;\n",
    "- список (list) Python;\n",
    "- массив ndarray (из библиотеки numpy);\n",
    "- скалярная величина."
   ]
  },
  {
   "cell_type": "markdown",
   "metadata": {},
   "source": [
    "Конструктор класса Series выглядит следующим образом:  \n",
    "Series(data=None,  \n",
    "index=None,  \n",
    "dtype=None,  \n",
    "name=None,  \n",
    "copy=False,  \n",
    "fastpath=False)  "
   ]
  },
  {
   "cell_type": "markdown",
   "metadata": {},
   "source": [
    "1.1.1 Создание Series из списка Python"
   ]
  },
  {
   "cell_type": "code",
   "execution_count": null,
   "metadata": {},
   "outputs": [],
   "source": [
    "s1 = pd.Series([1, 2, 3, 4, 5])\n",
    "s1"
   ]
  },
  {
   "cell_type": "code",
   "execution_count": null,
   "metadata": {},
   "outputs": [],
   "source": [
    "s2 = pd.Series([1, 2, 3, 4, 5], ['a', 'b', 'c', 'd', 'e'])\n",
    "s2"
   ]
  },
  {
   "cell_type": "markdown",
   "metadata": {},
   "source": [
    "1.1.2 Создание Series из ndarray массива из numpy"
   ]
  },
  {
   "cell_type": "code",
   "execution_count": null,
   "metadata": {},
   "outputs": [],
   "source": [
    "ndarr = np.array([1, 2, 3, 4, 5])\n",
    "print(type(ndarr))"
   ]
  },
  {
   "cell_type": "code",
   "execution_count": null,
   "metadata": {},
   "outputs": [],
   "source": [
    "s3 = pd.Series(ndarr, ['a', 'b', 'c', 'd', 'e'])\n",
    "s3"
   ]
  },
  {
   "cell_type": "markdown",
   "metadata": {},
   "source": [
    "1.1.3 Создание Series из словаря (dict)"
   ]
  },
  {
   "cell_type": "code",
   "execution_count": null,
   "metadata": {},
   "outputs": [],
   "source": [
    "d = {'a':1, 'b':2, 'c':3}\n",
    "s4 = pd.Series(d)\n",
    "s4"
   ]
  },
  {
   "cell_type": "markdown",
   "metadata": {},
   "source": [
    "1.1.4 Создание Series с использованием константы"
   ]
  },
  {
   "cell_type": "code",
   "execution_count": null,
   "metadata": {},
   "outputs": [],
   "source": [
    "a = 7\n",
    "s5 = pd.Series(a, ['a', 'b', 'c'])\n",
    "s5"
   ]
  },
  {
   "cell_type": "markdown",
   "metadata": {},
   "source": [
    "1.1.5 Работа с элементами Series"
   ]
  },
  {
   "cell_type": "code",
   "execution_count": null,
   "metadata": {},
   "outputs": [],
   "source": [
    "s6 = pd.Series([1, 2, 3, 4, 5], ['a', 'b', 'c', 'd', 'e'])\n",
    "print(s6[2])\n",
    "print(s6['d']*'--')\n",
    "\n",
    "print(s6['d'])\n",
    "print(s6['d']*'--')\n",
    "\n",
    "print(s6[:'d'])# 'd' входит в диапазон\n",
    "print(s6['d']*'--')\n",
    "\n",
    "print(s6[:2])\n",
    "print(s6['d']*'--')\n",
    "\n",
    "print(s6[s6 >= 3])"
   ]
  },
  {
   "cell_type": "code",
   "execution_count": null,
   "metadata": {},
   "outputs": [],
   "source": [
    "s7 = pd.Series([10, 20, 30, 40, 50], ['a', 'b', 'c', 'd', 'e'])\n",
    "s6 + s7"
   ]
  },
  {
   "cell_type": "code",
   "execution_count": null,
   "metadata": {},
   "outputs": [],
   "source": [
    "s6*3"
   ]
  },
  {
   "cell_type": "markdown",
   "metadata": {},
   "source": [
    "1.2 Структура данных `DataFrame`"
   ]
  },
  {
   "cell_type": "markdown",
   "metadata": {},
   "source": [
    "Конструктор класса DataFrame выглядит так:  \n",
    "DataFrame(data=None,  \n",
    "index=None,  \n",
    "columns=None,  \n",
    "dtype=None,  \n",
    "copy=False)"
   ]
  },
  {
   "cell_type": "markdown",
   "metadata": {},
   "source": [
    "Структуру DataFrame можно создать на базе следующих типов данных:  \n",
    "• словарь (dict), в качестве элементов которого могут выступать:  \n",
    "одномерные ndarray, списки, другие словари, структуры Series;  \n",
    "• двумерный ndarray;  \n",
    "• структура Series;  \n",
    "• другой DataFrame.  "
   ]
  },
  {
   "cell_type": "markdown",
   "metadata": {},
   "source": [
    "1.2.1 Создание DataFrame из словаря"
   ]
  },
  {
   "cell_type": "code",
   "execution_count": null,
   "metadata": {},
   "outputs": [],
   "source": [
    "d = {'price': pd.Series([1, 2, 3], index=['v1', 'v2', 'v3']), 'count': pd.Series([10, 12, 7], index=['v1', 'v2', 'v3'])}\n",
    "df1 = pd.DataFrame(d)\n",
    "df1"
   ]
  },
  {
   "cell_type": "code",
   "execution_count": null,
   "metadata": {},
   "outputs": [],
   "source": [
    "print(df1.index)\n",
    "print(df1.columns)"
   ]
  },
  {
   "cell_type": "markdown",
   "metadata": {},
   "source": [
    "Построим аналогичный словарь, но на элементах `ndarray`:"
   ]
  },
  {
   "cell_type": "code",
   "execution_count": null,
   "metadata": {},
   "outputs": [],
   "source": [
    "d2 = {'price':np.array([1, 2, 3]), 'count':np.array([10, 12, 7])}\n",
    "df2 = pd.DataFrame(d2, index=['v1', 'v2', 'v3'])\n",
    "df2"
   ]
  },
  {
   "cell_type": "code",
   "execution_count": null,
   "metadata": {},
   "outputs": [],
   "source": [
    "print(df2.index)\n",
    "print(df2.columns)"
   ]
  },
  {
   "cell_type": "markdown",
   "metadata": {},
   "source": [
    "1.2.2 Создание DataFrame из списка словарей"
   ]
  },
  {
   "cell_type": "code",
   "execution_count": null,
   "metadata": {},
   "outputs": [],
   "source": [
    "d3 = [{'price':3, 'count':8}, {'price':4, 'count':11}]\n",
    "df3 = pd.DataFrame(d3)\n",
    "df3"
   ]
  },
  {
   "cell_type": "code",
   "execution_count": null,
   "metadata": {},
   "outputs": [],
   "source": [
    "dx = {'price':[3, 4], 'count':[8, 11]}\n",
    "dfx = pd.DataFrame(dx)\n",
    "dfx"
   ]
  },
  {
   "cell_type": "code",
   "execution_count": null,
   "metadata": {},
   "outputs": [],
   "source": [
    "print(df3.info())"
   ]
  },
  {
   "cell_type": "markdown",
   "metadata": {},
   "source": [
    "1.2.3 Создание DataFrame из двумерного массива"
   ]
  },
  {
   "cell_type": "code",
   "execution_count": null,
   "metadata": {},
   "outputs": [],
   "source": [
    "nda1 = np.array([[1, 2, 3], [10, 20, 30]])\n",
    "df4 = pd.DataFrame(nda1)\n",
    "df4"
   ]
  },
  {
   "cell_type": "code",
   "execution_count": null,
   "metadata": {},
   "outputs": [],
   "source": [
    "nda1 = np.array([[1, 2, 3], [10, 20, 30]])\n",
    "df4 = pd.DataFrame(nda1, columns=['price', 'count', 'percent'])\n",
    "# or\n",
    "#df4.columns = ['price', 'count', 'percent']\n",
    "df4"
   ]
  },
  {
   "cell_type": "markdown",
   "metadata": {},
   "source": [
    "1.2.4 Работа с элементами DataFrame"
   ]
  },
  {
   "cell_type": "code",
   "execution_count": null,
   "metadata": {},
   "outputs": [],
   "source": [
    "ndat = np.array([['Выбор столбца', 'df[col]', 'Series'], ['Выбор строки по метке', 'df.loc[label]', 'Series'], ['Выбор строки по индексу', 'df.iloc[loc]', 'Series'], ['Срез по строкам', 'df[0:4]', 'DataFrame'], ['Выбор строк, отвечающих условию', 'df[bool_vec]', 'DataFrame']])\n",
    "table = pd.DataFrame(ndat, columns=['Операция', 'Синтаксис', 'Возвращаемый результат'])\n",
    "table"
   ]
  },
  {
   "cell_type": "code",
   "execution_count": null,
   "metadata": {},
   "outputs": [],
   "source": [
    "d = {'price':np.array([1, 2, 3]), 'count':np.array([10, 20, 30])}\n",
    "df = pd.DataFrame(d, index=['a', 'b', 'c'])\n",
    "df"
   ]
  },
  {
   "cell_type": "code",
   "execution_count": null,
   "metadata": {},
   "outputs": [],
   "source": [
    "#Операция: выбор столбца:\n",
    "print(df['count'])\n",
    "print('---------------')\n",
    "#Операция: выбор строки по метке:\n",
    "print(df.loc['a'])\n",
    "print('---------------')\n",
    "#Операция: выбор строки по индексу:\n",
    "print(df.iloc[1])\n",
    "print('---------------')\n",
    "#Операция: срез по строкам:\n",
    "print(df[0:2])\n",
    "print(df[:2])\n",
    "print(df[:'b']) # 'b' входит в срез\n",
    "print('---------------')\n",
    "#Операция: выбор строк, отвечающих условию:\n",
    "print(df[df['count'] >= 20])"
   ]
  },
  {
   "cell_type": "markdown",
   "metadata": {},
   "source": [
    "# Глава 2. Доступ к данным в структурах pandas"
   ]
  },
  {
   "cell_type": "code",
   "execution_count": null,
   "metadata": {},
   "outputs": [],
   "source": [
    "#Структура Series:\n",
    "s = pd.Series([10, 20, 30, 40, 50], ['a', 'b', 'c', 'd', 'e'])\n",
    "s"
   ]
  },
  {
   "cell_type": "code",
   "execution_count": null,
   "metadata": {},
   "outputs": [],
   "source": [
    "#Структура DataFrame:\n",
    "d = {'price':[1, 2, 3], 'count': [10, 20, 30], 'percent': [24, 51,\n",
    "71]}\n",
    "df = pd.DataFrame(d, index=['a', 'b', 'c'])\n",
    "df"
   ]
  },
  {
   "cell_type": "markdown",
   "metadata": {},
   "source": [
    "2.2 Доступ к данным структуры Series"
   ]
  },
  {
   "cell_type": "code",
   "execution_count": null,
   "metadata": {},
   "outputs": [],
   "source": [
    "#Обращение по отдельной метке:\n",
    "print(s['a'])\n",
    "print('--------')\n",
    "\n",
    "#Обращение по массиву меток:\n",
    "print(s[['a', 'c', 'e']])\n",
    "print('--------')\n",
    "\n",
    "#Обращение по срезу меток:\n",
    "print(s['a':'c'])"
   ]
  },
  {
   "cell_type": "markdown",
   "metadata": {},
   "source": [
    "2.2.2 Доступ с использованием целочисленных индексов"
   ]
  },
  {
   "cell_type": "code",
   "execution_count": null,
   "metadata": {},
   "outputs": [],
   "source": [
    "print(s[1])\n",
    "print('---------')\n",
    "print(s[[1,2,3]])\n",
    "print('---------')\n",
    "print(s[1:2])\n",
    "print('---------')"
   ]
  },
  {
   "cell_type": "markdown",
   "metadata": {},
   "source": [
    "2.2.3 Доступ с использованием callable-функции"
   ]
  },
  {
   "cell_type": "code",
   "execution_count": null,
   "metadata": {},
   "outputs": [],
   "source": [
    "s[lambda x: x >= 30]"
   ]
  },
  {
   "cell_type": "markdown",
   "metadata": {},
   "source": [
    "2.2.4 Доступ с использованием логического выражения"
   ]
  },
  {
   "cell_type": "code",
   "execution_count": null,
   "metadata": {},
   "outputs": [],
   "source": [
    "s[s>=30]"
   ]
  },
  {
   "cell_type": "markdown",
   "metadata": {},
   "source": [
    "2.3 Доступ к данным структуры DataFrame"
   ]
  },
  {
   "cell_type": "code",
   "execution_count": null,
   "metadata": {},
   "outputs": [],
   "source": [
    "#Обращение к конкретному столбцу.\n",
    "print(df['count'])\n",
    "print('-----------')\n",
    "\n",
    "#Обращение по срезу меток.\n",
    "print(df['a':'b'])\n",
    "print('-----------')"
   ]
  },
  {
   "cell_type": "markdown",
   "metadata": {},
   "source": [
    "2.3.2 Доступ с использованием callable-функции"
   ]
  },
  {
   "cell_type": "code",
   "execution_count": null,
   "metadata": {},
   "outputs": [],
   "source": [
    "print(df[lambda x: x['count'] > 15])\n",
    "print('----------')\n",
    "print(df['count'][lambda x: x > 15])"
   ]
  },
  {
   "cell_type": "markdown",
   "metadata": {},
   "source": [
    "2.3.3 Доступ с использованием логического выражения"
   ]
  },
  {
   "cell_type": "code",
   "execution_count": null,
   "metadata": {},
   "outputs": [],
   "source": [
    "df[df['price'] >= 2]"
   ]
  },
  {
   "cell_type": "markdown",
   "metadata": {},
   "source": [
    "2.4 Использование атрибутов для доступа к данным"
   ]
  },
  {
   "cell_type": "markdown",
   "metadata": {},
   "source": [
    "Series:"
   ]
  },
  {
   "cell_type": "code",
   "execution_count": null,
   "metadata": {},
   "outputs": [],
   "source": [
    "s = pd.Series([10, 20, 30, 40, 50], ['a', 'b', 'c', 'd', 'e'])\n",
    "s"
   ]
  },
  {
   "cell_type": "code",
   "execution_count": null,
   "metadata": {},
   "outputs": [],
   "source": [
    "s.a\n",
    "s.c"
   ]
  },
  {
   "cell_type": "markdown",
   "metadata": {},
   "source": [
    "DataFrame:"
   ]
  },
  {
   "cell_type": "code",
   "execution_count": null,
   "metadata": {},
   "outputs": [],
   "source": [
    "d = {'price':[1, 2, 3], 'count': [10, 20, 30], 'percent': [24, 51,\n",
    "71]}\n",
    "df = pd.DataFrame(d, index=['a', 'b', 'c'])\n",
    "df"
   ]
  },
  {
   "cell_type": "code",
   "execution_count": null,
   "metadata": {},
   "outputs": [],
   "source": [
    "df.price\n",
    "# but not:\n",
    "#df.a # - AttributeError: 'DataFrame' object has no attribute 'a'"
   ]
  },
  {
   "cell_type": "markdown",
   "metadata": {},
   "source": [
    "2.5 Получение случайного набора из структур pandas"
   ]
  },
  {
   "cell_type": "markdown",
   "metadata": {},
   "source": [
    "Series:"
   ]
  },
  {
   "cell_type": "code",
   "execution_count": null,
   "metadata": {},
   "outputs": [],
   "source": [
    "s.sample()"
   ]
  },
  {
   "cell_type": "code",
   "execution_count": null,
   "metadata": {},
   "outputs": [],
   "source": [
    "s.sample(n=3)"
   ]
  },
  {
   "cell_type": "markdown",
   "metadata": {},
   "source": [
    "Есть возможность указать долю от общего числа объектов в структуре,\n",
    "за это отвечает параметр frac:"
   ]
  },
  {
   "cell_type": "code",
   "execution_count": null,
   "metadata": {},
   "outputs": [],
   "source": [
    "s.sample(frac=0.3)"
   ]
  },
  {
   "cell_type": "markdown",
   "metadata": {},
   "source": [
    "В нашей тестовой структуре пять элементов, сформируем вектор весов\n",
    "для нее и сделаем выборку из трех элементов:"
   ]
  },
  {
   "cell_type": "code",
   "execution_count": null,
   "metadata": {},
   "outputs": [],
   "source": [
    "w = [0.1, 0.2, 0.5, 0.1, 0.1] # Vector weights(in fractions). sum(w) = 1\n",
    "s.sample(n = 3, weights=w)"
   ]
  },
  {
   "cell_type": "markdown",
   "metadata": {},
   "source": [
    "DataFrame:"
   ]
  },
  {
   "cell_type": "code",
   "execution_count": null,
   "metadata": {},
   "outputs": [],
   "source": [
    "d = {'price':[1, 2, 3, 5, 6], 'count': [10, 20, 30, 40, 50],\n",
    "'percent': [24, 51, 71, 25, 42]}\n",
    "df = pd.DataFrame(d)\n",
    "df.sample()"
   ]
  },
  {
   "cell_type": "markdown",
   "metadata": {},
   "source": [
    "При работе с DataFrame можно указать ось."
   ]
  },
  {
   "cell_type": "code",
   "execution_count": null,
   "metadata": {},
   "outputs": [],
   "source": [
    "df.sample(axis=1)"
   ]
  },
  {
   "cell_type": "markdown",
   "metadata": {},
   "source": [
    "Выбор двух столбцов случайным образом:"
   ]
  },
  {
   "cell_type": "code",
   "execution_count": null,
   "metadata": {},
   "outputs": [],
   "source": [
    "df.sample(n=2, axis=1)"
   ]
  },
  {
   "cell_type": "markdown",
   "metadata": {},
   "source": [
    "Выбор двух строк случайным образом:"
   ]
  },
  {
   "cell_type": "code",
   "execution_count": null,
   "metadata": {},
   "outputs": [],
   "source": [
    "df.sample(n = 2)"
   ]
  },
  {
   "cell_type": "markdown",
   "metadata": {},
   "source": [
    "2.6 Индексация с использованием логических выражений"
   ]
  }
 ],
 "metadata": {
  "kernelspec": {
   "display_name": "Python 3",
   "language": "python",
   "name": "python3"
  },
  "language_info": {
   "codemirror_mode": {
    "name": "ipython",
    "version": 3
   },
   "file_extension": ".py",
   "mimetype": "text/x-python",
   "name": "python",
   "nbconvert_exporter": "python",
   "pygments_lexer": "ipython3",
   "version": "3.10.6"
  },
  "orig_nbformat": 4
 },
 "nbformat": 4,
 "nbformat_minor": 2
}
