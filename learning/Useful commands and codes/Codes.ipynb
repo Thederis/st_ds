{
 "cells": [
  {
   "cell_type": "code",
   "execution_count": 2,
   "metadata": {},
   "outputs": [
    {
     "ename": "SystemExit",
     "evalue": "Stop right there!",
     "output_type": "error",
     "traceback": [
      "An exception has occurred, use %tb to see the full traceback.\n",
      "\u001b[0;31mSystemExit\u001b[0m\u001b[0;31m:\u001b[0m Stop right there!\n"
     ]
    }
   ],
   "source": [
    "raise SystemExit(\"Stop right there!\")# Не даёт воспроизвести ячейку\n",
    "\n",
    "print('Hello word!')"
   ]
  },
  {
   "cell_type": "markdown",
   "metadata": {},
   "source": [
    "This <span style=\"color:red\">word</span> is not black.\n"
   ]
  },
  {
   "cell_type": "markdown",
   "metadata": {},
   "source": [
    "**!pip install openpyxl** - Для Ексель "
   ]
  },
  {
   "cell_type": "markdown",
   "metadata": {},
   "source": [
    "<details>\n",
    "\n",
    "  <summary>Spoiler warning</summary>\n",
    "\n",
    "  \n",
    "\n",
    "  Spoiler text. Note that it's important to have a space after the summary tag. You should be able to write any markdown you want inside the `<details>` tag... just make sure you close `<details>` afterward.\n",
    "\n",
    "  \n",
    "\n",
    "  ```javascript\n",
    "\n",
    "  console.log(\"I'm a code block!\");\n",
    "\n",
    "  ```\n",
    "\n",
    "  \n",
    "\n",
    "</details>\n",
    "\n"
   ]
  },
  {
   "cell_type": "markdown",
   "metadata": {},
   "source": [
    "[Скачать ноутбук к скринкасту](https://lms-cdn.skillfactory.ru/assets/courseware/v1/d0571757d0b1bc88377a888adbcd4e8b/asset-v1:SkillFactory+MFTIDSLIGHT+2022_DEC+type@asset+block/dl_mod_4_3.ipynb)\n",
    "\n",
    "[Перейти к файлу в системе(относительный путь)](./dl_mod_4_3.ipynb)\n",
    "\n",
    "[Перейти к файлу в системе(полный путь)](../../../../../../../home/denis/Документы/Cource_on_DS/IDE/learning/Deep_learning_in_Data_Sciences/dl_mod_4_3.ipynb)\n",
    "\n",
    "<a href=\"file:///home/denis/Документы/Cource_on_DS/IDE/learning/Deep_learning_in_Data_Sciences/dl_mod_4_3.ipynb\">Перейти к файлу в системе(HTML-ссылка)</a>"
   ]
  }
 ],
 "metadata": {
  "kernelspec": {
   "display_name": "Python 3",
   "language": "python",
   "name": "python3"
  },
  "language_info": {
   "codemirror_mode": {
    "name": "ipython",
    "version": 3
   },
   "file_extension": ".py",
   "mimetype": "text/x-python",
   "name": "python",
   "nbconvert_exporter": "python",
   "pygments_lexer": "ipython3",
   "version": "3.10.12"
  },
  "orig_nbformat": 4
 },
 "nbformat": 4,
 "nbformat_minor": 2
}
